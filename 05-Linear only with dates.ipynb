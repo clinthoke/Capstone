{
 "cells": [
  {
   "cell_type": "code",
   "execution_count": 1,
   "metadata": {},
   "outputs": [],
   "source": [
    "import pandas as pd\n",
    "import matplotlib.pyplot as plt\n",
    "import seaborn as sns\n",
    "import numpy as np"
   ]
  },
  {
   "cell_type": "code",
   "execution_count": 2,
   "metadata": {},
   "outputs": [
    {
     "name": "stdout",
     "output_type": "stream",
     "text": [
      "<class 'pandas.core.frame.DataFrame'>\n",
      "RangeIndex: 31039 entries, 0 to 31038\n",
      "Data columns (total 4 columns):\n",
      " #   Column                Non-Null Count  Dtype \n",
      "---  ------                --------------  ----- \n",
      " 0   datetime              31039 non-null  object\n",
      " 1   seven_dwarfs_train    31039 non-null  object\n",
      " 2   pirates_of_caribbean  31039 non-null  object\n",
      " 3   splash_mountain       31039 non-null  object\n",
      "dtypes: object(4)\n",
      "memory usage: 970.1+ KB\n"
     ]
    }
   ],
   "source": [
    "# Import Magic Kingdom attractions\n",
    "mka = pd.read_csv(\"../attractions/attractions_mk.csv\")\n",
    "mka.info()"
   ]
  },
  {
   "cell_type": "code",
   "execution_count": 3,
   "metadata": {},
   "outputs": [
    {
     "data": {
      "text/html": [
       "<div>\n",
       "<style scoped>\n",
       "    .dataframe tbody tr th:only-of-type {\n",
       "        vertical-align: middle;\n",
       "    }\n",
       "\n",
       "    .dataframe tbody tr th {\n",
       "        vertical-align: top;\n",
       "    }\n",
       "\n",
       "    .dataframe thead th {\n",
       "        text-align: right;\n",
       "    }\n",
       "</style>\n",
       "<table border=\"1\" class=\"dataframe\">\n",
       "  <thead>\n",
       "    <tr style=\"text-align: right;\">\n",
       "      <th></th>\n",
       "      <th>datetime</th>\n",
       "      <th>seven_dwarfs_train</th>\n",
       "      <th>pirates_of_caribbean</th>\n",
       "      <th>splash_mountain</th>\n",
       "    </tr>\n",
       "  </thead>\n",
       "  <tbody>\n",
       "    <tr>\n",
       "      <th>0</th>\n",
       "      <td>2015-01-01 07:00:00</td>\n",
       "      <td>45.0</td>\n",
       "      <td>na</td>\n",
       "      <td>5.0</td>\n",
       "    </tr>\n",
       "    <tr>\n",
       "      <th>1</th>\n",
       "      <td>2015-01-01 08:00:00</td>\n",
       "      <td>78.0</td>\n",
       "      <td>na</td>\n",
       "      <td>5.0</td>\n",
       "    </tr>\n",
       "    <tr>\n",
       "      <th>2</th>\n",
       "      <td>2015-01-01 09:00:00</td>\n",
       "      <td>103.0</td>\n",
       "      <td>na</td>\n",
       "      <td>5.0</td>\n",
       "    </tr>\n",
       "    <tr>\n",
       "      <th>3</th>\n",
       "      <td>2015-01-01 10:00:00</td>\n",
       "      <td>88.0</td>\n",
       "      <td>28.0</td>\n",
       "      <td>16.0</td>\n",
       "    </tr>\n",
       "    <tr>\n",
       "      <th>4</th>\n",
       "      <td>2015-01-01 11:00:00</td>\n",
       "      <td>86.0</td>\n",
       "      <td>62.0</td>\n",
       "      <td>22.0</td>\n",
       "    </tr>\n",
       "    <tr>\n",
       "      <th>...</th>\n",
       "      <td>...</td>\n",
       "      <td>...</td>\n",
       "      <td>...</td>\n",
       "      <td>...</td>\n",
       "    </tr>\n",
       "    <tr>\n",
       "      <th>31034</th>\n",
       "      <td>2019-09-29 05:00:00</td>\n",
       "      <td>na</td>\n",
       "      <td>na</td>\n",
       "      <td>na</td>\n",
       "    </tr>\n",
       "    <tr>\n",
       "      <th>31035</th>\n",
       "      <td>2019-11-02 05:00:00</td>\n",
       "      <td>na</td>\n",
       "      <td>na</td>\n",
       "      <td>na</td>\n",
       "    </tr>\n",
       "    <tr>\n",
       "      <th>31036</th>\n",
       "      <td>2019-12-09 05:00:00</td>\n",
       "      <td>na</td>\n",
       "      <td>na</td>\n",
       "      <td>na</td>\n",
       "    </tr>\n",
       "    <tr>\n",
       "      <th>31037</th>\n",
       "      <td>2019-12-17 05:00:00</td>\n",
       "      <td>na</td>\n",
       "      <td>na</td>\n",
       "      <td>na</td>\n",
       "    </tr>\n",
       "    <tr>\n",
       "      <th>31038</th>\n",
       "      <td>2019-12-22 06:00:00</td>\n",
       "      <td>na</td>\n",
       "      <td>na</td>\n",
       "      <td>na</td>\n",
       "    </tr>\n",
       "  </tbody>\n",
       "</table>\n",
       "<p>31037 rows × 4 columns</p>\n",
       "</div>"
      ],
      "text/plain": [
       "                  datetime seven_dwarfs_train pirates_of_caribbean  \\\n",
       "0      2015-01-01 07:00:00               45.0                   na   \n",
       "1      2015-01-01 08:00:00               78.0                   na   \n",
       "2      2015-01-01 09:00:00              103.0                   na   \n",
       "3      2015-01-01 10:00:00               88.0                 28.0   \n",
       "4      2015-01-01 11:00:00               86.0                 62.0   \n",
       "...                    ...                ...                  ...   \n",
       "31034  2019-09-29 05:00:00                 na                   na   \n",
       "31035  2019-11-02 05:00:00                 na                   na   \n",
       "31036  2019-12-09 05:00:00                 na                   na   \n",
       "31037  2019-12-17 05:00:00                 na                   na   \n",
       "31038  2019-12-22 06:00:00                 na                   na   \n",
       "\n",
       "      splash_mountain  \n",
       "0                 5.0  \n",
       "1                 5.0  \n",
       "2                 5.0  \n",
       "3                16.0  \n",
       "4                22.0  \n",
       "...               ...  \n",
       "31034              na  \n",
       "31035              na  \n",
       "31036              na  \n",
       "31037              na  \n",
       "31038              na  \n",
       "\n",
       "[31037 rows x 4 columns]"
      ]
     },
     "execution_count": 3,
     "metadata": {},
     "output_type": "execute_result"
    }
   ],
   "source": [
    "mka = mka[mka[\"datetime\"] != '2019-12-31 01:00:00']\n",
    "mka = mka[mka[\"datetime\"] != '2019-12-31 00:00:00']\n",
    "mka"
   ]
  },
  {
   "cell_type": "markdown",
   "metadata": {},
   "source": []
  },
  {
   "cell_type": "code",
   "execution_count": 4,
   "metadata": {},
   "outputs": [
    {
     "name": "stdout",
     "output_type": "stream",
     "text": [
      "<class 'pandas.core.frame.DataFrame'>\n",
      "Int64Index: 31037 entries, 0 to 31038\n",
      "Data columns (total 5 columns):\n",
      " #   Column                Non-Null Count  Dtype         \n",
      "---  ------                --------------  -----         \n",
      " 0   datetime              31037 non-null  object        \n",
      " 1   seven_dwarfs_train    31037 non-null  object        \n",
      " 2   pirates_of_caribbean  31037 non-null  object        \n",
      " 3   splash_mountain       31037 non-null  object        \n",
      " 4   DATE                  31037 non-null  datetime64[ns]\n",
      "dtypes: datetime64[ns](1), object(4)\n",
      "memory usage: 1.4+ MB\n",
      "None\n"
     ]
    },
    {
     "data": {
      "text/html": [
       "<div>\n",
       "<style scoped>\n",
       "    .dataframe tbody tr th:only-of-type {\n",
       "        vertical-align: middle;\n",
       "    }\n",
       "\n",
       "    .dataframe tbody tr th {\n",
       "        vertical-align: top;\n",
       "    }\n",
       "\n",
       "    .dataframe thead th {\n",
       "        text-align: right;\n",
       "    }\n",
       "</style>\n",
       "<table border=\"1\" class=\"dataframe\">\n",
       "  <thead>\n",
       "    <tr style=\"text-align: right;\">\n",
       "      <th></th>\n",
       "      <th>datetime</th>\n",
       "      <th>seven_dwarfs_train</th>\n",
       "      <th>pirates_of_caribbean</th>\n",
       "      <th>splash_mountain</th>\n",
       "      <th>DATE</th>\n",
       "    </tr>\n",
       "  </thead>\n",
       "  <tbody>\n",
       "    <tr>\n",
       "      <th>0</th>\n",
       "      <td>2015-01-01 07:00:00</td>\n",
       "      <td>45.0</td>\n",
       "      <td>na</td>\n",
       "      <td>5.0</td>\n",
       "      <td>2015-01-01</td>\n",
       "    </tr>\n",
       "    <tr>\n",
       "      <th>1</th>\n",
       "      <td>2015-01-01 08:00:00</td>\n",
       "      <td>78.0</td>\n",
       "      <td>na</td>\n",
       "      <td>5.0</td>\n",
       "      <td>2015-01-01</td>\n",
       "    </tr>\n",
       "  </tbody>\n",
       "</table>\n",
       "</div>"
      ],
      "text/plain": [
       "              datetime seven_dwarfs_train pirates_of_caribbean  \\\n",
       "0  2015-01-01 07:00:00               45.0                   na   \n",
       "1  2015-01-01 08:00:00               78.0                   na   \n",
       "\n",
       "  splash_mountain       DATE  \n",
       "0             5.0 2015-01-01  \n",
       "1             5.0 2015-01-01  "
      ]
     },
     "execution_count": 4,
     "metadata": {},
     "output_type": "execute_result"
    }
   ],
   "source": [
    "# Added DATE column to mk from the datetime column, using it to concat dataframes\n",
    "mka['DATE'] = pd.to_datetime(mka['datetime']).dt.date\n",
    "mka['DATE'] = pd.to_datetime(mka[\"DATE\"])\n",
    "print(mka.info())\n",
    "mka.head(2)"
   ]
  },
  {
   "cell_type": "code",
   "execution_count": 5,
   "metadata": {},
   "outputs": [
    {
     "data": {
      "text/html": [
       "<div>\n",
       "<style scoped>\n",
       "    .dataframe tbody tr th:only-of-type {\n",
       "        vertical-align: middle;\n",
       "    }\n",
       "\n",
       "    .dataframe tbody tr th {\n",
       "        vertical-align: top;\n",
       "    }\n",
       "\n",
       "    .dataframe thead th {\n",
       "        text-align: right;\n",
       "    }\n",
       "</style>\n",
       "<table border=\"1\" class=\"dataframe\">\n",
       "  <thead>\n",
       "    <tr style=\"text-align: right;\">\n",
       "      <th></th>\n",
       "      <th>DATE</th>\n",
       "      <th>DAYOFWEEK</th>\n",
       "      <th>DAYOFYEAR</th>\n",
       "      <th>WEEKOFYEAR</th>\n",
       "      <th>MONTHOFYEAR</th>\n",
       "      <th>YEAR</th>\n",
       "      <th>HOLIDAYPX</th>\n",
       "      <th>HOLIDAYM</th>\n",
       "      <th>HOLIDAY</th>\n",
       "      <th>WDWevent</th>\n",
       "      <th>...</th>\n",
       "      <th>MKDAYSBEFORENONEVENT</th>\n",
       "      <th>MKDAYSSINCENONEVENT</th>\n",
       "      <th>MKEVENTSTREAK</th>\n",
       "      <th>MKEVENTSTREAK_F</th>\n",
       "      <th>WDWMINTEMP_mean</th>\n",
       "      <th>WEATHER_WDWHIGH</th>\n",
       "      <th>WEATHER_WDWLOW</th>\n",
       "      <th>WEATHER_WDWPRECIP</th>\n",
       "      <th>CapacityLost_MK</th>\n",
       "      <th>CapacityLostWGT_MK</th>\n",
       "    </tr>\n",
       "  </thead>\n",
       "  <tbody>\n",
       "    <tr>\n",
       "      <th>0</th>\n",
       "      <td>2015-01-01</td>\n",
       "      <td>5</td>\n",
       "      <td>0</td>\n",
       "      <td>0</td>\n",
       "      <td>1</td>\n",
       "      <td>2015</td>\n",
       "      <td>0</td>\n",
       "      <td>5</td>\n",
       "      <td>1</td>\n",
       "      <td>0</td>\n",
       "      <td>...</td>\n",
       "      <td>1.0</td>\n",
       "      <td>1</td>\n",
       "      <td>0</td>\n",
       "      <td>0</td>\n",
       "      <td>53.375714</td>\n",
       "      <td>70.3</td>\n",
       "      <td>50.2</td>\n",
       "      <td>0.12</td>\n",
       "      <td>616246</td>\n",
       "      <td>53904354</td>\n",
       "    </tr>\n",
       "    <tr>\n",
       "      <th>1</th>\n",
       "      <td>2015-01-02</td>\n",
       "      <td>6</td>\n",
       "      <td>1</td>\n",
       "      <td>0</td>\n",
       "      <td>1</td>\n",
       "      <td>2015</td>\n",
       "      <td>2</td>\n",
       "      <td>5</td>\n",
       "      <td>0</td>\n",
       "      <td>0</td>\n",
       "      <td>...</td>\n",
       "      <td>1.0</td>\n",
       "      <td>1</td>\n",
       "      <td>0</td>\n",
       "      <td>0</td>\n",
       "      <td>53.750714</td>\n",
       "      <td>70.3</td>\n",
       "      <td>50.0</td>\n",
       "      <td>0.12</td>\n",
       "      <td>616246</td>\n",
       "      <td>53904354</td>\n",
       "    </tr>\n",
       "  </tbody>\n",
       "</table>\n",
       "<p>2 rows × 66 columns</p>\n",
       "</div>"
      ],
      "text/plain": [
       "         DATE  DAYOFWEEK  DAYOFYEAR  WEEKOFYEAR  MONTHOFYEAR  YEAR  HOLIDAYPX  \\\n",
       "0  2015-01-01          5          0           0            1  2015          0   \n",
       "1  2015-01-02          6          1           0            1  2015          2   \n",
       "\n",
       "   HOLIDAYM  HOLIDAY  WDWevent  ...  MKDAYSBEFORENONEVENT MKDAYSSINCENONEVENT  \\\n",
       "0         5        1         0  ...                   1.0                   1   \n",
       "1         5        0         0  ...                   1.0                   1   \n",
       "\n",
       "   MKEVENTSTREAK  MKEVENTSTREAK_F  WDWMINTEMP_mean  WEATHER_WDWHIGH  \\\n",
       "0              0                0        53.375714             70.3   \n",
       "1              0                0        53.750714             70.3   \n",
       "\n",
       "  WEATHER_WDWLOW WEATHER_WDWPRECIP CapacityLost_MK CapacityLostWGT_MK  \n",
       "0           50.2              0.12          616246           53904354  \n",
       "1           50.0              0.12          616246           53904354  \n",
       "\n",
       "[2 rows x 66 columns]"
      ]
     },
     "execution_count": 5,
     "metadata": {},
     "output_type": "execute_result"
    }
   ],
   "source": [
    "# Import Metadata\n",
    "md = pd.read_csv(\"../metadata/mk_metadata.csv\")\n",
    "md.head(2)"
   ]
  },
  {
   "cell_type": "code",
   "execution_count": 6,
   "metadata": {},
   "outputs": [
    {
     "data": {
      "text/html": [
       "<div>\n",
       "<style scoped>\n",
       "    .dataframe tbody tr th:only-of-type {\n",
       "        vertical-align: middle;\n",
       "    }\n",
       "\n",
       "    .dataframe tbody tr th {\n",
       "        vertical-align: top;\n",
       "    }\n",
       "\n",
       "    .dataframe thead th {\n",
       "        text-align: right;\n",
       "    }\n",
       "</style>\n",
       "<table border=\"1\" class=\"dataframe\">\n",
       "  <thead>\n",
       "    <tr style=\"text-align: right;\">\n",
       "      <th></th>\n",
       "      <th>DATE</th>\n",
       "      <th>DAYOFWEEK</th>\n",
       "      <th>DAYOFYEAR</th>\n",
       "      <th>WEEKOFYEAR</th>\n",
       "      <th>MONTHOFYEAR</th>\n",
       "      <th>YEAR</th>\n",
       "      <th>HOLIDAYPX</th>\n",
       "      <th>HOLIDAYM</th>\n",
       "      <th>HOLIDAY</th>\n",
       "      <th>WDWevent</th>\n",
       "      <th>...</th>\n",
       "      <th>MKDAYSBEFORENONEVENT</th>\n",
       "      <th>MKDAYSSINCENONEVENT</th>\n",
       "      <th>MKEVENTSTREAK</th>\n",
       "      <th>MKEVENTSTREAK_F</th>\n",
       "      <th>WDWMINTEMP_mean</th>\n",
       "      <th>WEATHER_WDWHIGH</th>\n",
       "      <th>WEATHER_WDWLOW</th>\n",
       "      <th>WEATHER_WDWPRECIP</th>\n",
       "      <th>CapacityLost_MK</th>\n",
       "      <th>CapacityLostWGT_MK</th>\n",
       "    </tr>\n",
       "  </thead>\n",
       "  <tbody>\n",
       "    <tr>\n",
       "      <th>0</th>\n",
       "      <td>2015-01-01</td>\n",
       "      <td>5</td>\n",
       "      <td>0</td>\n",
       "      <td>0</td>\n",
       "      <td>1</td>\n",
       "      <td>2015</td>\n",
       "      <td>0</td>\n",
       "      <td>5</td>\n",
       "      <td>1</td>\n",
       "      <td>0</td>\n",
       "      <td>...</td>\n",
       "      <td>1.0</td>\n",
       "      <td>1</td>\n",
       "      <td>0</td>\n",
       "      <td>0</td>\n",
       "      <td>53.375714</td>\n",
       "      <td>70.3</td>\n",
       "      <td>50.2</td>\n",
       "      <td>0.12</td>\n",
       "      <td>616246</td>\n",
       "      <td>53904354</td>\n",
       "    </tr>\n",
       "    <tr>\n",
       "      <th>1</th>\n",
       "      <td>2015-01-02</td>\n",
       "      <td>6</td>\n",
       "      <td>1</td>\n",
       "      <td>0</td>\n",
       "      <td>1</td>\n",
       "      <td>2015</td>\n",
       "      <td>2</td>\n",
       "      <td>5</td>\n",
       "      <td>0</td>\n",
       "      <td>0</td>\n",
       "      <td>...</td>\n",
       "      <td>1.0</td>\n",
       "      <td>1</td>\n",
       "      <td>0</td>\n",
       "      <td>0</td>\n",
       "      <td>53.750714</td>\n",
       "      <td>70.3</td>\n",
       "      <td>50.0</td>\n",
       "      <td>0.12</td>\n",
       "      <td>616246</td>\n",
       "      <td>53904354</td>\n",
       "    </tr>\n",
       "  </tbody>\n",
       "</table>\n",
       "<p>2 rows × 66 columns</p>\n",
       "</div>"
      ],
      "text/plain": [
       "        DATE  DAYOFWEEK  DAYOFYEAR  WEEKOFYEAR  MONTHOFYEAR  YEAR  HOLIDAYPX  \\\n",
       "0 2015-01-01          5          0           0            1  2015          0   \n",
       "1 2015-01-02          6          1           0            1  2015          2   \n",
       "\n",
       "   HOLIDAYM  HOLIDAY  WDWevent  ...  MKDAYSBEFORENONEVENT MKDAYSSINCENONEVENT  \\\n",
       "0         5        1         0  ...                   1.0                   1   \n",
       "1         5        0         0  ...                   1.0                   1   \n",
       "\n",
       "   MKEVENTSTREAK  MKEVENTSTREAK_F  WDWMINTEMP_mean  WEATHER_WDWHIGH  \\\n",
       "0              0                0        53.375714             70.3   \n",
       "1              0                0        53.750714             70.3   \n",
       "\n",
       "  WEATHER_WDWLOW WEATHER_WDWPRECIP CapacityLost_MK CapacityLostWGT_MK  \n",
       "0           50.2              0.12          616246           53904354  \n",
       "1           50.0              0.12          616246           53904354  \n",
       "\n",
       "[2 rows x 66 columns]"
      ]
     },
     "execution_count": 6,
     "metadata": {},
     "output_type": "execute_result"
    }
   ],
   "source": [
    "# Convert DATE column to datetime\n",
    "md['DATE'] = pd.to_datetime(md[\"DATE\"])\n",
    "md.head(2)"
   ]
  },
  {
   "cell_type": "code",
   "execution_count": 7,
   "metadata": {},
   "outputs": [
    {
     "data": {
      "text/html": [
       "<div>\n",
       "<style scoped>\n",
       "    .dataframe tbody tr th:only-of-type {\n",
       "        vertical-align: middle;\n",
       "    }\n",
       "\n",
       "    .dataframe tbody tr th {\n",
       "        vertical-align: top;\n",
       "    }\n",
       "\n",
       "    .dataframe thead th {\n",
       "        text-align: right;\n",
       "    }\n",
       "</style>\n",
       "<table border=\"1\" class=\"dataframe\">\n",
       "  <thead>\n",
       "    <tr style=\"text-align: right;\">\n",
       "      <th></th>\n",
       "      <th>seven_dwarfs_train</th>\n",
       "      <th>pirates_of_caribbean</th>\n",
       "      <th>splash_mountain</th>\n",
       "      <th>DAYOFWEEK</th>\n",
       "      <th>DAYOFYEAR</th>\n",
       "      <th>WEEKOFYEAR</th>\n",
       "      <th>MONTHOFYEAR</th>\n",
       "      <th>YEAR</th>\n",
       "      <th>HOLIDAYPX</th>\n",
       "      <th>HOLIDAYM</th>\n",
       "      <th>...</th>\n",
       "      <th>MKDAYSBEFORENONEVENT</th>\n",
       "      <th>MKDAYSSINCENONEVENT</th>\n",
       "      <th>MKEVENTSTREAK</th>\n",
       "      <th>MKEVENTSTREAK_F</th>\n",
       "      <th>WDWMINTEMP_mean</th>\n",
       "      <th>WEATHER_WDWHIGH</th>\n",
       "      <th>WEATHER_WDWLOW</th>\n",
       "      <th>WEATHER_WDWPRECIP</th>\n",
       "      <th>CapacityLost_MK</th>\n",
       "      <th>CapacityLostWGT_MK</th>\n",
       "    </tr>\n",
       "    <tr>\n",
       "      <th>datetime</th>\n",
       "      <th></th>\n",
       "      <th></th>\n",
       "      <th></th>\n",
       "      <th></th>\n",
       "      <th></th>\n",
       "      <th></th>\n",
       "      <th></th>\n",
       "      <th></th>\n",
       "      <th></th>\n",
       "      <th></th>\n",
       "      <th></th>\n",
       "      <th></th>\n",
       "      <th></th>\n",
       "      <th></th>\n",
       "      <th></th>\n",
       "      <th></th>\n",
       "      <th></th>\n",
       "      <th></th>\n",
       "      <th></th>\n",
       "      <th></th>\n",
       "      <th></th>\n",
       "    </tr>\n",
       "  </thead>\n",
       "  <tbody>\n",
       "    <tr>\n",
       "      <th>2015-01-01 07:00:00</th>\n",
       "      <td>45.0</td>\n",
       "      <td>na</td>\n",
       "      <td>5.0</td>\n",
       "      <td>5</td>\n",
       "      <td>0</td>\n",
       "      <td>0</td>\n",
       "      <td>1</td>\n",
       "      <td>2015</td>\n",
       "      <td>0</td>\n",
       "      <td>5</td>\n",
       "      <td>...</td>\n",
       "      <td>1.0</td>\n",
       "      <td>1</td>\n",
       "      <td>0</td>\n",
       "      <td>0</td>\n",
       "      <td>53.375714</td>\n",
       "      <td>70.3</td>\n",
       "      <td>50.2</td>\n",
       "      <td>0.12</td>\n",
       "      <td>616246</td>\n",
       "      <td>53904354</td>\n",
       "    </tr>\n",
       "    <tr>\n",
       "      <th>2015-01-01 08:00:00</th>\n",
       "      <td>78.0</td>\n",
       "      <td>na</td>\n",
       "      <td>5.0</td>\n",
       "      <td>5</td>\n",
       "      <td>0</td>\n",
       "      <td>0</td>\n",
       "      <td>1</td>\n",
       "      <td>2015</td>\n",
       "      <td>0</td>\n",
       "      <td>5</td>\n",
       "      <td>...</td>\n",
       "      <td>1.0</td>\n",
       "      <td>1</td>\n",
       "      <td>0</td>\n",
       "      <td>0</td>\n",
       "      <td>53.375714</td>\n",
       "      <td>70.3</td>\n",
       "      <td>50.2</td>\n",
       "      <td>0.12</td>\n",
       "      <td>616246</td>\n",
       "      <td>53904354</td>\n",
       "    </tr>\n",
       "  </tbody>\n",
       "</table>\n",
       "<p>2 rows × 68 columns</p>\n",
       "</div>"
      ],
      "text/plain": [
       "                    seven_dwarfs_train pirates_of_caribbean splash_mountain  \\\n",
       "datetime                                                                      \n",
       "2015-01-01 07:00:00               45.0                   na             5.0   \n",
       "2015-01-01 08:00:00               78.0                   na             5.0   \n",
       "\n",
       "                     DAYOFWEEK  DAYOFYEAR  WEEKOFYEAR  MONTHOFYEAR  YEAR  \\\n",
       "datetime                                                                   \n",
       "2015-01-01 07:00:00          5          0           0            1  2015   \n",
       "2015-01-01 08:00:00          5          0           0            1  2015   \n",
       "\n",
       "                     HOLIDAYPX  HOLIDAYM  ...  MKDAYSBEFORENONEVENT  \\\n",
       "datetime                                  ...                         \n",
       "2015-01-01 07:00:00          0         5  ...                   1.0   \n",
       "2015-01-01 08:00:00          0         5  ...                   1.0   \n",
       "\n",
       "                     MKDAYSSINCENONEVENT  MKEVENTSTREAK MKEVENTSTREAK_F  \\\n",
       "datetime                                                                  \n",
       "2015-01-01 07:00:00                    1              0               0   \n",
       "2015-01-01 08:00:00                    1              0               0   \n",
       "\n",
       "                     WDWMINTEMP_mean  WEATHER_WDWHIGH  WEATHER_WDWLOW  \\\n",
       "datetime                                                                \n",
       "2015-01-01 07:00:00        53.375714             70.3            50.2   \n",
       "2015-01-01 08:00:00        53.375714             70.3            50.2   \n",
       "\n",
       "                     WEATHER_WDWPRECIP CapacityLost_MK CapacityLostWGT_MK  \n",
       "datetime                                                                   \n",
       "2015-01-01 07:00:00               0.12          616246           53904354  \n",
       "2015-01-01 08:00:00               0.12          616246           53904354  \n",
       "\n",
       "[2 rows x 68 columns]"
      ]
     },
     "execution_count": 7,
     "metadata": {},
     "output_type": "execute_result"
    }
   ],
   "source": [
    "# Merge mka and md dataframes\n",
    "mk = pd.merge(mka, md, how='outer', on='DATE')\n",
    "# Dropped unneeded Date column\n",
    "mk.drop('DATE', axis = 1,  inplace = True)\n",
    "# Set datetime to the Index and sorted by it\n",
    "mk.set_index('datetime', inplace=True)\n",
    "mk.sort_index(inplace=True)\n",
    "mk.head(2)"
   ]
  },
  {
   "cell_type": "code",
   "execution_count": 8,
   "metadata": {},
   "outputs": [],
   "source": [
    "# mk.tail(2)"
   ]
  },
  {
   "cell_type": "code",
   "execution_count": 9,
   "metadata": {},
   "outputs": [],
   "source": [
    "# mk.isnull().sum()"
   ]
  },
  {
   "cell_type": "code",
   "execution_count": 10,
   "metadata": {
    "scrolled": false
   },
   "outputs": [],
   "source": [
    "# mk.fillna(0, inplace=True)\n",
    "# mk.isnull().sum()"
   ]
  },
  {
   "cell_type": "code",
   "execution_count": 11,
   "metadata": {},
   "outputs": [],
   "source": [
    "for col in ['MKOPEN', 'MKCLOSE',  'MKEMHOPEN', 'MKEMHCLOSE',\n",
    "       'MKOPENYEST', 'MKCLOSEYEST', 'MKOPENTOM',\n",
    "       'MKCLOSETOM','SUNSET_WDW']:\n",
    "    mk[col] = np.where(mk[col] == \"24:00\",'23:59' ,mk[col])\n",
    "    mk[col] = np.where(mk[col] == \"27:00\",'23:59' ,mk[col])\n",
    "    mk[col] = np.where(mk[col] == \"26:00\",'23:59' ,mk[col])\n",
    "    mk[col] = np.where(mk[col] == \"25:00\",'23:59' ,mk[col])\n",
    "    mk[col] = np.where(mk[col] == \"23:55\",'23:59' ,mk[col])\n",
    "    mk[col] = np.where(mk[col] == \"29:59\",'23:59' ,mk[col])\n",
    "    mk[col] = np.where(mk[col] == \"30:00\",'23:59' ,mk[col])"
   ]
  },
  {
   "cell_type": "code",
   "execution_count": 12,
   "metadata": {},
   "outputs": [],
   "source": [
    "for col in ['MKOPEN', 'MKCLOSE',  'MKEMHOPEN', 'MKEMHCLOSE',\n",
    "       'MKOPENYEST', 'MKCLOSEYEST', 'MKOPENTOM',\n",
    "       'MKCLOSETOM','SUNSET_WDW']:\n",
    "    mk[col] = mk[col].str.replace(\":\",\"\")"
   ]
  },
  {
   "cell_type": "code",
   "execution_count": 13,
   "metadata": {},
   "outputs": [
    {
     "data": {
      "text/plain": [
       "seven_dwarfs_train      0\n",
       "pirates_of_caribbean    0\n",
       "splash_mountain         0\n",
       "DAYOFWEEK               0\n",
       "DAYOFYEAR               0\n",
       "                       ..\n",
       "WEATHER_WDWHIGH         0\n",
       "WEATHER_WDWLOW          0\n",
       "WEATHER_WDWPRECIP       0\n",
       "CapacityLost_MK         0\n",
       "CapacityLostWGT_MK      0\n",
       "Length: 68, dtype: int64"
      ]
     },
     "execution_count": 13,
     "metadata": {},
     "output_type": "execute_result"
    }
   ],
   "source": [
    "mk.fillna(0, inplace=True)\n",
    "mk.isnull().sum()"
   ]
  },
  {
   "cell_type": "code",
   "execution_count": 14,
   "metadata": {},
   "outputs": [],
   "source": [
    "for col in ['MKOPEN', 'MKCLOSE',  'MKEMHOPEN', 'MKEMHCLOSE',\n",
    "       'MKOPENYEST', 'MKCLOSEYEST', 'MKOPENTOM',\n",
    "       'MKCLOSETOM','SUNSET_WDW']:\n",
    "    mk[col] = mk[col].astype(int)"
   ]
  },
  {
   "cell_type": "code",
   "execution_count": 15,
   "metadata": {
    "scrolled": true
   },
   "outputs": [],
   "source": [
    "for col in ['inSession', 'inSession_Enrollment', 'inSession_wdw',\n",
    "       'inSession_sqrt_WDW', 'inSession_DC', 'inSession_Central_FL',\n",
    "       'inSession_Drive1_FL', 'inSession_Drive2_FL',\n",
    "       'inSession_Florida', 'inSession_Mardi_Gras', 'inSession_Midwest',\n",
    "       'inSession_NY_NJ', 'inSession_NY_NJ_PA', 'inSession_New_England',\n",
    "       'inSession_New_Jersey', 'inSession_Nothwest', 'INSESSION_PLANES',\n",
    "       'inSession_SoCal', 'inSession_Southwest']:\n",
    "    mk[col] = mk[col].str.replace(r'%', r'').astype('float')/-100"
   ]
  },
  {
   "cell_type": "code",
   "execution_count": 16,
   "metadata": {},
   "outputs": [],
   "source": [
    "for col in ['seven_dwarfs_train', \"pirates_of_caribbean\", \"splash_mountain\"]:\n",
    "    mk[col] = pd.to_numeric(mk[col],errors='coerce')\n",
    "mk.fillna(0, inplace=True)"
   ]
  },
  {
   "cell_type": "code",
   "execution_count": 17,
   "metadata": {},
   "outputs": [],
   "source": [
    "# Dummified the WDWSEASON column\n",
    "mk = pd.get_dummies(mk,columns = ['WDWSEASON'])"
   ]
  },
  {
   "cell_type": "code",
   "execution_count": 18,
   "metadata": {
    "scrolled": false
   },
   "outputs": [
    {
     "data": {
      "text/html": [
       "<div>\n",
       "<style scoped>\n",
       "    .dataframe tbody tr th:only-of-type {\n",
       "        vertical-align: middle;\n",
       "    }\n",
       "\n",
       "    .dataframe tbody tr th {\n",
       "        vertical-align: top;\n",
       "    }\n",
       "\n",
       "    .dataframe thead th {\n",
       "        text-align: right;\n",
       "    }\n",
       "</style>\n",
       "<table border=\"1\" class=\"dataframe\">\n",
       "  <thead>\n",
       "    <tr style=\"text-align: right;\">\n",
       "      <th></th>\n",
       "      <th>seven_dwarfs_train</th>\n",
       "      <th>pirates_of_caribbean</th>\n",
       "      <th>splash_mountain</th>\n",
       "      <th>DAYOFWEEK</th>\n",
       "      <th>DAYOFYEAR</th>\n",
       "      <th>WEEKOFYEAR</th>\n",
       "      <th>MONTHOFYEAR</th>\n",
       "      <th>YEAR</th>\n",
       "      <th>HOLIDAYPX</th>\n",
       "      <th>HOLIDAYM</th>\n",
       "      <th>...</th>\n",
       "      <th>WDWSEASON_MARDI GRAS</th>\n",
       "      <th>WDWSEASON_MARTIN LUTHER KING JUNIOR DAY</th>\n",
       "      <th>WDWSEASON_MEMORIAL DAY</th>\n",
       "      <th>WDWSEASON_PRESIDENTS WEEK</th>\n",
       "      <th>WDWSEASON_SEPTEMBER LOW</th>\n",
       "      <th>WDWSEASON_SPRING</th>\n",
       "      <th>WDWSEASON_SUMMER BREAK</th>\n",
       "      <th>WDWSEASON_THANKSGIVING</th>\n",
       "      <th>WDWSEASON_WINTER</th>\n",
       "      <th>hour</th>\n",
       "    </tr>\n",
       "    <tr>\n",
       "      <th>datetime</th>\n",
       "      <th></th>\n",
       "      <th></th>\n",
       "      <th></th>\n",
       "      <th></th>\n",
       "      <th></th>\n",
       "      <th></th>\n",
       "      <th></th>\n",
       "      <th></th>\n",
       "      <th></th>\n",
       "      <th></th>\n",
       "      <th></th>\n",
       "      <th></th>\n",
       "      <th></th>\n",
       "      <th></th>\n",
       "      <th></th>\n",
       "      <th></th>\n",
       "      <th></th>\n",
       "      <th></th>\n",
       "      <th></th>\n",
       "      <th></th>\n",
       "      <th></th>\n",
       "    </tr>\n",
       "  </thead>\n",
       "  <tbody>\n",
       "    <tr>\n",
       "      <th>2019-12-30 19:00:00</th>\n",
       "      <td>143.0</td>\n",
       "      <td>44.0</td>\n",
       "      <td>80.0</td>\n",
       "      <td>2</td>\n",
       "      <td>363</td>\n",
       "      <td>52</td>\n",
       "      <td>12</td>\n",
       "      <td>2019</td>\n",
       "      <td>2</td>\n",
       "      <td>5</td>\n",
       "      <td>...</td>\n",
       "      <td>0</td>\n",
       "      <td>0</td>\n",
       "      <td>0</td>\n",
       "      <td>0</td>\n",
       "      <td>0</td>\n",
       "      <td>0</td>\n",
       "      <td>0</td>\n",
       "      <td>0</td>\n",
       "      <td>0</td>\n",
       "      <td>1900</td>\n",
       "    </tr>\n",
       "    <tr>\n",
       "      <th>2019-12-30 20:00:00</th>\n",
       "      <td>105.0</td>\n",
       "      <td>35.0</td>\n",
       "      <td>69.0</td>\n",
       "      <td>2</td>\n",
       "      <td>363</td>\n",
       "      <td>52</td>\n",
       "      <td>12</td>\n",
       "      <td>2019</td>\n",
       "      <td>2</td>\n",
       "      <td>5</td>\n",
       "      <td>...</td>\n",
       "      <td>0</td>\n",
       "      <td>0</td>\n",
       "      <td>0</td>\n",
       "      <td>0</td>\n",
       "      <td>0</td>\n",
       "      <td>0</td>\n",
       "      <td>0</td>\n",
       "      <td>0</td>\n",
       "      <td>0</td>\n",
       "      <td>2000</td>\n",
       "    </tr>\n",
       "    <tr>\n",
       "      <th>2019-12-30 21:00:00</th>\n",
       "      <td>113.0</td>\n",
       "      <td>25.0</td>\n",
       "      <td>42.0</td>\n",
       "      <td>2</td>\n",
       "      <td>363</td>\n",
       "      <td>52</td>\n",
       "      <td>12</td>\n",
       "      <td>2019</td>\n",
       "      <td>2</td>\n",
       "      <td>5</td>\n",
       "      <td>...</td>\n",
       "      <td>0</td>\n",
       "      <td>0</td>\n",
       "      <td>0</td>\n",
       "      <td>0</td>\n",
       "      <td>0</td>\n",
       "      <td>0</td>\n",
       "      <td>0</td>\n",
       "      <td>0</td>\n",
       "      <td>0</td>\n",
       "      <td>2100</td>\n",
       "    </tr>\n",
       "    <tr>\n",
       "      <th>2019-12-30 22:00:00</th>\n",
       "      <td>78.0</td>\n",
       "      <td>27.0</td>\n",
       "      <td>33.0</td>\n",
       "      <td>2</td>\n",
       "      <td>363</td>\n",
       "      <td>52</td>\n",
       "      <td>12</td>\n",
       "      <td>2019</td>\n",
       "      <td>2</td>\n",
       "      <td>5</td>\n",
       "      <td>...</td>\n",
       "      <td>0</td>\n",
       "      <td>0</td>\n",
       "      <td>0</td>\n",
       "      <td>0</td>\n",
       "      <td>0</td>\n",
       "      <td>0</td>\n",
       "      <td>0</td>\n",
       "      <td>0</td>\n",
       "      <td>0</td>\n",
       "      <td>2200</td>\n",
       "    </tr>\n",
       "    <tr>\n",
       "      <th>2019-12-30 23:00:00</th>\n",
       "      <td>50.0</td>\n",
       "      <td>16.0</td>\n",
       "      <td>14.0</td>\n",
       "      <td>2</td>\n",
       "      <td>363</td>\n",
       "      <td>52</td>\n",
       "      <td>12</td>\n",
       "      <td>2019</td>\n",
       "      <td>2</td>\n",
       "      <td>5</td>\n",
       "      <td>...</td>\n",
       "      <td>0</td>\n",
       "      <td>0</td>\n",
       "      <td>0</td>\n",
       "      <td>0</td>\n",
       "      <td>0</td>\n",
       "      <td>0</td>\n",
       "      <td>0</td>\n",
       "      <td>0</td>\n",
       "      <td>0</td>\n",
       "      <td>2300</td>\n",
       "    </tr>\n",
       "  </tbody>\n",
       "</table>\n",
       "<p>5 rows × 85 columns</p>\n",
       "</div>"
      ],
      "text/plain": [
       "                     seven_dwarfs_train  pirates_of_caribbean  \\\n",
       "datetime                                                        \n",
       "2019-12-30 19:00:00               143.0                  44.0   \n",
       "2019-12-30 20:00:00               105.0                  35.0   \n",
       "2019-12-30 21:00:00               113.0                  25.0   \n",
       "2019-12-30 22:00:00                78.0                  27.0   \n",
       "2019-12-30 23:00:00                50.0                  16.0   \n",
       "\n",
       "                     splash_mountain  DAYOFWEEK  DAYOFYEAR  WEEKOFYEAR  \\\n",
       "datetime                                                                 \n",
       "2019-12-30 19:00:00             80.0          2        363          52   \n",
       "2019-12-30 20:00:00             69.0          2        363          52   \n",
       "2019-12-30 21:00:00             42.0          2        363          52   \n",
       "2019-12-30 22:00:00             33.0          2        363          52   \n",
       "2019-12-30 23:00:00             14.0          2        363          52   \n",
       "\n",
       "                     MONTHOFYEAR  YEAR  HOLIDAYPX  HOLIDAYM  ...  \\\n",
       "datetime                                                     ...   \n",
       "2019-12-30 19:00:00           12  2019          2         5  ...   \n",
       "2019-12-30 20:00:00           12  2019          2         5  ...   \n",
       "2019-12-30 21:00:00           12  2019          2         5  ...   \n",
       "2019-12-30 22:00:00           12  2019          2         5  ...   \n",
       "2019-12-30 23:00:00           12  2019          2         5  ...   \n",
       "\n",
       "                     WDWSEASON_MARDI GRAS  \\\n",
       "datetime                                    \n",
       "2019-12-30 19:00:00                     0   \n",
       "2019-12-30 20:00:00                     0   \n",
       "2019-12-30 21:00:00                     0   \n",
       "2019-12-30 22:00:00                     0   \n",
       "2019-12-30 23:00:00                     0   \n",
       "\n",
       "                     WDWSEASON_MARTIN LUTHER KING JUNIOR DAY  \\\n",
       "datetime                                                       \n",
       "2019-12-30 19:00:00                                        0   \n",
       "2019-12-30 20:00:00                                        0   \n",
       "2019-12-30 21:00:00                                        0   \n",
       "2019-12-30 22:00:00                                        0   \n",
       "2019-12-30 23:00:00                                        0   \n",
       "\n",
       "                     WDWSEASON_MEMORIAL DAY  WDWSEASON_PRESIDENTS WEEK  \\\n",
       "datetime                                                                 \n",
       "2019-12-30 19:00:00                       0                          0   \n",
       "2019-12-30 20:00:00                       0                          0   \n",
       "2019-12-30 21:00:00                       0                          0   \n",
       "2019-12-30 22:00:00                       0                          0   \n",
       "2019-12-30 23:00:00                       0                          0   \n",
       "\n",
       "                     WDWSEASON_SEPTEMBER LOW  WDWSEASON_SPRING  \\\n",
       "datetime                                                         \n",
       "2019-12-30 19:00:00                        0                 0   \n",
       "2019-12-30 20:00:00                        0                 0   \n",
       "2019-12-30 21:00:00                        0                 0   \n",
       "2019-12-30 22:00:00                        0                 0   \n",
       "2019-12-30 23:00:00                        0                 0   \n",
       "\n",
       "                     WDWSEASON_SUMMER BREAK  WDWSEASON_THANKSGIVING  \\\n",
       "datetime                                                              \n",
       "2019-12-30 19:00:00                       0                       0   \n",
       "2019-12-30 20:00:00                       0                       0   \n",
       "2019-12-30 21:00:00                       0                       0   \n",
       "2019-12-30 22:00:00                       0                       0   \n",
       "2019-12-30 23:00:00                       0                       0   \n",
       "\n",
       "                     WDWSEASON_WINTER  hour  \n",
       "datetime                                     \n",
       "2019-12-30 19:00:00                 0  1900  \n",
       "2019-12-30 20:00:00                 0  2000  \n",
       "2019-12-30 21:00:00                 0  2100  \n",
       "2019-12-30 22:00:00                 0  2200  \n",
       "2019-12-30 23:00:00                 0  2300  \n",
       "\n",
       "[5 rows x 85 columns]"
      ]
     },
     "execution_count": 18,
     "metadata": {},
     "output_type": "execute_result"
    }
   ],
   "source": [
    "# Created new column for hour as a feature\n",
    "mk['hour'] = mk.index\n",
    "mk['hour'] = mk.hour.str[11:13]\n",
    "mk['hour'] = pd.to_numeric(mk['hour'])*100\n",
    "mk.tail(5)"
   ]
  },
  {
   "cell_type": "code",
   "execution_count": 19,
   "metadata": {},
   "outputs": [],
   "source": [
    "mk.fillna(0, inplace=True)"
   ]
  },
  {
   "cell_type": "code",
   "execution_count": 20,
   "metadata": {},
   "outputs": [
    {
     "name": "stdout",
     "output_type": "stream",
     "text": [
      "<class 'pandas.core.frame.DataFrame'>\n",
      "Index: 31037 entries, 2015-01-01 07:00:00 to 2019-12-30 23:00:00\n",
      "Data columns (total 85 columns):\n",
      " #   Column                                   Non-Null Count  Dtype  \n",
      "---  ------                                   --------------  -----  \n",
      " 0   seven_dwarfs_train                       31037 non-null  float64\n",
      " 1   pirates_of_caribbean                     31037 non-null  float64\n",
      " 2   splash_mountain                          31037 non-null  float64\n",
      " 3   DAYOFWEEK                                31037 non-null  int64  \n",
      " 4   DAYOFYEAR                                31037 non-null  int64  \n",
      " 5   WEEKOFYEAR                               31037 non-null  int64  \n",
      " 6   MONTHOFYEAR                              31037 non-null  int64  \n",
      " 7   YEAR                                     31037 non-null  int64  \n",
      " 8   HOLIDAYPX                                31037 non-null  int64  \n",
      " 9   HOLIDAYM                                 31037 non-null  int64  \n",
      " 10  HOLIDAY                                  31037 non-null  int64  \n",
      " 11  WDWevent                                 31037 non-null  int64  \n",
      " 12  WDWrace                                  31037 non-null  int64  \n",
      " 13  WDWMAXTEMP                               31037 non-null  float64\n",
      " 14  WDWMINTEMP                               31037 non-null  float64\n",
      " 15  WDWMEANTEMP                              31037 non-null  float64\n",
      " 16  MKevent                                  31037 non-null  int64  \n",
      " 17  inSession                                31037 non-null  float64\n",
      " 18  inSession_Enrollment                     31037 non-null  float64\n",
      " 19  inSession_wdw                            31037 non-null  float64\n",
      " 20  inSession_sqrt_WDW                       31037 non-null  float64\n",
      " 21  inSession_DC                             31037 non-null  float64\n",
      " 22  inSession_Central_FL                     31037 non-null  float64\n",
      " 23  inSession_Drive1_FL                      31037 non-null  float64\n",
      " 24  inSession_Drive2_FL                      31037 non-null  float64\n",
      " 25  inSession_Florida                        31037 non-null  float64\n",
      " 26  inSession_Mardi_Gras                     31037 non-null  float64\n",
      " 27  inSession_Midwest                        31037 non-null  float64\n",
      " 28  inSession_NY_NJ                          31037 non-null  float64\n",
      " 29  inSession_NY_NJ_PA                       31037 non-null  float64\n",
      " 30  inSession_New_England                    31037 non-null  float64\n",
      " 31  inSession_New_Jersey                     31037 non-null  float64\n",
      " 32  inSession_Nothwest                       31037 non-null  float64\n",
      " 33  INSESSION_PLANES                         31037 non-null  float64\n",
      " 34  inSession_SoCal                          31037 non-null  float64\n",
      " 35  inSession_Southwest                      31037 non-null  float64\n",
      " 36  SUNSET_WDW                               31037 non-null  int64  \n",
      " 37  MKEMHMORN                                31037 non-null  int64  \n",
      " 38  MKEMHMYEST                               31037 non-null  int64  \n",
      " 39  MKEMHMTOM                                31037 non-null  int64  \n",
      " 40  MKEMHEVE                                 31037 non-null  int64  \n",
      " 41  MKHOURSEMH                               31037 non-null  float64\n",
      " 42  MKHOURSEMHYEST                           31037 non-null  float64\n",
      " 43  MKHOURSEMHTOM                            31037 non-null  float64\n",
      " 44  MKEMHEYEST                               31037 non-null  int64  \n",
      " 45  MKEMHETOM                                31037 non-null  int64  \n",
      " 46  MKOPEN                                   31037 non-null  int64  \n",
      " 47  MKCLOSE                                  31037 non-null  int64  \n",
      " 48  MKHOURS                                  31037 non-null  float64\n",
      " 49  MKEMHOPEN                                31037 non-null  int64  \n",
      " 50  MKEMHCLOSE                               31037 non-null  int64  \n",
      " 51  MKOPENYEST                               31037 non-null  int64  \n",
      " 52  MKCLOSEYEST                              31037 non-null  int64  \n",
      " 53  MKHOURSYEST                              31037 non-null  float64\n",
      " 54  MKOPENTOM                                31037 non-null  int64  \n",
      " 55  MKCLOSETOM                               31037 non-null  int64  \n",
      " 56  MKHOURSTOM                               31037 non-null  float64\n",
      " 57  MKDAYSBEFORENONEVENT                     31037 non-null  float64\n",
      " 58  MKDAYSSINCENONEVENT                      31037 non-null  int64  \n",
      " 59  MKEVENTSTREAK                            31037 non-null  int64  \n",
      " 60  MKEVENTSTREAK_F                          31037 non-null  int64  \n",
      " 61  WDWMINTEMP_mean                          31037 non-null  float64\n",
      " 62  WEATHER_WDWHIGH                          31037 non-null  float64\n",
      " 63  WEATHER_WDWLOW                           31037 non-null  float64\n",
      " 64  WEATHER_WDWPRECIP                        31037 non-null  float64\n",
      " 65  CapacityLost_MK                          31037 non-null  int64  \n",
      " 66  CapacityLostWGT_MK                       31037 non-null  int64  \n",
      " 67  WDWSEASON_CHRISTMAS                      31037 non-null  uint8  \n",
      " 68  WDWSEASON_CHRISTMAS PEAK                 31037 non-null  uint8  \n",
      " 69  WDWSEASON_COLUMBUS DAY                   31037 non-null  uint8  \n",
      " 70  WDWSEASON_EASTER                         31037 non-null  uint8  \n",
      " 71  WDWSEASON_FALL                           31037 non-null  uint8  \n",
      " 72  WDWSEASON_HALLOWEEN                      31037 non-null  uint8  \n",
      " 73  WDWSEASON_JERSEY WEEK                    31037 non-null  uint8  \n",
      " 74  WDWSEASON_JULY 4TH                       31037 non-null  uint8  \n",
      " 75  WDWSEASON_MARDI GRAS                     31037 non-null  uint8  \n",
      " 76  WDWSEASON_MARTIN LUTHER KING JUNIOR DAY  31037 non-null  uint8  \n",
      " 77  WDWSEASON_MEMORIAL DAY                   31037 non-null  uint8  \n",
      " 78  WDWSEASON_PRESIDENTS WEEK                31037 non-null  uint8  \n",
      " 79  WDWSEASON_SEPTEMBER LOW                  31037 non-null  uint8  \n",
      " 80  WDWSEASON_SPRING                         31037 non-null  uint8  \n",
      " 81  WDWSEASON_SUMMER BREAK                   31037 non-null  uint8  \n",
      " 82  WDWSEASON_THANKSGIVING                   31037 non-null  uint8  \n",
      " 83  WDWSEASON_WINTER                         31037 non-null  uint8  \n",
      " 84  hour                                     31037 non-null  int64  \n",
      "dtypes: float64(36), int64(32), uint8(17)\n",
      "memory usage: 16.8+ MB\n"
     ]
    }
   ],
   "source": [
    "mk.info()"
   ]
  },
  {
   "cell_type": "code",
   "execution_count": 21,
   "metadata": {},
   "outputs": [
    {
     "data": {
      "image/png": "[encoded data removed]",
      "text/plain": [
       "<Figure size 1440x1440 with 2 Axes>"
      ]
     },
     "metadata": {
      "needs_background": "light"
     },
     "output_type": "display_data"
    }
   ],
   "source": [
    "top_corr = mk.corr()\n",
    "top_corr_features = top_corr.index[abs(top_corr[\"pirates_of_caribbean\"]) > .10]\n",
    "plt.figure(figsize=(20,20))\n",
    "g = sns.heatmap(mk[top_corr_features].corr(),annot=True,cmap=\"magma\")"
   ]
  },
  {
   "cell_type": "code",
   "execution_count": 22,
   "metadata": {
    "scrolled": true
   },
   "outputs": [
    {
     "data": {
      "image/png": "[encoded data removed]",
      "text/plain": [
       "<Figure size 432x1296 with 2 Axes>"
      ]
     },
     "metadata": {
      "needs_background": "light"
     },
     "output_type": "display_data"
    }
   ],
   "source": [
    "corr = mk.corr()\n",
    "plt.figure(figsize = (6,18))\n",
    "sns.heatmap(corr[['pirates_of_caribbean']].sort_values(by = 'pirates_of_caribbean', ascending = False).head(70),vmin = 0, annot = True)\n",
    "plt.show()"
   ]
  },
  {
   "cell_type": "code",
   "execution_count": 23,
   "metadata": {},
   "outputs": [],
   "source": [
    "# plt.plot(mk['pirates_of_caribbean']);"
   ]
  },
  {
   "cell_type": "code",
   "execution_count": 24,
   "metadata": {},
   "outputs": [],
   "source": [
    "import numpy as np\n",
    "from math import sqrt\n",
    "from sklearn.datasets import make_classification, make_regression\n",
    "from sklearn.preprocessing import StandardScaler\n",
    "from sklearn.model_selection import train_test_split\n",
    "import matplotlib.pyplot as plt\n",
    "from sklearn.metrics import accuracy_score\n",
    "from tensorflow.keras.models import Sequential\n",
    "from tensorflow.keras.layers import Dense, Dropout, GRU\n",
    "from tensorflow.keras.utils import to_categorical\n",
    "from tensorflow.keras.optimizers import Adam\n",
    "from tensorflow.keras.preprocessing.sequence import TimeseriesGenerator\n",
    "%matplotlib inline"
   ]
  },
  {
   "cell_type": "code",
   "execution_count": 25,
   "metadata": {},
   "outputs": [],
   "source": [
    "import matplotlib.pyplot as plt\n",
    "import seaborn as sns\n",
    "import missingno as msno\n",
    "from sklearn.linear_model import LinearRegression\n",
    "from datetime import date\n",
    "from sklearn import metrics\n",
    "from sklearn.model_selection import train_test_split, cross_val_score\n",
    "from sklearn.linear_model import LinearRegression\n",
    "from sklearn.metrics import r2_score, mean_squared_error\n",
    "from sklearn.preprocessing import StandardScaler, PolynomialFeatures\n",
    "import statsmodels.api as sm"
   ]
  },
  {
   "cell_type": "code",
   "execution_count": 26,
   "metadata": {},
   "outputs": [],
   "source": [
    "from math import sqrt\n",
    "from sklearn.ensemble import RandomForestRegressor, AdaBoostRegressor, BaggingRegressor\n",
    "from sklearn.linear_model import Ridge, RidgeCV, LinearRegression, LogisticRegression, Lasso, LassoCV\n",
    "from sklearn.neighbors import KNeighborsRegressor, KNeighborsClassifier\n",
    "from sklearn.ensemble import BaggingRegressor, BaggingClassifier, RandomForestRegressor, RandomForestClassifier, AdaBoostRegressor, AdaBoostClassifier\n",
    "from sklearn.preprocessing import StandardScaler\n",
    "from sklearn.model_selection import train_test_split, cross_val_score\n",
    "from sklearn.tree import DecisionTreeRegressor, DecisionTreeClassifier\n",
    "from sklearn.metrics import mean_squared_error\n",
    "from sklearn.metrics import f1_score\n",
    "from sklearn import svm"
   ]
  },
  {
   "cell_type": "code",
   "execution_count": 27,
   "metadata": {},
   "outputs": [],
   "source": [
    "features = ['YEAR', 'DAYOFWEEK', 'hour','MONTHOFYEAR','WEEKOFYEAR','DAYOFYEAR']\n",
    "y = mk['pirates_of_caribbean']\n",
    "X = mk[features]"
   ]
  },
  {
   "cell_type": "code",
   "execution_count": 28,
   "metadata": {},
   "outputs": [],
   "source": [
    "X_train, X_test, y_train, y_test = train_test_split(X, y, test_size =.02, random_state=21)\n",
    "sc = StandardScaler()\n",
    "sc.fit(X_train)\n",
    "X_train_sc = sc.transform(X_train)\n",
    "X_test_sc = sc.transform(X_test)"
   ]
  },
  {
   "cell_type": "code",
   "execution_count": 29,
   "metadata": {},
   "outputs": [
    {
     "data": {
      "text/plain": [
       "LinearRegression(copy_X=True, fit_intercept=True, n_jobs=None, normalize=False)"
      ]
     },
     "execution_count": 29,
     "metadata": {},
     "output_type": "execute_result"
    }
   ],
   "source": [
    "# Created my model and started the train test split\n",
    "linreg = LinearRegression()\n",
    "linreg.fit(X_train_sc, y_train)"
   ]
  },
  {
   "cell_type": "code",
   "execution_count": 30,
   "metadata": {},
   "outputs": [
    {
     "data": {
      "text/plain": [
       "17.90989838568476"
      ]
     },
     "execution_count": 30,
     "metadata": {},
     "output_type": "execute_result"
    }
   ],
   "source": [
    "linreg_preds_train = linreg.predict(X_train_sc)\n",
    "linreg_rms_train = sqrt(mean_squared_error(y_train, linreg_preds_train))\n",
    "linreg_rms_train"
   ]
  },
  {
   "cell_type": "code",
   "execution_count": 31,
   "metadata": {},
   "outputs": [
    {
     "data": {
      "text/plain": [
       "17.636335515305102"
      ]
     },
     "execution_count": 31,
     "metadata": {},
     "output_type": "execute_result"
    }
   ],
   "source": [
    "linreg_preds_test = linreg.predict(X_test_sc)\n",
    "linreg_rms_test = sqrt(mean_squared_error(y_test, linreg_preds_test))\n",
    "linreg_rms_test"
   ]
  },
  {
   "cell_type": "code",
   "execution_count": 32,
   "metadata": {},
   "outputs": [
    {
     "data": {
      "text/plain": [
       "12.16"
      ]
     },
     "execution_count": 32,
     "metadata": {},
     "output_type": "execute_result"
    }
   ],
   "source": [
    "12.16"
   ]
  },
  {
   "cell_type": "markdown",
   "metadata": {},
   "source": [
    "## KNN"
   ]
  },
  {
   "cell_type": "code",
   "execution_count": 33,
   "metadata": {},
   "outputs": [
    {
     "data": {
      "text/plain": [
       "KNeighborsRegressor(algorithm='auto', leaf_size=30, metric='minkowski',\n",
       "                    metric_params=None, n_jobs=None, n_neighbors=5, p=2,\n",
       "                    weights='uniform')"
      ]
     },
     "execution_count": 33,
     "metadata": {},
     "output_type": "execute_result"
    }
   ],
   "source": [
    "# Instiantiated KNN and fitted the training\n",
    "knn = KNeighborsRegressor()\n",
    "knn.fit(X_train_sc, y_train)"
   ]
  },
  {
   "cell_type": "code",
   "execution_count": 34,
   "metadata": {},
   "outputs": [
    {
     "data": {
      "text/plain": [
       "6.806056130579875"
      ]
     },
     "execution_count": 34,
     "metadata": {},
     "output_type": "execute_result"
    }
   ],
   "source": [
    "knn_preds_train = knn.predict(X_train_sc)\n",
    "knn_rms_train = sqrt(mean_squared_error(y_train, knn_preds_train))\n",
    "knn_rms_train"
   ]
  },
  {
   "cell_type": "code",
   "execution_count": 35,
   "metadata": {},
   "outputs": [
    {
     "data": {
      "text/plain": [
       "9.981983770774223"
      ]
     },
     "execution_count": 35,
     "metadata": {},
     "output_type": "execute_result"
    }
   ],
   "source": [
    "knn_preds_test = knn.predict(X_test_sc)\n",
    "knn_rms_test = sqrt(mean_squared_error(y_test, knn_preds_test))\n",
    "knn_rms_test\n"
   ]
  },
  {
   "cell_type": "code",
   "execution_count": 36,
   "metadata": {},
   "outputs": [
    {
     "data": {
      "text/plain": [
       "9.16"
      ]
     },
     "execution_count": 36,
     "metadata": {},
     "output_type": "execute_result"
    }
   ],
   "source": [
    "9.16"
   ]
  },
  {
   "cell_type": "markdown",
   "metadata": {},
   "source": [
    "## Decision Tree Model"
   ]
  },
  {
   "cell_type": "code",
   "execution_count": 37,
   "metadata": {},
   "outputs": [
    {
     "data": {
      "text/plain": [
       "DecisionTreeRegressor(ccp_alpha=0.0, criterion='mse', max_depth=None,\n",
       "                      max_features=None, max_leaf_nodes=None,\n",
       "                      min_impurity_decrease=0.0, min_impurity_split=None,\n",
       "                      min_samples_leaf=1, min_samples_split=2,\n",
       "                      min_weight_fraction_leaf=0.0, presort='deprecated',\n",
       "                      random_state=None, splitter='best')"
      ]
     },
     "execution_count": 37,
     "metadata": {},
     "output_type": "execute_result"
    }
   ],
   "source": [
    "\n",
    "# Instiantiate model and fit\n",
    "dt = DecisionTreeRegressor()\n",
    "dt.fit(X_train_sc, y_train)"
   ]
  },
  {
   "cell_type": "code",
   "execution_count": 38,
   "metadata": {},
   "outputs": [
    {
     "data": {
      "text/plain": [
       "0.0"
      ]
     },
     "execution_count": 38,
     "metadata": {},
     "output_type": "execute_result"
    }
   ],
   "source": [
    "dt_preds_train = dt.predict(X_train_sc)\n",
    "dt_rms_train = sqrt(mean_squared_error(y_train, dt_preds_train))\n",
    "dt_rms_train"
   ]
  },
  {
   "cell_type": "code",
   "execution_count": 39,
   "metadata": {},
   "outputs": [
    {
     "data": {
      "text/plain": [
       "10.59319503258529"
      ]
     },
     "execution_count": 39,
     "metadata": {},
     "output_type": "execute_result"
    }
   ],
   "source": [
    "dt_preds_test = dt.predict(X_test_sc)\n",
    "dt_rms_test = sqrt(mean_squared_error(y_test, dt_preds_test))\n",
    "dt_rms_test"
   ]
  },
  {
   "cell_type": "code",
   "execution_count": 40,
   "metadata": {},
   "outputs": [
    {
     "data": {
      "text/plain": [
       "12.54"
      ]
     },
     "execution_count": 40,
     "metadata": {},
     "output_type": "execute_result"
    }
   ],
   "source": [
    "12.54"
   ]
  },
  {
   "cell_type": "markdown",
   "metadata": {},
   "source": [
    "## Bagged Decision Tree"
   ]
  },
  {
   "cell_type": "code",
   "execution_count": 41,
   "metadata": {},
   "outputs": [
    {
     "data": {
      "text/plain": [
       "BaggingRegressor(base_estimator=None, bootstrap=True, bootstrap_features=False,\n",
       "                 max_features=1.0, max_samples=1.0, n_estimators=10,\n",
       "                 n_jobs=None, oob_score=False, random_state=None, verbose=0,\n",
       "                 warm_start=False)"
      ]
     },
     "execution_count": 41,
     "metadata": {},
     "output_type": "execute_result"
    }
   ],
   "source": [
    "# Instiantiate model and fit\n",
    "bag = BaggingRegressor()\n",
    "bag.fit(X_train_sc, y_train)"
   ]
  },
  {
   "cell_type": "code",
   "execution_count": 42,
   "metadata": {},
   "outputs": [
    {
     "data": {
      "text/plain": [
       "3.425838871762093"
      ]
     },
     "execution_count": 42,
     "metadata": {},
     "output_type": "execute_result"
    }
   ],
   "source": [
    "bag_preds_train = bag.predict(X_train_sc)\n",
    "bag_rms_train = sqrt(mean_squared_error(y_train, bag_preds_train))\n",
    "bag_rms_train"
   ]
  },
  {
   "cell_type": "code",
   "execution_count": 43,
   "metadata": {},
   "outputs": [
    {
     "data": {
      "text/plain": [
       "8.428386397317096"
      ]
     },
     "execution_count": 43,
     "metadata": {},
     "output_type": "execute_result"
    }
   ],
   "source": [
    "bag_preds_test = bag.predict(X_test_sc)\n",
    "bag_rms_test = sqrt(mean_squared_error(y_test, bag_preds_test))\n",
    "bag_rms_test"
   ]
  },
  {
   "cell_type": "code",
   "execution_count": 44,
   "metadata": {},
   "outputs": [
    {
     "data": {
      "text/plain": [
       "8.68"
      ]
     },
     "execution_count": 44,
     "metadata": {},
     "output_type": "execute_result"
    }
   ],
   "source": [
    "8.68"
   ]
  },
  {
   "cell_type": "markdown",
   "metadata": {},
   "source": [
    "## Random Forests"
   ]
  },
  {
   "cell_type": "code",
   "execution_count": 45,
   "metadata": {},
   "outputs": [
    {
     "data": {
      "text/plain": [
       "RandomForestRegressor(bootstrap=True, ccp_alpha=0.0, criterion='mse',\n",
       "                      max_depth=None, max_features='auto', max_leaf_nodes=None,\n",
       "                      max_samples=None, min_impurity_decrease=0.0,\n",
       "                      min_impurity_split=None, min_samples_leaf=1,\n",
       "                      min_samples_split=2, min_weight_fraction_leaf=0.0,\n",
       "                      n_estimators=100, n_jobs=None, oob_score=False,\n",
       "                      random_state=None, verbose=0, warm_start=False)"
      ]
     },
     "execution_count": 45,
     "metadata": {},
     "output_type": "execute_result"
    }
   ],
   "source": [
    "# Instiantiate model and fit\n",
    "rf = RandomForestRegressor()\n",
    "rf.fit(X_train_sc, y_train)"
   ]
  },
  {
   "cell_type": "code",
   "execution_count": 46,
   "metadata": {},
   "outputs": [
    {
     "data": {
      "text/plain": [
       "2.9040014086346306"
      ]
     },
     "execution_count": 46,
     "metadata": {},
     "output_type": "execute_result"
    }
   ],
   "source": [
    "\n",
    "rf_preds_train = rf.predict(X_train_sc)\n",
    "rf_rms_train = sqrt(mean_squared_error(y_train, rf_preds_train))\n",
    "rf_rms_train"
   ]
  },
  {
   "cell_type": "code",
   "execution_count": 47,
   "metadata": {},
   "outputs": [
    {
     "data": {
      "text/plain": [
       "8.246177468023502"
      ]
     },
     "execution_count": 47,
     "metadata": {},
     "output_type": "execute_result"
    }
   ],
   "source": [
    "rf_preds_test = rf.predict(X_test_sc)\n",
    "rf_rms_test = sqrt(mean_squared_error(y_test, rf_preds_test))\n",
    "rf_rms_test"
   ]
  },
  {
   "cell_type": "code",
   "execution_count": 48,
   "metadata": {},
   "outputs": [
    {
     "data": {
      "text/plain": [
       "8.48"
      ]
     },
     "execution_count": 48,
     "metadata": {},
     "output_type": "execute_result"
    }
   ],
   "source": [
    "8.48"
   ]
  },
  {
   "cell_type": "markdown",
   "metadata": {},
   "source": [
    "## ADA boost"
   ]
  },
  {
   "cell_type": "code",
   "execution_count": 49,
   "metadata": {},
   "outputs": [
    {
     "data": {
      "text/plain": [
       "AdaBoostRegressor(base_estimator=None, learning_rate=1.0, loss='linear',\n",
       "                  n_estimators=50, random_state=None)"
      ]
     },
     "execution_count": 49,
     "metadata": {},
     "output_type": "execute_result"
    }
   ],
   "source": [
    "# Instiantiate model and fit\n",
    "ada = AdaBoostRegressor()\n",
    "ada.fit(X_train_sc, y_train)"
   ]
  },
  {
   "cell_type": "code",
   "execution_count": 50,
   "metadata": {},
   "outputs": [
    {
     "data": {
      "text/plain": [
       "0.0"
      ]
     },
     "execution_count": 50,
     "metadata": {},
     "output_type": "execute_result"
    }
   ],
   "source": [
    "ada_preds_train = dt.predict(X_train_sc)\n",
    "ada_rms_train = sqrt(mean_squared_error(y_train, dt_preds_train))\n",
    "ada_rms_train"
   ]
  },
  {
   "cell_type": "code",
   "execution_count": 51,
   "metadata": {},
   "outputs": [
    {
     "data": {
      "text/plain": [
       "13.386762015523333"
      ]
     },
     "execution_count": 51,
     "metadata": {},
     "output_type": "execute_result"
    }
   ],
   "source": [
    "ada_preds_test = ada.predict(X_test_sc)\n",
    "ada_rms_test = sqrt(mean_squared_error(y_test, ada_preds_test))\n",
    "ada_rms_test"
   ]
  },
  {
   "cell_type": "code",
   "execution_count": 52,
   "metadata": {},
   "outputs": [
    {
     "data": {
      "text/plain": [
       "12.75"
      ]
     },
     "execution_count": 52,
     "metadata": {},
     "output_type": "execute_result"
    }
   ],
   "source": [
    "12.75"
   ]
  },
  {
   "cell_type": "markdown",
   "metadata": {},
   "source": [
    "## SVM"
   ]
  },
  {
   "cell_type": "code",
   "execution_count": 53,
   "metadata": {},
   "outputs": [
    {
     "data": {
      "text/plain": [
       "SVR(C=1.0, cache_size=200, coef0=0.0, degree=3, epsilon=0.1, gamma='scale',\n",
       "    kernel='rbf', max_iter=-1, shrinking=True, tol=0.001, verbose=False)"
      ]
     },
     "execution_count": 53,
     "metadata": {},
     "output_type": "execute_result"
    }
   ],
   "source": [
    "# Instiantiate model and fit\n",
    "svr = svm.SVR()\n",
    "svr.fit(X_train_sc, y_train)"
   ]
  },
  {
   "cell_type": "code",
   "execution_count": 54,
   "metadata": {},
   "outputs": [
    {
     "data": {
      "text/plain": [
       "12.611252800837597"
      ]
     },
     "execution_count": 54,
     "metadata": {},
     "output_type": "execute_result"
    }
   ],
   "source": [
    "svr_preds_train = svr.predict(X_train_sc)\n",
    "svr_rms_train = sqrt(mean_squared_error(y_train, svr_preds_train))\n",
    "svr_rms_train"
   ]
  },
  {
   "cell_type": "code",
   "execution_count": 55,
   "metadata": {},
   "outputs": [
    {
     "data": {
      "text/plain": [
       "13.005718568962578"
      ]
     },
     "execution_count": 55,
     "metadata": {},
     "output_type": "execute_result"
    }
   ],
   "source": [
    "svr_preds_test = svr.predict(X_test_sc)\n",
    "svr_rms_test = sqrt(mean_squared_error(y_test, svr_preds_test))\n",
    "svr_rms_test"
   ]
  },
  {
   "cell_type": "code",
   "execution_count": 56,
   "metadata": {
    "scrolled": true
   },
   "outputs": [
    {
     "data": {
      "text/plain": [
       "11.3"
      ]
     },
     "execution_count": 56,
     "metadata": {},
     "output_type": "execute_result"
    }
   ],
   "source": [
    "11.30"
   ]
  },
  {
   "cell_type": "markdown",
   "metadata": {},
   "source": [
    "# XG Boost"
   ]
  },
  {
   "cell_type": "code",
   "execution_count": 61,
   "metadata": {},
   "outputs": [],
   "source": [
    "from numpy import loadtxt\n",
    "from xgboost import XGBClassifier\n",
    "from sklearn.model_selection import train_test_split\n",
    "from sklearn.metrics import accuracy_score"
   ]
  },
  {
   "cell_type": "code",
   "execution_count": 62,
   "metadata": {},
   "outputs": [],
   "source": [
    "features = ['YEAR', 'DAYOFWEEK', 'hour','MONTHOFYEAR','WEEKOFYEAR','DAYOFYEAR']\n",
    "y = mk['pirates_of_caribbean']\n",
    "X = mk[features]"
   ]
  },
  {
   "cell_type": "code",
   "execution_count": 63,
   "metadata": {},
   "outputs": [],
   "source": [
    "# split data into train and test sets\n",
    "X_train, X_test, y_train, y_test = train_test_split(X, y, test_size =.02, random_state=21)\n",
    "sc = StandardScaler()\n",
    "sc.fit(X_train)\n",
    "X_train_sc = sc.transform(X_train)\n",
    "X_test_sc = sc.transform(X_test)"
   ]
  },
  {
   "cell_type": "code",
   "execution_count": 64,
   "metadata": {},
   "outputs": [
    {
     "data": {
      "text/plain": [
       "XGBClassifier(base_score=0.5, booster='gbtree', colsample_bylevel=1,\n",
       "              colsample_bynode=1, colsample_bytree=1, gamma=0,\n",
       "              learning_rate=0.1, max_delta_step=0, max_depth=3,\n",
       "              min_child_weight=1, missing=None, n_estimators=100, n_jobs=1,\n",
       "              nthread=None, objective='multi:softprob', random_state=0,\n",
       "              reg_alpha=0, reg_lambda=1, scale_pos_weight=1, seed=None,\n",
       "              silent=None, subsample=1, verbosity=1)"
      ]
     },
     "execution_count": 64,
     "metadata": {},
     "output_type": "execute_result"
    }
   ],
   "source": [
    "# fit model no training data\n",
    "model = XGBClassifier()\n",
    "model.fit(X_train_sc, y_train)"
   ]
  },
  {
   "cell_type": "code",
   "execution_count": 65,
   "metadata": {},
   "outputs": [
    {
     "data": {
      "text/plain": [
       "19.419145250550226"
      ]
     },
     "execution_count": 65,
     "metadata": {},
     "output_type": "execute_result"
    }
   ],
   "source": [
    "model_preds_train = model.predict(X_train_sc)\n",
    "model_rms_train = sqrt(mean_squared_error(y_train, model_preds_train))\n",
    "model_rms_train"
   ]
  },
  {
   "cell_type": "code",
   "execution_count": 66,
   "metadata": {},
   "outputs": [
    {
     "data": {
      "text/plain": [
       "20.431220781164683"
      ]
     },
     "execution_count": 66,
     "metadata": {},
     "output_type": "execute_result"
    }
   ],
   "source": [
    "model_preds_test = model.predict(X_test_sc)\n",
    "model_rms_test = sqrt(mean_squared_error(y_test, model_preds_test))\n",
    "model_rms_test"
   ]
  },
  {
   "cell_type": "markdown",
   "metadata": {},
   "source": [
    "# FBPROPHET"
   ]
  },
  {
   "cell_type": "code",
   "execution_count": 67,
   "metadata": {},
   "outputs": [],
   "source": [
    "# Python\n",
    "import pandas as pd\n",
    "from fbprophet import Prophet"
   ]
  },
  {
   "cell_type": "code",
   "execution_count": 68,
   "metadata": {},
   "outputs": [],
   "source": [
    "df1 = mk[['pirates_of_caribbean']].copy()\n",
    "df1 = df1[~(df1.index < '2016-01-01')]\n",
    "       "
   ]
  },
  {
   "cell_type": "code",
   "execution_count": 69,
   "metadata": {
    "scrolled": true
   },
   "outputs": [
    {
     "data": {
      "text/html": [
       "<div>\n",
       "<style scoped>\n",
       "    .dataframe tbody tr th:only-of-type {\n",
       "        vertical-align: middle;\n",
       "    }\n",
       "\n",
       "    .dataframe tbody tr th {\n",
       "        vertical-align: top;\n",
       "    }\n",
       "\n",
       "    .dataframe thead th {\n",
       "        text-align: right;\n",
       "    }\n",
       "</style>\n",
       "<table border=\"1\" class=\"dataframe\">\n",
       "  <thead>\n",
       "    <tr style=\"text-align: right;\">\n",
       "      <th></th>\n",
       "      <th>y</th>\n",
       "    </tr>\n",
       "    <tr>\n",
       "      <th>datetime</th>\n",
       "      <th></th>\n",
       "    </tr>\n",
       "  </thead>\n",
       "  <tbody>\n",
       "    <tr>\n",
       "      <th>2016-01-01 00:00:00</th>\n",
       "      <td>5.0</td>\n",
       "    </tr>\n",
       "    <tr>\n",
       "      <th>2016-01-01 01:00:00</th>\n",
       "      <td>5.0</td>\n",
       "    </tr>\n",
       "    <tr>\n",
       "      <th>2016-01-01 02:00:00</th>\n",
       "      <td>0.0</td>\n",
       "    </tr>\n",
       "    <tr>\n",
       "      <th>2016-01-01 07:00:00</th>\n",
       "      <td>0.0</td>\n",
       "    </tr>\n",
       "    <tr>\n",
       "      <th>2016-01-01 08:00:00</th>\n",
       "      <td>5.0</td>\n",
       "    </tr>\n",
       "  </tbody>\n",
       "</table>\n",
       "</div>"
      ],
      "text/plain": [
       "                       y\n",
       "datetime                \n",
       "2016-01-01 00:00:00  5.0\n",
       "2016-01-01 01:00:00  5.0\n",
       "2016-01-01 02:00:00  0.0\n",
       "2016-01-01 07:00:00  0.0\n",
       "2016-01-01 08:00:00  5.0"
      ]
     },
     "execution_count": 69,
     "metadata": {},
     "output_type": "execute_result"
    }
   ],
   "source": [
    "df = df1\n",
    "df.rename(columns = {'pirates_of_caribbean':'y'}, inplace = True)\n",
    "df.head()"
   ]
  },
  {
   "cell_type": "code",
   "execution_count": 70,
   "metadata": {
    "scrolled": true
   },
   "outputs": [
    {
     "data": {
      "image/png": "[encoded data removed]",
      "text/plain": [
       "<Figure size 2880x720 with 1 Axes>"
      ]
     },
     "metadata": {
      "needs_background": "light"
     },
     "output_type": "display_data"
    }
   ],
   "source": [
    "df.plot(figsize=(40,10));"
   ]
  },
  {
   "cell_type": "code",
   "execution_count": 71,
   "metadata": {},
   "outputs": [
    {
     "data": {
      "text/html": [
       "<div>\n",
       "<style scoped>\n",
       "    .dataframe tbody tr th:only-of-type {\n",
       "        vertical-align: middle;\n",
       "    }\n",
       "\n",
       "    .dataframe tbody tr th {\n",
       "        vertical-align: top;\n",
       "    }\n",
       "\n",
       "    .dataframe thead th {\n",
       "        text-align: right;\n",
       "    }\n",
       "</style>\n",
       "<table border=\"1\" class=\"dataframe\">\n",
       "  <thead>\n",
       "    <tr style=\"text-align: right;\">\n",
       "      <th></th>\n",
       "      <th>y</th>\n",
       "    </tr>\n",
       "    <tr>\n",
       "      <th>ds</th>\n",
       "      <th></th>\n",
       "    </tr>\n",
       "  </thead>\n",
       "  <tbody>\n",
       "    <tr>\n",
       "      <th>2016-01-01 00:00:00</th>\n",
       "      <td>5.0</td>\n",
       "    </tr>\n",
       "    <tr>\n",
       "      <th>2016-01-01 01:00:00</th>\n",
       "      <td>5.0</td>\n",
       "    </tr>\n",
       "    <tr>\n",
       "      <th>2016-01-01 02:00:00</th>\n",
       "      <td>0.0</td>\n",
       "    </tr>\n",
       "    <tr>\n",
       "      <th>2016-01-01 07:00:00</th>\n",
       "      <td>0.0</td>\n",
       "    </tr>\n",
       "    <tr>\n",
       "      <th>2016-01-01 08:00:00</th>\n",
       "      <td>5.0</td>\n",
       "    </tr>\n",
       "  </tbody>\n",
       "</table>\n",
       "</div>"
      ],
      "text/plain": [
       "                       y\n",
       "ds                      \n",
       "2016-01-01 00:00:00  5.0\n",
       "2016-01-01 01:00:00  5.0\n",
       "2016-01-01 02:00:00  0.0\n",
       "2016-01-01 07:00:00  0.0\n",
       "2016-01-01 08:00:00  5.0"
      ]
     },
     "execution_count": 71,
     "metadata": {},
     "output_type": "execute_result"
    }
   ],
   "source": [
    "df.index.name = 'ds'\n",
    "df.head()"
   ]
  },
  {
   "cell_type": "code",
   "execution_count": 72,
   "metadata": {},
   "outputs": [
    {
     "data": {
      "text/html": [
       "<div>\n",
       "<style scoped>\n",
       "    .dataframe tbody tr th:only-of-type {\n",
       "        vertical-align: middle;\n",
       "    }\n",
       "\n",
       "    .dataframe tbody tr th {\n",
       "        vertical-align: top;\n",
       "    }\n",
       "\n",
       "    .dataframe thead th {\n",
       "        text-align: right;\n",
       "    }\n",
       "</style>\n",
       "<table border=\"1\" class=\"dataframe\">\n",
       "  <thead>\n",
       "    <tr style=\"text-align: right;\">\n",
       "      <th></th>\n",
       "      <th>ds</th>\n",
       "      <th>y</th>\n",
       "    </tr>\n",
       "  </thead>\n",
       "  <tbody>\n",
       "    <tr>\n",
       "      <th>0</th>\n",
       "      <td>2016-01-01 00:00:00</td>\n",
       "      <td>5.0</td>\n",
       "    </tr>\n",
       "    <tr>\n",
       "      <th>1</th>\n",
       "      <td>2016-01-01 01:00:00</td>\n",
       "      <td>5.0</td>\n",
       "    </tr>\n",
       "    <tr>\n",
       "      <th>2</th>\n",
       "      <td>2016-01-01 02:00:00</td>\n",
       "      <td>0.0</td>\n",
       "    </tr>\n",
       "    <tr>\n",
       "      <th>3</th>\n",
       "      <td>2016-01-01 07:00:00</td>\n",
       "      <td>0.0</td>\n",
       "    </tr>\n",
       "    <tr>\n",
       "      <th>4</th>\n",
       "      <td>2016-01-01 08:00:00</td>\n",
       "      <td>5.0</td>\n",
       "    </tr>\n",
       "  </tbody>\n",
       "</table>\n",
       "</div>"
      ],
      "text/plain": [
       "                    ds    y\n",
       "0  2016-01-01 00:00:00  5.0\n",
       "1  2016-01-01 01:00:00  5.0\n",
       "2  2016-01-01 02:00:00  0.0\n",
       "3  2016-01-01 07:00:00  0.0\n",
       "4  2016-01-01 08:00:00  5.0"
      ]
     },
     "execution_count": 72,
     "metadata": {},
     "output_type": "execute_result"
    }
   ],
   "source": [
    "df = df.reset_index()\n",
    "df.head()"
   ]
  },
  {
   "cell_type": "code",
   "execution_count": 73,
   "metadata": {
    "scrolled": true
   },
   "outputs": [
    {
     "data": {
      "text/html": [
       "<div>\n",
       "<style scoped>\n",
       "    .dataframe tbody tr th:only-of-type {\n",
       "        vertical-align: middle;\n",
       "    }\n",
       "\n",
       "    .dataframe tbody tr th {\n",
       "        vertical-align: top;\n",
       "    }\n",
       "\n",
       "    .dataframe thead th {\n",
       "        text-align: right;\n",
       "    }\n",
       "</style>\n",
       "<table border=\"1\" class=\"dataframe\">\n",
       "  <thead>\n",
       "    <tr style=\"text-align: right;\">\n",
       "      <th></th>\n",
       "      <th>ds</th>\n",
       "      <th>y</th>\n",
       "    </tr>\n",
       "  </thead>\n",
       "  <tbody>\n",
       "    <tr>\n",
       "      <th>0</th>\n",
       "      <td>2016-01-01 00:00:00</td>\n",
       "      <td>5.0</td>\n",
       "    </tr>\n",
       "    <tr>\n",
       "      <th>1</th>\n",
       "      <td>2016-01-01 01:00:00</td>\n",
       "      <td>5.0</td>\n",
       "    </tr>\n",
       "    <tr>\n",
       "      <th>2</th>\n",
       "      <td>2016-01-01 02:00:00</td>\n",
       "      <td>0.0</td>\n",
       "    </tr>\n",
       "    <tr>\n",
       "      <th>3</th>\n",
       "      <td>2016-01-01 07:00:00</td>\n",
       "      <td>0.0</td>\n",
       "    </tr>\n",
       "    <tr>\n",
       "      <th>4</th>\n",
       "      <td>2016-01-01 08:00:00</td>\n",
       "      <td>5.0</td>\n",
       "    </tr>\n",
       "  </tbody>\n",
       "</table>\n",
       "</div>"
      ],
      "text/plain": [
       "                   ds    y\n",
       "0 2016-01-01 00:00:00  5.0\n",
       "1 2016-01-01 01:00:00  5.0\n",
       "2 2016-01-01 02:00:00  0.0\n",
       "3 2016-01-01 07:00:00  0.0\n",
       "4 2016-01-01 08:00:00  5.0"
      ]
     },
     "execution_count": 73,
     "metadata": {},
     "output_type": "execute_result"
    }
   ],
   "source": [
    "df['ds'] = pd.to_datetime(df[\"ds\"])\n",
    "df.head()"
   ]
  },
  {
   "cell_type": "code",
   "execution_count": 74,
   "metadata": {},
   "outputs": [
    {
     "name": "stdout",
     "output_type": "stream",
     "text": [
      "<class 'pandas.core.frame.DataFrame'>\n",
      "RangeIndex: 24865 entries, 0 to 24864\n",
      "Data columns (total 2 columns):\n",
      " #   Column  Non-Null Count  Dtype         \n",
      "---  ------  --------------  -----         \n",
      " 0   ds      24865 non-null  datetime64[ns]\n",
      " 1   y       24865 non-null  float64       \n",
      "dtypes: datetime64[ns](1), float64(1)\n",
      "memory usage: 388.6 KB\n"
     ]
    }
   ],
   "source": [
    "df.info()"
   ]
  },
  {
   "cell_type": "code",
   "execution_count": 75,
   "metadata": {},
   "outputs": [
    {
     "data": {
      "text/plain": [
       "<fbprophet.forecaster.Prophet at 0x1a57d572d0>"
      ]
     },
     "execution_count": 75,
     "metadata": {},
     "output_type": "execute_result"
    }
   ],
   "source": [
    "m = Prophet()#yearly_seasonality=True, weekly_seasonality=True, )\n",
    "m.add_country_holidays(country_name='US')\n",
    "m.fit(df)"
   ]
  },
  {
   "cell_type": "code",
   "execution_count": 76,
   "metadata": {},
   "outputs": [
    {
     "data": {
      "text/html": [
       "<div>\n",
       "<style scoped>\n",
       "    .dataframe tbody tr th:only-of-type {\n",
       "        vertical-align: middle;\n",
       "    }\n",
       "\n",
       "    .dataframe tbody tr th {\n",
       "        vertical-align: top;\n",
       "    }\n",
       "\n",
       "    .dataframe thead th {\n",
       "        text-align: right;\n",
       "    }\n",
       "</style>\n",
       "<table border=\"1\" class=\"dataframe\">\n",
       "  <thead>\n",
       "    <tr style=\"text-align: right;\">\n",
       "      <th></th>\n",
       "      <th>ds</th>\n",
       "    </tr>\n",
       "  </thead>\n",
       "  <tbody>\n",
       "    <tr>\n",
       "      <th>25604</th>\n",
       "      <td>2020-01-30 19:00:00</td>\n",
       "    </tr>\n",
       "    <tr>\n",
       "      <th>25605</th>\n",
       "      <td>2020-01-30 20:00:00</td>\n",
       "    </tr>\n",
       "    <tr>\n",
       "      <th>25606</th>\n",
       "      <td>2020-01-30 21:00:00</td>\n",
       "    </tr>\n",
       "    <tr>\n",
       "      <th>25607</th>\n",
       "      <td>2020-01-30 22:00:00</td>\n",
       "    </tr>\n",
       "    <tr>\n",
       "      <th>25608</th>\n",
       "      <td>2020-01-30 23:00:00</td>\n",
       "    </tr>\n",
       "  </tbody>\n",
       "</table>\n",
       "</div>"
      ],
      "text/plain": [
       "                       ds\n",
       "25604 2020-01-30 19:00:00\n",
       "25605 2020-01-30 20:00:00\n",
       "25606 2020-01-30 21:00:00\n",
       "25607 2020-01-30 22:00:00\n",
       "25608 2020-01-30 23:00:00"
      ]
     },
     "execution_count": 76,
     "metadata": {},
     "output_type": "execute_result"
    }
   ],
   "source": [
    "future = m.make_future_dataframe(periods=744, freq='h')\n",
    "future.tail()\n"
   ]
  },
  {
   "cell_type": "code",
   "execution_count": 77,
   "metadata": {},
   "outputs": [
    {
     "data": {
      "text/html": [
       "<div>\n",
       "<style scoped>\n",
       "    .dataframe tbody tr th:only-of-type {\n",
       "        vertical-align: middle;\n",
       "    }\n",
       "\n",
       "    .dataframe tbody tr th {\n",
       "        vertical-align: top;\n",
       "    }\n",
       "\n",
       "    .dataframe thead th {\n",
       "        text-align: right;\n",
       "    }\n",
       "</style>\n",
       "<table border=\"1\" class=\"dataframe\">\n",
       "  <thead>\n",
       "    <tr style=\"text-align: right;\">\n",
       "      <th></th>\n",
       "      <th>ds</th>\n",
       "      <th>yhat</th>\n",
       "      <th>yhat_lower</th>\n",
       "      <th>yhat_upper</th>\n",
       "    </tr>\n",
       "  </thead>\n",
       "  <tbody>\n",
       "    <tr>\n",
       "      <th>25585</th>\n",
       "      <td>2020-01-30 00:00:00</td>\n",
       "      <td>3.060063</td>\n",
       "      <td>-11.138294</td>\n",
       "      <td>17.603835</td>\n",
       "    </tr>\n",
       "    <tr>\n",
       "      <th>25586</th>\n",
       "      <td>2020-01-30 01:00:00</td>\n",
       "      <td>1.049477</td>\n",
       "      <td>-13.614118</td>\n",
       "      <td>15.053506</td>\n",
       "    </tr>\n",
       "    <tr>\n",
       "      <th>25587</th>\n",
       "      <td>2020-01-30 02:00:00</td>\n",
       "      <td>1.222372</td>\n",
       "      <td>-13.864919</td>\n",
       "      <td>15.412967</td>\n",
       "    </tr>\n",
       "    <tr>\n",
       "      <th>25588</th>\n",
       "      <td>2020-01-30 03:00:00</td>\n",
       "      <td>3.191053</td>\n",
       "      <td>-12.509270</td>\n",
       "      <td>16.773620</td>\n",
       "    </tr>\n",
       "    <tr>\n",
       "      <th>25589</th>\n",
       "      <td>2020-01-30 04:00:00</td>\n",
       "      <td>4.618235</td>\n",
       "      <td>-8.799546</td>\n",
       "      <td>18.170999</td>\n",
       "    </tr>\n",
       "    <tr>\n",
       "      <th>25590</th>\n",
       "      <td>2020-01-30 05:00:00</td>\n",
       "      <td>3.296098</td>\n",
       "      <td>-11.204490</td>\n",
       "      <td>17.846413</td>\n",
       "    </tr>\n",
       "    <tr>\n",
       "      <th>25591</th>\n",
       "      <td>2020-01-30 06:00:00</td>\n",
       "      <td>-0.280435</td>\n",
       "      <td>-14.636264</td>\n",
       "      <td>14.376122</td>\n",
       "    </tr>\n",
       "    <tr>\n",
       "      <th>25592</th>\n",
       "      <td>2020-01-30 07:00:00</td>\n",
       "      <td>-2.529015</td>\n",
       "      <td>-18.501026</td>\n",
       "      <td>10.237721</td>\n",
       "    </tr>\n",
       "    <tr>\n",
       "      <th>25593</th>\n",
       "      <td>2020-01-30 08:00:00</td>\n",
       "      <td>0.603929</td>\n",
       "      <td>-14.881418</td>\n",
       "      <td>14.812458</td>\n",
       "    </tr>\n",
       "    <tr>\n",
       "      <th>25594</th>\n",
       "      <td>2020-01-30 09:00:00</td>\n",
       "      <td>10.108933</td>\n",
       "      <td>-4.323299</td>\n",
       "      <td>25.133135</td>\n",
       "    </tr>\n",
       "    <tr>\n",
       "      <th>25595</th>\n",
       "      <td>2020-01-30 10:00:00</td>\n",
       "      <td>22.638417</td>\n",
       "      <td>7.916189</td>\n",
       "      <td>36.232350</td>\n",
       "    </tr>\n",
       "    <tr>\n",
       "      <th>25596</th>\n",
       "      <td>2020-01-30 11:00:00</td>\n",
       "      <td>32.781335</td>\n",
       "      <td>18.466023</td>\n",
       "      <td>48.095207</td>\n",
       "    </tr>\n",
       "    <tr>\n",
       "      <th>25597</th>\n",
       "      <td>2020-01-30 12:00:00</td>\n",
       "      <td>37.001666</td>\n",
       "      <td>22.948125</td>\n",
       "      <td>51.718994</td>\n",
       "    </tr>\n",
       "    <tr>\n",
       "      <th>25598</th>\n",
       "      <td>2020-01-30 13:00:00</td>\n",
       "      <td>35.868615</td>\n",
       "      <td>22.133038</td>\n",
       "      <td>50.701914</td>\n",
       "    </tr>\n",
       "    <tr>\n",
       "      <th>25599</th>\n",
       "      <td>2020-01-30 14:00:00</td>\n",
       "      <td>32.808449</td>\n",
       "      <td>18.636965</td>\n",
       "      <td>47.234027</td>\n",
       "    </tr>\n",
       "    <tr>\n",
       "      <th>25600</th>\n",
       "      <td>2020-01-30 15:00:00</td>\n",
       "      <td>30.763647</td>\n",
       "      <td>16.136129</td>\n",
       "      <td>45.261711</td>\n",
       "    </tr>\n",
       "    <tr>\n",
       "      <th>25601</th>\n",
       "      <td>2020-01-30 16:00:00</td>\n",
       "      <td>29.880609</td>\n",
       "      <td>15.650426</td>\n",
       "      <td>43.961541</td>\n",
       "    </tr>\n",
       "    <tr>\n",
       "      <th>25602</th>\n",
       "      <td>2020-01-30 17:00:00</td>\n",
       "      <td>28.118478</td>\n",
       "      <td>14.169610</td>\n",
       "      <td>43.536468</td>\n",
       "    </tr>\n",
       "    <tr>\n",
       "      <th>25603</th>\n",
       "      <td>2020-01-30 18:00:00</td>\n",
       "      <td>23.800383</td>\n",
       "      <td>9.060316</td>\n",
       "      <td>38.522570</td>\n",
       "    </tr>\n",
       "    <tr>\n",
       "      <th>25604</th>\n",
       "      <td>2020-01-30 19:00:00</td>\n",
       "      <td>17.432128</td>\n",
       "      <td>2.482668</td>\n",
       "      <td>31.524066</td>\n",
       "    </tr>\n",
       "    <tr>\n",
       "      <th>25605</th>\n",
       "      <td>2020-01-30 20:00:00</td>\n",
       "      <td>11.125031</td>\n",
       "      <td>-3.228573</td>\n",
       "      <td>25.298835</td>\n",
       "    </tr>\n",
       "    <tr>\n",
       "      <th>25606</th>\n",
       "      <td>2020-01-30 21:00:00</td>\n",
       "      <td>6.495234</td>\n",
       "      <td>-7.832753</td>\n",
       "      <td>20.969800</td>\n",
       "    </tr>\n",
       "    <tr>\n",
       "      <th>25607</th>\n",
       "      <td>2020-01-30 22:00:00</td>\n",
       "      <td>3.356799</td>\n",
       "      <td>-9.741723</td>\n",
       "      <td>18.935981</td>\n",
       "    </tr>\n",
       "    <tr>\n",
       "      <th>25608</th>\n",
       "      <td>2020-01-30 23:00:00</td>\n",
       "      <td>0.495008</td>\n",
       "      <td>-13.799079</td>\n",
       "      <td>16.266958</td>\n",
       "    </tr>\n",
       "  </tbody>\n",
       "</table>\n",
       "</div>"
      ],
      "text/plain": [
       "                       ds       yhat  yhat_lower  yhat_upper\n",
       "25585 2020-01-30 00:00:00   3.060063  -11.138294   17.603835\n",
       "25586 2020-01-30 01:00:00   1.049477  -13.614118   15.053506\n",
       "25587 2020-01-30 02:00:00   1.222372  -13.864919   15.412967\n",
       "25588 2020-01-30 03:00:00   3.191053  -12.509270   16.773620\n",
       "25589 2020-01-30 04:00:00   4.618235   -8.799546   18.170999\n",
       "25590 2020-01-30 05:00:00   3.296098  -11.204490   17.846413\n",
       "25591 2020-01-30 06:00:00  -0.280435  -14.636264   14.376122\n",
       "25592 2020-01-30 07:00:00  -2.529015  -18.501026   10.237721\n",
       "25593 2020-01-30 08:00:00   0.603929  -14.881418   14.812458\n",
       "25594 2020-01-30 09:00:00  10.108933   -4.323299   25.133135\n",
       "25595 2020-01-30 10:00:00  22.638417    7.916189   36.232350\n",
       "25596 2020-01-30 11:00:00  32.781335   18.466023   48.095207\n",
       "25597 2020-01-30 12:00:00  37.001666   22.948125   51.718994\n",
       "25598 2020-01-30 13:00:00  35.868615   22.133038   50.701914\n",
       "25599 2020-01-30 14:00:00  32.808449   18.636965   47.234027\n",
       "25600 2020-01-30 15:00:00  30.763647   16.136129   45.261711\n",
       "25601 2020-01-30 16:00:00  29.880609   15.650426   43.961541\n",
       "25602 2020-01-30 17:00:00  28.118478   14.169610   43.536468\n",
       "25603 2020-01-30 18:00:00  23.800383    9.060316   38.522570\n",
       "25604 2020-01-30 19:00:00  17.432128    2.482668   31.524066\n",
       "25605 2020-01-30 20:00:00  11.125031   -3.228573   25.298835\n",
       "25606 2020-01-30 21:00:00   6.495234   -7.832753   20.969800\n",
       "25607 2020-01-30 22:00:00   3.356799   -9.741723   18.935981\n",
       "25608 2020-01-30 23:00:00   0.495008  -13.799079   16.266958"
      ]
     },
     "execution_count": 77,
     "metadata": {},
     "output_type": "execute_result"
    }
   ],
   "source": [
    "forecast = m.predict(future)\n",
    "forecast[['ds', 'yhat', 'yhat_lower', 'yhat_upper']].tail(24)\n"
   ]
  },
  {
   "cell_type": "code",
   "execution_count": 78,
   "metadata": {},
   "outputs": [
    {
     "data": {
      "text/html": [
       "<div>\n",
       "<style scoped>\n",
       "    .dataframe tbody tr th:only-of-type {\n",
       "        vertical-align: middle;\n",
       "    }\n",
       "\n",
       "    .dataframe tbody tr th {\n",
       "        vertical-align: top;\n",
       "    }\n",
       "\n",
       "    .dataframe thead th {\n",
       "        text-align: right;\n",
       "    }\n",
       "</style>\n",
       "<table border=\"1\" class=\"dataframe\">\n",
       "  <thead>\n",
       "    <tr style=\"text-align: right;\">\n",
       "      <th></th>\n",
       "      <th>ds</th>\n",
       "      <th>yhat</th>\n",
       "      <th>yhat_lower</th>\n",
       "      <th>yhat_upper</th>\n",
       "    </tr>\n",
       "  </thead>\n",
       "  <tbody>\n",
       "    <tr>\n",
       "      <th>0</th>\n",
       "      <td>2016-01-01 00:00:00</td>\n",
       "      <td>-6.314926</td>\n",
       "      <td>-21.637914</td>\n",
       "      <td>8.468987</td>\n",
       "    </tr>\n",
       "    <tr>\n",
       "      <th>1</th>\n",
       "      <td>2016-01-01 01:00:00</td>\n",
       "      <td>-8.400767</td>\n",
       "      <td>-22.943941</td>\n",
       "      <td>7.185789</td>\n",
       "    </tr>\n",
       "    <tr>\n",
       "      <th>2</th>\n",
       "      <td>2016-01-01 02:00:00</td>\n",
       "      <td>-8.232687</td>\n",
       "      <td>-23.286682</td>\n",
       "      <td>6.469490</td>\n",
       "    </tr>\n",
       "    <tr>\n",
       "      <th>3</th>\n",
       "      <td>2016-01-01 07:00:00</td>\n",
       "      <td>-10.957064</td>\n",
       "      <td>-25.543711</td>\n",
       "      <td>3.923336</td>\n",
       "    </tr>\n",
       "    <tr>\n",
       "      <th>4</th>\n",
       "      <td>2016-01-01 08:00:00</td>\n",
       "      <td>-7.421447</td>\n",
       "      <td>-22.165597</td>\n",
       "      <td>6.779205</td>\n",
       "    </tr>\n",
       "    <tr>\n",
       "      <th>5</th>\n",
       "      <td>2016-01-01 09:00:00</td>\n",
       "      <td>2.543886</td>\n",
       "      <td>-11.480281</td>\n",
       "      <td>16.963698</td>\n",
       "    </tr>\n",
       "    <tr>\n",
       "      <th>6</th>\n",
       "      <td>2016-01-01 10:00:00</td>\n",
       "      <td>15.586387</td>\n",
       "      <td>0.279331</td>\n",
       "      <td>30.510158</td>\n",
       "    </tr>\n",
       "    <tr>\n",
       "      <th>7</th>\n",
       "      <td>2016-01-01 11:00:00</td>\n",
       "      <td>26.289386</td>\n",
       "      <td>11.016589</td>\n",
       "      <td>39.824219</td>\n",
       "    </tr>\n",
       "    <tr>\n",
       "      <th>8</th>\n",
       "      <td>2016-01-01 12:00:00</td>\n",
       "      <td>31.110651</td>\n",
       "      <td>16.516460</td>\n",
       "      <td>46.036759</td>\n",
       "    </tr>\n",
       "    <tr>\n",
       "      <th>9</th>\n",
       "      <td>2016-01-01 13:00:00</td>\n",
       "      <td>30.612656</td>\n",
       "      <td>15.719975</td>\n",
       "      <td>43.904334</td>\n",
       "    </tr>\n",
       "    <tr>\n",
       "      <th>10</th>\n",
       "      <td>2016-01-01 14:00:00</td>\n",
       "      <td>28.214502</td>\n",
       "      <td>13.180890</td>\n",
       "      <td>42.831919</td>\n",
       "    </tr>\n",
       "    <tr>\n",
       "      <th>11</th>\n",
       "      <td>2016-01-01 15:00:00</td>\n",
       "      <td>26.851148</td>\n",
       "      <td>13.052723</td>\n",
       "      <td>42.431875</td>\n",
       "    </tr>\n",
       "    <tr>\n",
       "      <th>12</th>\n",
       "      <td>2016-01-01 16:00:00</td>\n",
       "      <td>26.661213</td>\n",
       "      <td>12.919890</td>\n",
       "      <td>41.731334</td>\n",
       "    </tr>\n",
       "    <tr>\n",
       "      <th>13</th>\n",
       "      <td>2016-01-01 17:00:00</td>\n",
       "      <td>25.595885</td>\n",
       "      <td>11.085386</td>\n",
       "      <td>40.177418</td>\n",
       "    </tr>\n",
       "    <tr>\n",
       "      <th>14</th>\n",
       "      <td>2016-01-01 18:00:00</td>\n",
       "      <td>21.970265</td>\n",
       "      <td>7.417873</td>\n",
       "      <td>37.002927</td>\n",
       "    </tr>\n",
       "    <tr>\n",
       "      <th>15</th>\n",
       "      <td>2016-01-01 19:00:00</td>\n",
       "      <td>16.282148</td>\n",
       "      <td>0.564649</td>\n",
       "      <td>30.169573</td>\n",
       "    </tr>\n",
       "    <tr>\n",
       "      <th>16</th>\n",
       "      <td>2016-01-01 20:00:00</td>\n",
       "      <td>10.634958</td>\n",
       "      <td>-3.701890</td>\n",
       "      <td>24.751948</td>\n",
       "    </tr>\n",
       "    <tr>\n",
       "      <th>17</th>\n",
       "      <td>2016-01-01 21:00:00</td>\n",
       "      <td>6.637156</td>\n",
       "      <td>-7.910776</td>\n",
       "      <td>21.521743</td>\n",
       "    </tr>\n",
       "    <tr>\n",
       "      <th>18</th>\n",
       "      <td>2016-01-01 22:00:00</td>\n",
       "      <td>4.095422</td>\n",
       "      <td>-10.119668</td>\n",
       "      <td>18.602762</td>\n",
       "    </tr>\n",
       "    <tr>\n",
       "      <th>19</th>\n",
       "      <td>2016-01-01 23:00:00</td>\n",
       "      <td>1.788051</td>\n",
       "      <td>-11.724161</td>\n",
       "      <td>16.259090</td>\n",
       "    </tr>\n",
       "    <tr>\n",
       "      <th>20</th>\n",
       "      <td>2016-01-02 00:00:00</td>\n",
       "      <td>9.640115</td>\n",
       "      <td>-5.319734</td>\n",
       "      <td>23.548682</td>\n",
       "    </tr>\n",
       "    <tr>\n",
       "      <th>21</th>\n",
       "      <td>2016-01-02 06:00:00</td>\n",
       "      <td>8.797970</td>\n",
       "      <td>-5.697804</td>\n",
       "      <td>23.367080</td>\n",
       "    </tr>\n",
       "    <tr>\n",
       "      <th>22</th>\n",
       "      <td>2016-01-02 07:00:00</td>\n",
       "      <td>6.955784</td>\n",
       "      <td>-7.710630</td>\n",
       "      <td>21.473319</td>\n",
       "    </tr>\n",
       "    <tr>\n",
       "      <th>23</th>\n",
       "      <td>2016-01-02 08:00:00</td>\n",
       "      <td>10.481323</td>\n",
       "      <td>-4.183537</td>\n",
       "      <td>24.990962</td>\n",
       "    </tr>\n",
       "  </tbody>\n",
       "</table>\n",
       "</div>"
      ],
      "text/plain": [
       "                    ds       yhat  yhat_lower  yhat_upper\n",
       "0  2016-01-01 00:00:00  -6.314926  -21.637914    8.468987\n",
       "1  2016-01-01 01:00:00  -8.400767  -22.943941    7.185789\n",
       "2  2016-01-01 02:00:00  -8.232687  -23.286682    6.469490\n",
       "3  2016-01-01 07:00:00 -10.957064  -25.543711    3.923336\n",
       "4  2016-01-01 08:00:00  -7.421447  -22.165597    6.779205\n",
       "5  2016-01-01 09:00:00   2.543886  -11.480281   16.963698\n",
       "6  2016-01-01 10:00:00  15.586387    0.279331   30.510158\n",
       "7  2016-01-01 11:00:00  26.289386   11.016589   39.824219\n",
       "8  2016-01-01 12:00:00  31.110651   16.516460   46.036759\n",
       "9  2016-01-01 13:00:00  30.612656   15.719975   43.904334\n",
       "10 2016-01-01 14:00:00  28.214502   13.180890   42.831919\n",
       "11 2016-01-01 15:00:00  26.851148   13.052723   42.431875\n",
       "12 2016-01-01 16:00:00  26.661213   12.919890   41.731334\n",
       "13 2016-01-01 17:00:00  25.595885   11.085386   40.177418\n",
       "14 2016-01-01 18:00:00  21.970265    7.417873   37.002927\n",
       "15 2016-01-01 19:00:00  16.282148    0.564649   30.169573\n",
       "16 2016-01-01 20:00:00  10.634958   -3.701890   24.751948\n",
       "17 2016-01-01 21:00:00   6.637156   -7.910776   21.521743\n",
       "18 2016-01-01 22:00:00   4.095422  -10.119668   18.602762\n",
       "19 2016-01-01 23:00:00   1.788051  -11.724161   16.259090\n",
       "20 2016-01-02 00:00:00   9.640115   -5.319734   23.548682\n",
       "21 2016-01-02 06:00:00   8.797970   -5.697804   23.367080\n",
       "22 2016-01-02 07:00:00   6.955784   -7.710630   21.473319\n",
       "23 2016-01-02 08:00:00  10.481323   -4.183537   24.990962"
      ]
     },
     "execution_count": 78,
     "metadata": {},
     "output_type": "execute_result"
    }
   ],
   "source": [
    "forecast[['ds', 'yhat', 'yhat_lower', 'yhat_upper']].head(24)"
   ]
  },
  {
   "cell_type": "code",
   "execution_count": 79,
   "metadata": {},
   "outputs": [
    {
     "data": {
      "image/png": "[encoded data removed]",
      "text/plain": [
       "<Figure size 720x432 with 1 Axes>"
      ]
     },
     "metadata": {},
     "output_type": "display_data"
    }
   ],
   "source": [
    "fig1 = m.plot(forecast)\n"
   ]
  },
  {
   "cell_type": "code",
   "execution_count": 80,
   "metadata": {},
   "outputs": [
    {
     "data": {
      "image/png": "[encoded data removed]",
      "text/plain": [
       "<Figure size 648x1080 with 5 Axes>"
      ]
     },
     "metadata": {},
     "output_type": "display_data"
    }
   ],
   "source": [
    "fig2 = m.plot_components(forecast)"
   ]
  },
  {
   "cell_type": "code",
   "execution_count": 81,
   "metadata": {
    "scrolled": false
   },
   "outputs": [],
   "source": [
    "# from fbprophet.plot import plot_plotly\n",
    "# import plotly.offline as py\n",
    "# py.init_notebook_mode()\n",
    "\n",
    "# fig = plot_plotly(m, forecast)  # This returns a plotly Figure\n",
    "# py.iplot(fig)\n"
   ]
  },
  {
   "cell_type": "code",
   "execution_count": 82,
   "metadata": {},
   "outputs": [
    {
     "name": "stderr",
     "output_type": "stream",
     "text": [
      "INFO:fbprophet:Making 12 forecasts with cutoffs between 2019-01-04 23:00:00 and 2019-11-30 23:00:00\n"
     ]
    },
    {
     "data": {
      "text/html": [
       "<div>\n",
       "<style scoped>\n",
       "    .dataframe tbody tr th:only-of-type {\n",
       "        vertical-align: middle;\n",
       "    }\n",
       "\n",
       "    .dataframe tbody tr th {\n",
       "        vertical-align: top;\n",
       "    }\n",
       "\n",
       "    .dataframe thead th {\n",
       "        text-align: right;\n",
       "    }\n",
       "</style>\n",
       "<table border=\"1\" class=\"dataframe\">\n",
       "  <thead>\n",
       "    <tr style=\"text-align: right;\">\n",
       "      <th></th>\n",
       "      <th>ds</th>\n",
       "      <th>yhat</th>\n",
       "      <th>yhat_lower</th>\n",
       "      <th>yhat_upper</th>\n",
       "      <th>y</th>\n",
       "      <th>cutoff</th>\n",
       "    </tr>\n",
       "  </thead>\n",
       "  <tbody>\n",
       "    <tr>\n",
       "      <th>0</th>\n",
       "      <td>2019-01-05 06:00:00</td>\n",
       "      <td>15.524389</td>\n",
       "      <td>2.014034</td>\n",
       "      <td>29.520704</td>\n",
       "      <td>0.0</td>\n",
       "      <td>2019-01-04 23:00:00</td>\n",
       "    </tr>\n",
       "    <tr>\n",
       "      <th>1</th>\n",
       "      <td>2019-01-05 07:00:00</td>\n",
       "      <td>13.825670</td>\n",
       "      <td>0.161566</td>\n",
       "      <td>29.491902</td>\n",
       "      <td>0.0</td>\n",
       "      <td>2019-01-04 23:00:00</td>\n",
       "    </tr>\n",
       "    <tr>\n",
       "      <th>2</th>\n",
       "      <td>2019-01-05 08:00:00</td>\n",
       "      <td>17.093477</td>\n",
       "      <td>1.055966</td>\n",
       "      <td>31.994570</td>\n",
       "      <td>5.0</td>\n",
       "      <td>2019-01-04 23:00:00</td>\n",
       "    </tr>\n",
       "    <tr>\n",
       "      <th>3</th>\n",
       "      <td>2019-01-05 09:00:00</td>\n",
       "      <td>26.592943</td>\n",
       "      <td>12.270567</td>\n",
       "      <td>40.223841</td>\n",
       "      <td>8.0</td>\n",
       "      <td>2019-01-04 23:00:00</td>\n",
       "    </tr>\n",
       "    <tr>\n",
       "      <th>4</th>\n",
       "      <td>2019-01-05 10:00:00</td>\n",
       "      <td>39.209492</td>\n",
       "      <td>25.258037</td>\n",
       "      <td>54.037609</td>\n",
       "      <td>35.0</td>\n",
       "      <td>2019-01-04 23:00:00</td>\n",
       "    </tr>\n",
       "  </tbody>\n",
       "</table>\n",
       "</div>"
      ],
      "text/plain": [
       "                   ds       yhat  yhat_lower  yhat_upper     y  \\\n",
       "0 2019-01-05 06:00:00  15.524389    2.014034   29.520704   0.0   \n",
       "1 2019-01-05 07:00:00  13.825670    0.161566   29.491902   0.0   \n",
       "2 2019-01-05 08:00:00  17.093477    1.055966   31.994570   5.0   \n",
       "3 2019-01-05 09:00:00  26.592943   12.270567   40.223841   8.0   \n",
       "4 2019-01-05 10:00:00  39.209492   25.258037   54.037609  35.0   \n",
       "\n",
       "               cutoff  \n",
       "0 2019-01-04 23:00:00  \n",
       "1 2019-01-04 23:00:00  \n",
       "2 2019-01-04 23:00:00  \n",
       "3 2019-01-04 23:00:00  \n",
       "4 2019-01-04 23:00:00  "
      ]
     },
     "execution_count": 82,
     "metadata": {},
     "output_type": "execute_result"
    }
   ],
   "source": [
    "from fbprophet.diagnostics import cross_validation\n",
    "df_cv = cross_validation(m, initial='1095 days', period='30 days', horizon = '30 days')\n",
    "df_cv.head()"
   ]
  },
  {
   "cell_type": "code",
   "execution_count": 83,
   "metadata": {},
   "outputs": [
    {
     "name": "stderr",
     "output_type": "stream",
     "text": [
      "INFO:fbprophet:Skipping MAPE because y close to 0\n"
     ]
    },
    {
     "data": {
      "text/html": [
       "<div>\n",
       "<style scoped>\n",
       "    .dataframe tbody tr th:only-of-type {\n",
       "        vertical-align: middle;\n",
       "    }\n",
       "\n",
       "    .dataframe tbody tr th {\n",
       "        vertical-align: top;\n",
       "    }\n",
       "\n",
       "    .dataframe thead th {\n",
       "        text-align: right;\n",
       "    }\n",
       "</style>\n",
       "<table border=\"1\" class=\"dataframe\">\n",
       "  <thead>\n",
       "    <tr style=\"text-align: right;\">\n",
       "      <th></th>\n",
       "      <th>horizon</th>\n",
       "      <th>mse</th>\n",
       "      <th>rmse</th>\n",
       "      <th>mae</th>\n",
       "      <th>mdape</th>\n",
       "      <th>coverage</th>\n",
       "    </tr>\n",
       "  </thead>\n",
       "  <tbody>\n",
       "    <tr>\n",
       "      <th>0</th>\n",
       "      <td>3 days 06:00:00</td>\n",
       "      <td>172.318029</td>\n",
       "      <td>13.126996</td>\n",
       "      <td>9.098368</td>\n",
       "      <td>0.398756</td>\n",
       "      <td>0.824000</td>\n",
       "    </tr>\n",
       "    <tr>\n",
       "      <th>1</th>\n",
       "      <td>3 days 07:00:00</td>\n",
       "      <td>172.344449</td>\n",
       "      <td>13.128002</td>\n",
       "      <td>9.103254</td>\n",
       "      <td>0.398756</td>\n",
       "      <td>0.824000</td>\n",
       "    </tr>\n",
       "    <tr>\n",
       "      <th>2</th>\n",
       "      <td>3 days 08:00:00</td>\n",
       "      <td>172.176739</td>\n",
       "      <td>13.121613</td>\n",
       "      <td>9.090065</td>\n",
       "      <td>0.403123</td>\n",
       "      <td>0.824960</td>\n",
       "    </tr>\n",
       "    <tr>\n",
       "      <th>3</th>\n",
       "      <td>3 days 09:00:00</td>\n",
       "      <td>171.795417</td>\n",
       "      <td>13.107075</td>\n",
       "      <td>9.059798</td>\n",
       "      <td>0.399910</td>\n",
       "      <td>0.827055</td>\n",
       "    </tr>\n",
       "    <tr>\n",
       "      <th>4</th>\n",
       "      <td>3 days 10:00:00</td>\n",
       "      <td>172.686625</td>\n",
       "      <td>13.141028</td>\n",
       "      <td>9.093040</td>\n",
       "      <td>0.393467</td>\n",
       "      <td>0.825600</td>\n",
       "    </tr>\n",
       "  </tbody>\n",
       "</table>\n",
       "</div>"
      ],
      "text/plain": [
       "          horizon         mse       rmse       mae     mdape  coverage\n",
       "0 3 days 06:00:00  172.318029  13.126996  9.098368  0.398756  0.824000\n",
       "1 3 days 07:00:00  172.344449  13.128002  9.103254  0.398756  0.824000\n",
       "2 3 days 08:00:00  172.176739  13.121613  9.090065  0.403123  0.824960\n",
       "3 3 days 09:00:00  171.795417  13.107075  9.059798  0.399910  0.827055\n",
       "4 3 days 10:00:00  172.686625  13.141028  9.093040  0.393467  0.825600"
      ]
     },
     "execution_count": 83,
     "metadata": {},
     "output_type": "execute_result"
    }
   ],
   "source": [
    "from fbprophet.diagnostics import performance_metrics\n",
    "df_p = performance_metrics(df_cv)\n",
    "df_p.head()"
   ]
  },
  {
   "cell_type": "code",
   "execution_count": 87,
   "metadata": {},
   "outputs": [
    {
     "data": {
      "text/html": [
       "<div>\n",
       "<style scoped>\n",
       "    .dataframe tbody tr th:only-of-type {\n",
       "        vertical-align: middle;\n",
       "    }\n",
       "\n",
       "    .dataframe tbody tr th {\n",
       "        vertical-align: top;\n",
       "    }\n",
       "\n",
       "    .dataframe thead th {\n",
       "        text-align: right;\n",
       "    }\n",
       "</style>\n",
       "<table border=\"1\" class=\"dataframe\">\n",
       "  <thead>\n",
       "    <tr style=\"text-align: right;\">\n",
       "      <th></th>\n",
       "      <th>horizon</th>\n",
       "      <th>mse</th>\n",
       "      <th>rmse</th>\n",
       "      <th>mae</th>\n",
       "      <th>mdape</th>\n",
       "      <th>coverage</th>\n",
       "    </tr>\n",
       "  </thead>\n",
       "  <tbody>\n",
       "    <tr>\n",
       "      <th>count</th>\n",
       "      <td>563</td>\n",
       "      <td>563.000000</td>\n",
       "      <td>563.000000</td>\n",
       "      <td>563.000000</td>\n",
       "      <td>563.000000</td>\n",
       "      <td>563.000000</td>\n",
       "    </tr>\n",
       "    <tr>\n",
       "      <th>mean</th>\n",
       "      <td>16 days 15:14:36.021314</td>\n",
       "      <td>125.983140</td>\n",
       "      <td>11.169365</td>\n",
       "      <td>8.385000</td>\n",
       "      <td>0.354898</td>\n",
       "      <td>0.825186</td>\n",
       "    </tr>\n",
       "    <tr>\n",
       "      <th>std</th>\n",
       "      <td>7 days 17:39:04.368512</td>\n",
       "      <td>25.238215</td>\n",
       "      <td>1.109324</td>\n",
       "      <td>0.643435</td>\n",
       "      <td>0.031252</td>\n",
       "      <td>0.023119</td>\n",
       "    </tr>\n",
       "    <tr>\n",
       "      <th>min</th>\n",
       "      <td>3 days 06:00:00</td>\n",
       "      <td>80.069737</td>\n",
       "      <td>8.948169</td>\n",
       "      <td>6.919710</td>\n",
       "      <td>0.298293</td>\n",
       "      <td>0.782400</td>\n",
       "    </tr>\n",
       "    <tr>\n",
       "      <th>25%</th>\n",
       "      <td>9 days 22:30:00</td>\n",
       "      <td>111.217344</td>\n",
       "      <td>10.545963</td>\n",
       "      <td>8.097889</td>\n",
       "      <td>0.333332</td>\n",
       "      <td>0.808000</td>\n",
       "    </tr>\n",
       "    <tr>\n",
       "      <th>50%</th>\n",
       "      <td>16 days 16:00:00</td>\n",
       "      <td>121.937903</td>\n",
       "      <td>11.042550</td>\n",
       "      <td>8.366620</td>\n",
       "      <td>0.346333</td>\n",
       "      <td>0.824800</td>\n",
       "    </tr>\n",
       "    <tr>\n",
       "      <th>75%</th>\n",
       "      <td>23 days 08:30:00</td>\n",
       "      <td>140.280742</td>\n",
       "      <td>11.844017</td>\n",
       "      <td>8.855407</td>\n",
       "      <td>0.383740</td>\n",
       "      <td>0.838400</td>\n",
       "    </tr>\n",
       "    <tr>\n",
       "      <th>max</th>\n",
       "      <td>30 days 00:00:00</td>\n",
       "      <td>196.814021</td>\n",
       "      <td>14.029042</td>\n",
       "      <td>9.699742</td>\n",
       "      <td>0.434321</td>\n",
       "      <td>0.876800</td>\n",
       "    </tr>\n",
       "  </tbody>\n",
       "</table>\n",
       "</div>"
      ],
      "text/plain": [
       "                       horizon         mse        rmse         mae  \\\n",
       "count                      563  563.000000  563.000000  563.000000   \n",
       "mean   16 days 15:14:36.021314  125.983140   11.169365    8.385000   \n",
       "std     7 days 17:39:04.368512   25.238215    1.109324    0.643435   \n",
       "min            3 days 06:00:00   80.069737    8.948169    6.919710   \n",
       "25%            9 days 22:30:00  111.217344   10.545963    8.097889   \n",
       "50%           16 days 16:00:00  121.937903   11.042550    8.366620   \n",
       "75%           23 days 08:30:00  140.280742   11.844017    8.855407   \n",
       "max           30 days 00:00:00  196.814021   14.029042    9.699742   \n",
       "\n",
       "            mdape    coverage  \n",
       "count  563.000000  563.000000  \n",
       "mean     0.354898    0.825186  \n",
       "std      0.031252    0.023119  \n",
       "min      0.298293    0.782400  \n",
       "25%      0.333332    0.808000  \n",
       "50%      0.346333    0.824800  \n",
       "75%      0.383740    0.838400  \n",
       "max      0.434321    0.876800  "
      ]
     },
     "execution_count": 87,
     "metadata": {},
     "output_type": "execute_result"
    }
   ],
   "source": [
    "df_p.describe()"
   ]
  },
  {
   "cell_type": "code",
   "execution_count": null,
   "metadata": {},
   "outputs": [],
   "source": []
  },
  {
   "cell_type": "code",
   "execution_count": null,
   "metadata": {},
   "outputs": [],
   "source": []
  },
  {
   "cell_type": "code",
   "execution_count": null,
   "metadata": {},
   "outputs": [],
   "source": []
  },
  {
   "cell_type": "code",
   "execution_count": null,
   "metadata": {},
   "outputs": [],
   "source": []
  },
  {
   "cell_type": "code",
   "execution_count": null,
   "metadata": {},
   "outputs": [],
   "source": []
  },
  {
   "cell_type": "code",
   "execution_count": null,
   "metadata": {},
   "outputs": [],
   "source": []
  },
  {
   "cell_type": "code",
   "execution_count": null,
   "metadata": {},
   "outputs": [],
   "source": []
  },
  {
   "cell_type": "code",
   "execution_count": null,
   "metadata": {},
   "outputs": [],
   "source": []
  },
  {
   "cell_type": "code",
   "execution_count": 184,
   "metadata": {
    "scrolled": false
   },
   "outputs": [
    {
     "data": {
      "text/html": [
       "<div>\n",
       "<style scoped>\n",
       "    .dataframe tbody tr th:only-of-type {\n",
       "        vertical-align: middle;\n",
       "    }\n",
       "\n",
       "    .dataframe tbody tr th {\n",
       "        vertical-align: top;\n",
       "    }\n",
       "\n",
       "    .dataframe thead th {\n",
       "        text-align: right;\n",
       "    }\n",
       "</style>\n",
       "<table border=\"1\" class=\"dataframe\">\n",
       "  <thead>\n",
       "    <tr style=\"text-align: right;\">\n",
       "      <th></th>\n",
       "      <th>trend</th>\n",
       "      <th>yhat_lower</th>\n",
       "      <th>yhat_upper</th>\n",
       "      <th>trend_lower</th>\n",
       "      <th>trend_upper</th>\n",
       "      <th>Christmas Day</th>\n",
       "      <th>Christmas Day_lower</th>\n",
       "      <th>Christmas Day_upper</th>\n",
       "      <th>Christmas Day (Observed)</th>\n",
       "      <th>Christmas Day (Observed)_lower</th>\n",
       "      <th>...</th>\n",
       "      <th>weekly</th>\n",
       "      <th>weekly_lower</th>\n",
       "      <th>weekly_upper</th>\n",
       "      <th>yearly</th>\n",
       "      <th>yearly_lower</th>\n",
       "      <th>yearly_upper</th>\n",
       "      <th>multiplicative_terms</th>\n",
       "      <th>multiplicative_terms_lower</th>\n",
       "      <th>multiplicative_terms_upper</th>\n",
       "      <th>yhat</th>\n",
       "    </tr>\n",
       "    <tr>\n",
       "      <th>ds</th>\n",
       "      <th></th>\n",
       "      <th></th>\n",
       "      <th></th>\n",
       "      <th></th>\n",
       "      <th></th>\n",
       "      <th></th>\n",
       "      <th></th>\n",
       "      <th></th>\n",
       "      <th></th>\n",
       "      <th></th>\n",
       "      <th></th>\n",
       "      <th></th>\n",
       "      <th></th>\n",
       "      <th></th>\n",
       "      <th></th>\n",
       "      <th></th>\n",
       "      <th></th>\n",
       "      <th></th>\n",
       "      <th></th>\n",
       "      <th></th>\n",
       "      <th></th>\n",
       "    </tr>\n",
       "  </thead>\n",
       "  <tbody>\n",
       "    <tr>\n",
       "      <th>2016-01-01 00:00:00</th>\n",
       "      <td>11.192538</td>\n",
       "      <td>-20.796207</td>\n",
       "      <td>7.371214</td>\n",
       "      <td>11.192538</td>\n",
       "      <td>11.192538</td>\n",
       "      <td>0.0</td>\n",
       "      <td>0.0</td>\n",
       "      <td>0.0</td>\n",
       "      <td>0.0</td>\n",
       "      <td>0.0</td>\n",
       "      <td>...</td>\n",
       "      <td>-4.196601</td>\n",
       "      <td>-4.196601</td>\n",
       "      <td>-4.196601</td>\n",
       "      <td>10.476105</td>\n",
       "      <td>10.476105</td>\n",
       "      <td>10.476105</td>\n",
       "      <td>0.0</td>\n",
       "      <td>0.0</td>\n",
       "      <td>0.0</td>\n",
       "      <td>-6.314926</td>\n",
       "    </tr>\n",
       "    <tr>\n",
       "      <th>2016-01-01 01:00:00</th>\n",
       "      <td>11.193033</td>\n",
       "      <td>-23.300055</td>\n",
       "      <td>6.413323</td>\n",
       "      <td>11.193033</td>\n",
       "      <td>11.193033</td>\n",
       "      <td>0.0</td>\n",
       "      <td>0.0</td>\n",
       "      <td>0.0</td>\n",
       "      <td>0.0</td>\n",
       "      <td>0.0</td>\n",
       "      <td>...</td>\n",
       "      <td>-4.322864</td>\n",
       "      <td>-4.322864</td>\n",
       "      <td>-4.322864</td>\n",
       "      <td>10.476796</td>\n",
       "      <td>10.476796</td>\n",
       "      <td>10.476796</td>\n",
       "      <td>0.0</td>\n",
       "      <td>0.0</td>\n",
       "      <td>0.0</td>\n",
       "      <td>-8.400767</td>\n",
       "    </tr>\n",
       "    <tr>\n",
       "      <th>2016-01-01 02:00:00</th>\n",
       "      <td>11.193528</td>\n",
       "      <td>-22.307778</td>\n",
       "      <td>6.556442</td>\n",
       "      <td>11.193528</td>\n",
       "      <td>11.193528</td>\n",
       "      <td>0.0</td>\n",
       "      <td>0.0</td>\n",
       "      <td>0.0</td>\n",
       "      <td>0.0</td>\n",
       "      <td>0.0</td>\n",
       "      <td>...</td>\n",
       "      <td>-4.411707</td>\n",
       "      <td>-4.411707</td>\n",
       "      <td>-4.411707</td>\n",
       "      <td>10.477244</td>\n",
       "      <td>10.477244</td>\n",
       "      <td>10.477244</td>\n",
       "      <td>0.0</td>\n",
       "      <td>0.0</td>\n",
       "      <td>0.0</td>\n",
       "      <td>-8.232687</td>\n",
       "    </tr>\n",
       "    <tr>\n",
       "      <th>2016-01-01 07:00:00</th>\n",
       "      <td>11.196003</td>\n",
       "      <td>-24.853422</td>\n",
       "      <td>3.235137</td>\n",
       "      <td>11.196003</td>\n",
       "      <td>11.196003</td>\n",
       "      <td>0.0</td>\n",
       "      <td>0.0</td>\n",
       "      <td>0.0</td>\n",
       "      <td>0.0</td>\n",
       "      <td>0.0</td>\n",
       "      <td>...</td>\n",
       "      <td>-4.261977</td>\n",
       "      <td>-4.261977</td>\n",
       "      <td>-4.261977</td>\n",
       "      <td>10.475861</td>\n",
       "      <td>10.475861</td>\n",
       "      <td>10.475861</td>\n",
       "      <td>0.0</td>\n",
       "      <td>0.0</td>\n",
       "      <td>0.0</td>\n",
       "      <td>-10.957064</td>\n",
       "    </tr>\n",
       "    <tr>\n",
       "      <th>2016-01-01 08:00:00</th>\n",
       "      <td>11.196498</td>\n",
       "      <td>-21.980899</td>\n",
       "      <td>7.942320</td>\n",
       "      <td>11.196498</td>\n",
       "      <td>11.196498</td>\n",
       "      <td>0.0</td>\n",
       "      <td>0.0</td>\n",
       "      <td>0.0</td>\n",
       "      <td>0.0</td>\n",
       "      <td>0.0</td>\n",
       "      <td>...</td>\n",
       "      <td>-4.112970</td>\n",
       "      <td>-4.112970</td>\n",
       "      <td>-4.112970</td>\n",
       "      <td>10.474858</td>\n",
       "      <td>10.474858</td>\n",
       "      <td>10.474858</td>\n",
       "      <td>0.0</td>\n",
       "      <td>0.0</td>\n",
       "      <td>0.0</td>\n",
       "      <td>-7.421447</td>\n",
       "    </tr>\n",
       "    <tr>\n",
       "      <th>...</th>\n",
       "      <td>...</td>\n",
       "      <td>...</td>\n",
       "      <td>...</td>\n",
       "      <td>...</td>\n",
       "      <td>...</td>\n",
       "      <td>...</td>\n",
       "      <td>...</td>\n",
       "      <td>...</td>\n",
       "      <td>...</td>\n",
       "      <td>...</td>\n",
       "      <td>...</td>\n",
       "      <td>...</td>\n",
       "      <td>...</td>\n",
       "      <td>...</td>\n",
       "      <td>...</td>\n",
       "      <td>...</td>\n",
       "      <td>...</td>\n",
       "      <td>...</td>\n",
       "      <td>...</td>\n",
       "      <td>...</td>\n",
       "      <td>...</td>\n",
       "    </tr>\n",
       "    <tr>\n",
       "      <th>2020-01-30 19:00:00</th>\n",
       "      <td>18.670394</td>\n",
       "      <td>2.332356</td>\n",
       "      <td>32.348956</td>\n",
       "      <td>18.476599</td>\n",
       "      <td>18.843765</td>\n",
       "      <td>0.0</td>\n",
       "      <td>0.0</td>\n",
       "      <td>0.0</td>\n",
       "      <td>0.0</td>\n",
       "      <td>0.0</td>\n",
       "      <td>...</td>\n",
       "      <td>-3.079758</td>\n",
       "      <td>-3.079758</td>\n",
       "      <td>-3.079758</td>\n",
       "      <td>-3.690538</td>\n",
       "      <td>-3.690538</td>\n",
       "      <td>-3.690538</td>\n",
       "      <td>0.0</td>\n",
       "      <td>0.0</td>\n",
       "      <td>0.0</td>\n",
       "      <td>17.432128</td>\n",
       "    </tr>\n",
       "    <tr>\n",
       "      <th>2020-01-30 20:00:00</th>\n",
       "      <td>18.670541</td>\n",
       "      <td>-3.650661</td>\n",
       "      <td>26.042186</td>\n",
       "      <td>18.476327</td>\n",
       "      <td>18.844326</td>\n",
       "      <td>0.0</td>\n",
       "      <td>0.0</td>\n",
       "      <td>0.0</td>\n",
       "      <td>0.0</td>\n",
       "      <td>0.0</td>\n",
       "      <td>...</td>\n",
       "      <td>-3.358862</td>\n",
       "      <td>-3.358862</td>\n",
       "      <td>-3.358862</td>\n",
       "      <td>-3.662657</td>\n",
       "      <td>-3.662657</td>\n",
       "      <td>-3.662657</td>\n",
       "      <td>0.0</td>\n",
       "      <td>0.0</td>\n",
       "      <td>0.0</td>\n",
       "      <td>11.125031</td>\n",
       "    </tr>\n",
       "    <tr>\n",
       "      <th>2020-01-30 21:00:00</th>\n",
       "      <td>18.670687</td>\n",
       "      <td>-7.689442</td>\n",
       "      <td>19.983823</td>\n",
       "      <td>18.476055</td>\n",
       "      <td>18.844888</td>\n",
       "      <td>0.0</td>\n",
       "      <td>0.0</td>\n",
       "      <td>0.0</td>\n",
       "      <td>0.0</td>\n",
       "      <td>0.0</td>\n",
       "      <td>...</td>\n",
       "      <td>-3.613125</td>\n",
       "      <td>-3.613125</td>\n",
       "      <td>-3.613125</td>\n",
       "      <td>-3.634653</td>\n",
       "      <td>-3.634653</td>\n",
       "      <td>-3.634653</td>\n",
       "      <td>0.0</td>\n",
       "      <td>0.0</td>\n",
       "      <td>0.0</td>\n",
       "      <td>6.495234</td>\n",
       "    </tr>\n",
       "    <tr>\n",
       "      <th>2020-01-30 22:00:00</th>\n",
       "      <td>18.670834</td>\n",
       "      <td>-11.438697</td>\n",
       "      <td>17.634359</td>\n",
       "      <td>18.475782</td>\n",
       "      <td>18.845449</td>\n",
       "      <td>0.0</td>\n",
       "      <td>0.0</td>\n",
       "      <td>0.0</td>\n",
       "      <td>0.0</td>\n",
       "      <td>0.0</td>\n",
       "      <td>...</td>\n",
       "      <td>-3.839367</td>\n",
       "      <td>-3.839367</td>\n",
       "      <td>-3.839367</td>\n",
       "      <td>-3.606530</td>\n",
       "      <td>-3.606530</td>\n",
       "      <td>-3.606530</td>\n",
       "      <td>0.0</td>\n",
       "      <td>0.0</td>\n",
       "      <td>0.0</td>\n",
       "      <td>3.356799</td>\n",
       "    </tr>\n",
       "    <tr>\n",
       "      <th>2020-01-30 23:00:00</th>\n",
       "      <td>18.670981</td>\n",
       "      <td>-13.298458</td>\n",
       "      <td>14.937020</td>\n",
       "      <td>18.475361</td>\n",
       "      <td>18.846010</td>\n",
       "      <td>0.0</td>\n",
       "      <td>0.0</td>\n",
       "      <td>0.0</td>\n",
       "      <td>0.0</td>\n",
       "      <td>0.0</td>\n",
       "      <td>...</td>\n",
       "      <td>-4.034709</td>\n",
       "      <td>-4.034709</td>\n",
       "      <td>-4.034709</td>\n",
       "      <td>-3.578287</td>\n",
       "      <td>-3.578287</td>\n",
       "      <td>-3.578287</td>\n",
       "      <td>0.0</td>\n",
       "      <td>0.0</td>\n",
       "      <td>0.0</td>\n",
       "      <td>0.495008</td>\n",
       "    </tr>\n",
       "  </tbody>\n",
       "</table>\n",
       "<p>25609 rows × 63 columns</p>\n",
       "</div>"
      ],
      "text/plain": [
       "                         trend  yhat_lower  yhat_upper  trend_lower  \\\n",
       "ds                                                                    \n",
       "2016-01-01 00:00:00  11.192538  -20.796207    7.371214    11.192538   \n",
       "2016-01-01 01:00:00  11.193033  -23.300055    6.413323    11.193033   \n",
       "2016-01-01 02:00:00  11.193528  -22.307778    6.556442    11.193528   \n",
       "2016-01-01 07:00:00  11.196003  -24.853422    3.235137    11.196003   \n",
       "2016-01-01 08:00:00  11.196498  -21.980899    7.942320    11.196498   \n",
       "...                        ...         ...         ...          ...   \n",
       "2020-01-30 19:00:00  18.670394    2.332356   32.348956    18.476599   \n",
       "2020-01-30 20:00:00  18.670541   -3.650661   26.042186    18.476327   \n",
       "2020-01-30 21:00:00  18.670687   -7.689442   19.983823    18.476055   \n",
       "2020-01-30 22:00:00  18.670834  -11.438697   17.634359    18.475782   \n",
       "2020-01-30 23:00:00  18.670981  -13.298458   14.937020    18.475361   \n",
       "\n",
       "                     trend_upper  Christmas Day  Christmas Day_lower  \\\n",
       "ds                                                                     \n",
       "2016-01-01 00:00:00    11.192538            0.0                  0.0   \n",
       "2016-01-01 01:00:00    11.193033            0.0                  0.0   \n",
       "2016-01-01 02:00:00    11.193528            0.0                  0.0   \n",
       "2016-01-01 07:00:00    11.196003            0.0                  0.0   \n",
       "2016-01-01 08:00:00    11.196498            0.0                  0.0   \n",
       "...                          ...            ...                  ...   \n",
       "2020-01-30 19:00:00    18.843765            0.0                  0.0   \n",
       "2020-01-30 20:00:00    18.844326            0.0                  0.0   \n",
       "2020-01-30 21:00:00    18.844888            0.0                  0.0   \n",
       "2020-01-30 22:00:00    18.845449            0.0                  0.0   \n",
       "2020-01-30 23:00:00    18.846010            0.0                  0.0   \n",
       "\n",
       "                     Christmas Day_upper  Christmas Day (Observed)  \\\n",
       "ds                                                                   \n",
       "2016-01-01 00:00:00                  0.0                       0.0   \n",
       "2016-01-01 01:00:00                  0.0                       0.0   \n",
       "2016-01-01 02:00:00                  0.0                       0.0   \n",
       "2016-01-01 07:00:00                  0.0                       0.0   \n",
       "2016-01-01 08:00:00                  0.0                       0.0   \n",
       "...                                  ...                       ...   \n",
       "2020-01-30 19:00:00                  0.0                       0.0   \n",
       "2020-01-30 20:00:00                  0.0                       0.0   \n",
       "2020-01-30 21:00:00                  0.0                       0.0   \n",
       "2020-01-30 22:00:00                  0.0                       0.0   \n",
       "2020-01-30 23:00:00                  0.0                       0.0   \n",
       "\n",
       "                     Christmas Day (Observed)_lower  ...    weekly  \\\n",
       "ds                                                   ...             \n",
       "2016-01-01 00:00:00                             0.0  ... -4.196601   \n",
       "2016-01-01 01:00:00                             0.0  ... -4.322864   \n",
       "2016-01-01 02:00:00                             0.0  ... -4.411707   \n",
       "2016-01-01 07:00:00                             0.0  ... -4.261977   \n",
       "2016-01-01 08:00:00                             0.0  ... -4.112970   \n",
       "...                                             ...  ...       ...   \n",
       "2020-01-30 19:00:00                             0.0  ... -3.079758   \n",
       "2020-01-30 20:00:00                             0.0  ... -3.358862   \n",
       "2020-01-30 21:00:00                             0.0  ... -3.613125   \n",
       "2020-01-30 22:00:00                             0.0  ... -3.839367   \n",
       "2020-01-30 23:00:00                             0.0  ... -4.034709   \n",
       "\n",
       "                     weekly_lower  weekly_upper     yearly  yearly_lower  \\\n",
       "ds                                                                         \n",
       "2016-01-01 00:00:00     -4.196601     -4.196601  10.476105     10.476105   \n",
       "2016-01-01 01:00:00     -4.322864     -4.322864  10.476796     10.476796   \n",
       "2016-01-01 02:00:00     -4.411707     -4.411707  10.477244     10.477244   \n",
       "2016-01-01 07:00:00     -4.261977     -4.261977  10.475861     10.475861   \n",
       "2016-01-01 08:00:00     -4.112970     -4.112970  10.474858     10.474858   \n",
       "...                           ...           ...        ...           ...   \n",
       "2020-01-30 19:00:00     -3.079758     -3.079758  -3.690538     -3.690538   \n",
       "2020-01-30 20:00:00     -3.358862     -3.358862  -3.662657     -3.662657   \n",
       "2020-01-30 21:00:00     -3.613125     -3.613125  -3.634653     -3.634653   \n",
       "2020-01-30 22:00:00     -3.839367     -3.839367  -3.606530     -3.606530   \n",
       "2020-01-30 23:00:00     -4.034709     -4.034709  -3.578287     -3.578287   \n",
       "\n",
       "                     yearly_upper  multiplicative_terms  \\\n",
       "ds                                                        \n",
       "2016-01-01 00:00:00     10.476105                   0.0   \n",
       "2016-01-01 01:00:00     10.476796                   0.0   \n",
       "2016-01-01 02:00:00     10.477244                   0.0   \n",
       "2016-01-01 07:00:00     10.475861                   0.0   \n",
       "2016-01-01 08:00:00     10.474858                   0.0   \n",
       "...                           ...                   ...   \n",
       "2020-01-30 19:00:00     -3.690538                   0.0   \n",
       "2020-01-30 20:00:00     -3.662657                   0.0   \n",
       "2020-01-30 21:00:00     -3.634653                   0.0   \n",
       "2020-01-30 22:00:00     -3.606530                   0.0   \n",
       "2020-01-30 23:00:00     -3.578287                   0.0   \n",
       "\n",
       "                     multiplicative_terms_lower  multiplicative_terms_upper  \\\n",
       "ds                                                                            \n",
       "2016-01-01 00:00:00                         0.0                         0.0   \n",
       "2016-01-01 01:00:00                         0.0                         0.0   \n",
       "2016-01-01 02:00:00                         0.0                         0.0   \n",
       "2016-01-01 07:00:00                         0.0                         0.0   \n",
       "2016-01-01 08:00:00                         0.0                         0.0   \n",
       "...                                         ...                         ...   \n",
       "2020-01-30 19:00:00                         0.0                         0.0   \n",
       "2020-01-30 20:00:00                         0.0                         0.0   \n",
       "2020-01-30 21:00:00                         0.0                         0.0   \n",
       "2020-01-30 22:00:00                         0.0                         0.0   \n",
       "2020-01-30 23:00:00                         0.0                         0.0   \n",
       "\n",
       "                          yhat  \n",
       "ds                              \n",
       "2016-01-01 00:00:00  -6.314926  \n",
       "2016-01-01 01:00:00  -8.400767  \n",
       "2016-01-01 02:00:00  -8.232687  \n",
       "2016-01-01 07:00:00 -10.957064  \n",
       "2016-01-01 08:00:00  -7.421447  \n",
       "...                        ...  \n",
       "2020-01-30 19:00:00  17.432128  \n",
       "2020-01-30 20:00:00  11.125031  \n",
       "2020-01-30 21:00:00   6.495234  \n",
       "2020-01-30 22:00:00   3.356799  \n",
       "2020-01-30 23:00:00   0.495008  \n",
       "\n",
       "[25609 rows x 63 columns]"
      ]
     },
     "execution_count": 184,
     "metadata": {},
     "output_type": "execute_result"
    }
   ],
   "source": [
    "# df.set_index('ds', inplace=True)\n",
    "forecast.set_index('ds', inplace=True)\n",
    "forecast"
   ]
  },
  {
   "cell_type": "code",
   "execution_count": 196,
   "metadata": {},
   "outputs": [
    {
     "data": {
      "text/html": [
       "<div>\n",
       "<style scoped>\n",
       "    .dataframe tbody tr th:only-of-type {\n",
       "        vertical-align: middle;\n",
       "    }\n",
       "\n",
       "    .dataframe tbody tr th {\n",
       "        vertical-align: top;\n",
       "    }\n",
       "\n",
       "    .dataframe thead th {\n",
       "        text-align: right;\n",
       "    }\n",
       "</style>\n",
       "<table border=\"1\" class=\"dataframe\">\n",
       "  <thead>\n",
       "    <tr style=\"text-align: right;\">\n",
       "      <th></th>\n",
       "      <th>y</th>\n",
       "      <th>yhat</th>\n",
       "      <th>yhat_lower</th>\n",
       "      <th>yhat_upper</th>\n",
       "    </tr>\n",
       "    <tr>\n",
       "      <th>ds</th>\n",
       "      <th></th>\n",
       "      <th></th>\n",
       "      <th></th>\n",
       "      <th></th>\n",
       "    </tr>\n",
       "  </thead>\n",
       "  <tbody>\n",
       "    <tr>\n",
       "      <th>2016-01-01 00:00:00</th>\n",
       "      <td>5.0</td>\n",
       "      <td>-6.314926</td>\n",
       "      <td>-20.796207</td>\n",
       "      <td>7.371214</td>\n",
       "    </tr>\n",
       "    <tr>\n",
       "      <th>2016-01-01 01:00:00</th>\n",
       "      <td>5.0</td>\n",
       "      <td>-8.400767</td>\n",
       "      <td>-23.300055</td>\n",
       "      <td>6.413323</td>\n",
       "    </tr>\n",
       "    <tr>\n",
       "      <th>2016-01-01 02:00:00</th>\n",
       "      <td>0.0</td>\n",
       "      <td>-8.232687</td>\n",
       "      <td>-22.307778</td>\n",
       "      <td>6.556442</td>\n",
       "    </tr>\n",
       "    <tr>\n",
       "      <th>2016-01-01 07:00:00</th>\n",
       "      <td>0.0</td>\n",
       "      <td>-10.957064</td>\n",
       "      <td>-24.853422</td>\n",
       "      <td>3.235137</td>\n",
       "    </tr>\n",
       "    <tr>\n",
       "      <th>2016-01-01 08:00:00</th>\n",
       "      <td>5.0</td>\n",
       "      <td>-7.421447</td>\n",
       "      <td>-21.980899</td>\n",
       "      <td>7.942320</td>\n",
       "    </tr>\n",
       "    <tr>\n",
       "      <th>...</th>\n",
       "      <td>...</td>\n",
       "      <td>...</td>\n",
       "      <td>...</td>\n",
       "      <td>...</td>\n",
       "    </tr>\n",
       "    <tr>\n",
       "      <th>2020-01-30 19:00:00</th>\n",
       "      <td>NaN</td>\n",
       "      <td>17.432128</td>\n",
       "      <td>2.332356</td>\n",
       "      <td>32.348956</td>\n",
       "    </tr>\n",
       "    <tr>\n",
       "      <th>2020-01-30 20:00:00</th>\n",
       "      <td>NaN</td>\n",
       "      <td>11.125031</td>\n",
       "      <td>-3.650661</td>\n",
       "      <td>26.042186</td>\n",
       "    </tr>\n",
       "    <tr>\n",
       "      <th>2020-01-30 21:00:00</th>\n",
       "      <td>NaN</td>\n",
       "      <td>6.495234</td>\n",
       "      <td>-7.689442</td>\n",
       "      <td>19.983823</td>\n",
       "    </tr>\n",
       "    <tr>\n",
       "      <th>2020-01-30 22:00:00</th>\n",
       "      <td>NaN</td>\n",
       "      <td>3.356799</td>\n",
       "      <td>-11.438697</td>\n",
       "      <td>17.634359</td>\n",
       "    </tr>\n",
       "    <tr>\n",
       "      <th>2020-01-30 23:00:00</th>\n",
       "      <td>NaN</td>\n",
       "      <td>0.495008</td>\n",
       "      <td>-13.298458</td>\n",
       "      <td>14.937020</td>\n",
       "    </tr>\n",
       "  </tbody>\n",
       "</table>\n",
       "<p>25609 rows × 4 columns</p>\n",
       "</div>"
      ],
      "text/plain": [
       "                       y       yhat  yhat_lower  yhat_upper\n",
       "ds                                                         \n",
       "2016-01-01 00:00:00  5.0  -6.314926  -20.796207    7.371214\n",
       "2016-01-01 01:00:00  5.0  -8.400767  -23.300055    6.413323\n",
       "2016-01-01 02:00:00  0.0  -8.232687  -22.307778    6.556442\n",
       "2016-01-01 07:00:00  0.0 -10.957064  -24.853422    3.235137\n",
       "2016-01-01 08:00:00  5.0  -7.421447  -21.980899    7.942320\n",
       "...                  ...        ...         ...         ...\n",
       "2020-01-30 19:00:00  NaN  17.432128    2.332356   32.348956\n",
       "2020-01-30 20:00:00  NaN  11.125031   -3.650661   26.042186\n",
       "2020-01-30 21:00:00  NaN   6.495234   -7.689442   19.983823\n",
       "2020-01-30 22:00:00  NaN   3.356799  -11.438697   17.634359\n",
       "2020-01-30 23:00:00  NaN   0.495008  -13.298458   14.937020\n",
       "\n",
       "[25609 rows x 4 columns]"
      ]
     },
     "execution_count": 196,
     "metadata": {},
     "output_type": "execute_result"
    }
   ],
   "source": [
    "viz_df = df1.join(forecast[['yhat', 'yhat_lower','yhat_upper']], how = 'outer') \n",
    "viz_df"
   ]
  },
  {
   "cell_type": "code",
   "execution_count": 197,
   "metadata": {},
   "outputs": [],
   "source": [
    "viz_df['yhat_rescaled'] = np.exp(viz_df['yhat'])"
   ]
  },
  {
   "cell_type": "code",
   "execution_count": 198,
   "metadata": {},
   "outputs": [
    {
     "data": {
      "text/html": [
       "<div>\n",
       "<style scoped>\n",
       "    .dataframe tbody tr th:only-of-type {\n",
       "        vertical-align: middle;\n",
       "    }\n",
       "\n",
       "    .dataframe tbody tr th {\n",
       "        vertical-align: top;\n",
       "    }\n",
       "\n",
       "    .dataframe thead th {\n",
       "        text-align: right;\n",
       "    }\n",
       "</style>\n",
       "<table border=\"1\" class=\"dataframe\">\n",
       "  <thead>\n",
       "    <tr style=\"text-align: right;\">\n",
       "      <th></th>\n",
       "      <th>y</th>\n",
       "      <th>yhat</th>\n",
       "      <th>yhat_lower</th>\n",
       "      <th>yhat_upper</th>\n",
       "      <th>yhat_rescaled</th>\n",
       "    </tr>\n",
       "    <tr>\n",
       "      <th>ds</th>\n",
       "      <th></th>\n",
       "      <th></th>\n",
       "      <th></th>\n",
       "      <th></th>\n",
       "      <th></th>\n",
       "    </tr>\n",
       "  </thead>\n",
       "  <tbody>\n",
       "    <tr>\n",
       "      <th>2016-01-01 00:00:00</th>\n",
       "      <td>5.0</td>\n",
       "      <td>-6.314926</td>\n",
       "      <td>-20.796207</td>\n",
       "      <td>7.371214</td>\n",
       "      <td>0.001809</td>\n",
       "    </tr>\n",
       "    <tr>\n",
       "      <th>2016-01-01 01:00:00</th>\n",
       "      <td>5.0</td>\n",
       "      <td>-8.400767</td>\n",
       "      <td>-23.300055</td>\n",
       "      <td>6.413323</td>\n",
       "      <td>0.000225</td>\n",
       "    </tr>\n",
       "    <tr>\n",
       "      <th>2016-01-01 02:00:00</th>\n",
       "      <td>0.0</td>\n",
       "      <td>-8.232687</td>\n",
       "      <td>-22.307778</td>\n",
       "      <td>6.556442</td>\n",
       "      <td>0.000266</td>\n",
       "    </tr>\n",
       "    <tr>\n",
       "      <th>2016-01-01 07:00:00</th>\n",
       "      <td>0.0</td>\n",
       "      <td>-10.957064</td>\n",
       "      <td>-24.853422</td>\n",
       "      <td>3.235137</td>\n",
       "      <td>0.000017</td>\n",
       "    </tr>\n",
       "    <tr>\n",
       "      <th>2016-01-01 08:00:00</th>\n",
       "      <td>5.0</td>\n",
       "      <td>-7.421447</td>\n",
       "      <td>-21.980899</td>\n",
       "      <td>7.942320</td>\n",
       "      <td>0.000598</td>\n",
       "    </tr>\n",
       "  </tbody>\n",
       "</table>\n",
       "</div>"
      ],
      "text/plain": [
       "                       y       yhat  yhat_lower  yhat_upper  yhat_rescaled\n",
       "ds                                                                        \n",
       "2016-01-01 00:00:00  5.0  -6.314926  -20.796207    7.371214       0.001809\n",
       "2016-01-01 01:00:00  5.0  -8.400767  -23.300055    6.413323       0.000225\n",
       "2016-01-01 02:00:00  0.0  -8.232687  -22.307778    6.556442       0.000266\n",
       "2016-01-01 07:00:00  0.0 -10.957064  -24.853422    3.235137       0.000017\n",
       "2016-01-01 08:00:00  5.0  -7.421447  -21.980899    7.942320       0.000598"
      ]
     },
     "execution_count": 198,
     "metadata": {},
     "output_type": "execute_result"
    }
   ],
   "source": [
    "viz_df.head()"
   ]
  },
  {
   "cell_type": "code",
   "execution_count": 200,
   "metadata": {},
   "outputs": [
    {
     "data": {
      "image/png": "[encoded data removed]",
      "text/plain": [
       "<Figure size 1080x720 with 1 Axes>"
      ]
     },
     "metadata": {
      "needs_background": "light"
     },
     "output_type": "display_data"
    }
   ],
   "source": [
    "viz_df[['y', 'yhat_rescaled']].plot(figsize=(15,10));"
   ]
  },
  {
   "cell_type": "code",
   "execution_count": 201,
   "metadata": {},
   "outputs": [],
   "source": [
    "df.index = pd.to_datetime(df.index) #make sure our index as a datetime object\n",
    "connect_date = df.index[-2] #select the 2nd to last date"
   ]
  },
  {
   "cell_type": "code",
   "execution_count": 202,
   "metadata": {},
   "outputs": [],
   "source": [
    "mask = (forecast.index > connect_date)\n",
    "predict_df = forecast.loc[mask]"
   ]
  },
  {
   "cell_type": "code",
   "execution_count": 203,
   "metadata": {},
   "outputs": [
    {
     "data": {
      "text/html": [
       "<div>\n",
       "<style scoped>\n",
       "    .dataframe tbody tr th:only-of-type {\n",
       "        vertical-align: middle;\n",
       "    }\n",
       "\n",
       "    .dataframe tbody tr th {\n",
       "        vertical-align: top;\n",
       "    }\n",
       "\n",
       "    .dataframe thead th {\n",
       "        text-align: right;\n",
       "    }\n",
       "</style>\n",
       "<table border=\"1\" class=\"dataframe\">\n",
       "  <thead>\n",
       "    <tr style=\"text-align: right;\">\n",
       "      <th></th>\n",
       "      <th>trend</th>\n",
       "      <th>yhat_lower</th>\n",
       "      <th>yhat_upper</th>\n",
       "      <th>trend_lower</th>\n",
       "      <th>trend_upper</th>\n",
       "      <th>Christmas Day</th>\n",
       "      <th>Christmas Day_lower</th>\n",
       "      <th>Christmas Day_upper</th>\n",
       "      <th>Christmas Day (Observed)</th>\n",
       "      <th>Christmas Day (Observed)_lower</th>\n",
       "      <th>...</th>\n",
       "      <th>weekly</th>\n",
       "      <th>weekly_lower</th>\n",
       "      <th>weekly_upper</th>\n",
       "      <th>yearly</th>\n",
       "      <th>yearly_lower</th>\n",
       "      <th>yearly_upper</th>\n",
       "      <th>multiplicative_terms</th>\n",
       "      <th>multiplicative_terms_lower</th>\n",
       "      <th>multiplicative_terms_upper</th>\n",
       "      <th>yhat</th>\n",
       "    </tr>\n",
       "    <tr>\n",
       "      <th>ds</th>\n",
       "      <th></th>\n",
       "      <th></th>\n",
       "      <th></th>\n",
       "      <th></th>\n",
       "      <th></th>\n",
       "      <th></th>\n",
       "      <th></th>\n",
       "      <th></th>\n",
       "      <th></th>\n",
       "      <th></th>\n",
       "      <th></th>\n",
       "      <th></th>\n",
       "      <th></th>\n",
       "      <th></th>\n",
       "      <th></th>\n",
       "      <th></th>\n",
       "      <th></th>\n",
       "      <th></th>\n",
       "      <th></th>\n",
       "      <th></th>\n",
       "      <th></th>\n",
       "    </tr>\n",
       "  </thead>\n",
       "  <tbody>\n",
       "    <tr>\n",
       "      <th>2016-01-01 00:00:00</th>\n",
       "      <td>11.192538</td>\n",
       "      <td>-20.796207</td>\n",
       "      <td>7.371214</td>\n",
       "      <td>11.192538</td>\n",
       "      <td>11.192538</td>\n",
       "      <td>0.0</td>\n",
       "      <td>0.0</td>\n",
       "      <td>0.0</td>\n",
       "      <td>0.0</td>\n",
       "      <td>0.0</td>\n",
       "      <td>...</td>\n",
       "      <td>-4.196601</td>\n",
       "      <td>-4.196601</td>\n",
       "      <td>-4.196601</td>\n",
       "      <td>10.476105</td>\n",
       "      <td>10.476105</td>\n",
       "      <td>10.476105</td>\n",
       "      <td>0.0</td>\n",
       "      <td>0.0</td>\n",
       "      <td>0.0</td>\n",
       "      <td>-6.314926</td>\n",
       "    </tr>\n",
       "    <tr>\n",
       "      <th>2016-01-01 01:00:00</th>\n",
       "      <td>11.193033</td>\n",
       "      <td>-23.300055</td>\n",
       "      <td>6.413323</td>\n",
       "      <td>11.193033</td>\n",
       "      <td>11.193033</td>\n",
       "      <td>0.0</td>\n",
       "      <td>0.0</td>\n",
       "      <td>0.0</td>\n",
       "      <td>0.0</td>\n",
       "      <td>0.0</td>\n",
       "      <td>...</td>\n",
       "      <td>-4.322864</td>\n",
       "      <td>-4.322864</td>\n",
       "      <td>-4.322864</td>\n",
       "      <td>10.476796</td>\n",
       "      <td>10.476796</td>\n",
       "      <td>10.476796</td>\n",
       "      <td>0.0</td>\n",
       "      <td>0.0</td>\n",
       "      <td>0.0</td>\n",
       "      <td>-8.400767</td>\n",
       "    </tr>\n",
       "    <tr>\n",
       "      <th>2016-01-01 02:00:00</th>\n",
       "      <td>11.193528</td>\n",
       "      <td>-22.307778</td>\n",
       "      <td>6.556442</td>\n",
       "      <td>11.193528</td>\n",
       "      <td>11.193528</td>\n",
       "      <td>0.0</td>\n",
       "      <td>0.0</td>\n",
       "      <td>0.0</td>\n",
       "      <td>0.0</td>\n",
       "      <td>0.0</td>\n",
       "      <td>...</td>\n",
       "      <td>-4.411707</td>\n",
       "      <td>-4.411707</td>\n",
       "      <td>-4.411707</td>\n",
       "      <td>10.477244</td>\n",
       "      <td>10.477244</td>\n",
       "      <td>10.477244</td>\n",
       "      <td>0.0</td>\n",
       "      <td>0.0</td>\n",
       "      <td>0.0</td>\n",
       "      <td>-8.232687</td>\n",
       "    </tr>\n",
       "    <tr>\n",
       "      <th>2016-01-01 07:00:00</th>\n",
       "      <td>11.196003</td>\n",
       "      <td>-24.853422</td>\n",
       "      <td>3.235137</td>\n",
       "      <td>11.196003</td>\n",
       "      <td>11.196003</td>\n",
       "      <td>0.0</td>\n",
       "      <td>0.0</td>\n",
       "      <td>0.0</td>\n",
       "      <td>0.0</td>\n",
       "      <td>0.0</td>\n",
       "      <td>...</td>\n",
       "      <td>-4.261977</td>\n",
       "      <td>-4.261977</td>\n",
       "      <td>-4.261977</td>\n",
       "      <td>10.475861</td>\n",
       "      <td>10.475861</td>\n",
       "      <td>10.475861</td>\n",
       "      <td>0.0</td>\n",
       "      <td>0.0</td>\n",
       "      <td>0.0</td>\n",
       "      <td>-10.957064</td>\n",
       "    </tr>\n",
       "    <tr>\n",
       "      <th>2016-01-01 08:00:00</th>\n",
       "      <td>11.196498</td>\n",
       "      <td>-21.980899</td>\n",
       "      <td>7.942320</td>\n",
       "      <td>11.196498</td>\n",
       "      <td>11.196498</td>\n",
       "      <td>0.0</td>\n",
       "      <td>0.0</td>\n",
       "      <td>0.0</td>\n",
       "      <td>0.0</td>\n",
       "      <td>0.0</td>\n",
       "      <td>...</td>\n",
       "      <td>-4.112970</td>\n",
       "      <td>-4.112970</td>\n",
       "      <td>-4.112970</td>\n",
       "      <td>10.474858</td>\n",
       "      <td>10.474858</td>\n",
       "      <td>10.474858</td>\n",
       "      <td>0.0</td>\n",
       "      <td>0.0</td>\n",
       "      <td>0.0</td>\n",
       "      <td>-7.421447</td>\n",
       "    </tr>\n",
       "  </tbody>\n",
       "</table>\n",
       "<p>5 rows × 63 columns</p>\n",
       "</div>"
      ],
      "text/plain": [
       "                         trend  yhat_lower  yhat_upper  trend_lower  \\\n",
       "ds                                                                    \n",
       "2016-01-01 00:00:00  11.192538  -20.796207    7.371214    11.192538   \n",
       "2016-01-01 01:00:00  11.193033  -23.300055    6.413323    11.193033   \n",
       "2016-01-01 02:00:00  11.193528  -22.307778    6.556442    11.193528   \n",
       "2016-01-01 07:00:00  11.196003  -24.853422    3.235137    11.196003   \n",
       "2016-01-01 08:00:00  11.196498  -21.980899    7.942320    11.196498   \n",
       "\n",
       "                     trend_upper  Christmas Day  Christmas Day_lower  \\\n",
       "ds                                                                     \n",
       "2016-01-01 00:00:00    11.192538            0.0                  0.0   \n",
       "2016-01-01 01:00:00    11.193033            0.0                  0.0   \n",
       "2016-01-01 02:00:00    11.193528            0.0                  0.0   \n",
       "2016-01-01 07:00:00    11.196003            0.0                  0.0   \n",
       "2016-01-01 08:00:00    11.196498            0.0                  0.0   \n",
       "\n",
       "                     Christmas Day_upper  Christmas Day (Observed)  \\\n",
       "ds                                                                   \n",
       "2016-01-01 00:00:00                  0.0                       0.0   \n",
       "2016-01-01 01:00:00                  0.0                       0.0   \n",
       "2016-01-01 02:00:00                  0.0                       0.0   \n",
       "2016-01-01 07:00:00                  0.0                       0.0   \n",
       "2016-01-01 08:00:00                  0.0                       0.0   \n",
       "\n",
       "                     Christmas Day (Observed)_lower  ...    weekly  \\\n",
       "ds                                                   ...             \n",
       "2016-01-01 00:00:00                             0.0  ... -4.196601   \n",
       "2016-01-01 01:00:00                             0.0  ... -4.322864   \n",
       "2016-01-01 02:00:00                             0.0  ... -4.411707   \n",
       "2016-01-01 07:00:00                             0.0  ... -4.261977   \n",
       "2016-01-01 08:00:00                             0.0  ... -4.112970   \n",
       "\n",
       "                     weekly_lower  weekly_upper     yearly  yearly_lower  \\\n",
       "ds                                                                         \n",
       "2016-01-01 00:00:00     -4.196601     -4.196601  10.476105     10.476105   \n",
       "2016-01-01 01:00:00     -4.322864     -4.322864  10.476796     10.476796   \n",
       "2016-01-01 02:00:00     -4.411707     -4.411707  10.477244     10.477244   \n",
       "2016-01-01 07:00:00     -4.261977     -4.261977  10.475861     10.475861   \n",
       "2016-01-01 08:00:00     -4.112970     -4.112970  10.474858     10.474858   \n",
       "\n",
       "                     yearly_upper  multiplicative_terms  \\\n",
       "ds                                                        \n",
       "2016-01-01 00:00:00     10.476105                   0.0   \n",
       "2016-01-01 01:00:00     10.476796                   0.0   \n",
       "2016-01-01 02:00:00     10.477244                   0.0   \n",
       "2016-01-01 07:00:00     10.475861                   0.0   \n",
       "2016-01-01 08:00:00     10.474858                   0.0   \n",
       "\n",
       "                     multiplicative_terms_lower  multiplicative_terms_upper  \\\n",
       "ds                                                                            \n",
       "2016-01-01 00:00:00                         0.0                         0.0   \n",
       "2016-01-01 01:00:00                         0.0                         0.0   \n",
       "2016-01-01 02:00:00                         0.0                         0.0   \n",
       "2016-01-01 07:00:00                         0.0                         0.0   \n",
       "2016-01-01 08:00:00                         0.0                         0.0   \n",
       "\n",
       "                          yhat  \n",
       "ds                              \n",
       "2016-01-01 00:00:00  -6.314926  \n",
       "2016-01-01 01:00:00  -8.400767  \n",
       "2016-01-01 02:00:00  -8.232687  \n",
       "2016-01-01 07:00:00 -10.957064  \n",
       "2016-01-01 08:00:00  -7.421447  \n",
       "\n",
       "[5 rows x 63 columns]"
      ]
     },
     "execution_count": 203,
     "metadata": {},
     "output_type": "execute_result"
    }
   ],
   "source": [
    "predict_df.head()"
   ]
  },
  {
   "cell_type": "code",
   "execution_count": 211,
   "metadata": {},
   "outputs": [],
   "source": [
    "viz_df = df1.join(predict_df[['yhat', 'yhat_lower','yhat_upper']], how = 'outer')\n",
    "viz_df['yhat_scaled']=np.exp(viz_df['yhat'])"
   ]
  },
  {
   "cell_type": "code",
   "execution_count": 212,
   "metadata": {},
   "outputs": [
    {
     "data": {
      "text/html": [
       "<div>\n",
       "<style scoped>\n",
       "    .dataframe tbody tr th:only-of-type {\n",
       "        vertical-align: middle;\n",
       "    }\n",
       "\n",
       "    .dataframe tbody tr th {\n",
       "        vertical-align: top;\n",
       "    }\n",
       "\n",
       "    .dataframe thead th {\n",
       "        text-align: right;\n",
       "    }\n",
       "</style>\n",
       "<table border=\"1\" class=\"dataframe\">\n",
       "  <thead>\n",
       "    <tr style=\"text-align: right;\">\n",
       "      <th></th>\n",
       "      <th>y</th>\n",
       "      <th>yhat</th>\n",
       "      <th>yhat_lower</th>\n",
       "      <th>yhat_upper</th>\n",
       "      <th>yhat_scaled</th>\n",
       "    </tr>\n",
       "    <tr>\n",
       "      <th>ds</th>\n",
       "      <th></th>\n",
       "      <th></th>\n",
       "      <th></th>\n",
       "      <th></th>\n",
       "      <th></th>\n",
       "    </tr>\n",
       "  </thead>\n",
       "  <tbody>\n",
       "    <tr>\n",
       "      <th>2016-01-01 00:00:00</th>\n",
       "      <td>5.0</td>\n",
       "      <td>-6.314926</td>\n",
       "      <td>-20.796207</td>\n",
       "      <td>7.371214</td>\n",
       "      <td>0.001809</td>\n",
       "    </tr>\n",
       "    <tr>\n",
       "      <th>2016-01-01 01:00:00</th>\n",
       "      <td>5.0</td>\n",
       "      <td>-8.400767</td>\n",
       "      <td>-23.300055</td>\n",
       "      <td>6.413323</td>\n",
       "      <td>0.000225</td>\n",
       "    </tr>\n",
       "    <tr>\n",
       "      <th>2016-01-01 02:00:00</th>\n",
       "      <td>0.0</td>\n",
       "      <td>-8.232687</td>\n",
       "      <td>-22.307778</td>\n",
       "      <td>6.556442</td>\n",
       "      <td>0.000266</td>\n",
       "    </tr>\n",
       "    <tr>\n",
       "      <th>2016-01-01 07:00:00</th>\n",
       "      <td>0.0</td>\n",
       "      <td>-10.957064</td>\n",
       "      <td>-24.853422</td>\n",
       "      <td>3.235137</td>\n",
       "      <td>0.000017</td>\n",
       "    </tr>\n",
       "    <tr>\n",
       "      <th>2016-01-01 08:00:00</th>\n",
       "      <td>5.0</td>\n",
       "      <td>-7.421447</td>\n",
       "      <td>-21.980899</td>\n",
       "      <td>7.942320</td>\n",
       "      <td>0.000598</td>\n",
       "    </tr>\n",
       "  </tbody>\n",
       "</table>\n",
       "</div>"
      ],
      "text/plain": [
       "                       y       yhat  yhat_lower  yhat_upper  yhat_scaled\n",
       "ds                                                                      \n",
       "2016-01-01 00:00:00  5.0  -6.314926  -20.796207    7.371214     0.001809\n",
       "2016-01-01 01:00:00  5.0  -8.400767  -23.300055    6.413323     0.000225\n",
       "2016-01-01 02:00:00  0.0  -8.232687  -22.307778    6.556442     0.000266\n",
       "2016-01-01 07:00:00  0.0 -10.957064  -24.853422    3.235137     0.000017\n",
       "2016-01-01 08:00:00  5.0  -7.421447  -21.980899    7.942320     0.000598"
      ]
     },
     "execution_count": 212,
     "metadata": {},
     "output_type": "execute_result"
    }
   ],
   "source": [
    "viz_df.head()"
   ]
  },
  {
   "cell_type": "code",
   "execution_count": 213,
   "metadata": {},
   "outputs": [
    {
     "data": {
      "text/html": [
       "<div>\n",
       "<style scoped>\n",
       "    .dataframe tbody tr th:only-of-type {\n",
       "        vertical-align: middle;\n",
       "    }\n",
       "\n",
       "    .dataframe tbody tr th {\n",
       "        vertical-align: top;\n",
       "    }\n",
       "\n",
       "    .dataframe thead th {\n",
       "        text-align: right;\n",
       "    }\n",
       "</style>\n",
       "<table border=\"1\" class=\"dataframe\">\n",
       "  <thead>\n",
       "    <tr style=\"text-align: right;\">\n",
       "      <th></th>\n",
       "      <th>y</th>\n",
       "      <th>yhat</th>\n",
       "      <th>yhat_lower</th>\n",
       "      <th>yhat_upper</th>\n",
       "      <th>yhat_scaled</th>\n",
       "    </tr>\n",
       "    <tr>\n",
       "      <th>ds</th>\n",
       "      <th></th>\n",
       "      <th></th>\n",
       "      <th></th>\n",
       "      <th></th>\n",
       "      <th></th>\n",
       "    </tr>\n",
       "  </thead>\n",
       "  <tbody>\n",
       "    <tr>\n",
       "      <th>2020-01-30 19:00:00</th>\n",
       "      <td>NaN</td>\n",
       "      <td>17.432128</td>\n",
       "      <td>2.332356</td>\n",
       "      <td>32.348956</td>\n",
       "      <td>3.721148e+07</td>\n",
       "    </tr>\n",
       "    <tr>\n",
       "      <th>2020-01-30 20:00:00</th>\n",
       "      <td>NaN</td>\n",
       "      <td>11.125031</td>\n",
       "      <td>-3.650661</td>\n",
       "      <td>26.042186</td>\n",
       "      <td>6.784839e+04</td>\n",
       "    </tr>\n",
       "    <tr>\n",
       "      <th>2020-01-30 21:00:00</th>\n",
       "      <td>NaN</td>\n",
       "      <td>6.495234</td>\n",
       "      <td>-7.689442</td>\n",
       "      <td>19.983823</td>\n",
       "      <td>6.619794e+02</td>\n",
       "    </tr>\n",
       "    <tr>\n",
       "      <th>2020-01-30 22:00:00</th>\n",
       "      <td>NaN</td>\n",
       "      <td>3.356799</td>\n",
       "      <td>-11.438697</td>\n",
       "      <td>17.634359</td>\n",
       "      <td>2.869720e+01</td>\n",
       "    </tr>\n",
       "    <tr>\n",
       "      <th>2020-01-30 23:00:00</th>\n",
       "      <td>NaN</td>\n",
       "      <td>0.495008</td>\n",
       "      <td>-13.298458</td>\n",
       "      <td>14.937020</td>\n",
       "      <td>1.640511e+00</td>\n",
       "    </tr>\n",
       "  </tbody>\n",
       "</table>\n",
       "</div>"
      ],
      "text/plain": [
       "                      y       yhat  yhat_lower  yhat_upper   yhat_scaled\n",
       "ds                                                                      \n",
       "2020-01-30 19:00:00 NaN  17.432128    2.332356   32.348956  3.721148e+07\n",
       "2020-01-30 20:00:00 NaN  11.125031   -3.650661   26.042186  6.784839e+04\n",
       "2020-01-30 21:00:00 NaN   6.495234   -7.689442   19.983823  6.619794e+02\n",
       "2020-01-30 22:00:00 NaN   3.356799  -11.438697   17.634359  2.869720e+01\n",
       "2020-01-30 23:00:00 NaN   0.495008  -13.298458   14.937020  1.640511e+00"
      ]
     },
     "execution_count": 213,
     "metadata": {},
     "output_type": "execute_result"
    }
   ],
   "source": [
    "viz_df.tail()"
   ]
  },
  {
   "cell_type": "code",
   "execution_count": 214,
   "metadata": {},
   "outputs": [
    {
     "name": "stderr",
     "output_type": "stream",
     "text": [
      "WARNING:matplotlib.legend:No handles with labels found to put in legend.\n"
     ]
    },
    {
     "ename": "IndexError",
     "evalue": "list index out of range",
     "output_type": "error",
     "traceback": [
      "\u001b[0;31m---------------------------------------------------------------------------\u001b[0m",
      "\u001b[0;31mIndexError\u001b[0m                                Traceback (most recent call last)",
      "\u001b[0;32m<ipython-input-214-df3acd04c59f>\u001b[0m in \u001b[0;36m<module>\u001b[0;34m\u001b[0m\n\u001b[1;32m      8\u001b[0m \u001b[0;34m\u001b[0m\u001b[0m\n\u001b[1;32m      9\u001b[0m \u001b[0mL\u001b[0m\u001b[0;34m=\u001b[0m\u001b[0max1\u001b[0m\u001b[0;34m.\u001b[0m\u001b[0mlegend\u001b[0m\u001b[0;34m(\u001b[0m\u001b[0;34m)\u001b[0m \u001b[0;31m#get the legend\u001b[0m\u001b[0;34m\u001b[0m\u001b[0;34m\u001b[0m\u001b[0m\n\u001b[0;32m---> 10\u001b[0;31m \u001b[0mL\u001b[0m\u001b[0;34m.\u001b[0m\u001b[0mget_texts\u001b[0m\u001b[0;34m(\u001b[0m\u001b[0;34m)\u001b[0m\u001b[0;34m[\u001b[0m\u001b[0;36m0\u001b[0m\u001b[0;34m]\u001b[0m\u001b[0;34m.\u001b[0m\u001b[0mset_text\u001b[0m\u001b[0;34m(\u001b[0m\u001b[0;34m'Actual Sales'\u001b[0m\u001b[0;34m)\u001b[0m \u001b[0;31m#change the legend text for 1st plot\u001b[0m\u001b[0;34m\u001b[0m\u001b[0;34m\u001b[0m\u001b[0m\n\u001b[0m\u001b[1;32m     11\u001b[0m \u001b[0mL\u001b[0m\u001b[0;34m.\u001b[0m\u001b[0mget_texts\u001b[0m\u001b[0;34m(\u001b[0m\u001b[0;34m)\u001b[0m\u001b[0;34m[\u001b[0m\u001b[0;36m1\u001b[0m\u001b[0;34m]\u001b[0m\u001b[0;34m.\u001b[0m\u001b[0mset_text\u001b[0m\u001b[0;34m(\u001b[0m\u001b[0;34m'Forecasted Sales'\u001b[0m\u001b[0;34m)\u001b[0m \u001b[0;31m#change the legend text for 2nd plot\u001b[0m\u001b[0;34m\u001b[0m\u001b[0;34m\u001b[0m\u001b[0m\n",
      "\u001b[0;31mIndexError\u001b[0m: list index out of range"
     ]
    },
    {
     "data": {
      "image/png": "[encoded data removed]",
      "text/plain": [
       "<Figure size 432x288 with 1 Axes>"
      ]
     },
     "metadata": {
      "needs_background": "light"
     },
     "output_type": "display_data"
    }
   ],
   "source": [
    "fig, ax1 = plt.subplots()\n",
    "ax1.plot(viz_df.y)\n",
    "ax1.plot(viz_df.yhat_scaled, color='black', linestyle=':')\n",
    "ax1.fill_between(viz_df.index, np.exp(viz_df['yhat_upper']), np.exp(viz_df['yhat_lower']), alpha=0.5, color='darkgray')\n",
    "ax1.set_title('Sales (Orange) vs Sales Forecast (Black)')\n",
    "ax1.set_ylabel('Dollar Sales')\n",
    "ax1.set_xlabel('Date')\n",
    "\n",
    "L=ax1.legend() #get the legend\n",
    "L.get_texts()[0].set_text('Actual Sales') #change the legend text for 1st plot\n",
    "L.get_texts()[1].set_text('Forecasted Sales') #change the legend text for 2nd plot"
   ]
  },
  {
   "cell_type": "code",
   "execution_count": 215,
   "metadata": {},
   "outputs": [],
   "source": [
    "se = np.square(forecast.loc[:, 'yhat'] - df1)\n",
    "mse = np.mean(se)\n",
    "rmse = np.sqrt(mse)"
   ]
  },
  {
   "cell_type": "code",
   "execution_count": 216,
   "metadata": {},
   "outputs": [
    {
     "data": {
      "text/plain": [
       "2016-01-01 00:00:00   NaN\n",
       "2016-01-01 01:00:00   NaN\n",
       "2016-01-01 02:00:00   NaN\n",
       "2016-01-01 07:00:00   NaN\n",
       "2016-01-01 08:00:00   NaN\n",
       "                       ..\n",
       "2020-01-30 20:00:00   NaN\n",
       "2020-01-30 21:00:00   NaN\n",
       "2020-01-30 22:00:00   NaN\n",
       "2020-01-30 23:00:00   NaN\n",
       "y                     NaN\n",
       "Length: 25610, dtype: float64"
      ]
     },
     "execution_count": 216,
     "metadata": {},
     "output_type": "execute_result"
    }
   ],
   "source": [
    "rmse"
   ]
  },
  {
   "cell_type": "code",
   "execution_count": null,
   "metadata": {},
   "outputs": [],
   "source": []
  },
  {
   "cell_type": "code",
   "execution_count": null,
   "metadata": {},
   "outputs": [],
   "source": []
  },
  {
   "cell_type": "code",
   "execution_count": null,
   "metadata": {},
   "outputs": [],
   "source": []
  },
  {
   "cell_type": "code",
   "execution_count": null,
   "metadata": {},
   "outputs": [],
   "source": []
  },
  {
   "cell_type": "code",
   "execution_count": null,
   "metadata": {},
   "outputs": [],
   "source": []
  },
  {
   "cell_type": "code",
   "execution_count": null,
   "metadata": {},
   "outputs": [],
   "source": []
  },
  {
   "cell_type": "code",
   "execution_count": null,
   "metadata": {},
   "outputs": [],
   "source": []
  },
  {
   "cell_type": "code",
   "execution_count": null,
   "metadata": {},
   "outputs": [],
   "source": []
  },
  {
   "cell_type": "code",
   "execution_count": null,
   "metadata": {},
   "outputs": [],
   "source": []
  },
  {
   "cell_type": "code",
   "execution_count": null,
   "metadata": {},
   "outputs": [],
   "source": []
  },
  {
   "cell_type": "code",
   "execution_count": null,
   "metadata": {},
   "outputs": [],
   "source": []
  },
  {
   "cell_type": "code",
   "execution_count": null,
   "metadata": {},
   "outputs": [],
   "source": []
  },
  {
   "cell_type": "code",
   "execution_count": null,
   "metadata": {},
   "outputs": [],
   "source": [
    "X_train, X_test, y_train, y_test = train_test_split(X,y,shuffle=False, random_state=42)"
   ]
  },
  {
   "cell_type": "code",
   "execution_count": null,
   "metadata": {},
   "outputs": [],
   "source": [
    "sc = StandardScaler()\n",
    "X_train_sc = sc.fit_transform(X_train)\n",
    "X_test_sc = sc.transform(X_test)"
   ]
  },
  {
   "cell_type": "code",
   "execution_count": null,
   "metadata": {},
   "outputs": [],
   "source": [
    "model = Sequential()\n",
    "model.add(Dense(8, # How many neurons do we want in the first layer, \n",
    "               activation='relu',\n",
    "               input_shape=(8,)))\n",
    "model.add(Dense(1, activation=None))"
   ]
  },
  {
   "cell_type": "code",
   "execution_count": null,
   "metadata": {},
   "outputs": [],
   "source": [
    "model.compile(optimizer=Adam(), loss='binary_crossentropy', metrics=['mse'])"
   ]
  },
  {
   "cell_type": "code",
   "execution_count": null,
   "metadata": {},
   "outputs": [],
   "source": [
    "model.fit(X_train_sc, y_train,\n",
    "         epochs=10,\n",
    "         batch_size=16,\n",
    "         validation_data=(X_test_sc, y_test))"
   ]
  },
  {
   "cell_type": "code",
   "execution_count": null,
   "metadata": {},
   "outputs": [],
   "source": []
  },
  {
   "cell_type": "code",
   "execution_count": null,
   "metadata": {},
   "outputs": [],
   "source": [
    "x"
   ]
  },
  {
   "cell_type": "code",
   "execution_count": null,
   "metadata": {},
   "outputs": [],
   "source": [
    "features = ['splash_mountain', 'seven_dwarfs_train','YEAR', 'MKHOURS', 'MKHOURSEMH', 'inSession','DAYOFWEEK' ,'HOLIDAYM' ]\n",
    "\n",
    "y = mk['pirates_of_caribbean']\n",
    "# X = mk.drop(columns='pirates_of_caribbean')\n",
    "X = mk[features] "
   ]
  },
  {
   "cell_type": "code",
   "execution_count": null,
   "metadata": {},
   "outputs": [],
   "source": [
    "X_train, X_test, y_train, y_test = train_test_split(X, y, shuffle=False)\n"
   ]
  },
  {
   "cell_type": "code",
   "execution_count": null,
   "metadata": {},
   "outputs": [],
   "source": [
    "ss = StandardScaler()\n",
    "X_train_sc = ss.fit_transform(X_train)\n",
    "X_test_sc = ss.transform(X_test)"
   ]
  },
  {
   "cell_type": "code",
   "execution_count": null,
   "metadata": {},
   "outputs": [],
   "source": [
    "# Create training sequences\n",
    "train_seq = TimeseriesGenerator(\n",
    "            X_train_sc, y_train,\n",
    "            length=8,\n",
    "            batch_size=64)"
   ]
  },
  {
   "cell_type": "code",
   "execution_count": null,
   "metadata": {},
   "outputs": [],
   "source": [
    "# Create test sequences\n",
    "batch_x, batch_y = train_seq[0]"
   ]
  },
  {
   "cell_type": "code",
   "execution_count": null,
   "metadata": {},
   "outputs": [],
   "source": [
    "# train_seq[0]\n",
    "# train_seq[0][0]\n",
    "train_seq[0][0].shape"
   ]
  },
  {
   "cell_type": "code",
   "execution_count": null,
   "metadata": {},
   "outputs": [],
   "source": [
    "test_seq = TimeseriesGenerator(\n",
    "            X_test_sc, y_test,\n",
    "            length=8,\n",
    "            batch_size=64)"
   ]
  },
  {
   "cell_type": "code",
   "execution_count": null,
   "metadata": {},
   "outputs": [],
   "source": [
    "# Design RNN\n",
    "model = Sequential()\n",
    "model.add(GRU(8, input_shape=(8, 8), return_sequences=True))\n",
    "model.add(GRU(8, return_sequences=True))\n",
    "model.add(Dense(8, activation='relu'))\n",
    "model.add(Dense(1, activation='sigmoid'))\n",
    "model.compile(optimizer=Adam(), loss='binary_crossentropy', metrics=['mse'])"
   ]
  },
  {
   "cell_type": "code",
   "execution_count": null,
   "metadata": {},
   "outputs": [],
   "source": [
    "hist = model.fit(train_seq, epochs=5, validation_data=test_seq)"
   ]
  },
  {
   "cell_type": "code",
   "execution_count": null,
   "metadata": {},
   "outputs": [],
   "source": []
  },
  {
   "cell_type": "code",
   "execution_count": null,
   "metadata": {},
   "outputs": [],
   "source": [
    "import warnings\n",
    "import itertools\n",
    "import numpy as np\n",
    "import matplotlib.pyplot as plt\n",
    "warnings.filterwarnings(\"ignore\")\n",
    "plt.style.use('fivethirtyeight')\n",
    "import pandas as pd\n",
    "import statsmodels.api as sm\n",
    "import matplotlib\n",
    "matplotlib.rcParams['axes.labelsize'] = 14\n",
    "matplotlib.rcParams['xtick.labelsize'] = 12\n",
    "matplotlib.rcParams['ytick.labelsize'] = 12\n",
    "matplotlib.rcParams['text.color'] = 'k'"
   ]
  },
  {
   "cell_type": "code",
   "execution_count": null,
   "metadata": {},
   "outputs": [],
   "source": [
    "mk.index.min()\n"
   ]
  },
  {
   "cell_type": "code",
   "execution_count": null,
   "metadata": {},
   "outputs": [],
   "source": [
    "mk.index.max()"
   ]
  },
  {
   "cell_type": "code",
   "execution_count": null,
   "metadata": {},
   "outputs": [],
   "source": [
    "features = ['splash_mountain', 'seven_dwarfs_train', 'YEAR', 'MKHOURS', 'MKHOURSEMH', 'inSession','DAYOFWEEK' ,'HOLIDAYM']\n",
    "y = mk['pirates_of_caribbean']\n",
    "X = mk[features]"
   ]
  },
  {
   "cell_type": "code",
   "execution_count": null,
   "metadata": {},
   "outputs": [],
   "source": [
    "'pirates_of_caribbean'"
   ]
  },
  {
   "cell_type": "code",
   "execution_count": null,
   "metadata": {},
   "outputs": [],
   "source": []
  },
  {
   "cell_type": "code",
   "execution_count": null,
   "metadata": {},
   "outputs": [],
   "source": [
    "y.plot(figsize=(15, 6))\n",
    "plt.show()"
   ]
  },
  {
   "cell_type": "code",
   "execution_count": null,
   "metadata": {},
   "outputs": [],
   "source": [
    "from pylab import rcParams\n",
    "rcParams['figure.figsize'] = 18, 8\n",
    "decomposition = sm.tsa.seasonal_decompose(y, model='additive')\n",
    "fig = decomposition.plot()\n",
    "plt.show()"
   ]
  },
  {
   "cell_type": "code",
   "execution_count": null,
   "metadata": {},
   "outputs": [],
   "source": [
    "p = d = q = range(0, 2)\n",
    "pdq = list(itertools.product(p, d, q))\n",
    "seasonal_pdq = [(x[0], x[1], x[2], 12) for x in list(itertools.product(p, d, q))]\n",
    "print('Examples of parameter combinations for Seasonal ARIMA...')\n",
    "print('SARIMAX: {} x {}'.format(pdq[1], seasonal_pdq[1]))\n",
    "print('SARIMAX: {} x {}'.format(pdq[1], seasonal_pdq[2]))\n",
    "print('SARIMAX: {} x {}'.format(pdq[2], seasonal_pdq[3]))\n",
    "print('SARIMAX: {} x {}'.format(pdq[2], seasonal_pdq[4]))"
   ]
  },
  {
   "cell_type": "code",
   "execution_count": null,
   "metadata": {},
   "outputs": [],
   "source": [
    "for param in pdq:\n",
    "    for param_seasonal in seasonal_pdq:\n",
    "        try:\n",
    "            mod = sm.tsa.statespace.SARIMAX(y,\n",
    "                                            order=param,\n",
    "                                            seasonal_order=param_seasonal,\n",
    "                                            enforce_stationarity=False,\n",
    "                                            enforce_invertibility=False)\n",
    "            results = mod.fit()\n",
    "\n",
    "            print('ARIMA{}x{}12 - AIC:{}'.format(param, param_seasonal, results.aic))\n",
    "        except:\n",
    "            continue"
   ]
  },
  {
   "cell_type": "code",
   "execution_count": null,
   "metadata": {},
   "outputs": [],
   "source": [
    "mod = sm.tsa.statespace.SARIMAX(y,\n",
    "                                order=(1, 0, 1),\n",
    "                                seasonal_order=(1, 1, 1, 12),\n",
    "                                enforce_stationarity=False,\n",
    "                                enforce_invertibility=False)\n",
    "\n",
    "results = mod.fit()\n",
    "\n",
    "print(results.summary().tables[1])"
   ]
  },
  {
   "cell_type": "code",
   "execution_count": null,
   "metadata": {},
   "outputs": [],
   "source": [
    "results.plot_diagnostics(figsize=(15, 12))\n",
    "plt.show()"
   ]
  },
  {
   "cell_type": "code",
   "execution_count": null,
   "metadata": {},
   "outputs": [],
   "source": [
    "pred = results.get_prediction(start=('2020-03-13 21:00:00'), dynamic=False)\n",
    "pred_ci = pred.conf_int()\n",
    "ax = y['2015':].plot(label='observed')\n",
    "pred.predicted_mean.plot(ax=ax, label='One-step ahead Forecast', alpha=.7, figsize=(14, 7))\n",
    "ax.fill_between(pred_ci.index,\n",
    "                pred_ci.iloc[:, 0],\n",
    "                pred_ci.iloc[:, 1], color='k', alpha=.2)\n",
    "ax.set_xlabel('Date')\n",
    "ax.set_ylabel('Wait Times')\n",
    "plt.legend()\n",
    "plt.show()"
   ]
  },
  {
   "cell_type": "code",
   "execution_count": null,
   "metadata": {},
   "outputs": [],
   "source": []
  }
 ],
 "metadata": {
  "kernelspec": {
   "display_name": "Python 3",
   "language": "python",
   "name": "python3"
  },
  "language_info": {
   "codemirror_mode": {
    "name": "ipython",
    "version": 3
   },
   "file_extension": ".py",
   "mimetype": "text/x-python",
   "name": "python",
   "nbconvert_exporter": "python",
   "pygments_lexer": "ipython3",
   "version": "3.7.6"
  }
 },
 "nbformat": 4,
 "nbformat_minor": 4
}
