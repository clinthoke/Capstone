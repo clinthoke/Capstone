{
 "cells": [
  {
   "cell_type": "code",
   "execution_count": 1,
   "metadata": {},
   "outputs": [],
   "source": [
    "import pandas as pd\n",
    "import matplotlib.pyplot as plt\n",
    "import seaborn as sns\n",
    "import numpy as np"
   ]
  },
  {
   "cell_type": "code",
   "execution_count": 2,
   "metadata": {},
   "outputs": [
    {
     "data": {
      "text/html": [
       "<div>\n",
       "<style scoped>\n",
       "    .dataframe tbody tr th:only-of-type {\n",
       "        vertical-align: middle;\n",
       "    }\n",
       "\n",
       "    .dataframe tbody tr th {\n",
       "        vertical-align: top;\n",
       "    }\n",
       "\n",
       "    .dataframe thead th {\n",
       "        text-align: right;\n",
       "    }\n",
       "</style>\n",
       "<table border=\"1\" class=\"dataframe\">\n",
       "  <thead>\n",
       "    <tr style=\"text-align: right;\">\n",
       "      <th></th>\n",
       "      <th>datetime</th>\n",
       "      <th>seven_dwarfs_train</th>\n",
       "      <th>pirates_of_caribbean</th>\n",
       "      <th>splash_mountain</th>\n",
       "    </tr>\n",
       "  </thead>\n",
       "  <tbody>\n",
       "    <tr>\n",
       "      <th>0</th>\n",
       "      <td>2015-01-01 07:00:00</td>\n",
       "      <td>45.0</td>\n",
       "      <td>na</td>\n",
       "      <td>5.0</td>\n",
       "    </tr>\n",
       "    <tr>\n",
       "      <th>1</th>\n",
       "      <td>2015-01-01 08:00:00</td>\n",
       "      <td>78.0</td>\n",
       "      <td>na</td>\n",
       "      <td>5.0</td>\n",
       "    </tr>\n",
       "    <tr>\n",
       "      <th>2</th>\n",
       "      <td>2015-01-01 09:00:00</td>\n",
       "      <td>103.0</td>\n",
       "      <td>na</td>\n",
       "      <td>5.0</td>\n",
       "    </tr>\n",
       "    <tr>\n",
       "      <th>3</th>\n",
       "      <td>2015-01-01 10:00:00</td>\n",
       "      <td>88.0</td>\n",
       "      <td>28.0</td>\n",
       "      <td>16.0</td>\n",
       "    </tr>\n",
       "    <tr>\n",
       "      <th>4</th>\n",
       "      <td>2015-01-01 11:00:00</td>\n",
       "      <td>86.0</td>\n",
       "      <td>62.0</td>\n",
       "      <td>22.0</td>\n",
       "    </tr>\n",
       "  </tbody>\n",
       "</table>\n",
       "</div>"
      ],
      "text/plain": [
       "              datetime seven_dwarfs_train pirates_of_caribbean splash_mountain\n",
       "0  2015-01-01 07:00:00               45.0                   na             5.0\n",
       "1  2015-01-01 08:00:00               78.0                   na             5.0\n",
       "2  2015-01-01 09:00:00              103.0                   na             5.0\n",
       "3  2015-01-01 10:00:00               88.0                 28.0            16.0\n",
       "4  2015-01-01 11:00:00               86.0                 62.0            22.0"
      ]
     },
     "execution_count": 2,
     "metadata": {},
     "output_type": "execute_result"
    }
   ],
   "source": [
    "mka = pd.read_csv(\"../attractions/attractions_mk.csv\")\n",
    "mka.head()"
   ]
  },
  {
   "cell_type": "code",
   "execution_count": 3,
   "metadata": {},
   "outputs": [
    {
     "name": "stdout",
     "output_type": "stream",
     "text": [
      "<class 'pandas.core.frame.DataFrame'>\n",
      "RangeIndex: 31059 entries, 0 to 31058\n",
      "Data columns (total 5 columns):\n",
      " #   Column                Non-Null Count  Dtype         \n",
      "---  ------                --------------  -----         \n",
      " 0   datetime              31059 non-null  object        \n",
      " 1   seven_dwarfs_train    31059 non-null  object        \n",
      " 2   pirates_of_caribbean  31059 non-null  object        \n",
      " 3   splash_mountain       31059 non-null  object        \n",
      " 4   DATE                  31059 non-null  datetime64[ns]\n",
      "dtypes: datetime64[ns](1), object(4)\n",
      "memory usage: 1.2+ MB\n",
      "None\n"
     ]
    },
    {
     "data": {
      "text/html": [
       "<div>\n",
       "<style scoped>\n",
       "    .dataframe tbody tr th:only-of-type {\n",
       "        vertical-align: middle;\n",
       "    }\n",
       "\n",
       "    .dataframe tbody tr th {\n",
       "        vertical-align: top;\n",
       "    }\n",
       "\n",
       "    .dataframe thead th {\n",
       "        text-align: right;\n",
       "    }\n",
       "</style>\n",
       "<table border=\"1\" class=\"dataframe\">\n",
       "  <thead>\n",
       "    <tr style=\"text-align: right;\">\n",
       "      <th></th>\n",
       "      <th>datetime</th>\n",
       "      <th>seven_dwarfs_train</th>\n",
       "      <th>pirates_of_caribbean</th>\n",
       "      <th>splash_mountain</th>\n",
       "      <th>DATE</th>\n",
       "    </tr>\n",
       "  </thead>\n",
       "  <tbody>\n",
       "    <tr>\n",
       "      <th>0</th>\n",
       "      <td>2015-01-01 07:00:00</td>\n",
       "      <td>45.0</td>\n",
       "      <td>na</td>\n",
       "      <td>5.0</td>\n",
       "      <td>2015-01-01</td>\n",
       "    </tr>\n",
       "    <tr>\n",
       "      <th>1</th>\n",
       "      <td>2015-01-01 08:00:00</td>\n",
       "      <td>78.0</td>\n",
       "      <td>na</td>\n",
       "      <td>5.0</td>\n",
       "      <td>2015-01-01</td>\n",
       "    </tr>\n",
       "    <tr>\n",
       "      <th>2</th>\n",
       "      <td>2015-01-01 09:00:00</td>\n",
       "      <td>103.0</td>\n",
       "      <td>na</td>\n",
       "      <td>5.0</td>\n",
       "      <td>2015-01-01</td>\n",
       "    </tr>\n",
       "    <tr>\n",
       "      <th>3</th>\n",
       "      <td>2015-01-01 10:00:00</td>\n",
       "      <td>88.0</td>\n",
       "      <td>28.0</td>\n",
       "      <td>16.0</td>\n",
       "      <td>2015-01-01</td>\n",
       "    </tr>\n",
       "    <tr>\n",
       "      <th>4</th>\n",
       "      <td>2015-01-01 11:00:00</td>\n",
       "      <td>86.0</td>\n",
       "      <td>62.0</td>\n",
       "      <td>22.0</td>\n",
       "      <td>2015-01-01</td>\n",
       "    </tr>\n",
       "  </tbody>\n",
       "</table>\n",
       "</div>"
      ],
      "text/plain": [
       "              datetime seven_dwarfs_train pirates_of_caribbean  \\\n",
       "0  2015-01-01 07:00:00               45.0                   na   \n",
       "1  2015-01-01 08:00:00               78.0                   na   \n",
       "2  2015-01-01 09:00:00              103.0                   na   \n",
       "3  2015-01-01 10:00:00               88.0                 28.0   \n",
       "4  2015-01-01 11:00:00               86.0                 62.0   \n",
       "\n",
       "  splash_mountain       DATE  \n",
       "0             5.0 2015-01-01  \n",
       "1             5.0 2015-01-01  \n",
       "2             5.0 2015-01-01  \n",
       "3            16.0 2015-01-01  \n",
       "4            22.0 2015-01-01  "
      ]
     },
     "execution_count": 3,
     "metadata": {},
     "output_type": "execute_result"
    }
   ],
   "source": [
    "# Added DATE column to mk from the datetime column, using it to concat dataframes\n",
    "mka['DATE'] = pd.to_datetime(mka['datetime']).dt.date\n",
    "mka['DATE'] = pd.to_datetime(mka[\"DATE\"])\n",
    "print(mka.info())\n",
    "mka.head()"
   ]
  },
  {
   "cell_type": "code",
   "execution_count": 4,
   "metadata": {},
   "outputs": [],
   "source": [
    "md = pd.read_csv(\"../metadata/mk_metadata.csv\")"
   ]
  },
  {
   "cell_type": "code",
   "execution_count": 5,
   "metadata": {},
   "outputs": [
    {
     "data": {
      "text/html": [
       "<div>\n",
       "<style scoped>\n",
       "    .dataframe tbody tr th:only-of-type {\n",
       "        vertical-align: middle;\n",
       "    }\n",
       "\n",
       "    .dataframe tbody tr th {\n",
       "        vertical-align: top;\n",
       "    }\n",
       "\n",
       "    .dataframe thead th {\n",
       "        text-align: right;\n",
       "    }\n",
       "</style>\n",
       "<table border=\"1\" class=\"dataframe\">\n",
       "  <thead>\n",
       "    <tr style=\"text-align: right;\">\n",
       "      <th></th>\n",
       "      <th>DATE</th>\n",
       "      <th>DAYOFWEEK</th>\n",
       "      <th>DAYOFYEAR</th>\n",
       "      <th>WEEKOFYEAR</th>\n",
       "      <th>MONTHOFYEAR</th>\n",
       "      <th>YEAR</th>\n",
       "      <th>HOLIDAYPX</th>\n",
       "      <th>HOLIDAYM</th>\n",
       "      <th>HOLIDAY</th>\n",
       "      <th>WDWevent</th>\n",
       "      <th>...</th>\n",
       "      <th>MKDAYSBEFORENONEVENT</th>\n",
       "      <th>MKDAYSSINCENONEVENT</th>\n",
       "      <th>MKEVENTSTREAK</th>\n",
       "      <th>MKEVENTSTREAK_F</th>\n",
       "      <th>WDWMINTEMP_mean</th>\n",
       "      <th>WEATHER_WDWHIGH</th>\n",
       "      <th>WEATHER_WDWLOW</th>\n",
       "      <th>WEATHER_WDWPRECIP</th>\n",
       "      <th>CapacityLost_MK</th>\n",
       "      <th>CapacityLostWGT_MK</th>\n",
       "    </tr>\n",
       "  </thead>\n",
       "  <tbody>\n",
       "    <tr>\n",
       "      <th>0</th>\n",
       "      <td>2015-01-01</td>\n",
       "      <td>5</td>\n",
       "      <td>0</td>\n",
       "      <td>0</td>\n",
       "      <td>1</td>\n",
       "      <td>2015</td>\n",
       "      <td>0</td>\n",
       "      <td>5</td>\n",
       "      <td>1</td>\n",
       "      <td>0</td>\n",
       "      <td>...</td>\n",
       "      <td>1.0</td>\n",
       "      <td>1</td>\n",
       "      <td>0</td>\n",
       "      <td>0</td>\n",
       "      <td>53.375714</td>\n",
       "      <td>70.3</td>\n",
       "      <td>50.2</td>\n",
       "      <td>0.12</td>\n",
       "      <td>616246</td>\n",
       "      <td>53904354</td>\n",
       "    </tr>\n",
       "    <tr>\n",
       "      <th>1</th>\n",
       "      <td>2015-01-02</td>\n",
       "      <td>6</td>\n",
       "      <td>1</td>\n",
       "      <td>0</td>\n",
       "      <td>1</td>\n",
       "      <td>2015</td>\n",
       "      <td>2</td>\n",
       "      <td>5</td>\n",
       "      <td>0</td>\n",
       "      <td>0</td>\n",
       "      <td>...</td>\n",
       "      <td>1.0</td>\n",
       "      <td>1</td>\n",
       "      <td>0</td>\n",
       "      <td>0</td>\n",
       "      <td>53.750714</td>\n",
       "      <td>70.3</td>\n",
       "      <td>50.0</td>\n",
       "      <td>0.12</td>\n",
       "      <td>616246</td>\n",
       "      <td>53904354</td>\n",
       "    </tr>\n",
       "    <tr>\n",
       "      <th>2</th>\n",
       "      <td>2015-01-03</td>\n",
       "      <td>7</td>\n",
       "      <td>2</td>\n",
       "      <td>0</td>\n",
       "      <td>1</td>\n",
       "      <td>2015</td>\n",
       "      <td>3</td>\n",
       "      <td>0</td>\n",
       "      <td>0</td>\n",
       "      <td>0</td>\n",
       "      <td>...</td>\n",
       "      <td>1.0</td>\n",
       "      <td>1</td>\n",
       "      <td>0</td>\n",
       "      <td>0</td>\n",
       "      <td>49.212857</td>\n",
       "      <td>70.3</td>\n",
       "      <td>49.9</td>\n",
       "      <td>0.07</td>\n",
       "      <td>616246</td>\n",
       "      <td>53904354</td>\n",
       "    </tr>\n",
       "    <tr>\n",
       "      <th>3</th>\n",
       "      <td>2015-01-04</td>\n",
       "      <td>1</td>\n",
       "      <td>3</td>\n",
       "      <td>1</td>\n",
       "      <td>1</td>\n",
       "      <td>2015</td>\n",
       "      <td>4</td>\n",
       "      <td>0</td>\n",
       "      <td>0</td>\n",
       "      <td>0</td>\n",
       "      <td>...</td>\n",
       "      <td>1.0</td>\n",
       "      <td>1</td>\n",
       "      <td>0</td>\n",
       "      <td>0</td>\n",
       "      <td>48.270714</td>\n",
       "      <td>70.3</td>\n",
       "      <td>49.8</td>\n",
       "      <td>0.12</td>\n",
       "      <td>616246</td>\n",
       "      <td>53904354</td>\n",
       "    </tr>\n",
       "    <tr>\n",
       "      <th>4</th>\n",
       "      <td>2015-01-05</td>\n",
       "      <td>2</td>\n",
       "      <td>4</td>\n",
       "      <td>1</td>\n",
       "      <td>1</td>\n",
       "      <td>2015</td>\n",
       "      <td>5</td>\n",
       "      <td>0</td>\n",
       "      <td>0</td>\n",
       "      <td>0</td>\n",
       "      <td>...</td>\n",
       "      <td>1.0</td>\n",
       "      <td>1</td>\n",
       "      <td>0</td>\n",
       "      <td>0</td>\n",
       "      <td>48.971538</td>\n",
       "      <td>70.3</td>\n",
       "      <td>49.6</td>\n",
       "      <td>0.12</td>\n",
       "      <td>616246</td>\n",
       "      <td>53904354</td>\n",
       "    </tr>\n",
       "  </tbody>\n",
       "</table>\n",
       "<p>5 rows × 66 columns</p>\n",
       "</div>"
      ],
      "text/plain": [
       "         DATE  DAYOFWEEK  DAYOFYEAR  WEEKOFYEAR  MONTHOFYEAR  YEAR  HOLIDAYPX  \\\n",
       "0  2015-01-01          5          0           0            1  2015          0   \n",
       "1  2015-01-02          6          1           0            1  2015          2   \n",
       "2  2015-01-03          7          2           0            1  2015          3   \n",
       "3  2015-01-04          1          3           1            1  2015          4   \n",
       "4  2015-01-05          2          4           1            1  2015          5   \n",
       "\n",
       "   HOLIDAYM  HOLIDAY  WDWevent  ...  MKDAYSBEFORENONEVENT MKDAYSSINCENONEVENT  \\\n",
       "0         5        1         0  ...                   1.0                   1   \n",
       "1         5        0         0  ...                   1.0                   1   \n",
       "2         0        0         0  ...                   1.0                   1   \n",
       "3         0        0         0  ...                   1.0                   1   \n",
       "4         0        0         0  ...                   1.0                   1   \n",
       "\n",
       "   MKEVENTSTREAK  MKEVENTSTREAK_F  WDWMINTEMP_mean  WEATHER_WDWHIGH  \\\n",
       "0              0                0        53.375714             70.3   \n",
       "1              0                0        53.750714             70.3   \n",
       "2              0                0        49.212857             70.3   \n",
       "3              0                0        48.270714             70.3   \n",
       "4              0                0        48.971538             70.3   \n",
       "\n",
       "  WEATHER_WDWLOW WEATHER_WDWPRECIP CapacityLost_MK CapacityLostWGT_MK  \n",
       "0           50.2              0.12          616246           53904354  \n",
       "1           50.0              0.12          616246           53904354  \n",
       "2           49.9              0.07          616246           53904354  \n",
       "3           49.8              0.12          616246           53904354  \n",
       "4           49.6              0.12          616246           53904354  \n",
       "\n",
       "[5 rows x 66 columns]"
      ]
     },
     "execution_count": 5,
     "metadata": {},
     "output_type": "execute_result"
    }
   ],
   "source": [
    "md.head()"
   ]
  },
  {
   "cell_type": "code",
   "execution_count": 6,
   "metadata": {},
   "outputs": [
    {
     "data": {
      "text/html": [
       "<div>\n",
       "<style scoped>\n",
       "    .dataframe tbody tr th:only-of-type {\n",
       "        vertical-align: middle;\n",
       "    }\n",
       "\n",
       "    .dataframe tbody tr th {\n",
       "        vertical-align: top;\n",
       "    }\n",
       "\n",
       "    .dataframe thead th {\n",
       "        text-align: right;\n",
       "    }\n",
       "</style>\n",
       "<table border=\"1\" class=\"dataframe\">\n",
       "  <thead>\n",
       "    <tr style=\"text-align: right;\">\n",
       "      <th></th>\n",
       "      <th>DATE</th>\n",
       "      <th>DAYOFWEEK</th>\n",
       "      <th>DAYOFYEAR</th>\n",
       "      <th>WEEKOFYEAR</th>\n",
       "      <th>MONTHOFYEAR</th>\n",
       "      <th>YEAR</th>\n",
       "      <th>HOLIDAYPX</th>\n",
       "      <th>HOLIDAYM</th>\n",
       "      <th>HOLIDAY</th>\n",
       "      <th>WDWevent</th>\n",
       "      <th>...</th>\n",
       "      <th>MKDAYSBEFORENONEVENT</th>\n",
       "      <th>MKDAYSSINCENONEVENT</th>\n",
       "      <th>MKEVENTSTREAK</th>\n",
       "      <th>MKEVENTSTREAK_F</th>\n",
       "      <th>WDWMINTEMP_mean</th>\n",
       "      <th>WEATHER_WDWHIGH</th>\n",
       "      <th>WEATHER_WDWLOW</th>\n",
       "      <th>WEATHER_WDWPRECIP</th>\n",
       "      <th>CapacityLost_MK</th>\n",
       "      <th>CapacityLostWGT_MK</th>\n",
       "    </tr>\n",
       "  </thead>\n",
       "  <tbody>\n",
       "    <tr>\n",
       "      <th>0</th>\n",
       "      <td>2015-01-01</td>\n",
       "      <td>5</td>\n",
       "      <td>0</td>\n",
       "      <td>0</td>\n",
       "      <td>1</td>\n",
       "      <td>2015</td>\n",
       "      <td>0</td>\n",
       "      <td>5</td>\n",
       "      <td>1</td>\n",
       "      <td>0</td>\n",
       "      <td>...</td>\n",
       "      <td>1.0</td>\n",
       "      <td>1</td>\n",
       "      <td>0</td>\n",
       "      <td>0</td>\n",
       "      <td>53.375714</td>\n",
       "      <td>70.3</td>\n",
       "      <td>50.2</td>\n",
       "      <td>0.12</td>\n",
       "      <td>616246</td>\n",
       "      <td>53904354</td>\n",
       "    </tr>\n",
       "  </tbody>\n",
       "</table>\n",
       "<p>1 rows × 66 columns</p>\n",
       "</div>"
      ],
      "text/plain": [
       "        DATE  DAYOFWEEK  DAYOFYEAR  WEEKOFYEAR  MONTHOFYEAR  YEAR  HOLIDAYPX  \\\n",
       "0 2015-01-01          5          0           0            1  2015          0   \n",
       "\n",
       "   HOLIDAYM  HOLIDAY  WDWevent  ...  MKDAYSBEFORENONEVENT MKDAYSSINCENONEVENT  \\\n",
       "0         5        1         0  ...                   1.0                   1   \n",
       "\n",
       "   MKEVENTSTREAK  MKEVENTSTREAK_F  WDWMINTEMP_mean  WEATHER_WDWHIGH  \\\n",
       "0              0                0        53.375714             70.3   \n",
       "\n",
       "  WEATHER_WDWLOW WEATHER_WDWPRECIP CapacityLost_MK CapacityLostWGT_MK  \n",
       "0           50.2              0.12          616246           53904354  \n",
       "\n",
       "[1 rows x 66 columns]"
      ]
     },
     "execution_count": 6,
     "metadata": {},
     "output_type": "execute_result"
    }
   ],
   "source": [
    "# Convert DATE column to datetime\n",
    "md['DATE'] = pd.to_datetime(md[\"DATE\"])\n",
    "md.head(1)"
   ]
  },
  {
   "cell_type": "code",
   "execution_count": 7,
   "metadata": {},
   "outputs": [
    {
     "data": {
      "text/html": [
       "<div>\n",
       "<style scoped>\n",
       "    .dataframe tbody tr th:only-of-type {\n",
       "        vertical-align: middle;\n",
       "    }\n",
       "\n",
       "    .dataframe tbody tr th {\n",
       "        vertical-align: top;\n",
       "    }\n",
       "\n",
       "    .dataframe thead th {\n",
       "        text-align: right;\n",
       "    }\n",
       "</style>\n",
       "<table border=\"1\" class=\"dataframe\">\n",
       "  <thead>\n",
       "    <tr style=\"text-align: right;\">\n",
       "      <th></th>\n",
       "      <th>datetime</th>\n",
       "      <th>seven_dwarfs_train</th>\n",
       "      <th>pirates_of_caribbean</th>\n",
       "      <th>splash_mountain</th>\n",
       "      <th>DATE</th>\n",
       "      <th>DAYOFWEEK</th>\n",
       "      <th>DAYOFYEAR</th>\n",
       "      <th>WEEKOFYEAR</th>\n",
       "      <th>MONTHOFYEAR</th>\n",
       "      <th>YEAR</th>\n",
       "      <th>...</th>\n",
       "      <th>MKDAYSBEFORENONEVENT</th>\n",
       "      <th>MKDAYSSINCENONEVENT</th>\n",
       "      <th>MKEVENTSTREAK</th>\n",
       "      <th>MKEVENTSTREAK_F</th>\n",
       "      <th>WDWMINTEMP_mean</th>\n",
       "      <th>WEATHER_WDWHIGH</th>\n",
       "      <th>WEATHER_WDWLOW</th>\n",
       "      <th>WEATHER_WDWPRECIP</th>\n",
       "      <th>CapacityLost_MK</th>\n",
       "      <th>CapacityLostWGT_MK</th>\n",
       "    </tr>\n",
       "  </thead>\n",
       "  <tbody>\n",
       "    <tr>\n",
       "      <th>0</th>\n",
       "      <td>2015-01-01 07:00:00</td>\n",
       "      <td>45.0</td>\n",
       "      <td>na</td>\n",
       "      <td>5.0</td>\n",
       "      <td>2015-01-01</td>\n",
       "      <td>5.0</td>\n",
       "      <td>0.0</td>\n",
       "      <td>0.0</td>\n",
       "      <td>1.0</td>\n",
       "      <td>2015.0</td>\n",
       "      <td>...</td>\n",
       "      <td>1.0</td>\n",
       "      <td>1.0</td>\n",
       "      <td>0.0</td>\n",
       "      <td>0.0</td>\n",
       "      <td>53.375714</td>\n",
       "      <td>70.3</td>\n",
       "      <td>50.2</td>\n",
       "      <td>0.12</td>\n",
       "      <td>616246.0</td>\n",
       "      <td>53904354.0</td>\n",
       "    </tr>\n",
       "    <tr>\n",
       "      <th>1</th>\n",
       "      <td>2015-01-01 08:00:00</td>\n",
       "      <td>78.0</td>\n",
       "      <td>na</td>\n",
       "      <td>5.0</td>\n",
       "      <td>2015-01-01</td>\n",
       "      <td>5.0</td>\n",
       "      <td>0.0</td>\n",
       "      <td>0.0</td>\n",
       "      <td>1.0</td>\n",
       "      <td>2015.0</td>\n",
       "      <td>...</td>\n",
       "      <td>1.0</td>\n",
       "      <td>1.0</td>\n",
       "      <td>0.0</td>\n",
       "      <td>0.0</td>\n",
       "      <td>53.375714</td>\n",
       "      <td>70.3</td>\n",
       "      <td>50.2</td>\n",
       "      <td>0.12</td>\n",
       "      <td>616246.0</td>\n",
       "      <td>53904354.0</td>\n",
       "    </tr>\n",
       "    <tr>\n",
       "      <th>2</th>\n",
       "      <td>2015-01-01 09:00:00</td>\n",
       "      <td>103.0</td>\n",
       "      <td>na</td>\n",
       "      <td>5.0</td>\n",
       "      <td>2015-01-01</td>\n",
       "      <td>5.0</td>\n",
       "      <td>0.0</td>\n",
       "      <td>0.0</td>\n",
       "      <td>1.0</td>\n",
       "      <td>2015.0</td>\n",
       "      <td>...</td>\n",
       "      <td>1.0</td>\n",
       "      <td>1.0</td>\n",
       "      <td>0.0</td>\n",
       "      <td>0.0</td>\n",
       "      <td>53.375714</td>\n",
       "      <td>70.3</td>\n",
       "      <td>50.2</td>\n",
       "      <td>0.12</td>\n",
       "      <td>616246.0</td>\n",
       "      <td>53904354.0</td>\n",
       "    </tr>\n",
       "    <tr>\n",
       "      <th>3</th>\n",
       "      <td>2015-01-01 10:00:00</td>\n",
       "      <td>88.0</td>\n",
       "      <td>28.0</td>\n",
       "      <td>16.0</td>\n",
       "      <td>2015-01-01</td>\n",
       "      <td>5.0</td>\n",
       "      <td>0.0</td>\n",
       "      <td>0.0</td>\n",
       "      <td>1.0</td>\n",
       "      <td>2015.0</td>\n",
       "      <td>...</td>\n",
       "      <td>1.0</td>\n",
       "      <td>1.0</td>\n",
       "      <td>0.0</td>\n",
       "      <td>0.0</td>\n",
       "      <td>53.375714</td>\n",
       "      <td>70.3</td>\n",
       "      <td>50.2</td>\n",
       "      <td>0.12</td>\n",
       "      <td>616246.0</td>\n",
       "      <td>53904354.0</td>\n",
       "    </tr>\n",
       "    <tr>\n",
       "      <th>4</th>\n",
       "      <td>2015-01-01 11:00:00</td>\n",
       "      <td>86.0</td>\n",
       "      <td>62.0</td>\n",
       "      <td>22.0</td>\n",
       "      <td>2015-01-01</td>\n",
       "      <td>5.0</td>\n",
       "      <td>0.0</td>\n",
       "      <td>0.0</td>\n",
       "      <td>1.0</td>\n",
       "      <td>2015.0</td>\n",
       "      <td>...</td>\n",
       "      <td>1.0</td>\n",
       "      <td>1.0</td>\n",
       "      <td>0.0</td>\n",
       "      <td>0.0</td>\n",
       "      <td>53.375714</td>\n",
       "      <td>70.3</td>\n",
       "      <td>50.2</td>\n",
       "      <td>0.12</td>\n",
       "      <td>616246.0</td>\n",
       "      <td>53904354.0</td>\n",
       "    </tr>\n",
       "  </tbody>\n",
       "</table>\n",
       "<p>5 rows × 70 columns</p>\n",
       "</div>"
      ],
      "text/plain": [
       "              datetime seven_dwarfs_train pirates_of_caribbean  \\\n",
       "0  2015-01-01 07:00:00               45.0                   na   \n",
       "1  2015-01-01 08:00:00               78.0                   na   \n",
       "2  2015-01-01 09:00:00              103.0                   na   \n",
       "3  2015-01-01 10:00:00               88.0                 28.0   \n",
       "4  2015-01-01 11:00:00               86.0                 62.0   \n",
       "\n",
       "  splash_mountain       DATE  DAYOFWEEK  DAYOFYEAR  WEEKOFYEAR  MONTHOFYEAR  \\\n",
       "0             5.0 2015-01-01        5.0        0.0         0.0          1.0   \n",
       "1             5.0 2015-01-01        5.0        0.0         0.0          1.0   \n",
       "2             5.0 2015-01-01        5.0        0.0         0.0          1.0   \n",
       "3            16.0 2015-01-01        5.0        0.0         0.0          1.0   \n",
       "4            22.0 2015-01-01        5.0        0.0         0.0          1.0   \n",
       "\n",
       "     YEAR  ...  MKDAYSBEFORENONEVENT  MKDAYSSINCENONEVENT  MKEVENTSTREAK  \\\n",
       "0  2015.0  ...                   1.0                  1.0            0.0   \n",
       "1  2015.0  ...                   1.0                  1.0            0.0   \n",
       "2  2015.0  ...                   1.0                  1.0            0.0   \n",
       "3  2015.0  ...                   1.0                  1.0            0.0   \n",
       "4  2015.0  ...                   1.0                  1.0            0.0   \n",
       "\n",
       "   MKEVENTSTREAK_F  WDWMINTEMP_mean WEATHER_WDWHIGH  WEATHER_WDWLOW  \\\n",
       "0              0.0        53.375714            70.3            50.2   \n",
       "1              0.0        53.375714            70.3            50.2   \n",
       "2              0.0        53.375714            70.3            50.2   \n",
       "3              0.0        53.375714            70.3            50.2   \n",
       "4              0.0        53.375714            70.3            50.2   \n",
       "\n",
       "   WEATHER_WDWPRECIP  CapacityLost_MK  CapacityLostWGT_MK  \n",
       "0               0.12         616246.0          53904354.0  \n",
       "1               0.12         616246.0          53904354.0  \n",
       "2               0.12         616246.0          53904354.0  \n",
       "3               0.12         616246.0          53904354.0  \n",
       "4               0.12         616246.0          53904354.0  \n",
       "\n",
       "[5 rows x 70 columns]"
      ]
     },
     "execution_count": 7,
     "metadata": {},
     "output_type": "execute_result"
    }
   ],
   "source": [
    "mk = pd.merge(mka, md, how='outer', on='DATE')\n",
    "mk.head()"
   ]
  },
  {
   "cell_type": "code",
   "execution_count": 8,
   "metadata": {},
   "outputs": [],
   "source": [
    "mk.to_csv('../metadata/mk.csv', index = False)"
   ]
  },
  {
   "cell_type": "code",
   "execution_count": 9,
   "metadata": {
    "scrolled": false
   },
   "outputs": [
    {
     "data": {
      "text/html": [
       "<div>\n",
       "<style scoped>\n",
       "    .dataframe tbody tr th:only-of-type {\n",
       "        vertical-align: middle;\n",
       "    }\n",
       "\n",
       "    .dataframe tbody tr th {\n",
       "        vertical-align: top;\n",
       "    }\n",
       "\n",
       "    .dataframe thead th {\n",
       "        text-align: right;\n",
       "    }\n",
       "</style>\n",
       "<table border=\"1\" class=\"dataframe\">\n",
       "  <thead>\n",
       "    <tr style=\"text-align: right;\">\n",
       "      <th></th>\n",
       "      <th>datetime</th>\n",
       "      <th>seven_dwarfs_train</th>\n",
       "      <th>pirates_of_caribbean</th>\n",
       "      <th>splash_mountain</th>\n",
       "      <th>DATE</th>\n",
       "      <th>DAYOFWEEK</th>\n",
       "      <th>DAYOFYEAR</th>\n",
       "      <th>WEEKOFYEAR</th>\n",
       "      <th>MONTHOFYEAR</th>\n",
       "      <th>YEAR</th>\n",
       "      <th>...</th>\n",
       "      <th>MKDAYSBEFORENONEVENT</th>\n",
       "      <th>MKDAYSSINCENONEVENT</th>\n",
       "      <th>MKEVENTSTREAK</th>\n",
       "      <th>MKEVENTSTREAK_F</th>\n",
       "      <th>WDWMINTEMP_mean</th>\n",
       "      <th>WEATHER_WDWHIGH</th>\n",
       "      <th>WEATHER_WDWLOW</th>\n",
       "      <th>WEATHER_WDWPRECIP</th>\n",
       "      <th>CapacityLost_MK</th>\n",
       "      <th>CapacityLostWGT_MK</th>\n",
       "    </tr>\n",
       "  </thead>\n",
       "  <tbody>\n",
       "    <tr>\n",
       "      <th>0</th>\n",
       "      <td>2015-01-01 07:00:00</td>\n",
       "      <td>45.0</td>\n",
       "      <td>na</td>\n",
       "      <td>5.0</td>\n",
       "      <td>2015-01-01</td>\n",
       "      <td>5.0</td>\n",
       "      <td>0.0</td>\n",
       "      <td>0.0</td>\n",
       "      <td>1.0</td>\n",
       "      <td>2015.0</td>\n",
       "      <td>...</td>\n",
       "      <td>1.0</td>\n",
       "      <td>1.0</td>\n",
       "      <td>0.0</td>\n",
       "      <td>0.0</td>\n",
       "      <td>53.375714</td>\n",
       "      <td>70.3</td>\n",
       "      <td>50.2</td>\n",
       "      <td>0.12</td>\n",
       "      <td>616246.0</td>\n",
       "      <td>53904354.0</td>\n",
       "    </tr>\n",
       "    <tr>\n",
       "      <th>1</th>\n",
       "      <td>2015-01-01 08:00:00</td>\n",
       "      <td>78.0</td>\n",
       "      <td>na</td>\n",
       "      <td>5.0</td>\n",
       "      <td>2015-01-01</td>\n",
       "      <td>5.0</td>\n",
       "      <td>0.0</td>\n",
       "      <td>0.0</td>\n",
       "      <td>1.0</td>\n",
       "      <td>2015.0</td>\n",
       "      <td>...</td>\n",
       "      <td>1.0</td>\n",
       "      <td>1.0</td>\n",
       "      <td>0.0</td>\n",
       "      <td>0.0</td>\n",
       "      <td>53.375714</td>\n",
       "      <td>70.3</td>\n",
       "      <td>50.2</td>\n",
       "      <td>0.12</td>\n",
       "      <td>616246.0</td>\n",
       "      <td>53904354.0</td>\n",
       "    </tr>\n",
       "    <tr>\n",
       "      <th>2</th>\n",
       "      <td>2015-01-01 09:00:00</td>\n",
       "      <td>103.0</td>\n",
       "      <td>na</td>\n",
       "      <td>5.0</td>\n",
       "      <td>2015-01-01</td>\n",
       "      <td>5.0</td>\n",
       "      <td>0.0</td>\n",
       "      <td>0.0</td>\n",
       "      <td>1.0</td>\n",
       "      <td>2015.0</td>\n",
       "      <td>...</td>\n",
       "      <td>1.0</td>\n",
       "      <td>1.0</td>\n",
       "      <td>0.0</td>\n",
       "      <td>0.0</td>\n",
       "      <td>53.375714</td>\n",
       "      <td>70.3</td>\n",
       "      <td>50.2</td>\n",
       "      <td>0.12</td>\n",
       "      <td>616246.0</td>\n",
       "      <td>53904354.0</td>\n",
       "    </tr>\n",
       "    <tr>\n",
       "      <th>3</th>\n",
       "      <td>2015-01-01 10:00:00</td>\n",
       "      <td>88.0</td>\n",
       "      <td>28.0</td>\n",
       "      <td>16.0</td>\n",
       "      <td>2015-01-01</td>\n",
       "      <td>5.0</td>\n",
       "      <td>0.0</td>\n",
       "      <td>0.0</td>\n",
       "      <td>1.0</td>\n",
       "      <td>2015.0</td>\n",
       "      <td>...</td>\n",
       "      <td>1.0</td>\n",
       "      <td>1.0</td>\n",
       "      <td>0.0</td>\n",
       "      <td>0.0</td>\n",
       "      <td>53.375714</td>\n",
       "      <td>70.3</td>\n",
       "      <td>50.2</td>\n",
       "      <td>0.12</td>\n",
       "      <td>616246.0</td>\n",
       "      <td>53904354.0</td>\n",
       "    </tr>\n",
       "    <tr>\n",
       "      <th>4</th>\n",
       "      <td>2015-01-01 11:00:00</td>\n",
       "      <td>86.0</td>\n",
       "      <td>62.0</td>\n",
       "      <td>22.0</td>\n",
       "      <td>2015-01-01</td>\n",
       "      <td>5.0</td>\n",
       "      <td>0.0</td>\n",
       "      <td>0.0</td>\n",
       "      <td>1.0</td>\n",
       "      <td>2015.0</td>\n",
       "      <td>...</td>\n",
       "      <td>1.0</td>\n",
       "      <td>1.0</td>\n",
       "      <td>0.0</td>\n",
       "      <td>0.0</td>\n",
       "      <td>53.375714</td>\n",
       "      <td>70.3</td>\n",
       "      <td>50.2</td>\n",
       "      <td>0.12</td>\n",
       "      <td>616246.0</td>\n",
       "      <td>53904354.0</td>\n",
       "    </tr>\n",
       "  </tbody>\n",
       "</table>\n",
       "<p>5 rows × 70 columns</p>\n",
       "</div>"
      ],
      "text/plain": [
       "              datetime seven_dwarfs_train pirates_of_caribbean  \\\n",
       "0  2015-01-01 07:00:00               45.0                   na   \n",
       "1  2015-01-01 08:00:00               78.0                   na   \n",
       "2  2015-01-01 09:00:00              103.0                   na   \n",
       "3  2015-01-01 10:00:00               88.0                 28.0   \n",
       "4  2015-01-01 11:00:00               86.0                 62.0   \n",
       "\n",
       "  splash_mountain       DATE  DAYOFWEEK  DAYOFYEAR  WEEKOFYEAR  MONTHOFYEAR  \\\n",
       "0             5.0 2015-01-01        5.0        0.0         0.0          1.0   \n",
       "1             5.0 2015-01-01        5.0        0.0         0.0          1.0   \n",
       "2             5.0 2015-01-01        5.0        0.0         0.0          1.0   \n",
       "3            16.0 2015-01-01        5.0        0.0         0.0          1.0   \n",
       "4            22.0 2015-01-01        5.0        0.0         0.0          1.0   \n",
       "\n",
       "     YEAR  ...  MKDAYSBEFORENONEVENT  MKDAYSSINCENONEVENT  MKEVENTSTREAK  \\\n",
       "0  2015.0  ...                   1.0                  1.0            0.0   \n",
       "1  2015.0  ...                   1.0                  1.0            0.0   \n",
       "2  2015.0  ...                   1.0                  1.0            0.0   \n",
       "3  2015.0  ...                   1.0                  1.0            0.0   \n",
       "4  2015.0  ...                   1.0                  1.0            0.0   \n",
       "\n",
       "   MKEVENTSTREAK_F  WDWMINTEMP_mean WEATHER_WDWHIGH  WEATHER_WDWLOW  \\\n",
       "0              0.0        53.375714            70.3            50.2   \n",
       "1              0.0        53.375714            70.3            50.2   \n",
       "2              0.0        53.375714            70.3            50.2   \n",
       "3              0.0        53.375714            70.3            50.2   \n",
       "4              0.0        53.375714            70.3            50.2   \n",
       "\n",
       "   WEATHER_WDWPRECIP  CapacityLost_MK  CapacityLostWGT_MK  \n",
       "0               0.12         616246.0          53904354.0  \n",
       "1               0.12         616246.0          53904354.0  \n",
       "2               0.12         616246.0          53904354.0  \n",
       "3               0.12         616246.0          53904354.0  \n",
       "4               0.12         616246.0          53904354.0  \n",
       "\n",
       "[5 rows x 70 columns]"
      ]
     },
     "execution_count": 9,
     "metadata": {},
     "output_type": "execute_result"
    }
   ],
   "source": [
    "mk.head()"
   ]
  },
  {
   "cell_type": "code",
   "execution_count": 10,
   "metadata": {},
   "outputs": [
    {
     "data": {
      "text/html": [
       "<div>\n",
       "<style scoped>\n",
       "    .dataframe tbody tr th:only-of-type {\n",
       "        vertical-align: middle;\n",
       "    }\n",
       "\n",
       "    .dataframe tbody tr th {\n",
       "        vertical-align: top;\n",
       "    }\n",
       "\n",
       "    .dataframe thead th {\n",
       "        text-align: right;\n",
       "    }\n",
       "</style>\n",
       "<table border=\"1\" class=\"dataframe\">\n",
       "  <thead>\n",
       "    <tr style=\"text-align: right;\">\n",
       "      <th></th>\n",
       "      <th>datetime</th>\n",
       "      <th>seven_dwarfs_train</th>\n",
       "      <th>pirates_of_caribbean</th>\n",
       "      <th>splash_mountain</th>\n",
       "      <th>DAYOFWEEK</th>\n",
       "      <th>DAYOFYEAR</th>\n",
       "      <th>WEEKOFYEAR</th>\n",
       "      <th>MONTHOFYEAR</th>\n",
       "      <th>YEAR</th>\n",
       "      <th>HOLIDAYPX</th>\n",
       "      <th>...</th>\n",
       "      <th>MKDAYSBEFORENONEVENT</th>\n",
       "      <th>MKDAYSSINCENONEVENT</th>\n",
       "      <th>MKEVENTSTREAK</th>\n",
       "      <th>MKEVENTSTREAK_F</th>\n",
       "      <th>WDWMINTEMP_mean</th>\n",
       "      <th>WEATHER_WDWHIGH</th>\n",
       "      <th>WEATHER_WDWLOW</th>\n",
       "      <th>WEATHER_WDWPRECIP</th>\n",
       "      <th>CapacityLost_MK</th>\n",
       "      <th>CapacityLostWGT_MK</th>\n",
       "    </tr>\n",
       "  </thead>\n",
       "  <tbody>\n",
       "    <tr>\n",
       "      <th>0</th>\n",
       "      <td>2015-01-01 07:00:00</td>\n",
       "      <td>45.0</td>\n",
       "      <td>na</td>\n",
       "      <td>5.0</td>\n",
       "      <td>5.0</td>\n",
       "      <td>0.0</td>\n",
       "      <td>0.0</td>\n",
       "      <td>1.0</td>\n",
       "      <td>2015.0</td>\n",
       "      <td>0.0</td>\n",
       "      <td>...</td>\n",
       "      <td>1.0</td>\n",
       "      <td>1.0</td>\n",
       "      <td>0.0</td>\n",
       "      <td>0.0</td>\n",
       "      <td>53.375714</td>\n",
       "      <td>70.3</td>\n",
       "      <td>50.2</td>\n",
       "      <td>0.12</td>\n",
       "      <td>616246.0</td>\n",
       "      <td>53904354.0</td>\n",
       "    </tr>\n",
       "    <tr>\n",
       "      <th>1</th>\n",
       "      <td>2015-01-01 08:00:00</td>\n",
       "      <td>78.0</td>\n",
       "      <td>na</td>\n",
       "      <td>5.0</td>\n",
       "      <td>5.0</td>\n",
       "      <td>0.0</td>\n",
       "      <td>0.0</td>\n",
       "      <td>1.0</td>\n",
       "      <td>2015.0</td>\n",
       "      <td>0.0</td>\n",
       "      <td>...</td>\n",
       "      <td>1.0</td>\n",
       "      <td>1.0</td>\n",
       "      <td>0.0</td>\n",
       "      <td>0.0</td>\n",
       "      <td>53.375714</td>\n",
       "      <td>70.3</td>\n",
       "      <td>50.2</td>\n",
       "      <td>0.12</td>\n",
       "      <td>616246.0</td>\n",
       "      <td>53904354.0</td>\n",
       "    </tr>\n",
       "    <tr>\n",
       "      <th>2</th>\n",
       "      <td>2015-01-01 09:00:00</td>\n",
       "      <td>103.0</td>\n",
       "      <td>na</td>\n",
       "      <td>5.0</td>\n",
       "      <td>5.0</td>\n",
       "      <td>0.0</td>\n",
       "      <td>0.0</td>\n",
       "      <td>1.0</td>\n",
       "      <td>2015.0</td>\n",
       "      <td>0.0</td>\n",
       "      <td>...</td>\n",
       "      <td>1.0</td>\n",
       "      <td>1.0</td>\n",
       "      <td>0.0</td>\n",
       "      <td>0.0</td>\n",
       "      <td>53.375714</td>\n",
       "      <td>70.3</td>\n",
       "      <td>50.2</td>\n",
       "      <td>0.12</td>\n",
       "      <td>616246.0</td>\n",
       "      <td>53904354.0</td>\n",
       "    </tr>\n",
       "    <tr>\n",
       "      <th>3</th>\n",
       "      <td>2015-01-01 10:00:00</td>\n",
       "      <td>88.0</td>\n",
       "      <td>28.0</td>\n",
       "      <td>16.0</td>\n",
       "      <td>5.0</td>\n",
       "      <td>0.0</td>\n",
       "      <td>0.0</td>\n",
       "      <td>1.0</td>\n",
       "      <td>2015.0</td>\n",
       "      <td>0.0</td>\n",
       "      <td>...</td>\n",
       "      <td>1.0</td>\n",
       "      <td>1.0</td>\n",
       "      <td>0.0</td>\n",
       "      <td>0.0</td>\n",
       "      <td>53.375714</td>\n",
       "      <td>70.3</td>\n",
       "      <td>50.2</td>\n",
       "      <td>0.12</td>\n",
       "      <td>616246.0</td>\n",
       "      <td>53904354.0</td>\n",
       "    </tr>\n",
       "    <tr>\n",
       "      <th>4</th>\n",
       "      <td>2015-01-01 11:00:00</td>\n",
       "      <td>86.0</td>\n",
       "      <td>62.0</td>\n",
       "      <td>22.0</td>\n",
       "      <td>5.0</td>\n",
       "      <td>0.0</td>\n",
       "      <td>0.0</td>\n",
       "      <td>1.0</td>\n",
       "      <td>2015.0</td>\n",
       "      <td>0.0</td>\n",
       "      <td>...</td>\n",
       "      <td>1.0</td>\n",
       "      <td>1.0</td>\n",
       "      <td>0.0</td>\n",
       "      <td>0.0</td>\n",
       "      <td>53.375714</td>\n",
       "      <td>70.3</td>\n",
       "      <td>50.2</td>\n",
       "      <td>0.12</td>\n",
       "      <td>616246.0</td>\n",
       "      <td>53904354.0</td>\n",
       "    </tr>\n",
       "    <tr>\n",
       "      <th>...</th>\n",
       "      <td>...</td>\n",
       "      <td>...</td>\n",
       "      <td>...</td>\n",
       "      <td>...</td>\n",
       "      <td>...</td>\n",
       "      <td>...</td>\n",
       "      <td>...</td>\n",
       "      <td>...</td>\n",
       "      <td>...</td>\n",
       "      <td>...</td>\n",
       "      <td>...</td>\n",
       "      <td>...</td>\n",
       "      <td>...</td>\n",
       "      <td>...</td>\n",
       "      <td>...</td>\n",
       "      <td>...</td>\n",
       "      <td>...</td>\n",
       "      <td>...</td>\n",
       "      <td>...</td>\n",
       "      <td>...</td>\n",
       "      <td>...</td>\n",
       "    </tr>\n",
       "    <tr>\n",
       "      <th>31054</th>\n",
       "      <td>2019-12-31 22:00:00</td>\n",
       "      <td>83.0</td>\n",
       "      <td>22.0</td>\n",
       "      <td>11.0</td>\n",
       "      <td>NaN</td>\n",
       "      <td>NaN</td>\n",
       "      <td>NaN</td>\n",
       "      <td>NaN</td>\n",
       "      <td>NaN</td>\n",
       "      <td>NaN</td>\n",
       "      <td>...</td>\n",
       "      <td>NaN</td>\n",
       "      <td>NaN</td>\n",
       "      <td>NaN</td>\n",
       "      <td>NaN</td>\n",
       "      <td>NaN</td>\n",
       "      <td>NaN</td>\n",
       "      <td>NaN</td>\n",
       "      <td>NaN</td>\n",
       "      <td>NaN</td>\n",
       "      <td>NaN</td>\n",
       "    </tr>\n",
       "    <tr>\n",
       "      <th>31055</th>\n",
       "      <td>2019-12-31 23:00:00</td>\n",
       "      <td>46.0</td>\n",
       "      <td>12.0</td>\n",
       "      <td>6.0</td>\n",
       "      <td>NaN</td>\n",
       "      <td>NaN</td>\n",
       "      <td>NaN</td>\n",
       "      <td>NaN</td>\n",
       "      <td>NaN</td>\n",
       "      <td>NaN</td>\n",
       "      <td>...</td>\n",
       "      <td>NaN</td>\n",
       "      <td>NaN</td>\n",
       "      <td>NaN</td>\n",
       "      <td>NaN</td>\n",
       "      <td>NaN</td>\n",
       "      <td>NaN</td>\n",
       "      <td>NaN</td>\n",
       "      <td>NaN</td>\n",
       "      <td>NaN</td>\n",
       "      <td>NaN</td>\n",
       "    </tr>\n",
       "    <tr>\n",
       "      <th>31056</th>\n",
       "      <td>2019-12-31 06:00:00</td>\n",
       "      <td>na</td>\n",
       "      <td>na</td>\n",
       "      <td>na</td>\n",
       "      <td>NaN</td>\n",
       "      <td>NaN</td>\n",
       "      <td>NaN</td>\n",
       "      <td>NaN</td>\n",
       "      <td>NaN</td>\n",
       "      <td>NaN</td>\n",
       "      <td>...</td>\n",
       "      <td>NaN</td>\n",
       "      <td>NaN</td>\n",
       "      <td>NaN</td>\n",
       "      <td>NaN</td>\n",
       "      <td>NaN</td>\n",
       "      <td>NaN</td>\n",
       "      <td>NaN</td>\n",
       "      <td>NaN</td>\n",
       "      <td>NaN</td>\n",
       "      <td>NaN</td>\n",
       "    </tr>\n",
       "    <tr>\n",
       "      <th>31057</th>\n",
       "      <td>2020-01-01 00:00:00</td>\n",
       "      <td>107.0</td>\n",
       "      <td>11.0</td>\n",
       "      <td>5.0</td>\n",
       "      <td>NaN</td>\n",
       "      <td>NaN</td>\n",
       "      <td>NaN</td>\n",
       "      <td>NaN</td>\n",
       "      <td>NaN</td>\n",
       "      <td>NaN</td>\n",
       "      <td>...</td>\n",
       "      <td>NaN</td>\n",
       "      <td>NaN</td>\n",
       "      <td>NaN</td>\n",
       "      <td>NaN</td>\n",
       "      <td>NaN</td>\n",
       "      <td>NaN</td>\n",
       "      <td>NaN</td>\n",
       "      <td>NaN</td>\n",
       "      <td>NaN</td>\n",
       "      <td>NaN</td>\n",
       "    </tr>\n",
       "    <tr>\n",
       "      <th>31058</th>\n",
       "      <td>2020-01-01 01:00:00</td>\n",
       "      <td>na</td>\n",
       "      <td>10.0</td>\n",
       "      <td>5.0</td>\n",
       "      <td>NaN</td>\n",
       "      <td>NaN</td>\n",
       "      <td>NaN</td>\n",
       "      <td>NaN</td>\n",
       "      <td>NaN</td>\n",
       "      <td>NaN</td>\n",
       "      <td>...</td>\n",
       "      <td>NaN</td>\n",
       "      <td>NaN</td>\n",
       "      <td>NaN</td>\n",
       "      <td>NaN</td>\n",
       "      <td>NaN</td>\n",
       "      <td>NaN</td>\n",
       "      <td>NaN</td>\n",
       "      <td>NaN</td>\n",
       "      <td>NaN</td>\n",
       "      <td>NaN</td>\n",
       "    </tr>\n",
       "  </tbody>\n",
       "</table>\n",
       "<p>31059 rows × 69 columns</p>\n",
       "</div>"
      ],
      "text/plain": [
       "                  datetime seven_dwarfs_train pirates_of_caribbean  \\\n",
       "0      2015-01-01 07:00:00               45.0                   na   \n",
       "1      2015-01-01 08:00:00               78.0                   na   \n",
       "2      2015-01-01 09:00:00              103.0                   na   \n",
       "3      2015-01-01 10:00:00               88.0                 28.0   \n",
       "4      2015-01-01 11:00:00               86.0                 62.0   \n",
       "...                    ...                ...                  ...   \n",
       "31054  2019-12-31 22:00:00               83.0                 22.0   \n",
       "31055  2019-12-31 23:00:00               46.0                 12.0   \n",
       "31056  2019-12-31 06:00:00                 na                   na   \n",
       "31057  2020-01-01 00:00:00              107.0                 11.0   \n",
       "31058  2020-01-01 01:00:00                 na                 10.0   \n",
       "\n",
       "      splash_mountain  DAYOFWEEK  DAYOFYEAR  WEEKOFYEAR  MONTHOFYEAR    YEAR  \\\n",
       "0                 5.0        5.0        0.0         0.0          1.0  2015.0   \n",
       "1                 5.0        5.0        0.0         0.0          1.0  2015.0   \n",
       "2                 5.0        5.0        0.0         0.0          1.0  2015.0   \n",
       "3                16.0        5.0        0.0         0.0          1.0  2015.0   \n",
       "4                22.0        5.0        0.0         0.0          1.0  2015.0   \n",
       "...               ...        ...        ...         ...          ...     ...   \n",
       "31054            11.0        NaN        NaN         NaN          NaN     NaN   \n",
       "31055             6.0        NaN        NaN         NaN          NaN     NaN   \n",
       "31056              na        NaN        NaN         NaN          NaN     NaN   \n",
       "31057             5.0        NaN        NaN         NaN          NaN     NaN   \n",
       "31058             5.0        NaN        NaN         NaN          NaN     NaN   \n",
       "\n",
       "       HOLIDAYPX  ...  MKDAYSBEFORENONEVENT  MKDAYSSINCENONEVENT  \\\n",
       "0            0.0  ...                   1.0                  1.0   \n",
       "1            0.0  ...                   1.0                  1.0   \n",
       "2            0.0  ...                   1.0                  1.0   \n",
       "3            0.0  ...                   1.0                  1.0   \n",
       "4            0.0  ...                   1.0                  1.0   \n",
       "...          ...  ...                   ...                  ...   \n",
       "31054        NaN  ...                   NaN                  NaN   \n",
       "31055        NaN  ...                   NaN                  NaN   \n",
       "31056        NaN  ...                   NaN                  NaN   \n",
       "31057        NaN  ...                   NaN                  NaN   \n",
       "31058        NaN  ...                   NaN                  NaN   \n",
       "\n",
       "       MKEVENTSTREAK  MKEVENTSTREAK_F WDWMINTEMP_mean  WEATHER_WDWHIGH  \\\n",
       "0                0.0              0.0       53.375714             70.3   \n",
       "1                0.0              0.0       53.375714             70.3   \n",
       "2                0.0              0.0       53.375714             70.3   \n",
       "3                0.0              0.0       53.375714             70.3   \n",
       "4                0.0              0.0       53.375714             70.3   \n",
       "...              ...              ...             ...              ...   \n",
       "31054            NaN              NaN             NaN              NaN   \n",
       "31055            NaN              NaN             NaN              NaN   \n",
       "31056            NaN              NaN             NaN              NaN   \n",
       "31057            NaN              NaN             NaN              NaN   \n",
       "31058            NaN              NaN             NaN              NaN   \n",
       "\n",
       "       WEATHER_WDWLOW  WEATHER_WDWPRECIP  CapacityLost_MK CapacityLostWGT_MK  \n",
       "0                50.2               0.12         616246.0         53904354.0  \n",
       "1                50.2               0.12         616246.0         53904354.0  \n",
       "2                50.2               0.12         616246.0         53904354.0  \n",
       "3                50.2               0.12         616246.0         53904354.0  \n",
       "4                50.2               0.12         616246.0         53904354.0  \n",
       "...               ...                ...              ...                ...  \n",
       "31054             NaN                NaN              NaN                NaN  \n",
       "31055             NaN                NaN              NaN                NaN  \n",
       "31056             NaN                NaN              NaN                NaN  \n",
       "31057             NaN                NaN              NaN                NaN  \n",
       "31058             NaN                NaN              NaN                NaN  \n",
       "\n",
       "[31059 rows x 69 columns]"
      ]
     },
     "execution_count": 10,
     "metadata": {},
     "output_type": "execute_result"
    }
   ],
   "source": [
    "# Dropped unneeded Date column\n",
    "mk.drop('DATE', axis = 1,  inplace = True)\n",
    "mk"
   ]
  },
  {
   "cell_type": "code",
   "execution_count": 11,
   "metadata": {},
   "outputs": [],
   "source": [
    "mk.set_index('datetime', inplace=True)\n",
    "mk.sort_index(inplace=True)"
   ]
  },
  {
   "cell_type": "code",
   "execution_count": 12,
   "metadata": {
    "scrolled": true
   },
   "outputs": [
    {
     "data": {
      "text/html": [
       "<div>\n",
       "<style scoped>\n",
       "    .dataframe tbody tr th:only-of-type {\n",
       "        vertical-align: middle;\n",
       "    }\n",
       "\n",
       "    .dataframe tbody tr th {\n",
       "        vertical-align: top;\n",
       "    }\n",
       "\n",
       "    .dataframe thead th {\n",
       "        text-align: right;\n",
       "    }\n",
       "</style>\n",
       "<table border=\"1\" class=\"dataframe\">\n",
       "  <thead>\n",
       "    <tr style=\"text-align: right;\">\n",
       "      <th></th>\n",
       "      <th>seven_dwarfs_train</th>\n",
       "      <th>pirates_of_caribbean</th>\n",
       "      <th>splash_mountain</th>\n",
       "      <th>DAYOFWEEK</th>\n",
       "      <th>DAYOFYEAR</th>\n",
       "      <th>WEEKOFYEAR</th>\n",
       "      <th>MONTHOFYEAR</th>\n",
       "      <th>YEAR</th>\n",
       "      <th>HOLIDAYPX</th>\n",
       "      <th>HOLIDAYM</th>\n",
       "      <th>...</th>\n",
       "      <th>MKDAYSBEFORENONEVENT</th>\n",
       "      <th>MKDAYSSINCENONEVENT</th>\n",
       "      <th>MKEVENTSTREAK</th>\n",
       "      <th>MKEVENTSTREAK_F</th>\n",
       "      <th>WDWMINTEMP_mean</th>\n",
       "      <th>WEATHER_WDWHIGH</th>\n",
       "      <th>WEATHER_WDWLOW</th>\n",
       "      <th>WEATHER_WDWPRECIP</th>\n",
       "      <th>CapacityLost_MK</th>\n",
       "      <th>CapacityLostWGT_MK</th>\n",
       "    </tr>\n",
       "    <tr>\n",
       "      <th>datetime</th>\n",
       "      <th></th>\n",
       "      <th></th>\n",
       "      <th></th>\n",
       "      <th></th>\n",
       "      <th></th>\n",
       "      <th></th>\n",
       "      <th></th>\n",
       "      <th></th>\n",
       "      <th></th>\n",
       "      <th></th>\n",
       "      <th></th>\n",
       "      <th></th>\n",
       "      <th></th>\n",
       "      <th></th>\n",
       "      <th></th>\n",
       "      <th></th>\n",
       "      <th></th>\n",
       "      <th></th>\n",
       "      <th></th>\n",
       "      <th></th>\n",
       "      <th></th>\n",
       "    </tr>\n",
       "  </thead>\n",
       "  <tbody>\n",
       "    <tr>\n",
       "      <th>2015-01-01 07:00:00</th>\n",
       "      <td>45.0</td>\n",
       "      <td>na</td>\n",
       "      <td>5.0</td>\n",
       "      <td>5.0</td>\n",
       "      <td>0.0</td>\n",
       "      <td>0.0</td>\n",
       "      <td>1.0</td>\n",
       "      <td>2015.0</td>\n",
       "      <td>0.0</td>\n",
       "      <td>5.0</td>\n",
       "      <td>...</td>\n",
       "      <td>1.0</td>\n",
       "      <td>1.0</td>\n",
       "      <td>0.0</td>\n",
       "      <td>0.0</td>\n",
       "      <td>53.375714</td>\n",
       "      <td>70.3</td>\n",
       "      <td>50.2</td>\n",
       "      <td>0.12</td>\n",
       "      <td>616246.0</td>\n",
       "      <td>53904354.0</td>\n",
       "    </tr>\n",
       "    <tr>\n",
       "      <th>2015-01-01 08:00:00</th>\n",
       "      <td>78.0</td>\n",
       "      <td>na</td>\n",
       "      <td>5.0</td>\n",
       "      <td>5.0</td>\n",
       "      <td>0.0</td>\n",
       "      <td>0.0</td>\n",
       "      <td>1.0</td>\n",
       "      <td>2015.0</td>\n",
       "      <td>0.0</td>\n",
       "      <td>5.0</td>\n",
       "      <td>...</td>\n",
       "      <td>1.0</td>\n",
       "      <td>1.0</td>\n",
       "      <td>0.0</td>\n",
       "      <td>0.0</td>\n",
       "      <td>53.375714</td>\n",
       "      <td>70.3</td>\n",
       "      <td>50.2</td>\n",
       "      <td>0.12</td>\n",
       "      <td>616246.0</td>\n",
       "      <td>53904354.0</td>\n",
       "    </tr>\n",
       "  </tbody>\n",
       "</table>\n",
       "<p>2 rows × 68 columns</p>\n",
       "</div>"
      ],
      "text/plain": [
       "                    seven_dwarfs_train pirates_of_caribbean splash_mountain  \\\n",
       "datetime                                                                      \n",
       "2015-01-01 07:00:00               45.0                   na             5.0   \n",
       "2015-01-01 08:00:00               78.0                   na             5.0   \n",
       "\n",
       "                     DAYOFWEEK  DAYOFYEAR  WEEKOFYEAR  MONTHOFYEAR    YEAR  \\\n",
       "datetime                                                                     \n",
       "2015-01-01 07:00:00        5.0        0.0         0.0          1.0  2015.0   \n",
       "2015-01-01 08:00:00        5.0        0.0         0.0          1.0  2015.0   \n",
       "\n",
       "                     HOLIDAYPX  HOLIDAYM  ...  MKDAYSBEFORENONEVENT  \\\n",
       "datetime                                  ...                         \n",
       "2015-01-01 07:00:00        0.0       5.0  ...                   1.0   \n",
       "2015-01-01 08:00:00        0.0       5.0  ...                   1.0   \n",
       "\n",
       "                     MKDAYSSINCENONEVENT  MKEVENTSTREAK MKEVENTSTREAK_F  \\\n",
       "datetime                                                                  \n",
       "2015-01-01 07:00:00                  1.0            0.0             0.0   \n",
       "2015-01-01 08:00:00                  1.0            0.0             0.0   \n",
       "\n",
       "                     WDWMINTEMP_mean  WEATHER_WDWHIGH  WEATHER_WDWLOW  \\\n",
       "datetime                                                                \n",
       "2015-01-01 07:00:00        53.375714             70.3            50.2   \n",
       "2015-01-01 08:00:00        53.375714             70.3            50.2   \n",
       "\n",
       "                     WEATHER_WDWPRECIP CapacityLost_MK CapacityLostWGT_MK  \n",
       "datetime                                                                   \n",
       "2015-01-01 07:00:00               0.12        616246.0         53904354.0  \n",
       "2015-01-01 08:00:00               0.12        616246.0         53904354.0  \n",
       "\n",
       "[2 rows x 68 columns]"
      ]
     },
     "execution_count": 12,
     "metadata": {},
     "output_type": "execute_result"
    }
   ],
   "source": [
    "mk.head(2)"
   ]
  },
  {
   "cell_type": "code",
   "execution_count": null,
   "metadata": {},
   "outputs": [],
   "source": []
  },
  {
   "cell_type": "code",
   "execution_count": 13,
   "metadata": {},
   "outputs": [
    {
     "data": {
      "text/plain": [
       "seven_dwarfs_train       0\n",
       "pirates_of_caribbean     0\n",
       "splash_mountain          0\n",
       "DAYOFWEEK               22\n",
       "DAYOFYEAR               22\n",
       "                        ..\n",
       "WEATHER_WDWHIGH         22\n",
       "WEATHER_WDWLOW          22\n",
       "WEATHER_WDWPRECIP       22\n",
       "CapacityLost_MK         22\n",
       "CapacityLostWGT_MK      22\n",
       "Length: 68, dtype: int64"
      ]
     },
     "execution_count": 13,
     "metadata": {},
     "output_type": "execute_result"
    }
   ],
   "source": [
    "mk.isnull().sum()"
   ]
  },
  {
   "cell_type": "code",
   "execution_count": 14,
   "metadata": {},
   "outputs": [
    {
     "data": {
      "text/plain": [
       "seven_dwarfs_train      0\n",
       "pirates_of_caribbean    0\n",
       "splash_mountain         0\n",
       "DAYOFWEEK               0\n",
       "DAYOFYEAR               0\n",
       "                       ..\n",
       "WEATHER_WDWHIGH         0\n",
       "WEATHER_WDWLOW          0\n",
       "WEATHER_WDWPRECIP       0\n",
       "CapacityLost_MK         0\n",
       "CapacityLostWGT_MK      0\n",
       "Length: 68, dtype: int64"
      ]
     },
     "execution_count": 14,
     "metadata": {},
     "output_type": "execute_result"
    }
   ],
   "source": [
    "mk.fillna(0, inplace=True)\n",
    "mk.isnull().sum()"
   ]
  },
  {
   "cell_type": "code",
   "execution_count": 15,
   "metadata": {
    "scrolled": true
   },
   "outputs": [],
   "source": [
    "# mk2 = mk[['MKOPEN', 'MKCLOSE',  'MKEMHOPEN', 'MKEMHCLOSE',\n",
    "#        'MKOPENYEST', 'MKCLOSEYEST', 'MKOPENTOM',\n",
    "#        'MKCLOSETOM']].copy()\n",
    "# mk2.head(2)"
   ]
  },
  {
   "cell_type": "code",
   "execution_count": null,
   "metadata": {},
   "outputs": [],
   "source": []
  },
  {
   "cell_type": "code",
   "execution_count": 16,
   "metadata": {},
   "outputs": [],
   "source": [
    "for col in ['MKOPEN', 'MKCLOSE',  'MKEMHOPEN', 'MKEMHCLOSE',\n",
    "       'MKOPENYEST', 'MKCLOSEYEST', 'MKOPENTOM',\n",
    "       'MKCLOSETOM','SUNSET_WDW']:\n",
    "    mk[col] = np.where(mk[col] == \"24:00\",'23:59' ,mk[col])\n",
    "    mk[col] = np.where(mk[col] == \"27:00\",'23:59' ,mk[col])\n",
    "    mk[col] = np.where(mk[col] == \"26:00\",'23:59' ,mk[col])\n",
    "    mk[col] = np.where(mk[col] == \"25:00\",'23:59' ,mk[col])\n",
    "    mk[col] = np.where(mk[col] == \"23:55\",'23:59' ,mk[col])\n",
    "    mk[col] = np.where(mk[col] == \"29:59\",'23:59' ,mk[col])\n",
    "    mk[col] = np.where(mk[col] == \"30:00\",'23:59' ,mk[col])"
   ]
  },
  {
   "cell_type": "code",
   "execution_count": 17,
   "metadata": {},
   "outputs": [],
   "source": [
    "for col in ['MKOPEN', 'MKCLOSE',  'MKEMHOPEN', 'MKEMHCLOSE',\n",
    "       'MKOPENYEST', 'MKCLOSEYEST', 'MKOPENTOM',\n",
    "       'MKCLOSETOM','SUNSET_WDW']:\n",
    "    mk[col] = mk[col].str.replace(\":\",\"\")"
   ]
  },
  {
   "cell_type": "code",
   "execution_count": 18,
   "metadata": {},
   "outputs": [
    {
     "data": {
      "text/plain": [
       "0"
      ]
     },
     "execution_count": 18,
     "metadata": {},
     "output_type": "execute_result"
    }
   ],
   "source": [
    "mk.fillna(0, inplace=True)\n",
    "mk.isnull().values.sum()"
   ]
  },
  {
   "cell_type": "code",
   "execution_count": 19,
   "metadata": {},
   "outputs": [],
   "source": [
    "for col in ['MKOPEN', 'MKCLOSE',  'MKEMHOPEN', 'MKEMHCLOSE',\n",
    "       'MKOPENYEST', 'MKCLOSEYEST', 'MKOPENTOM',\n",
    "       'MKCLOSETOM','SUNSET_WDW']:\n",
    "    mk[col] = mk[col].astype(int)"
   ]
  },
  {
   "cell_type": "code",
   "execution_count": 20,
   "metadata": {
    "scrolled": true
   },
   "outputs": [],
   "source": [
    "for col in ['inSession', 'inSession_Enrollment', 'inSession_wdw',\n",
    "       'inSession_sqrt_WDW', 'inSession_DC', 'inSession_Central_FL',\n",
    "       'inSession_Drive1_FL', 'inSession_Drive2_FL',\n",
    "       'inSession_Florida', 'inSession_Mardi_Gras', 'inSession_Midwest',\n",
    "       'inSession_NY_NJ', 'inSession_NY_NJ_PA', 'inSession_New_England',\n",
    "       'inSession_New_Jersey', 'inSession_Nothwest', 'INSESSION_PLANES',\n",
    "       'inSession_SoCal', 'inSession_Southwest']:\n",
    "    mk[col] = mk[col].str.replace(r'%', r'').astype('float')/-100"
   ]
  },
  {
   "cell_type": "code",
   "execution_count": 21,
   "metadata": {},
   "outputs": [],
   "source": [
    "for col in ['seven_dwarfs_train', \"pirates_of_caribbean\", \"splash_mountain\"]:\n",
    "    mk[col] = pd.to_numeric(mk[col],errors='coerce')"
   ]
  },
  {
   "cell_type": "code",
   "execution_count": 22,
   "metadata": {},
   "outputs": [
    {
     "data": {
      "text/plain": [
       "0"
      ]
     },
     "execution_count": 22,
     "metadata": {},
     "output_type": "execute_result"
    }
   ],
   "source": [
    "mk.fillna(0, inplace=True)\n",
    "mk.isnull().values.sum()"
   ]
  },
  {
   "cell_type": "code",
   "execution_count": 23,
   "metadata": {},
   "outputs": [
    {
     "name": "stdout",
     "output_type": "stream",
     "text": [
      "<class 'pandas.core.frame.DataFrame'>\n",
      "Index: 31059 entries, 2015-01-01 07:00:00 to 2020-01-01 01:00:00\n",
      "Data columns (total 68 columns):\n",
      " #   Column                 Non-Null Count  Dtype  \n",
      "---  ------                 --------------  -----  \n",
      " 0   seven_dwarfs_train     31059 non-null  float64\n",
      " 1   pirates_of_caribbean   31059 non-null  float64\n",
      " 2   splash_mountain        31059 non-null  float64\n",
      " 3   DAYOFWEEK              31059 non-null  float64\n",
      " 4   DAYOFYEAR              31059 non-null  float64\n",
      " 5   WEEKOFYEAR             31059 non-null  float64\n",
      " 6   MONTHOFYEAR            31059 non-null  float64\n",
      " 7   YEAR                   31059 non-null  float64\n",
      " 8   HOLIDAYPX              31059 non-null  float64\n",
      " 9   HOLIDAYM               31059 non-null  float64\n",
      " 10  HOLIDAY                31059 non-null  float64\n",
      " 11  WDWevent               31059 non-null  float64\n",
      " 12  WDWrace                31059 non-null  float64\n",
      " 13  WDWSEASON              31059 non-null  object \n",
      " 14  WDWMAXTEMP             31059 non-null  float64\n",
      " 15  WDWMINTEMP             31059 non-null  float64\n",
      " 16  WDWMEANTEMP            31059 non-null  float64\n",
      " 17  MKevent                31059 non-null  float64\n",
      " 18  inSession              31059 non-null  float64\n",
      " 19  inSession_Enrollment   31059 non-null  float64\n",
      " 20  inSession_wdw          31059 non-null  float64\n",
      " 21  inSession_sqrt_WDW     31059 non-null  float64\n",
      " 22  inSession_DC           31059 non-null  float64\n",
      " 23  inSession_Central_FL   31059 non-null  float64\n",
      " 24  inSession_Drive1_FL    31059 non-null  float64\n",
      " 25  inSession_Drive2_FL    31059 non-null  float64\n",
      " 26  inSession_Florida      31059 non-null  float64\n",
      " 27  inSession_Mardi_Gras   31059 non-null  float64\n",
      " 28  inSession_Midwest      31059 non-null  float64\n",
      " 29  inSession_NY_NJ        31059 non-null  float64\n",
      " 30  inSession_NY_NJ_PA     31059 non-null  float64\n",
      " 31  inSession_New_England  31059 non-null  float64\n",
      " 32  inSession_New_Jersey   31059 non-null  float64\n",
      " 33  inSession_Nothwest     31059 non-null  float64\n",
      " 34  INSESSION_PLANES       31059 non-null  float64\n",
      " 35  inSession_SoCal        31059 non-null  float64\n",
      " 36  inSession_Southwest    31059 non-null  float64\n",
      " 37  SUNSET_WDW             31059 non-null  int64  \n",
      " 38  MKEMHMORN              31059 non-null  float64\n",
      " 39  MKEMHMYEST             31059 non-null  float64\n",
      " 40  MKEMHMTOM              31059 non-null  float64\n",
      " 41  MKEMHEVE               31059 non-null  float64\n",
      " 42  MKHOURSEMH             31059 non-null  float64\n",
      " 43  MKHOURSEMHYEST         31059 non-null  float64\n",
      " 44  MKHOURSEMHTOM          31059 non-null  float64\n",
      " 45  MKEMHEYEST             31059 non-null  float64\n",
      " 46  MKEMHETOM              31059 non-null  float64\n",
      " 47  MKOPEN                 31059 non-null  int64  \n",
      " 48  MKCLOSE                31059 non-null  int64  \n",
      " 49  MKHOURS                31059 non-null  float64\n",
      " 50  MKEMHOPEN              31059 non-null  int64  \n",
      " 51  MKEMHCLOSE             31059 non-null  int64  \n",
      " 52  MKOPENYEST             31059 non-null  int64  \n",
      " 53  MKCLOSEYEST            31059 non-null  int64  \n",
      " 54  MKHOURSYEST            31059 non-null  float64\n",
      " 55  MKOPENTOM              31059 non-null  int64  \n",
      " 56  MKCLOSETOM             31059 non-null  int64  \n",
      " 57  MKHOURSTOM             31059 non-null  float64\n",
      " 58  MKDAYSBEFORENONEVENT   31059 non-null  float64\n",
      " 59  MKDAYSSINCENONEVENT    31059 non-null  float64\n",
      " 60  MKEVENTSTREAK          31059 non-null  float64\n",
      " 61  MKEVENTSTREAK_F        31059 non-null  float64\n",
      " 62  WDWMINTEMP_mean        31059 non-null  float64\n",
      " 63  WEATHER_WDWHIGH        31059 non-null  float64\n",
      " 64  WEATHER_WDWLOW         31059 non-null  float64\n",
      " 65  WEATHER_WDWPRECIP      31059 non-null  float64\n",
      " 66  CapacityLost_MK        31059 non-null  float64\n",
      " 67  CapacityLostWGT_MK     31059 non-null  float64\n",
      "dtypes: float64(58), int64(9), object(1)\n",
      "memory usage: 16.4+ MB\n"
     ]
    }
   ],
   "source": [
    "mk.info()"
   ]
  },
  {
   "cell_type": "code",
   "execution_count": null,
   "metadata": {},
   "outputs": [],
   "source": []
  },
  {
   "cell_type": "code",
   "execution_count": null,
   "metadata": {},
   "outputs": [],
   "source": []
  },
  {
   "cell_type": "code",
   "execution_count": 24,
   "metadata": {},
   "outputs": [],
   "source": [
    "# pirates_of_caribbean = mk.drop([\"seven_dwarfs_train\",\"splash_mountain\"], axis = 1)\n",
    "# splash_mountain = mk.drop([\"pirates_of_caribbean\",\"seven_dwarfs_train\"], axis = 1)\n",
    "# seven_dwarfs_train = mk.drop([\"pirates_of_caribbean\",\"splash_mountain\"], axis = 1)\n",
    "# pirates_of_caribbean"
   ]
  },
  {
   "cell_type": "code",
   "execution_count": 25,
   "metadata": {},
   "outputs": [
    {
     "data": {
      "image/png": "[encoded data removed]",
      "text/plain": [
       "<Figure size 1008x720 with 2 Axes>"
      ]
     },
     "metadata": {
      "needs_background": "light"
     },
     "output_type": "display_data"
    }
   ],
   "source": [
    "# Almost unreadable heatmap\n",
    "corr = mk.corr()\n",
    "plt.figure(figsize=(14,10))\n",
    "sns.heatmap(corr)\n",
    "plt.show()"
   ]
  },
  {
   "cell_type": "code",
   "execution_count": 26,
   "metadata": {},
   "outputs": [
    {
     "data": {
      "image/png": "[encoded data removed]",
      "text/plain": [
       "<Figure size 1440x1440 with 2 Axes>"
      ]
     },
     "metadata": {
      "needs_background": "light"
     },
     "output_type": "display_data"
    }
   ],
   "source": [
    "top_corr = mk.corr()\n",
    "top_corr_features = top_corr.index[abs(top_corr[\"pirates_of_caribbean\"]) > .10]\n",
    "plt.figure(figsize=(20,20))\n",
    "g = sns.heatmap(mk[top_corr_features].corr(),annot=True,cmap=\"magma\")"
   ]
  },
  {
   "cell_type": "code",
   "execution_count": 27,
   "metadata": {
    "scrolled": true
   },
   "outputs": [
    {
     "data": {
      "image/png": "[encoded data removed]",
      "text/plain": [
       "<Figure size 432x1296 with 2 Axes>"
      ]
     },
     "metadata": {
      "needs_background": "light"
     },
     "output_type": "display_data"
    }
   ],
   "source": [
    "corr = mk.corr()\n",
    "plt.figure(figsize = (6,18))\n",
    "sns.heatmap(corr[['pirates_of_caribbean']].sort_values(by = 'pirates_of_caribbean', ascending = False).head(70),vmin = 0, annot = True)\n",
    "plt.show()"
   ]
  },
  {
   "cell_type": "code",
   "execution_count": 28,
   "metadata": {},
   "outputs": [],
   "source": [
    "# plt.plot(mk['pirates_of_caribbean']);"
   ]
  },
  {
   "cell_type": "code",
   "execution_count": 29,
   "metadata": {},
   "outputs": [],
   "source": [
    "import numpy as np\n",
    "from math import sqrt\n",
    "from sklearn.datasets import make_classification, make_regression\n",
    "from sklearn.preprocessing import StandardScaler\n",
    "from sklearn.model_selection import train_test_split\n",
    "import matplotlib.pyplot as plt\n",
    "from sklearn.metrics import accuracy_score\n",
    "from tensorflow.keras.models import Sequential\n",
    "from tensorflow.keras.layers import Dense, Dropout, GRU\n",
    "from tensorflow.keras.utils import to_categorical\n",
    "from tensorflow.keras.optimizers import Adam\n",
    "from tensorflow.keras.preprocessing.sequence import TimeseriesGenerator\n",
    "%matplotlib inline"
   ]
  },
  {
   "cell_type": "code",
   "execution_count": 30,
   "metadata": {},
   "outputs": [],
   "source": [
    "import matplotlib.pyplot as plt\n",
    "import seaborn as sns\n",
    "import missingno as msno\n",
    "from sklearn.linear_model import LinearRegression\n",
    "from datetime import date\n",
    "from sklearn import metrics\n",
    "from sklearn.model_selection import train_test_split, cross_val_score\n",
    "from sklearn.linear_model import LinearRegression\n",
    "from sklearn.metrics import r2_score, mean_squared_error\n",
    "from sklearn.preprocessing import StandardScaler, PolynomialFeatures\n",
    "import statsmodels.api as sm"
   ]
  },
  {
   "cell_type": "code",
   "execution_count": 31,
   "metadata": {},
   "outputs": [],
   "source": [
    "from math import sqrt\n",
    "from sklearn.ensemble import RandomForestRegressor, AdaBoostRegressor, BaggingRegressor\n",
    "from sklearn.linear_model import Ridge, RidgeCV, LinearRegression, LogisticRegression, Lasso, LassoCV\n",
    "from sklearn.neighbors import KNeighborsRegressor, KNeighborsClassifier\n",
    "from sklearn.ensemble import BaggingRegressor, BaggingClassifier, RandomForestRegressor, RandomForestClassifier, AdaBoostRegressor, AdaBoostClassifier\n",
    "from sklearn.preprocessing import StandardScaler\n",
    "from sklearn.model_selection import train_test_split, cross_val_score\n",
    "from sklearn.tree import DecisionTreeRegressor, DecisionTreeClassifier\n",
    "from sklearn.metrics import mean_squared_error\n",
    "from sklearn.metrics import f1_score\n",
    "from sklearn import svm"
   ]
  },
  {
   "cell_type": "code",
   "execution_count": 32,
   "metadata": {},
   "outputs": [],
   "source": [
    "features = ['splash_mountain', 'seven_dwarfs_train', 'YEAR', 'MKHOURS', 'MKHOURSEMH', 'inSession','DAYOFWEEK' ,'HOLIDAYM']\n",
    "y = mk['pirates_of_caribbean']\n",
    "X = mk[features]"
   ]
  },
  {
   "cell_type": "code",
   "execution_count": 33,
   "metadata": {},
   "outputs": [],
   "source": [
    "X_train, X_test, y_train, y_test = train_test_split(X, y, test_size =.02, random_state=21)\n",
    "sc = StandardScaler()\n",
    "sc.fit(X_train)\n",
    "X_train_sc = sc.transform(X_train)\n",
    "X_test_sc = sc.transform(X_test)"
   ]
  },
  {
   "cell_type": "code",
   "execution_count": 34,
   "metadata": {},
   "outputs": [
    {
     "data": {
      "text/plain": [
       "LinearRegression(copy_X=True, fit_intercept=True, n_jobs=None, normalize=False)"
      ]
     },
     "execution_count": 34,
     "metadata": {},
     "output_type": "execute_result"
    }
   ],
   "source": [
    "# Created my model and started the train test split\n",
    "linreg = LinearRegression()\n",
    "linreg.fit(X_train_sc, y_train)"
   ]
  },
  {
   "cell_type": "code",
   "execution_count": 35,
   "metadata": {},
   "outputs": [
    {
     "data": {
      "text/plain": [
       "12.654748514347235"
      ]
     },
     "execution_count": 35,
     "metadata": {},
     "output_type": "execute_result"
    }
   ],
   "source": [
    "linreg_preds_train = linreg.predict(X_train_sc)\n",
    "linreg_rms_train = sqrt(mean_squared_error(y_train, linreg_preds_train))\n",
    "linreg_rms_train"
   ]
  },
  {
   "cell_type": "code",
   "execution_count": 36,
   "metadata": {},
   "outputs": [
    {
     "data": {
      "text/plain": [
       "12.435674699524492"
      ]
     },
     "execution_count": 36,
     "metadata": {},
     "output_type": "execute_result"
    }
   ],
   "source": [
    "linreg_preds_test = linreg.predict(X_test_sc)\n",
    "linreg_rms_test = sqrt(mean_squared_error(y_test, linreg_preds_test))\n",
    "linreg_rms_test"
   ]
  },
  {
   "cell_type": "markdown",
   "metadata": {},
   "source": [
    "## KNN"
   ]
  },
  {
   "cell_type": "code",
   "execution_count": 37,
   "metadata": {},
   "outputs": [
    {
     "data": {
      "text/plain": [
       "KNeighborsRegressor(algorithm='auto', leaf_size=30, metric='minkowski',\n",
       "                    metric_params=None, n_jobs=None, n_neighbors=5, p=2,\n",
       "                    weights='uniform')"
      ]
     },
     "execution_count": 37,
     "metadata": {},
     "output_type": "execute_result"
    }
   ],
   "source": [
    "# Instiantiated KNN and fitted the training\n",
    "knn = KNeighborsRegressor()\n",
    "knn.fit(X_train_sc, y_train)"
   ]
  },
  {
   "cell_type": "code",
   "execution_count": 38,
   "metadata": {},
   "outputs": [
    {
     "data": {
      "text/plain": [
       "9.131882053336803"
      ]
     },
     "execution_count": 38,
     "metadata": {},
     "output_type": "execute_result"
    }
   ],
   "source": [
    "knn_preds_train = knn.predict(X_train_sc)\n",
    "knn_rms_train = sqrt(mean_squared_error(y_train, knn_preds_train))\n",
    "knn_rms_train"
   ]
  },
  {
   "cell_type": "code",
   "execution_count": 39,
   "metadata": {},
   "outputs": [
    {
     "data": {
      "text/plain": [
       "10.761423303227785"
      ]
     },
     "execution_count": 39,
     "metadata": {},
     "output_type": "execute_result"
    }
   ],
   "source": [
    "knn_preds_test = knn.predict(X_test_sc)\n",
    "knn_rms_test = sqrt(mean_squared_error(y_test, knn_preds_test))\n",
    "knn_rms_test\n"
   ]
  },
  {
   "cell_type": "code",
   "execution_count": null,
   "metadata": {},
   "outputs": [],
   "source": []
  },
  {
   "cell_type": "markdown",
   "metadata": {},
   "source": [
    "## Decision Tree Model"
   ]
  },
  {
   "cell_type": "code",
   "execution_count": 40,
   "metadata": {},
   "outputs": [
    {
     "data": {
      "text/plain": [
       "DecisionTreeRegressor(ccp_alpha=0.0, criterion='mse', max_depth=None,\n",
       "                      max_features=None, max_leaf_nodes=None,\n",
       "                      min_impurity_decrease=0.0, min_impurity_split=None,\n",
       "                      min_samples_leaf=1, min_samples_split=2,\n",
       "                      min_weight_fraction_leaf=0.0, presort='deprecated',\n",
       "                      random_state=None, splitter='best')"
      ]
     },
     "execution_count": 40,
     "metadata": {},
     "output_type": "execute_result"
    }
   ],
   "source": [
    "\n",
    "# Instiantiate model and fit\n",
    "dt = DecisionTreeRegressor()\n",
    "dt.fit(X_train_sc, y_train)"
   ]
  },
  {
   "cell_type": "code",
   "execution_count": 41,
   "metadata": {},
   "outputs": [
    {
     "data": {
      "text/plain": [
       "2.367189204317029"
      ]
     },
     "execution_count": 41,
     "metadata": {},
     "output_type": "execute_result"
    }
   ],
   "source": [
    "dt_preds_train = dt.predict(X_train_sc)\n",
    "dt_rms_train = sqrt(mean_squared_error(y_train, dt_preds_train))\n",
    "dt_rms_train"
   ]
  },
  {
   "cell_type": "code",
   "execution_count": 42,
   "metadata": {},
   "outputs": [
    {
     "data": {
      "text/plain": [
       "14.746893100220289"
      ]
     },
     "execution_count": 42,
     "metadata": {},
     "output_type": "execute_result"
    }
   ],
   "source": [
    "dt_preds_test = dt.predict(X_test_sc)\n",
    "dt_rms_test = sqrt(mean_squared_error(y_test, dt_preds_test))\n",
    "dt_rms_test"
   ]
  },
  {
   "cell_type": "code",
   "execution_count": null,
   "metadata": {},
   "outputs": [],
   "source": []
  },
  {
   "cell_type": "markdown",
   "metadata": {},
   "source": [
    "## Bagged Decision Tree"
   ]
  },
  {
   "cell_type": "code",
   "execution_count": 43,
   "metadata": {},
   "outputs": [
    {
     "data": {
      "text/plain": [
       "BaggingRegressor(base_estimator=None, bootstrap=True, bootstrap_features=False,\n",
       "                 max_features=1.0, max_samples=1.0, n_estimators=10,\n",
       "                 n_jobs=None, oob_score=False, random_state=None, verbose=0,\n",
       "                 warm_start=False)"
      ]
     },
     "execution_count": 43,
     "metadata": {},
     "output_type": "execute_result"
    }
   ],
   "source": [
    "# Instiantiate model and fit\n",
    "bag = BaggingRegressor()\n",
    "bag.fit(X_train_sc, y_train)"
   ]
  },
  {
   "cell_type": "code",
   "execution_count": 44,
   "metadata": {},
   "outputs": [
    {
     "data": {
      "text/plain": [
       "2.367189204317029"
      ]
     },
     "execution_count": 44,
     "metadata": {},
     "output_type": "execute_result"
    }
   ],
   "source": [
    "bag_preds_train = bag.predict(X_train_sc)\n",
    "bag_rms_train = sqrt(mean_squared_error(y_train, dt_preds_train))\n",
    "bag_rms_train"
   ]
  },
  {
   "cell_type": "code",
   "execution_count": 45,
   "metadata": {},
   "outputs": [
    {
     "data": {
      "text/plain": [
       "14.746893100220289"
      ]
     },
     "execution_count": 45,
     "metadata": {},
     "output_type": "execute_result"
    }
   ],
   "source": [
    "bag_preds_test = dt.predict(X_test_sc)\n",
    "bag_rms_test = sqrt(mean_squared_error(y_test, dt_preds_test))\n",
    "bag_rms_test"
   ]
  },
  {
   "cell_type": "code",
   "execution_count": null,
   "metadata": {},
   "outputs": [],
   "source": []
  },
  {
   "cell_type": "markdown",
   "metadata": {},
   "source": [
    "## Random Forests"
   ]
  },
  {
   "cell_type": "code",
   "execution_count": 46,
   "metadata": {},
   "outputs": [
    {
     "data": {
      "text/plain": [
       "RandomForestRegressor(bootstrap=True, ccp_alpha=0.0, criterion='mse',\n",
       "                      max_depth=None, max_features='auto', max_leaf_nodes=None,\n",
       "                      max_samples=None, min_impurity_decrease=0.0,\n",
       "                      min_impurity_split=None, min_samples_leaf=1,\n",
       "                      min_samples_split=2, min_weight_fraction_leaf=0.0,\n",
       "                      n_estimators=100, n_jobs=None, oob_score=False,\n",
       "                      random_state=None, verbose=0, warm_start=False)"
      ]
     },
     "execution_count": 46,
     "metadata": {},
     "output_type": "execute_result"
    }
   ],
   "source": [
    "# Instiantiate model and fit\n",
    "rf = RandomForestRegressor()\n",
    "rf.fit(X_train_sc, y_train)"
   ]
  },
  {
   "cell_type": "code",
   "execution_count": 47,
   "metadata": {},
   "outputs": [
    {
     "data": {
      "text/plain": [
       "4.413858884400402"
      ]
     },
     "execution_count": 47,
     "metadata": {},
     "output_type": "execute_result"
    }
   ],
   "source": [
    "\n",
    "rf_preds_train = rf.predict(X_train_sc)\n",
    "rf_rms_train = sqrt(mean_squared_error(y_train, rf_preds_train))\n",
    "rf_rms_train"
   ]
  },
  {
   "cell_type": "code",
   "execution_count": 48,
   "metadata": {},
   "outputs": [
    {
     "data": {
      "text/plain": [
       "10.632264381194267"
      ]
     },
     "execution_count": 48,
     "metadata": {},
     "output_type": "execute_result"
    }
   ],
   "source": [
    "rf_preds_test = rf.predict(X_test_sc)\n",
    "rf_rms_test = sqrt(mean_squared_error(y_test, rf_preds_test))\n",
    "rf_rms_test"
   ]
  },
  {
   "cell_type": "code",
   "execution_count": null,
   "metadata": {},
   "outputs": [],
   "source": []
  },
  {
   "cell_type": "markdown",
   "metadata": {},
   "source": [
    "## ADA boost"
   ]
  },
  {
   "cell_type": "code",
   "execution_count": 49,
   "metadata": {},
   "outputs": [
    {
     "data": {
      "text/plain": [
       "AdaBoostRegressor(base_estimator=None, learning_rate=1.0, loss='linear',\n",
       "                  n_estimators=50, random_state=None)"
      ]
     },
     "execution_count": 49,
     "metadata": {},
     "output_type": "execute_result"
    }
   ],
   "source": [
    "# Instiantiate model and fit\n",
    "ada = AdaBoostRegressor()\n",
    "ada.fit(X_train_sc, y_train)"
   ]
  },
  {
   "cell_type": "code",
   "execution_count": 50,
   "metadata": {},
   "outputs": [
    {
     "data": {
      "text/plain": [
       "2.367189204317029"
      ]
     },
     "execution_count": 50,
     "metadata": {},
     "output_type": "execute_result"
    }
   ],
   "source": [
    "ada_preds_train = dt.predict(X_train_sc)\n",
    "ada_rms_train = sqrt(mean_squared_error(y_train, dt_preds_train))\n",
    "ada_rms_train"
   ]
  },
  {
   "cell_type": "code",
   "execution_count": 51,
   "metadata": {},
   "outputs": [
    {
     "data": {
      "text/plain": [
       "14.091281982091695"
      ]
     },
     "execution_count": 51,
     "metadata": {},
     "output_type": "execute_result"
    }
   ],
   "source": [
    "ada_preds_test = ada.predict(X_test_sc)\n",
    "ada_rms_test = sqrt(mean_squared_error(y_test, ada_preds_test))\n",
    "ada_rms_test"
   ]
  },
  {
   "cell_type": "code",
   "execution_count": null,
   "metadata": {},
   "outputs": [],
   "source": []
  },
  {
   "cell_type": "markdown",
   "metadata": {},
   "source": [
    "## SVM"
   ]
  },
  {
   "cell_type": "code",
   "execution_count": 52,
   "metadata": {},
   "outputs": [
    {
     "data": {
      "text/plain": [
       "SVR(C=1.0, cache_size=200, coef0=0.0, degree=3, epsilon=0.1, gamma='scale',\n",
       "    kernel='rbf', max_iter=-1, shrinking=True, tol=0.001, verbose=False)"
      ]
     },
     "execution_count": 52,
     "metadata": {},
     "output_type": "execute_result"
    }
   ],
   "source": [
    "# Instiantiate model and fit\n",
    "svr = svm.SVR()\n",
    "svr.fit(X_train_sc, y_train)"
   ]
  },
  {
   "cell_type": "code",
   "execution_count": 53,
   "metadata": {},
   "outputs": [
    {
     "data": {
      "text/plain": [
       "11.824824984967567"
      ]
     },
     "execution_count": 53,
     "metadata": {},
     "output_type": "execute_result"
    }
   ],
   "source": [
    "svr_preds_train = svr.predict(X_train_sc)\n",
    "svr_rms_train = sqrt(mean_squared_error(y_train, svr_preds_train))\n",
    "svr_rms_train"
   ]
  },
  {
   "cell_type": "code",
   "execution_count": 54,
   "metadata": {},
   "outputs": [
    {
     "data": {
      "text/plain": [
       "11.608539967414586"
      ]
     },
     "execution_count": 54,
     "metadata": {},
     "output_type": "execute_result"
    }
   ],
   "source": [
    "svr_preds_test = svr.predict(X_test_sc)\n",
    "svr_rms_test = sqrt(mean_squared_error(y_test, svr_preds_test))\n",
    "svr_rms_test"
   ]
  },
  {
   "cell_type": "code",
   "execution_count": null,
   "metadata": {},
   "outputs": [],
   "source": []
  },
  {
   "cell_type": "markdown",
   "metadata": {},
   "source": [
    "# Nothing under here works"
   ]
  },
  {
   "cell_type": "code",
   "execution_count": 55,
   "metadata": {},
   "outputs": [],
   "source": [
    "X_train, X_test, y_train, y_test = train_test_split(X,y,shuffle=False, random_state=42)"
   ]
  },
  {
   "cell_type": "code",
   "execution_count": 56,
   "metadata": {},
   "outputs": [],
   "source": [
    "sc = StandardScaler()\n",
    "X_train_sc = sc.fit_transform(X_train)\n",
    "X_test_sc = sc.transform(X_test)"
   ]
  },
  {
   "cell_type": "code",
   "execution_count": 57,
   "metadata": {},
   "outputs": [],
   "source": [
    "model = Sequential()\n",
    "model.add(Dense(8, # How many neurons do we want in the first layer, \n",
    "               activation='relu',\n",
    "               input_shape=(8,)))\n",
    "model.add(Dense(1, activation=None))"
   ]
  },
  {
   "cell_type": "code",
   "execution_count": 58,
   "metadata": {},
   "outputs": [],
   "source": [
    "model.compile(optimizer=Adam(), loss='binary_crossentropy', metrics=['mse'])"
   ]
  },
  {
   "cell_type": "code",
   "execution_count": 59,
   "metadata": {},
   "outputs": [
    {
     "name": "stdout",
     "output_type": "stream",
     "text": [
      "Epoch 1/10\n",
      "1456/1456 [==============================] - 1s 836us/step - loss: -276.9918 - mse: 655.8491 - val_loss: -337.0065 - val_mse: 4605.8608\n",
      "Epoch 2/10\n",
      "1456/1456 [==============================] - 1s 749us/step - loss: -292.8850 - mse: 646.2380 - val_loss: -337.0150 - val_mse: 4662.5879\n",
      "Epoch 3/10\n",
      "1456/1456 [==============================] - 1s 736us/step - loss: -292.9349 - mse: 645.2102 - val_loss: -337.0150 - val_mse: 4657.5566\n",
      "Epoch 4/10\n",
      "1456/1456 [==============================] - 1s 735us/step - loss: -292.9529 - mse: 645.1789 - val_loss: -337.0150 - val_mse: 4657.5566\n",
      "Epoch 5/10\n",
      "1456/1456 [==============================] - 1s 742us/step - loss: -292.9532 - mse: 645.1797 - val_loss: -337.0150 - val_mse: 4657.5566\n",
      "Epoch 6/10\n",
      "1456/1456 [==============================] - 1s 748us/step - loss: -292.9529 - mse: 645.1793 - val_loss: -337.0150 - val_mse: 4657.5566\n",
      "Epoch 7/10\n",
      "1456/1456 [==============================] - 1s 741us/step - loss: -292.9532 - mse: 645.1791 - val_loss: -337.0150 - val_mse: 4657.5566\n",
      "Epoch 8/10\n",
      "1456/1456 [==============================] - 1s 739us/step - loss: -292.9532 - mse: 645.1793 - val_loss: -337.0150 - val_mse: 4657.5566\n",
      "Epoch 9/10\n",
      "1456/1456 [==============================] - 1s 751us/step - loss: -292.9532 - mse: 645.1798 - val_loss: -337.0150 - val_mse: 4657.5566\n",
      "Epoch 10/10\n",
      "1456/1456 [==============================] - 1s 741us/step - loss: -292.9532 - mse: 645.1790 - val_loss: -337.0150 - val_mse: 4657.5566\n"
     ]
    },
    {
     "data": {
      "text/plain": [
       "<tensorflow.python.keras.callbacks.History at 0x1a421f3510>"
      ]
     },
     "execution_count": 59,
     "metadata": {},
     "output_type": "execute_result"
    }
   ],
   "source": [
    "model.fit(X_train_sc, y_train,\n",
    "         epochs=10,\n",
    "         batch_size=16,\n",
    "         validation_data=(X_test_sc, y_test))"
   ]
  },
  {
   "cell_type": "code",
   "execution_count": null,
   "metadata": {},
   "outputs": [],
   "source": []
  },
  {
   "cell_type": "code",
   "execution_count": null,
   "metadata": {},
   "outputs": [],
   "source": [
    "x"
   ]
  },
  {
   "cell_type": "code",
   "execution_count": 60,
   "metadata": {},
   "outputs": [],
   "source": [
    "features = ['splash_mountain', 'seven_dwarfs_train','YEAR', 'MKHOURS', 'MKHOURSEMH', 'inSession','DAYOFWEEK' ,'HOLIDAYM' ]\n",
    "\n",
    "y = mk['pirates_of_caribbean']\n",
    "# X = mk.drop(columns='pirates_of_caribbean')\n",
    "X = mk[features] "
   ]
  },
  {
   "cell_type": "code",
   "execution_count": 61,
   "metadata": {},
   "outputs": [],
   "source": [
    "X_train, X_test, y_train, y_test = train_test_split(X, y, shuffle=False)\n"
   ]
  },
  {
   "cell_type": "code",
   "execution_count": 62,
   "metadata": {},
   "outputs": [],
   "source": [
    "ss = StandardScaler()\n",
    "X_train_sc = ss.fit_transform(X_train)\n",
    "X_test_sc = ss.transform(X_test)"
   ]
  },
  {
   "cell_type": "code",
   "execution_count": 63,
   "metadata": {},
   "outputs": [],
   "source": [
    "# Create training sequences\n",
    "train_seq = TimeseriesGenerator(\n",
    "            X_train_sc, y_train,\n",
    "            length=8,\n",
    "            batch_size=64)"
   ]
  },
  {
   "cell_type": "code",
   "execution_count": 64,
   "metadata": {},
   "outputs": [],
   "source": [
    "# Create test sequences\n",
    "batch_x, batch_y = train_seq[0]"
   ]
  },
  {
   "cell_type": "code",
   "execution_count": 65,
   "metadata": {},
   "outputs": [
    {
     "data": {
      "text/plain": [
       "(64, 8, 8)"
      ]
     },
     "execution_count": 65,
     "metadata": {},
     "output_type": "execute_result"
    }
   ],
   "source": [
    "# train_seq[0]\n",
    "# train_seq[0][0]\n",
    "train_seq[0][0].shape"
   ]
  },
  {
   "cell_type": "code",
   "execution_count": 66,
   "metadata": {},
   "outputs": [],
   "source": [
    "test_seq = TimeseriesGenerator(\n",
    "            X_test_sc, y_test,\n",
    "            length=8,\n",
    "            batch_size=64)"
   ]
  },
  {
   "cell_type": "code",
   "execution_count": 67,
   "metadata": {},
   "outputs": [],
   "source": [
    "# Design RNN\n",
    "model = Sequential()\n",
    "model.add(GRU(8, input_shape=(8, 8), return_sequences=True))\n",
    "model.add(GRU(8, return_sequences=True))\n",
    "model.add(Dense(8, activation='relu'))\n",
    "model.add(Dense(1, activation='sigmoid'))\n",
    "model.compile(optimizer=Adam(), loss='binary_crossentropy', metrics=['mse'])"
   ]
  },
  {
   "cell_type": "code",
   "execution_count": 68,
   "metadata": {},
   "outputs": [
    {
     "name": "stdout",
     "output_type": "stream",
     "text": [
      "Epoch 1/5\n",
      "364/364 [==============================] - 3s 9ms/step - loss: -130.0807 - mse: 706.3821 - val_loss: -327.1556 - val_mse: 829.7214\n",
      "Epoch 2/5\n",
      "364/364 [==============================] - 2s 7ms/step - loss: -289.1426 - mse: 701.7177 - val_loss: -336.9466 - val_mse: 829.7213\n",
      "Epoch 3/5\n",
      "364/364 [==============================] - 2s 7ms/step - loss: -292.7005 - mse: 701.7177 - val_loss: -337.0800 - val_mse: 829.7213\n",
      "Epoch 4/5\n",
      "364/364 [==============================] - 2s 7ms/step - loss: -292.8632 - mse: 701.7177 - val_loss: -337.0849 - val_mse: 829.7213\n",
      "Epoch 5/5\n",
      "364/364 [==============================] - 2s 7ms/step - loss: -292.8824 - mse: 701.7177 - val_loss: -337.0861 - val_mse: 829.7213\n"
     ]
    }
   ],
   "source": [
    "hist = model.fit(train_seq, epochs=5, validation_data=test_seq)"
   ]
  },
  {
   "cell_type": "code",
   "execution_count": null,
   "metadata": {},
   "outputs": [],
   "source": []
  },
  {
   "cell_type": "code",
   "execution_count": 69,
   "metadata": {},
   "outputs": [],
   "source": [
    "import warnings\n",
    "import itertools\n",
    "import numpy as np\n",
    "import matplotlib.pyplot as plt\n",
    "warnings.filterwarnings(\"ignore\")\n",
    "plt.style.use('fivethirtyeight')\n",
    "import pandas as pd\n",
    "import statsmodels.api as sm\n",
    "import matplotlib\n",
    "matplotlib.rcParams['axes.labelsize'] = 14\n",
    "matplotlib.rcParams['xtick.labelsize'] = 12\n",
    "matplotlib.rcParams['ytick.labelsize'] = 12\n",
    "matplotlib.rcParams['text.color'] = 'k'"
   ]
  },
  {
   "cell_type": "code",
   "execution_count": 70,
   "metadata": {},
   "outputs": [
    {
     "data": {
      "text/plain": [
       "'2015-01-01 07:00:00'"
      ]
     },
     "execution_count": 70,
     "metadata": {},
     "output_type": "execute_result"
    }
   ],
   "source": [
    "mk.index.min()\n"
   ]
  },
  {
   "cell_type": "code",
   "execution_count": 71,
   "metadata": {},
   "outputs": [
    {
     "data": {
      "text/plain": [
       "'2020-01-01 01:00:00'"
      ]
     },
     "execution_count": 71,
     "metadata": {},
     "output_type": "execute_result"
    }
   ],
   "source": [
    "mk.index.max()"
   ]
  },
  {
   "cell_type": "code",
   "execution_count": 72,
   "metadata": {},
   "outputs": [],
   "source": [
    "features = ['splash_mountain', 'seven_dwarfs_train', 'YEAR', 'MKHOURS', 'MKHOURSEMH', 'inSession','DAYOFWEEK' ,'HOLIDAYM']\n",
    "y = mk['pirates_of_caribbean']\n",
    "X = mk[features]"
   ]
  },
  {
   "cell_type": "code",
   "execution_count": 73,
   "metadata": {},
   "outputs": [
    {
     "data": {
      "text/plain": [
       "'pirates_of_caribbean'"
      ]
     },
     "execution_count": 73,
     "metadata": {},
     "output_type": "execute_result"
    }
   ],
   "source": [
    "'pirates_of_caribbean'"
   ]
  },
  {
   "cell_type": "code",
   "execution_count": null,
   "metadata": {},
   "outputs": [],
   "source": []
  },
  {
   "cell_type": "code",
   "execution_count": 74,
   "metadata": {},
   "outputs": [
    {
     "data": {
      "image/png": "[encoded data removed]",
      "text/plain": [
       "<Figure size 1080x432 with 1 Axes>"
      ]
     },
     "metadata": {},
     "output_type": "display_data"
    }
   ],
   "source": [
    "y.plot(figsize=(15, 6))\n",
    "plt.show()"
   ]
  },
  {
   "cell_type": "code",
   "execution_count": 75,
   "metadata": {},
   "outputs": [
    {
     "ename": "ValueError",
     "evalue": "You must specify a period or x must be a pandas object with a DatetimeIndex with a freq not set to None",
     "output_type": "error",
     "traceback": [
      "\u001b[0;31m---------------------------------------------------------------------------\u001b[0m",
      "\u001b[0;31mValueError\u001b[0m                                Traceback (most recent call last)",
      "\u001b[0;32m<ipython-input-75-1fe6318a5dfc>\u001b[0m in \u001b[0;36m<module>\u001b[0;34m\u001b[0m\n\u001b[1;32m      1\u001b[0m \u001b[0;32mfrom\u001b[0m \u001b[0mpylab\u001b[0m \u001b[0;32mimport\u001b[0m \u001b[0mrcParams\u001b[0m\u001b[0;34m\u001b[0m\u001b[0;34m\u001b[0m\u001b[0m\n\u001b[1;32m      2\u001b[0m \u001b[0mrcParams\u001b[0m\u001b[0;34m[\u001b[0m\u001b[0;34m'figure.figsize'\u001b[0m\u001b[0;34m]\u001b[0m \u001b[0;34m=\u001b[0m \u001b[0;36m18\u001b[0m\u001b[0;34m,\u001b[0m \u001b[0;36m8\u001b[0m\u001b[0;34m\u001b[0m\u001b[0;34m\u001b[0m\u001b[0m\n\u001b[0;32m----> 3\u001b[0;31m \u001b[0mdecomposition\u001b[0m \u001b[0;34m=\u001b[0m \u001b[0msm\u001b[0m\u001b[0;34m.\u001b[0m\u001b[0mtsa\u001b[0m\u001b[0;34m.\u001b[0m\u001b[0mseasonal_decompose\u001b[0m\u001b[0;34m(\u001b[0m\u001b[0my\u001b[0m\u001b[0;34m,\u001b[0m \u001b[0mmodel\u001b[0m\u001b[0;34m=\u001b[0m\u001b[0;34m'additive'\u001b[0m\u001b[0;34m)\u001b[0m\u001b[0;34m\u001b[0m\u001b[0;34m\u001b[0m\u001b[0m\n\u001b[0m\u001b[1;32m      4\u001b[0m \u001b[0mfig\u001b[0m \u001b[0;34m=\u001b[0m \u001b[0mdecomposition\u001b[0m\u001b[0;34m.\u001b[0m\u001b[0mplot\u001b[0m\u001b[0;34m(\u001b[0m\u001b[0;34m)\u001b[0m\u001b[0;34m\u001b[0m\u001b[0;34m\u001b[0m\u001b[0m\n\u001b[1;32m      5\u001b[0m \u001b[0mplt\u001b[0m\u001b[0;34m.\u001b[0m\u001b[0mshow\u001b[0m\u001b[0;34m(\u001b[0m\u001b[0;34m)\u001b[0m\u001b[0;34m\u001b[0m\u001b[0;34m\u001b[0m\u001b[0m\n",
      "\u001b[0;32m~/opt/anaconda3/lib/python3.7/site-packages/pandas/util/_decorators.py\u001b[0m in \u001b[0;36mwrapper\u001b[0;34m(*args, **kwargs)\u001b[0m\n\u001b[1;32m    212\u001b[0m                 \u001b[0;32melse\u001b[0m\u001b[0;34m:\u001b[0m\u001b[0;34m\u001b[0m\u001b[0;34m\u001b[0m\u001b[0m\n\u001b[1;32m    213\u001b[0m                     \u001b[0mkwargs\u001b[0m\u001b[0;34m[\u001b[0m\u001b[0mnew_arg_name\u001b[0m\u001b[0;34m]\u001b[0m \u001b[0;34m=\u001b[0m \u001b[0mnew_arg_value\u001b[0m\u001b[0;34m\u001b[0m\u001b[0;34m\u001b[0m\u001b[0m\n\u001b[0;32m--> 214\u001b[0;31m             \u001b[0;32mreturn\u001b[0m \u001b[0mfunc\u001b[0m\u001b[0;34m(\u001b[0m\u001b[0;34m*\u001b[0m\u001b[0margs\u001b[0m\u001b[0;34m,\u001b[0m \u001b[0;34m**\u001b[0m\u001b[0mkwargs\u001b[0m\u001b[0;34m)\u001b[0m\u001b[0;34m\u001b[0m\u001b[0;34m\u001b[0m\u001b[0m\n\u001b[0m\u001b[1;32m    215\u001b[0m \u001b[0;34m\u001b[0m\u001b[0m\n\u001b[1;32m    216\u001b[0m         \u001b[0;32mreturn\u001b[0m \u001b[0mcast\u001b[0m\u001b[0;34m(\u001b[0m\u001b[0mF\u001b[0m\u001b[0;34m,\u001b[0m \u001b[0mwrapper\u001b[0m\u001b[0;34m)\u001b[0m\u001b[0;34m\u001b[0m\u001b[0;34m\u001b[0m\u001b[0m\n",
      "\u001b[0;32m~/opt/anaconda3/lib/python3.7/site-packages/statsmodels/tsa/seasonal.py\u001b[0m in \u001b[0;36mseasonal_decompose\u001b[0;34m(x, model, filt, period, two_sided, extrapolate_trend)\u001b[0m\n\u001b[1;32m    140\u001b[0m             \u001b[0mperiod\u001b[0m \u001b[0;34m=\u001b[0m \u001b[0mpfreq\u001b[0m\u001b[0;34m\u001b[0m\u001b[0;34m\u001b[0m\u001b[0m\n\u001b[1;32m    141\u001b[0m         \u001b[0;32melse\u001b[0m\u001b[0;34m:\u001b[0m\u001b[0;34m\u001b[0m\u001b[0;34m\u001b[0m\u001b[0m\n\u001b[0;32m--> 142\u001b[0;31m             raise ValueError(\"You must specify a period or x must be a \"\n\u001b[0m\u001b[1;32m    143\u001b[0m                              \u001b[0;34m\"pandas object with a DatetimeIndex with \"\u001b[0m\u001b[0;34m\u001b[0m\u001b[0;34m\u001b[0m\u001b[0m\n\u001b[1;32m    144\u001b[0m                              \"a freq not set to None\")\n",
      "\u001b[0;31mValueError\u001b[0m: You must specify a period or x must be a pandas object with a DatetimeIndex with a freq not set to None"
     ]
    }
   ],
   "source": [
    "from pylab import rcParams\n",
    "rcParams['figure.figsize'] = 18, 8\n",
    "decomposition = sm.tsa.seasonal_decompose(y, model='additive')\n",
    "fig = decomposition.plot()\n",
    "plt.show()"
   ]
  },
  {
   "cell_type": "code",
   "execution_count": null,
   "metadata": {},
   "outputs": [],
   "source": [
    "p = d = q = range(0, 2)\n",
    "pdq = list(itertools.product(p, d, q))\n",
    "seasonal_pdq = [(x[0], x[1], x[2], 12) for x in list(itertools.product(p, d, q))]\n",
    "print('Examples of parameter combinations for Seasonal ARIMA...')\n",
    "print('SARIMAX: {} x {}'.format(pdq[1], seasonal_pdq[1]))\n",
    "print('SARIMAX: {} x {}'.format(pdq[1], seasonal_pdq[2]))\n",
    "print('SARIMAX: {} x {}'.format(pdq[2], seasonal_pdq[3]))\n",
    "print('SARIMAX: {} x {}'.format(pdq[2], seasonal_pdq[4]))"
   ]
  },
  {
   "cell_type": "code",
   "execution_count": null,
   "metadata": {},
   "outputs": [],
   "source": [
    "for param in pdq:\n",
    "    for param_seasonal in seasonal_pdq:\n",
    "        try:\n",
    "            mod = sm.tsa.statespace.SARIMAX(y,\n",
    "                                            order=param,\n",
    "                                            seasonal_order=param_seasonal,\n",
    "                                            enforce_stationarity=False,\n",
    "                                            enforce_invertibility=False)\n",
    "            results = mod.fit()\n",
    "\n",
    "            print('ARIMA{}x{}12 - AIC:{}'.format(param, param_seasonal, results.aic))\n",
    "        except:\n",
    "            continue"
   ]
  },
  {
   "cell_type": "code",
   "execution_count": null,
   "metadata": {},
   "outputs": [],
   "source": [
    "mod = sm.tsa.statespace.SARIMAX(y,\n",
    "                                order=(1, 0, 1),\n",
    "                                seasonal_order=(1, 1, 1, 12),\n",
    "                                enforce_stationarity=False,\n",
    "                                enforce_invertibility=False)\n",
    "\n",
    "results = mod.fit()\n",
    "\n",
    "print(results.summary().tables[1])"
   ]
  },
  {
   "cell_type": "code",
   "execution_count": null,
   "metadata": {},
   "outputs": [],
   "source": [
    "results.plot_diagnostics(figsize=(15, 12))\n",
    "plt.show()"
   ]
  },
  {
   "cell_type": "code",
   "execution_count": null,
   "metadata": {},
   "outputs": [],
   "source": [
    "pred = results.get_prediction(start=('2020-03-13 21:00:00'), dynamic=False)\n",
    "pred_ci = pred.conf_int()\n",
    "ax = y['2015':].plot(label='observed')\n",
    "pred.predicted_mean.plot(ax=ax, label='One-step ahead Forecast', alpha=.7, figsize=(14, 7))\n",
    "ax.fill_between(pred_ci.index,\n",
    "                pred_ci.iloc[:, 0],\n",
    "                pred_ci.iloc[:, 1], color='k', alpha=.2)\n",
    "ax.set_xlabel('Date')\n",
    "ax.set_ylabel('Wait Times')\n",
    "plt.legend()\n",
    "plt.show()"
   ]
  },
  {
   "cell_type": "code",
   "execution_count": null,
   "metadata": {},
   "outputs": [],
   "source": []
  }
 ],
 "metadata": {
  "kernelspec": {
   "display_name": "Python 3",
   "language": "python",
   "name": "python3"
  },
  "language_info": {
   "codemirror_mode": {
    "name": "ipython",
    "version": 3
   },
   "file_extension": ".py",
   "mimetype": "text/x-python",
   "name": "python",
   "nbconvert_exporter": "python",
   "pygments_lexer": "ipython3",
   "version": "3.7.6"
  }
 },
 "nbformat": 4,
 "nbformat_minor": 4
}
