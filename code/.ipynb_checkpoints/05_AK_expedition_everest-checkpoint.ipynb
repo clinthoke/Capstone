{
 "cells": [
  {
   "cell_type": "code",
   "execution_count": 1,
   "metadata": {},
   "outputs": [],
   "source": [
    "import pandas as pd\n",
    "import matplotlib.pyplot as plt\n",
    "import seaborn as sns\n",
    "import numpy as np"
   ]
  },
  {
   "cell_type": "code",
   "execution_count": 2,
   "metadata": {},
   "outputs": [
    {
     "name": "stdout",
     "output_type": "stream",
     "text": [
      "<class 'pandas.core.frame.DataFrame'>\n",
      "RangeIndex: 31039 entries, 0 to 31038\n",
      "Data columns (total 6 columns):\n",
      " #   Column               Non-Null Count  Dtype \n",
      "---  ------               --------------  ----- \n",
      " 0   datetime             31039 non-null  object\n",
      " 1   kilimanjaro_safaris  31039 non-null  object\n",
      " 2   expedition_everest   31039 non-null  object\n",
      " 3   dinosaur             31039 non-null  object\n",
      " 4   flight_of_passage    31039 non-null  object\n",
      " 5   navi_river           31039 non-null  object\n",
      "dtypes: object(6)\n",
      "memory usage: 1.4+ MB\n"
     ]
    }
   ],
   "source": [
    "# Import Animal Kingdom attractions\n",
    "aka = pd.read_csv(\"../attractions/attractions_ak.csv\")\n",
    "aka.info()"
   ]
  },
  {
   "cell_type": "code",
   "execution_count": 3,
   "metadata": {},
   "outputs": [
    {
     "name": "stdout",
     "output_type": "stream",
     "text": [
      "<class 'pandas.core.frame.DataFrame'>\n",
      "RangeIndex: 31039 entries, 0 to 31038\n",
      "Data columns (total 7 columns):\n",
      " #   Column               Non-Null Count  Dtype         \n",
      "---  ------               --------------  -----         \n",
      " 0   datetime             31039 non-null  object        \n",
      " 1   kilimanjaro_safaris  31039 non-null  object        \n",
      " 2   expedition_everest   31039 non-null  object        \n",
      " 3   dinosaur             31039 non-null  object        \n",
      " 4   flight_of_passage    31039 non-null  object        \n",
      " 5   navi_river           31039 non-null  object        \n",
      " 6   DATE                 31039 non-null  datetime64[ns]\n",
      "dtypes: datetime64[ns](1), object(6)\n",
      "memory usage: 1.7+ MB\n",
      "None\n"
     ]
    },
    {
     "data": {
      "text/html": [
       "<div>\n",
       "<style scoped>\n",
       "    .dataframe tbody tr th:only-of-type {\n",
       "        vertical-align: middle;\n",
       "    }\n",
       "\n",
       "    .dataframe tbody tr th {\n",
       "        vertical-align: top;\n",
       "    }\n",
       "\n",
       "    .dataframe thead th {\n",
       "        text-align: right;\n",
       "    }\n",
       "</style>\n",
       "<table border=\"1\" class=\"dataframe\">\n",
       "  <thead>\n",
       "    <tr style=\"text-align: right;\">\n",
       "      <th></th>\n",
       "      <th>datetime</th>\n",
       "      <th>kilimanjaro_safaris</th>\n",
       "      <th>expedition_everest</th>\n",
       "      <th>dinosaur</th>\n",
       "      <th>flight_of_passage</th>\n",
       "      <th>navi_river</th>\n",
       "      <th>DATE</th>\n",
       "    </tr>\n",
       "  </thead>\n",
       "  <tbody>\n",
       "    <tr>\n",
       "      <th>0</th>\n",
       "      <td>2015-01-01 07:00:00</td>\n",
       "      <td>5.0</td>\n",
       "      <td>5.0</td>\n",
       "      <td>5.0</td>\n",
       "      <td>na</td>\n",
       "      <td>na</td>\n",
       "      <td>2015-01-01</td>\n",
       "    </tr>\n",
       "    <tr>\n",
       "      <th>1</th>\n",
       "      <td>2015-01-01 08:00:00</td>\n",
       "      <td>9.0</td>\n",
       "      <td>5.0</td>\n",
       "      <td>9.0</td>\n",
       "      <td>na</td>\n",
       "      <td>na</td>\n",
       "      <td>2015-01-01</td>\n",
       "    </tr>\n",
       "  </tbody>\n",
       "</table>\n",
       "</div>"
      ],
      "text/plain": [
       "              datetime kilimanjaro_safaris expedition_everest dinosaur  \\\n",
       "0  2015-01-01 07:00:00                 5.0                5.0      5.0   \n",
       "1  2015-01-01 08:00:00                 9.0                5.0      9.0   \n",
       "\n",
       "  flight_of_passage navi_river       DATE  \n",
       "0                na         na 2015-01-01  \n",
       "1                na         na 2015-01-01  "
      ]
     },
     "execution_count": 3,
     "metadata": {},
     "output_type": "execute_result"
    }
   ],
   "source": [
    "# Added DATE column to ak from the datetime column, using it to concat dataframes\n",
    "aka['DATE'] = pd.to_datetime(aka['datetime']).dt.date\n",
    "aka['DATE'] = pd.to_datetime(aka[\"DATE\"])\n",
    "print(aka.info())\n",
    "aka.head(2)"
   ]
  },
  {
   "cell_type": "code",
   "execution_count": 4,
   "metadata": {},
   "outputs": [
    {
     "data": {
      "text/html": [
       "<div>\n",
       "<style scoped>\n",
       "    .dataframe tbody tr th:only-of-type {\n",
       "        vertical-align: middle;\n",
       "    }\n",
       "\n",
       "    .dataframe tbody tr th {\n",
       "        vertical-align: top;\n",
       "    }\n",
       "\n",
       "    .dataframe thead th {\n",
       "        text-align: right;\n",
       "    }\n",
       "</style>\n",
       "<table border=\"1\" class=\"dataframe\">\n",
       "  <thead>\n",
       "    <tr style=\"text-align: right;\">\n",
       "      <th></th>\n",
       "      <th>DATE</th>\n",
       "      <th>DAYOFWEEK</th>\n",
       "      <th>DAYOFYEAR</th>\n",
       "      <th>WEEKOFYEAR</th>\n",
       "      <th>MONTHOFYEAR</th>\n",
       "      <th>YEAR</th>\n",
       "      <th>HOLIDAYPX</th>\n",
       "      <th>HOLIDAYM</th>\n",
       "      <th>HOLIDAY</th>\n",
       "      <th>WDWevent</th>\n",
       "      <th>...</th>\n",
       "      <th>AKOPENTOM</th>\n",
       "      <th>AKCLOSETOM</th>\n",
       "      <th>AKHOURSTOM</th>\n",
       "      <th>MKDAYSBEFORENONEVENT</th>\n",
       "      <th>WDWMINTEMP_mean</th>\n",
       "      <th>WEATHER_WDWHIGH</th>\n",
       "      <th>WEATHER_WDWLOW</th>\n",
       "      <th>WEATHER_WDWPRECIP</th>\n",
       "      <th>CapacityLost_AK</th>\n",
       "      <th>CapacityLostWGT_AK</th>\n",
       "    </tr>\n",
       "  </thead>\n",
       "  <tbody>\n",
       "    <tr>\n",
       "      <th>0</th>\n",
       "      <td>2015-01-01</td>\n",
       "      <td>5</td>\n",
       "      <td>0</td>\n",
       "      <td>0</td>\n",
       "      <td>1</td>\n",
       "      <td>2015</td>\n",
       "      <td>0</td>\n",
       "      <td>5</td>\n",
       "      <td>1</td>\n",
       "      <td>0</td>\n",
       "      <td>...</td>\n",
       "      <td>8:00</td>\n",
       "      <td>20:00</td>\n",
       "      <td>12.0</td>\n",
       "      <td>1.0</td>\n",
       "      <td>53.375714</td>\n",
       "      <td>70.3</td>\n",
       "      <td>50.2</td>\n",
       "      <td>0.12</td>\n",
       "      <td>236654</td>\n",
       "      <td>20971646</td>\n",
       "    </tr>\n",
       "    <tr>\n",
       "      <th>1</th>\n",
       "      <td>2015-01-02</td>\n",
       "      <td>6</td>\n",
       "      <td>1</td>\n",
       "      <td>0</td>\n",
       "      <td>1</td>\n",
       "      <td>2015</td>\n",
       "      <td>2</td>\n",
       "      <td>5</td>\n",
       "      <td>0</td>\n",
       "      <td>0</td>\n",
       "      <td>...</td>\n",
       "      <td>8:00</td>\n",
       "      <td>19:00</td>\n",
       "      <td>11.0</td>\n",
       "      <td>1.0</td>\n",
       "      <td>53.750714</td>\n",
       "      <td>70.3</td>\n",
       "      <td>50.0</td>\n",
       "      <td>0.12</td>\n",
       "      <td>236654</td>\n",
       "      <td>20971646</td>\n",
       "    </tr>\n",
       "  </tbody>\n",
       "</table>\n",
       "<p>2 rows × 65 columns</p>\n",
       "</div>"
      ],
      "text/plain": [
       "         DATE  DAYOFWEEK  DAYOFYEAR  WEEKOFYEAR  MONTHOFYEAR  YEAR  HOLIDAYPX  \\\n",
       "0  2015-01-01          5          0           0            1  2015          0   \n",
       "1  2015-01-02          6          1           0            1  2015          2   \n",
       "\n",
       "   HOLIDAYM  HOLIDAY  WDWevent  ...  AKOPENTOM AKCLOSETOM  AKHOURSTOM  \\\n",
       "0         5        1         0  ...       8:00      20:00        12.0   \n",
       "1         5        0         0  ...       8:00      19:00        11.0   \n",
       "\n",
       "   MKDAYSBEFORENONEVENT  WDWMINTEMP_mean  WEATHER_WDWHIGH WEATHER_WDWLOW  \\\n",
       "0                   1.0        53.375714             70.3           50.2   \n",
       "1                   1.0        53.750714             70.3           50.0   \n",
       "\n",
       "  WEATHER_WDWPRECIP CapacityLost_AK CapacityLostWGT_AK  \n",
       "0              0.12          236654           20971646  \n",
       "1              0.12          236654           20971646  \n",
       "\n",
       "[2 rows x 65 columns]"
      ]
     },
     "execution_count": 4,
     "metadata": {},
     "output_type": "execute_result"
    }
   ],
   "source": [
    "# Import Metadata\n",
    "md = pd.read_csv(\"../metadata/ak_metadata.csv\")\n",
    "md.head(2)"
   ]
  },
  {
   "cell_type": "code",
   "execution_count": 5,
   "metadata": {},
   "outputs": [
    {
     "data": {
      "text/html": [
       "<div>\n",
       "<style scoped>\n",
       "    .dataframe tbody tr th:only-of-type {\n",
       "        vertical-align: middle;\n",
       "    }\n",
       "\n",
       "    .dataframe tbody tr th {\n",
       "        vertical-align: top;\n",
       "    }\n",
       "\n",
       "    .dataframe thead th {\n",
       "        text-align: right;\n",
       "    }\n",
       "</style>\n",
       "<table border=\"1\" class=\"dataframe\">\n",
       "  <thead>\n",
       "    <tr style=\"text-align: right;\">\n",
       "      <th></th>\n",
       "      <th>DATE</th>\n",
       "      <th>DAYOFWEEK</th>\n",
       "      <th>DAYOFYEAR</th>\n",
       "      <th>WEEKOFYEAR</th>\n",
       "      <th>MONTHOFYEAR</th>\n",
       "      <th>YEAR</th>\n",
       "      <th>HOLIDAYPX</th>\n",
       "      <th>HOLIDAYM</th>\n",
       "      <th>HOLIDAY</th>\n",
       "      <th>WDWevent</th>\n",
       "      <th>...</th>\n",
       "      <th>AKOPENTOM</th>\n",
       "      <th>AKCLOSETOM</th>\n",
       "      <th>AKHOURSTOM</th>\n",
       "      <th>MKDAYSBEFORENONEVENT</th>\n",
       "      <th>WDWMINTEMP_mean</th>\n",
       "      <th>WEATHER_WDWHIGH</th>\n",
       "      <th>WEATHER_WDWLOW</th>\n",
       "      <th>WEATHER_WDWPRECIP</th>\n",
       "      <th>CapacityLost_AK</th>\n",
       "      <th>CapacityLostWGT_AK</th>\n",
       "    </tr>\n",
       "  </thead>\n",
       "  <tbody>\n",
       "    <tr>\n",
       "      <th>0</th>\n",
       "      <td>2015-01-01</td>\n",
       "      <td>5</td>\n",
       "      <td>0</td>\n",
       "      <td>0</td>\n",
       "      <td>1</td>\n",
       "      <td>2015</td>\n",
       "      <td>0</td>\n",
       "      <td>5</td>\n",
       "      <td>1</td>\n",
       "      <td>0</td>\n",
       "      <td>...</td>\n",
       "      <td>8:00</td>\n",
       "      <td>20:00</td>\n",
       "      <td>12.0</td>\n",
       "      <td>1.0</td>\n",
       "      <td>53.375714</td>\n",
       "      <td>70.3</td>\n",
       "      <td>50.2</td>\n",
       "      <td>0.12</td>\n",
       "      <td>236654</td>\n",
       "      <td>20971646</td>\n",
       "    </tr>\n",
       "    <tr>\n",
       "      <th>1</th>\n",
       "      <td>2015-01-02</td>\n",
       "      <td>6</td>\n",
       "      <td>1</td>\n",
       "      <td>0</td>\n",
       "      <td>1</td>\n",
       "      <td>2015</td>\n",
       "      <td>2</td>\n",
       "      <td>5</td>\n",
       "      <td>0</td>\n",
       "      <td>0</td>\n",
       "      <td>...</td>\n",
       "      <td>8:00</td>\n",
       "      <td>19:00</td>\n",
       "      <td>11.0</td>\n",
       "      <td>1.0</td>\n",
       "      <td>53.750714</td>\n",
       "      <td>70.3</td>\n",
       "      <td>50.0</td>\n",
       "      <td>0.12</td>\n",
       "      <td>236654</td>\n",
       "      <td>20971646</td>\n",
       "    </tr>\n",
       "  </tbody>\n",
       "</table>\n",
       "<p>2 rows × 65 columns</p>\n",
       "</div>"
      ],
      "text/plain": [
       "        DATE  DAYOFWEEK  DAYOFYEAR  WEEKOFYEAR  MONTHOFYEAR  YEAR  HOLIDAYPX  \\\n",
       "0 2015-01-01          5          0           0            1  2015          0   \n",
       "1 2015-01-02          6          1           0            1  2015          2   \n",
       "\n",
       "   HOLIDAYM  HOLIDAY  WDWevent  ...  AKOPENTOM AKCLOSETOM  AKHOURSTOM  \\\n",
       "0         5        1         0  ...       8:00      20:00        12.0   \n",
       "1         5        0         0  ...       8:00      19:00        11.0   \n",
       "\n",
       "   MKDAYSBEFORENONEVENT  WDWMINTEMP_mean  WEATHER_WDWHIGH WEATHER_WDWLOW  \\\n",
       "0                   1.0        53.375714             70.3           50.2   \n",
       "1                   1.0        53.750714             70.3           50.0   \n",
       "\n",
       "  WEATHER_WDWPRECIP CapacityLost_AK CapacityLostWGT_AK  \n",
       "0              0.12          236654           20971646  \n",
       "1              0.12          236654           20971646  \n",
       "\n",
       "[2 rows x 65 columns]"
      ]
     },
     "execution_count": 5,
     "metadata": {},
     "output_type": "execute_result"
    }
   ],
   "source": [
    "# Convert DATE column to datetime\n",
    "md['DATE'] = pd.to_datetime(md[\"DATE\"])\n",
    "md.head(2)"
   ]
  },
  {
   "cell_type": "code",
   "execution_count": 6,
   "metadata": {},
   "outputs": [
    {
     "data": {
      "text/html": [
       "<div>\n",
       "<style scoped>\n",
       "    .dataframe tbody tr th:only-of-type {\n",
       "        vertical-align: middle;\n",
       "    }\n",
       "\n",
       "    .dataframe tbody tr th {\n",
       "        vertical-align: top;\n",
       "    }\n",
       "\n",
       "    .dataframe thead th {\n",
       "        text-align: right;\n",
       "    }\n",
       "</style>\n",
       "<table border=\"1\" class=\"dataframe\">\n",
       "  <thead>\n",
       "    <tr style=\"text-align: right;\">\n",
       "      <th></th>\n",
       "      <th>kilimanjaro_safaris</th>\n",
       "      <th>expedition_everest</th>\n",
       "      <th>dinosaur</th>\n",
       "      <th>flight_of_passage</th>\n",
       "      <th>navi_river</th>\n",
       "      <th>DAYOFWEEK</th>\n",
       "      <th>DAYOFYEAR</th>\n",
       "      <th>WEEKOFYEAR</th>\n",
       "      <th>MONTHOFYEAR</th>\n",
       "      <th>YEAR</th>\n",
       "      <th>...</th>\n",
       "      <th>AKOPENTOM</th>\n",
       "      <th>AKCLOSETOM</th>\n",
       "      <th>AKHOURSTOM</th>\n",
       "      <th>MKDAYSBEFORENONEVENT</th>\n",
       "      <th>WDWMINTEMP_mean</th>\n",
       "      <th>WEATHER_WDWHIGH</th>\n",
       "      <th>WEATHER_WDWLOW</th>\n",
       "      <th>WEATHER_WDWPRECIP</th>\n",
       "      <th>CapacityLost_AK</th>\n",
       "      <th>CapacityLostWGT_AK</th>\n",
       "    </tr>\n",
       "    <tr>\n",
       "      <th>datetime</th>\n",
       "      <th></th>\n",
       "      <th></th>\n",
       "      <th></th>\n",
       "      <th></th>\n",
       "      <th></th>\n",
       "      <th></th>\n",
       "      <th></th>\n",
       "      <th></th>\n",
       "      <th></th>\n",
       "      <th></th>\n",
       "      <th></th>\n",
       "      <th></th>\n",
       "      <th></th>\n",
       "      <th></th>\n",
       "      <th></th>\n",
       "      <th></th>\n",
       "      <th></th>\n",
       "      <th></th>\n",
       "      <th></th>\n",
       "      <th></th>\n",
       "      <th></th>\n",
       "    </tr>\n",
       "  </thead>\n",
       "  <tbody>\n",
       "    <tr>\n",
       "      <th>2015-01-01 07:00:00</th>\n",
       "      <td>5.0</td>\n",
       "      <td>5.0</td>\n",
       "      <td>5.0</td>\n",
       "      <td>na</td>\n",
       "      <td>na</td>\n",
       "      <td>5.0</td>\n",
       "      <td>0.0</td>\n",
       "      <td>0.0</td>\n",
       "      <td>1.0</td>\n",
       "      <td>2015.0</td>\n",
       "      <td>...</td>\n",
       "      <td>8:00</td>\n",
       "      <td>20:00</td>\n",
       "      <td>12.0</td>\n",
       "      <td>1.0</td>\n",
       "      <td>53.375714</td>\n",
       "      <td>70.3</td>\n",
       "      <td>50.2</td>\n",
       "      <td>0.12</td>\n",
       "      <td>236654.0</td>\n",
       "      <td>20971646.0</td>\n",
       "    </tr>\n",
       "    <tr>\n",
       "      <th>2015-01-01 08:00:00</th>\n",
       "      <td>9.0</td>\n",
       "      <td>5.0</td>\n",
       "      <td>9.0</td>\n",
       "      <td>na</td>\n",
       "      <td>na</td>\n",
       "      <td>5.0</td>\n",
       "      <td>0.0</td>\n",
       "      <td>0.0</td>\n",
       "      <td>1.0</td>\n",
       "      <td>2015.0</td>\n",
       "      <td>...</td>\n",
       "      <td>8:00</td>\n",
       "      <td>20:00</td>\n",
       "      <td>12.0</td>\n",
       "      <td>1.0</td>\n",
       "      <td>53.375714</td>\n",
       "      <td>70.3</td>\n",
       "      <td>50.2</td>\n",
       "      <td>0.12</td>\n",
       "      <td>236654.0</td>\n",
       "      <td>20971646.0</td>\n",
       "    </tr>\n",
       "  </tbody>\n",
       "</table>\n",
       "<p>2 rows × 69 columns</p>\n",
       "</div>"
      ],
      "text/plain": [
       "                    kilimanjaro_safaris expedition_everest dinosaur  \\\n",
       "datetime                                                              \n",
       "2015-01-01 07:00:00                 5.0                5.0      5.0   \n",
       "2015-01-01 08:00:00                 9.0                5.0      9.0   \n",
       "\n",
       "                    flight_of_passage navi_river  DAYOFWEEK  DAYOFYEAR  \\\n",
       "datetime                                                                 \n",
       "2015-01-01 07:00:00                na         na        5.0        0.0   \n",
       "2015-01-01 08:00:00                na         na        5.0        0.0   \n",
       "\n",
       "                     WEEKOFYEAR  MONTHOFYEAR    YEAR  ...  AKOPENTOM  \\\n",
       "datetime                                              ...              \n",
       "2015-01-01 07:00:00         0.0          1.0  2015.0  ...       8:00   \n",
       "2015-01-01 08:00:00         0.0          1.0  2015.0  ...       8:00   \n",
       "\n",
       "                     AKCLOSETOM  AKHOURSTOM  MKDAYSBEFORENONEVENT  \\\n",
       "datetime                                                            \n",
       "2015-01-01 07:00:00       20:00        12.0                   1.0   \n",
       "2015-01-01 08:00:00       20:00        12.0                   1.0   \n",
       "\n",
       "                     WDWMINTEMP_mean WEATHER_WDWHIGH  WEATHER_WDWLOW  \\\n",
       "datetime                                                               \n",
       "2015-01-01 07:00:00        53.375714            70.3            50.2   \n",
       "2015-01-01 08:00:00        53.375714            70.3            50.2   \n",
       "\n",
       "                     WEATHER_WDWPRECIP  CapacityLost_AK  CapacityLostWGT_AK  \n",
       "datetime                                                                     \n",
       "2015-01-01 07:00:00               0.12         236654.0          20971646.0  \n",
       "2015-01-01 08:00:00               0.12         236654.0          20971646.0  \n",
       "\n",
       "[2 rows x 69 columns]"
      ]
     },
     "execution_count": 6,
     "metadata": {},
     "output_type": "execute_result"
    }
   ],
   "source": [
    "# Merge aka and md dataframes\n",
    "ak = pd.merge(aka, md, how='outer', on='DATE')\n",
    "# Dropped unneeded Date column\n",
    "ak.drop('DATE', axis = 1,  inplace = True)\n",
    "# Set datetime to the Index and sorted by it\n",
    "ak.set_index('datetime', inplace=True)\n",
    "ak.sort_index(inplace=True)\n",
    "ak.head(2)"
   ]
  },
  {
   "cell_type": "code",
   "execution_count": 7,
   "metadata": {},
   "outputs": [],
   "source": [
    "for col in ['AKOPEN', 'AKCLOSE',  'AKEMHOPEN', 'AKEMHCLOSE',\n",
    "       'AKOPENYEST', 'AKCLOSEYEST', 'AKOPENTOM',\n",
    "       'AKCLOSETOM','SUNSET_WDW']:\n",
    "\n",
    "    ak[col] = np.where(ak[col] == \"24:00\",'23:59' ,ak[col])\n",
    "    ak[col] = np.where(ak[col] == \"27:00\",'23:59' ,ak[col])\n",
    "    ak[col] = np.where(ak[col] == \"26:00\",'23:59' ,ak[col])\n",
    "    ak[col] = np.where(ak[col] == \"25:00\",'23:59' ,ak[col])\n",
    "    ak[col] = np.where(ak[col] == \"23:55\",'23:59' ,ak[col])\n",
    "    ak[col] = np.where(ak[col] == \"29:59\",'23:59' ,ak[col])\n",
    "    ak[col] = np.where(ak[col] == \"30:00\",'23:59' ,ak[col])"
   ]
  },
  {
   "cell_type": "code",
   "execution_count": 8,
   "metadata": {},
   "outputs": [],
   "source": [
    "for col in ['AKOPEN', 'AKCLOSE',  'AKEMHOPEN', 'AKEMHCLOSE',\n",
    "       'AKOPENYEST', 'AKCLOSEYEST', 'AKOPENTOM',\n",
    "       'AKCLOSETOM','SUNSET_WDW']:\n",
    "    ak[col] = ak[col].str.replace(\":\",\"\")"
   ]
  },
  {
   "cell_type": "code",
   "execution_count": 9,
   "metadata": {},
   "outputs": [
    {
     "data": {
      "text/plain": [
       "kilimanjaro_safaris    0\n",
       "expedition_everest     0\n",
       "dinosaur               0\n",
       "flight_of_passage      0\n",
       "navi_river             0\n",
       "                      ..\n",
       "WEATHER_WDWHIGH        0\n",
       "WEATHER_WDWLOW         0\n",
       "WEATHER_WDWPRECIP      0\n",
       "CapacityLost_AK        0\n",
       "CapacityLostWGT_AK     0\n",
       "Length: 69, dtype: int64"
      ]
     },
     "execution_count": 9,
     "metadata": {},
     "output_type": "execute_result"
    }
   ],
   "source": [
    "ak.fillna(0, inplace=True)\n",
    "ak.isnull().sum()"
   ]
  },
  {
   "cell_type": "code",
   "execution_count": 10,
   "metadata": {},
   "outputs": [],
   "source": [
    "for col in ['AKOPEN', 'AKCLOSE',  'AKEMHOPEN', 'AKEMHCLOSE',\n",
    "       'AKOPENYEST', 'AKCLOSEYEST', 'AKOPENTOM',\n",
    "       'AKCLOSETOM','SUNSET_WDW']:\n",
    "    ak[col] = ak[col].astype(int)"
   ]
  },
  {
   "cell_type": "code",
   "execution_count": 11,
   "metadata": {
    "scrolled": true
   },
   "outputs": [],
   "source": [
    "for col in ['inSession', 'inSession_Enrollment', 'inSession_wdw',\n",
    "       'inSession_sqrt_WDW', 'inSession_DC', 'inSession_Central_FL',\n",
    "       'inSession_Drive1_FL', 'inSession_Drive2_FL',\n",
    "       'inSession_Florida', 'inSession_Mardi_Gras', 'inSession_Midwest',\n",
    "       'inSession_NY_NJ', 'inSession_NY_NJ_PA', 'inSession_New_England',\n",
    "       'inSession_New_Jersey', 'inSession_Nothwest', 'INSESSION_PLANES',\n",
    "       'inSession_SoCal', 'inSession_Southwest']:\n",
    "    ak[col] = ak[col].str.replace(r'%', r'').astype('float')/-100"
   ]
  },
  {
   "cell_type": "code",
   "execution_count": 12,
   "metadata": {},
   "outputs": [],
   "source": [
    "for col in ['kilimanjaro_safaris','expedition_everest','dinosaur','flight_of_passage','navi_river']:\n",
    "    ak[col] = pd.to_numeric(ak[col],errors='coerce')\n",
    "ak.fillna(0, inplace=True)"
   ]
  },
  {
   "cell_type": "code",
   "execution_count": 13,
   "metadata": {},
   "outputs": [],
   "source": [
    "# Dummified the WDWSEASON column\n",
    "ak = pd.get_dummies(ak,columns = ['WDWSEASON'])"
   ]
  },
  {
   "cell_type": "code",
   "execution_count": 14,
   "metadata": {
    "scrolled": false
   },
   "outputs": [
    {
     "data": {
      "text/html": [
       "<div>\n",
       "<style scoped>\n",
       "    .dataframe tbody tr th:only-of-type {\n",
       "        vertical-align: middle;\n",
       "    }\n",
       "\n",
       "    .dataframe tbody tr th {\n",
       "        vertical-align: top;\n",
       "    }\n",
       "\n",
       "    .dataframe thead th {\n",
       "        text-align: right;\n",
       "    }\n",
       "</style>\n",
       "<table border=\"1\" class=\"dataframe\">\n",
       "  <thead>\n",
       "    <tr style=\"text-align: right;\">\n",
       "      <th></th>\n",
       "      <th>kilimanjaro_safaris</th>\n",
       "      <th>expedition_everest</th>\n",
       "      <th>dinosaur</th>\n",
       "      <th>flight_of_passage</th>\n",
       "      <th>navi_river</th>\n",
       "      <th>DAYOFWEEK</th>\n",
       "      <th>DAYOFYEAR</th>\n",
       "      <th>WEEKOFYEAR</th>\n",
       "      <th>MONTHOFYEAR</th>\n",
       "      <th>YEAR</th>\n",
       "      <th>...</th>\n",
       "      <th>WDWSEASON_MARDI GRAS</th>\n",
       "      <th>WDWSEASON_MARTIN LUTHER KING JUNIOR DAY</th>\n",
       "      <th>WDWSEASON_MEMORIAL DAY</th>\n",
       "      <th>WDWSEASON_PRESIDENTS WEEK</th>\n",
       "      <th>WDWSEASON_SEPTEMBER LOW</th>\n",
       "      <th>WDWSEASON_SPRING</th>\n",
       "      <th>WDWSEASON_SUMMER BREAK</th>\n",
       "      <th>WDWSEASON_THANKSGIVING</th>\n",
       "      <th>WDWSEASON_WINTER</th>\n",
       "      <th>hour</th>\n",
       "    </tr>\n",
       "    <tr>\n",
       "      <th>datetime</th>\n",
       "      <th></th>\n",
       "      <th></th>\n",
       "      <th></th>\n",
       "      <th></th>\n",
       "      <th></th>\n",
       "      <th></th>\n",
       "      <th></th>\n",
       "      <th></th>\n",
       "      <th></th>\n",
       "      <th></th>\n",
       "      <th></th>\n",
       "      <th></th>\n",
       "      <th></th>\n",
       "      <th></th>\n",
       "      <th></th>\n",
       "      <th></th>\n",
       "      <th></th>\n",
       "      <th></th>\n",
       "      <th></th>\n",
       "      <th></th>\n",
       "      <th></th>\n",
       "    </tr>\n",
       "  </thead>\n",
       "  <tbody>\n",
       "    <tr>\n",
       "      <th>2019-12-30 21:00:00</th>\n",
       "      <td>0.0</td>\n",
       "      <td>36.0</td>\n",
       "      <td>18.0</td>\n",
       "      <td>202.0</td>\n",
       "      <td>83.0</td>\n",
       "      <td>2.0</td>\n",
       "      <td>363.0</td>\n",
       "      <td>52.0</td>\n",
       "      <td>12.0</td>\n",
       "      <td>2019.0</td>\n",
       "      <td>...</td>\n",
       "      <td>0</td>\n",
       "      <td>0</td>\n",
       "      <td>0</td>\n",
       "      <td>0</td>\n",
       "      <td>0</td>\n",
       "      <td>0</td>\n",
       "      <td>0</td>\n",
       "      <td>0</td>\n",
       "      <td>0</td>\n",
       "      <td>2100</td>\n",
       "    </tr>\n",
       "    <tr>\n",
       "      <th>2019-12-30 22:00:00</th>\n",
       "      <td>0.0</td>\n",
       "      <td>13.0</td>\n",
       "      <td>14.0</td>\n",
       "      <td>150.0</td>\n",
       "      <td>31.0</td>\n",
       "      <td>2.0</td>\n",
       "      <td>363.0</td>\n",
       "      <td>52.0</td>\n",
       "      <td>12.0</td>\n",
       "      <td>2019.0</td>\n",
       "      <td>...</td>\n",
       "      <td>0</td>\n",
       "      <td>0</td>\n",
       "      <td>0</td>\n",
       "      <td>0</td>\n",
       "      <td>0</td>\n",
       "      <td>0</td>\n",
       "      <td>0</td>\n",
       "      <td>0</td>\n",
       "      <td>0</td>\n",
       "      <td>2200</td>\n",
       "    </tr>\n",
       "    <tr>\n",
       "      <th>2019-12-30 23:00:00</th>\n",
       "      <td>0.0</td>\n",
       "      <td>0.0</td>\n",
       "      <td>0.0</td>\n",
       "      <td>0.0</td>\n",
       "      <td>0.0</td>\n",
       "      <td>2.0</td>\n",
       "      <td>363.0</td>\n",
       "      <td>52.0</td>\n",
       "      <td>12.0</td>\n",
       "      <td>2019.0</td>\n",
       "      <td>...</td>\n",
       "      <td>0</td>\n",
       "      <td>0</td>\n",
       "      <td>0</td>\n",
       "      <td>0</td>\n",
       "      <td>0</td>\n",
       "      <td>0</td>\n",
       "      <td>0</td>\n",
       "      <td>0</td>\n",
       "      <td>0</td>\n",
       "      <td>2300</td>\n",
       "    </tr>\n",
       "    <tr>\n",
       "      <th>2019-12-31 00:00:00</th>\n",
       "      <td>0.0</td>\n",
       "      <td>0.0</td>\n",
       "      <td>0.0</td>\n",
       "      <td>0.0</td>\n",
       "      <td>0.0</td>\n",
       "      <td>0.0</td>\n",
       "      <td>0.0</td>\n",
       "      <td>0.0</td>\n",
       "      <td>0.0</td>\n",
       "      <td>0.0</td>\n",
       "      <td>...</td>\n",
       "      <td>0</td>\n",
       "      <td>0</td>\n",
       "      <td>0</td>\n",
       "      <td>0</td>\n",
       "      <td>0</td>\n",
       "      <td>0</td>\n",
       "      <td>0</td>\n",
       "      <td>0</td>\n",
       "      <td>0</td>\n",
       "      <td>0</td>\n",
       "    </tr>\n",
       "    <tr>\n",
       "      <th>2019-12-31 01:00:00</th>\n",
       "      <td>0.0</td>\n",
       "      <td>0.0</td>\n",
       "      <td>0.0</td>\n",
       "      <td>0.0</td>\n",
       "      <td>0.0</td>\n",
       "      <td>0.0</td>\n",
       "      <td>0.0</td>\n",
       "      <td>0.0</td>\n",
       "      <td>0.0</td>\n",
       "      <td>0.0</td>\n",
       "      <td>...</td>\n",
       "      <td>0</td>\n",
       "      <td>0</td>\n",
       "      <td>0</td>\n",
       "      <td>0</td>\n",
       "      <td>0</td>\n",
       "      <td>0</td>\n",
       "      <td>0</td>\n",
       "      <td>0</td>\n",
       "      <td>0</td>\n",
       "      <td>100</td>\n",
       "    </tr>\n",
       "  </tbody>\n",
       "</table>\n",
       "<p>5 rows × 87 columns</p>\n",
       "</div>"
      ],
      "text/plain": [
       "                     kilimanjaro_safaris  expedition_everest  dinosaur  \\\n",
       "datetime                                                                 \n",
       "2019-12-30 21:00:00                  0.0                36.0      18.0   \n",
       "2019-12-30 22:00:00                  0.0                13.0      14.0   \n",
       "2019-12-30 23:00:00                  0.0                 0.0       0.0   \n",
       "2019-12-31 00:00:00                  0.0                 0.0       0.0   \n",
       "2019-12-31 01:00:00                  0.0                 0.0       0.0   \n",
       "\n",
       "                     flight_of_passage  navi_river  DAYOFWEEK  DAYOFYEAR  \\\n",
       "datetime                                                                   \n",
       "2019-12-30 21:00:00              202.0        83.0        2.0      363.0   \n",
       "2019-12-30 22:00:00              150.0        31.0        2.0      363.0   \n",
       "2019-12-30 23:00:00                0.0         0.0        2.0      363.0   \n",
       "2019-12-31 00:00:00                0.0         0.0        0.0        0.0   \n",
       "2019-12-31 01:00:00                0.0         0.0        0.0        0.0   \n",
       "\n",
       "                     WEEKOFYEAR  MONTHOFYEAR    YEAR  ...  \\\n",
       "datetime                                              ...   \n",
       "2019-12-30 21:00:00        52.0         12.0  2019.0  ...   \n",
       "2019-12-30 22:00:00        52.0         12.0  2019.0  ...   \n",
       "2019-12-30 23:00:00        52.0         12.0  2019.0  ...   \n",
       "2019-12-31 00:00:00         0.0          0.0     0.0  ...   \n",
       "2019-12-31 01:00:00         0.0          0.0     0.0  ...   \n",
       "\n",
       "                     WDWSEASON_MARDI GRAS  \\\n",
       "datetime                                    \n",
       "2019-12-30 21:00:00                     0   \n",
       "2019-12-30 22:00:00                     0   \n",
       "2019-12-30 23:00:00                     0   \n",
       "2019-12-31 00:00:00                     0   \n",
       "2019-12-31 01:00:00                     0   \n",
       "\n",
       "                     WDWSEASON_MARTIN LUTHER KING JUNIOR DAY  \\\n",
       "datetime                                                       \n",
       "2019-12-30 21:00:00                                        0   \n",
       "2019-12-30 22:00:00                                        0   \n",
       "2019-12-30 23:00:00                                        0   \n",
       "2019-12-31 00:00:00                                        0   \n",
       "2019-12-31 01:00:00                                        0   \n",
       "\n",
       "                     WDWSEASON_MEMORIAL DAY  WDWSEASON_PRESIDENTS WEEK  \\\n",
       "datetime                                                                 \n",
       "2019-12-30 21:00:00                       0                          0   \n",
       "2019-12-30 22:00:00                       0                          0   \n",
       "2019-12-30 23:00:00                       0                          0   \n",
       "2019-12-31 00:00:00                       0                          0   \n",
       "2019-12-31 01:00:00                       0                          0   \n",
       "\n",
       "                     WDWSEASON_SEPTEMBER LOW  WDWSEASON_SPRING  \\\n",
       "datetime                                                         \n",
       "2019-12-30 21:00:00                        0                 0   \n",
       "2019-12-30 22:00:00                        0                 0   \n",
       "2019-12-30 23:00:00                        0                 0   \n",
       "2019-12-31 00:00:00                        0                 0   \n",
       "2019-12-31 01:00:00                        0                 0   \n",
       "\n",
       "                     WDWSEASON_SUMMER BREAK  WDWSEASON_THANKSGIVING  \\\n",
       "datetime                                                              \n",
       "2019-12-30 21:00:00                       0                       0   \n",
       "2019-12-30 22:00:00                       0                       0   \n",
       "2019-12-30 23:00:00                       0                       0   \n",
       "2019-12-31 00:00:00                       0                       0   \n",
       "2019-12-31 01:00:00                       0                       0   \n",
       "\n",
       "                     WDWSEASON_WINTER  hour  \n",
       "datetime                                     \n",
       "2019-12-30 21:00:00                 0  2100  \n",
       "2019-12-30 22:00:00                 0  2200  \n",
       "2019-12-30 23:00:00                 0  2300  \n",
       "2019-12-31 00:00:00                 0     0  \n",
       "2019-12-31 01:00:00                 0   100  \n",
       "\n",
       "[5 rows x 87 columns]"
      ]
     },
     "execution_count": 14,
     "metadata": {},
     "output_type": "execute_result"
    }
   ],
   "source": [
    "# Created new column for hour as a feature\n",
    "ak['hour'] = ak.index\n",
    "ak['hour'] = ak.hour.str[11:13]\n",
    "ak['hour'] = pd.to_numeric(ak['hour'])*100\n",
    "ak.tail(5)"
   ]
  },
  {
   "cell_type": "code",
   "execution_count": 15,
   "metadata": {},
   "outputs": [
    {
     "name": "stdout",
     "output_type": "stream",
     "text": [
      "<class 'pandas.core.frame.DataFrame'>\n",
      "Index: 31039 entries, 2015-01-01 07:00:00 to 2019-12-31 01:00:00\n",
      "Data columns (total 87 columns):\n",
      " #   Column                                   Non-Null Count  Dtype  \n",
      "---  ------                                   --------------  -----  \n",
      " 0   kilimanjaro_safaris                      31039 non-null  float64\n",
      " 1   expedition_everest                       31039 non-null  float64\n",
      " 2   dinosaur                                 31039 non-null  float64\n",
      " 3   flight_of_passage                        31039 non-null  float64\n",
      " 4   navi_river                               31039 non-null  float64\n",
      " 5   DAYOFWEEK                                31039 non-null  float64\n",
      " 6   DAYOFYEAR                                31039 non-null  float64\n",
      " 7   WEEKOFYEAR                               31039 non-null  float64\n",
      " 8   MONTHOFYEAR                              31039 non-null  float64\n",
      " 9   YEAR                                     31039 non-null  float64\n",
      " 10  HOLIDAYPX                                31039 non-null  float64\n",
      " 11  HOLIDAYM                                 31039 non-null  float64\n",
      " 12  HOLIDAY                                  31039 non-null  float64\n",
      " 13  WDWevent                                 31039 non-null  float64\n",
      " 14  WDWrace                                  31039 non-null  float64\n",
      " 15  WDWMAXTEMP                               31039 non-null  float64\n",
      " 16  WDWMINTEMP                               31039 non-null  float64\n",
      " 17  WDWMEANTEMP                              31039 non-null  float64\n",
      " 18  AKevent                                  31039 non-null  float64\n",
      " 19  inSession                                31039 non-null  float64\n",
      " 20  inSession_Enrollment                     31039 non-null  float64\n",
      " 21  inSession_wdw                            31039 non-null  float64\n",
      " 22  inSession_sqrt_WDW                       31039 non-null  float64\n",
      " 23  inSession_California                     31039 non-null  object \n",
      " 24  inSession_DC                             31039 non-null  float64\n",
      " 25  inSession_Central_FL                     31039 non-null  float64\n",
      " 26  inSession_Drive1_FL                      31039 non-null  float64\n",
      " 27  inSession_Drive2_FL                      31039 non-null  float64\n",
      " 28  inSession_Drive_CA                       31039 non-null  object \n",
      " 29  inSession_Florida                        31039 non-null  float64\n",
      " 30  inSession_Mardi_Gras                     31039 non-null  float64\n",
      " 31  inSession_Midwest                        31039 non-null  float64\n",
      " 32  inSession_NY_NJ                          31039 non-null  float64\n",
      " 33  inSession_NY_NJ_PA                       31039 non-null  float64\n",
      " 34  inSession_New_England                    31039 non-null  float64\n",
      " 35  inSession_New_Jersey                     31039 non-null  float64\n",
      " 36  inSession_Nothwest                       31039 non-null  float64\n",
      " 37  INSESSION_PLANES                         31039 non-null  float64\n",
      " 38  inSession_SoCal                          31039 non-null  float64\n",
      " 39  inSession_Southwest                      31039 non-null  float64\n",
      " 40  SUNSET_WDW                               31039 non-null  int64  \n",
      " 41  AKEMHMORN                                31039 non-null  float64\n",
      " 42  AKEMHMYEST                               31039 non-null  float64\n",
      " 43  AKEMHMTOM                                31039 non-null  float64\n",
      " 44  AKEMHEVE                                 31039 non-null  float64\n",
      " 45  AKEMHEYEST                               31039 non-null  float64\n",
      " 46  AKEMHETOM                                31039 non-null  float64\n",
      " 47  AKHOURSEMH                               31039 non-null  float64\n",
      " 48  AKHOURSEMHYEST                           31039 non-null  float64\n",
      " 49  AKHOURSEMHTOM                            31039 non-null  float64\n",
      " 50  AKOPEN                                   31039 non-null  int64  \n",
      " 51  AKCLOSE                                  31039 non-null  int64  \n",
      " 52  AKHOURS                                  31039 non-null  float64\n",
      " 53  AKEMHOPEN                                31039 non-null  int64  \n",
      " 54  AKEMHCLOSE                               31039 non-null  int64  \n",
      " 55  AKOPENYEST                               31039 non-null  int64  \n",
      " 56  AKCLOSEYEST                              31039 non-null  int64  \n",
      " 57  AKHOURSYEST                              31039 non-null  float64\n",
      " 58  AKOPENTOM                                31039 non-null  int64  \n",
      " 59  AKCLOSETOM                               31039 non-null  int64  \n",
      " 60  AKHOURSTOM                               31039 non-null  float64\n",
      " 61  MKDAYSBEFORENONEVENT                     31039 non-null  float64\n",
      " 62  WDWMINTEMP_mean                          31039 non-null  float64\n",
      " 63  WEATHER_WDWHIGH                          31039 non-null  float64\n",
      " 64  WEATHER_WDWLOW                           31039 non-null  float64\n",
      " 65  WEATHER_WDWPRECIP                        31039 non-null  float64\n",
      " 66  CapacityLost_AK                          31039 non-null  float64\n",
      " 67  CapacityLostWGT_AK                       31039 non-null  float64\n",
      " 68  WDWSEASON_0                              31039 non-null  uint8  \n",
      " 69  WDWSEASON_CHRISTMAS                      31039 non-null  uint8  \n",
      " 70  WDWSEASON_CHRISTMAS PEAK                 31039 non-null  uint8  \n",
      " 71  WDWSEASON_COLUMBUS DAY                   31039 non-null  uint8  \n",
      " 72  WDWSEASON_EASTER                         31039 non-null  uint8  \n",
      " 73  WDWSEASON_FALL                           31039 non-null  uint8  \n",
      " 74  WDWSEASON_HALLOWEEN                      31039 non-null  uint8  \n",
      " 75  WDWSEASON_JERSEY WEEK                    31039 non-null  uint8  \n",
      " 76  WDWSEASON_JULY 4TH                       31039 non-null  uint8  \n",
      " 77  WDWSEASON_MARDI GRAS                     31039 non-null  uint8  \n",
      " 78  WDWSEASON_MARTIN LUTHER KING JUNIOR DAY  31039 non-null  uint8  \n",
      " 79  WDWSEASON_MEMORIAL DAY                   31039 non-null  uint8  \n",
      " 80  WDWSEASON_PRESIDENTS WEEK                31039 non-null  uint8  \n",
      " 81  WDWSEASON_SEPTEMBER LOW                  31039 non-null  uint8  \n",
      " 82  WDWSEASON_SPRING                         31039 non-null  uint8  \n",
      " 83  WDWSEASON_SUMMER BREAK                   31039 non-null  uint8  \n",
      " 84  WDWSEASON_THANKSGIVING                   31039 non-null  uint8  \n",
      " 85  WDWSEASON_WINTER                         31039 non-null  uint8  \n",
      " 86  hour                                     31039 non-null  int64  \n",
      "dtypes: float64(57), int64(10), object(2), uint8(18)\n",
      "memory usage: 17.1+ MB\n"
     ]
    }
   ],
   "source": [
    "ak.info()"
   ]
  },
  {
   "cell_type": "code",
   "execution_count": 16,
   "metadata": {},
   "outputs": [
    {
     "data": {
      "image/png": "[encoded data removed]",
      "text/plain": [
       "<Figure size 1440x1440 with 2 Axes>"
      ]
     },
     "metadata": {
      "needs_background": "light"
     },
     "output_type": "display_data"
    }
   ],
   "source": [
    "top_corr = ak.corr()\n",
    "top_corr_features = top_corr.index[abs(top_corr['kilimanjaro_safaris']) > .15]\n",
    "plt.figure(figsize=(20,20))\n",
    "g = sns.heatmap(ak[top_corr_features].corr(),annot=True,cmap=\"magma\")"
   ]
  },
  {
   "cell_type": "code",
   "execution_count": 17,
   "metadata": {
    "scrolled": true
   },
   "outputs": [
    {
     "data": {
      "image/png": "[encoded data removed]",
      "text/plain": [
       "<Figure size 432x1296 with 2 Axes>"
      ]
     },
     "metadata": {
      "needs_background": "light"
     },
     "output_type": "display_data"
    }
   ],
   "source": [
    "corr = ak.corr()\n",
    "plt.figure(figsize = (6,18))\n",
    "sns.heatmap(corr[['kilimanjaro_safaris']].sort_values(by = 'kilimanjaro_safaris', ascending = False).head(85),vmin = 0, annot = True)\n",
    "plt.show()"
   ]
  },
  {
   "cell_type": "code",
   "execution_count": 18,
   "metadata": {},
   "outputs": [],
   "source": [
    "import numpy as np\n",
    "from math import sqrt\n",
    "from sklearn.datasets import make_classification, make_regression\n",
    "from sklearn.preprocessing import StandardScaler\n",
    "from sklearn.model_selection import train_test_split\n",
    "import matplotlib.pyplot as plt\n",
    "from sklearn.metrics import accuracy_score\n",
    "from tensorflow.keras.models import Sequential\n",
    "from tensorflow.keras.layers import Dense, Dropout, GRU\n",
    "from tensorflow.keras.utils import to_categorical\n",
    "from tensorflow.keras.optimizers import Adam\n",
    "from tensorflow.keras.preprocessing.sequence import TimeseriesGenerator\n",
    "%matplotlib inline"
   ]
  },
  {
   "cell_type": "code",
   "execution_count": 19,
   "metadata": {},
   "outputs": [],
   "source": [
    "import matplotlib.pyplot as plt\n",
    "import seaborn as sns\n",
    "import missingno as msno\n",
    "from sklearn.linear_model import LinearRegression\n",
    "from datetime import date\n",
    "from sklearn import metrics\n",
    "from sklearn.model_selection import train_test_split, cross_val_score\n",
    "from sklearn.linear_model import LinearRegression\n",
    "from sklearn.metrics import r2_score, mean_squared_error\n",
    "from sklearn.preprocessing import StandardScaler, PolynomialFeatures\n",
    "import statsmodels.api as sm"
   ]
  },
  {
   "cell_type": "code",
   "execution_count": 20,
   "metadata": {},
   "outputs": [],
   "source": [
    "from math import sqrt\n",
    "from sklearn.ensemble import RandomForestRegressor, AdaBoostRegressor, BaggingRegressor\n",
    "from sklearn.linear_model import Ridge, RidgeCV, LinearRegression, LogisticRegression, Lasso, LassoCV\n",
    "from sklearn.neighbors import KNeighborsRegressor, KNeighborsClassifier\n",
    "from sklearn.ensemble import BaggingRegressor, BaggingClassifier, RandomForestRegressor, RandomForestClassifier, AdaBoostRegressor, AdaBoostClassifier\n",
    "from sklearn.preprocessing import StandardScaler\n",
    "from sklearn.model_selection import train_test_split, cross_val_score\n",
    "from sklearn.tree import DecisionTreeRegressor, DecisionTreeClassifier\n",
    "from sklearn.metrics import mean_squared_error\n",
    "from sklearn.metrics import f1_score\n",
    "from sklearn import svm"
   ]
  },
  {
   "cell_type": "code",
   "execution_count": 52,
   "metadata": {},
   "outputs": [],
   "source": [
    "features = ['expedition_everest','dinosaur','flight_of_passage','navi_river', 'inSession',\n",
    "            'YEAR', 'AKHOURS', 'DAYOFWEEK','HOLIDAYM',\n",
    "            'WDWSEASON_CHRISTMAS', 'WDWSEASON_CHRISTMAS PEAK', 'AKOPEN',\n",
    "       'WDWSEASON_COLUMBUS DAY', 'WDWSEASON_EASTER', 'WDWSEASON_FALL',\n",
    "       'WDWSEASON_HALLOWEEN', 'WDWSEASON_JERSEY WEEK', 'WDWSEASON_JULY 4TH',\n",
    "       'WDWSEASON_MARDI GRAS', 'WDWSEASON_MARTIN LUTHER KING JUNIOR DAY',\n",
    "       'WDWSEASON_MEMORIAL DAY', 'WDWSEASON_PRESIDENTS WEEK',\n",
    "       'WDWSEASON_SEPTEMBER LOW', 'WDWSEASON_SPRING', 'WDWSEASON_SUMMER BREAK',\n",
    "       'WDWSEASON_THANKSGIVING', 'WDWSEASON_WINTER', 'hour','CapacityLost_AK']\n",
    "y = ak['kilimanjaro_safaris']\n",
    "X = ak[features]"
   ]
  },
  {
   "cell_type": "code",
   "execution_count": 53,
   "metadata": {},
   "outputs": [],
   "source": [
    "X_train, X_test, y_train, y_test = train_test_split(X, y, test_size =.02, random_state=21)\n",
    "sc = StandardScaler()\n",
    "sc.fit(X_train)\n",
    "X_train_sc = sc.transform(X_train)\n",
    "X_test_sc = sc.transform(X_test)"
   ]
  },
  {
   "cell_type": "code",
   "execution_count": 54,
   "metadata": {},
   "outputs": [
    {
     "data": {
      "text/plain": [
       "LinearRegression(copy_X=True, fit_intercept=True, n_jobs=None, normalize=False)"
      ]
     },
     "execution_count": 54,
     "metadata": {},
     "output_type": "execute_result"
    }
   ],
   "source": [
    "# Created my model and started the train test split\n",
    "linreg = LinearRegression()\n",
    "linreg.fit(X_train_sc, y_train)"
   ]
  },
  {
   "cell_type": "code",
   "execution_count": 55,
   "metadata": {},
   "outputs": [
    {
     "data": {
      "text/plain": [
       "16.135953802593693"
      ]
     },
     "execution_count": 55,
     "metadata": {},
     "output_type": "execute_result"
    }
   ],
   "source": [
    "linreg_preds_train = linreg.predict(X_train_sc)\n",
    "linreg_rms_train = sqrt(mean_squared_error(y_train, linreg_preds_train))\n",
    "linreg_rms_train"
   ]
  },
  {
   "cell_type": "code",
   "execution_count": 56,
   "metadata": {},
   "outputs": [
    {
     "data": {
      "text/plain": [
       "16.734726476585084"
      ]
     },
     "execution_count": 56,
     "metadata": {},
     "output_type": "execute_result"
    }
   ],
   "source": [
    "linreg_preds_test = linreg.predict(X_test_sc)\n",
    "linreg_rms_test = sqrt(mean_squared_error(y_test, linreg_preds_test))\n",
    "linreg_rms_test"
   ]
  },
  {
   "cell_type": "markdown",
   "metadata": {},
   "source": [
    "## KNN"
   ]
  },
  {
   "cell_type": "code",
   "execution_count": 27,
   "metadata": {},
   "outputs": [
    {
     "data": {
      "text/plain": [
       "KNeighborsRegressor(algorithm='auto', leaf_size=30, metric='minkowski',\n",
       "                    metric_params=None, n_jobs=None, n_neighbors=5, p=2,\n",
       "                    weights='uniform')"
      ]
     },
     "execution_count": 27,
     "metadata": {},
     "output_type": "execute_result"
    }
   ],
   "source": [
    "# Instiantiated KNN and fitted the training\n",
    "knn = KNeighborsRegressor()\n",
    "knn.fit(X_train_sc, y_train)"
   ]
  },
  {
   "cell_type": "code",
   "execution_count": 28,
   "metadata": {},
   "outputs": [
    {
     "data": {
      "text/plain": [
       "11.238849779309758"
      ]
     },
     "execution_count": 28,
     "metadata": {},
     "output_type": "execute_result"
    }
   ],
   "source": [
    "knn_preds_train = knn.predict(X_train_sc)\n",
    "knn_rms_train = sqrt(mean_squared_error(y_train, knn_preds_train))\n",
    "knn_rms_train"
   ]
  },
  {
   "cell_type": "code",
   "execution_count": 29,
   "metadata": {},
   "outputs": [
    {
     "data": {
      "text/plain": [
       "14.635084573827777"
      ]
     },
     "execution_count": 29,
     "metadata": {},
     "output_type": "execute_result"
    }
   ],
   "source": [
    "knn_preds_test = knn.predict(X_test_sc)\n",
    "knn_rms_test = sqrt(mean_squared_error(y_test, knn_preds_test))\n",
    "knn_rms_test\n"
   ]
  },
  {
   "cell_type": "markdown",
   "metadata": {},
   "source": [
    "## Decision Tree Model"
   ]
  },
  {
   "cell_type": "code",
   "execution_count": 31,
   "metadata": {},
   "outputs": [
    {
     "data": {
      "text/plain": [
       "DecisionTreeRegressor(ccp_alpha=0.0, criterion='mse', max_depth=None,\n",
       "                      max_features=None, max_leaf_nodes=None,\n",
       "                      min_impurity_decrease=0.0, min_impurity_split=None,\n",
       "                      min_samples_leaf=1, min_samples_split=2,\n",
       "                      min_weight_fraction_leaf=0.0, presort='deprecated',\n",
       "                      random_state=None, splitter='best')"
      ]
     },
     "execution_count": 31,
     "metadata": {},
     "output_type": "execute_result"
    }
   ],
   "source": [
    "\n",
    "# Instiantiate model and fit\n",
    "dt = DecisionTreeRegressor()\n",
    "dt.fit(X_train_sc, y_train)"
   ]
  },
  {
   "cell_type": "code",
   "execution_count": 32,
   "metadata": {},
   "outputs": [
    {
     "data": {
      "text/plain": [
       "0.21644228212137132"
      ]
     },
     "execution_count": 32,
     "metadata": {},
     "output_type": "execute_result"
    }
   ],
   "source": [
    "dt_preds_train = dt.predict(X_train_sc)\n",
    "dt_rms_train = sqrt(mean_squared_error(y_train, dt_preds_train))\n",
    "dt_rms_train"
   ]
  },
  {
   "cell_type": "code",
   "execution_count": 33,
   "metadata": {},
   "outputs": [
    {
     "data": {
      "text/plain": [
       "19.474207724722362"
      ]
     },
     "execution_count": 33,
     "metadata": {},
     "output_type": "execute_result"
    }
   ],
   "source": [
    "dt_preds_test = dt.predict(X_test_sc)\n",
    "dt_rms_test = sqrt(mean_squared_error(y_test, dt_preds_test))\n",
    "dt_rms_test"
   ]
  },
  {
   "cell_type": "markdown",
   "metadata": {},
   "source": [
    "## Bagged Decision Tree"
   ]
  },
  {
   "cell_type": "code",
   "execution_count": 35,
   "metadata": {},
   "outputs": [
    {
     "data": {
      "text/plain": [
       "BaggingRegressor(base_estimator=None, bootstrap=True, bootstrap_features=False,\n",
       "                 max_features=1.0, max_samples=1.0, n_estimators=10,\n",
       "                 n_jobs=None, oob_score=False, random_state=None, verbose=0,\n",
       "                 warm_start=False)"
      ]
     },
     "execution_count": 35,
     "metadata": {},
     "output_type": "execute_result"
    }
   ],
   "source": [
    "# Instiantiate model and fit\n",
    "bag = BaggingRegressor()\n",
    "bag.fit(X_train_sc, y_train)"
   ]
  },
  {
   "cell_type": "code",
   "execution_count": 36,
   "metadata": {},
   "outputs": [
    {
     "data": {
      "text/plain": [
       "5.9285939526637685"
      ]
     },
     "execution_count": 36,
     "metadata": {},
     "output_type": "execute_result"
    }
   ],
   "source": [
    "bag_preds_train = bag.predict(X_train_sc)\n",
    "bag_rms_train = sqrt(mean_squared_error(y_train, bag_preds_train))\n",
    "bag_rms_train"
   ]
  },
  {
   "cell_type": "code",
   "execution_count": 37,
   "metadata": {},
   "outputs": [
    {
     "data": {
      "text/plain": [
       "14.66845468350134"
      ]
     },
     "execution_count": 37,
     "metadata": {},
     "output_type": "execute_result"
    }
   ],
   "source": [
    "bag_preds_test = bag.predict(X_test_sc)\n",
    "bag_rms_test = sqrt(mean_squared_error(y_test, bag_preds_test))\n",
    "bag_rms_test"
   ]
  },
  {
   "cell_type": "markdown",
   "metadata": {},
   "source": [
    "## Random Forests"
   ]
  },
  {
   "cell_type": "code",
   "execution_count": 39,
   "metadata": {},
   "outputs": [
    {
     "data": {
      "text/plain": [
       "RandomForestRegressor(bootstrap=True, ccp_alpha=0.0, criterion='mse',\n",
       "                      max_depth=None, max_features='auto', max_leaf_nodes=None,\n",
       "                      max_samples=None, min_impurity_decrease=0.0,\n",
       "                      min_impurity_split=None, min_samples_leaf=1,\n",
       "                      min_samples_split=2, min_weight_fraction_leaf=0.0,\n",
       "                      n_estimators=100, n_jobs=None, oob_score=False,\n",
       "                      random_state=None, verbose=0, warm_start=False)"
      ]
     },
     "execution_count": 39,
     "metadata": {},
     "output_type": "execute_result"
    }
   ],
   "source": [
    "# Instiantiate model and fit\n",
    "rf = RandomForestRegressor()\n",
    "rf.fit(X_train_sc, y_train)"
   ]
  },
  {
   "cell_type": "code",
   "execution_count": 40,
   "metadata": {},
   "outputs": [
    {
     "data": {
      "text/plain": [
       "5.015400983989995"
      ]
     },
     "execution_count": 40,
     "metadata": {},
     "output_type": "execute_result"
    }
   ],
   "source": [
    "\n",
    "rf_preds_train = rf.predict(X_train_sc)\n",
    "rf_rms_train = sqrt(mean_squared_error(y_train, rf_preds_train))\n",
    "rf_rms_train"
   ]
  },
  {
   "cell_type": "code",
   "execution_count": 41,
   "metadata": {},
   "outputs": [
    {
     "data": {
      "text/plain": [
       "14.015195661468162"
      ]
     },
     "execution_count": 41,
     "metadata": {},
     "output_type": "execute_result"
    }
   ],
   "source": [
    "rf_preds_test = rf.predict(X_test_sc)\n",
    "rf_rms_test = sqrt(mean_squared_error(y_test, rf_preds_test))\n",
    "rf_rms_test"
   ]
  },
  {
   "cell_type": "markdown",
   "metadata": {},
   "source": [
    "## ADA boost"
   ]
  },
  {
   "cell_type": "code",
   "execution_count": 43,
   "metadata": {},
   "outputs": [
    {
     "data": {
      "text/plain": [
       "AdaBoostRegressor(base_estimator=None, learning_rate=1.0, loss='linear',\n",
       "                  n_estimators=50, random_state=None)"
      ]
     },
     "execution_count": 43,
     "metadata": {},
     "output_type": "execute_result"
    }
   ],
   "source": [
    "# Instiantiate model and fit\n",
    "ada = AdaBoostRegressor()\n",
    "ada.fit(X_train_sc, y_train)"
   ]
  },
  {
   "cell_type": "code",
   "execution_count": 44,
   "metadata": {},
   "outputs": [
    {
     "data": {
      "text/plain": [
       "0.21644228212137132"
      ]
     },
     "execution_count": 44,
     "metadata": {},
     "output_type": "execute_result"
    }
   ],
   "source": [
    "ada_preds_train = dt.predict(X_train_sc)\n",
    "ada_rms_train = sqrt(mean_squared_error(y_train, dt_preds_train))\n",
    "ada_rms_train"
   ]
  },
  {
   "cell_type": "code",
   "execution_count": 45,
   "metadata": {},
   "outputs": [
    {
     "data": {
      "text/plain": [
       "23.414682161161124"
      ]
     },
     "execution_count": 45,
     "metadata": {},
     "output_type": "execute_result"
    }
   ],
   "source": [
    "ada_preds_test = ada.predict(X_test_sc)\n",
    "ada_rms_test = sqrt(mean_squared_error(y_test, ada_preds_test))\n",
    "ada_rms_test"
   ]
  },
  {
   "cell_type": "markdown",
   "metadata": {},
   "source": [
    "## SVM"
   ]
  },
  {
   "cell_type": "code",
   "execution_count": 47,
   "metadata": {},
   "outputs": [
    {
     "data": {
      "text/plain": [
       "SVR(C=1.0, cache_size=200, coef0=0.0, degree=3, epsilon=0.1, gamma='scale',\n",
       "    kernel='rbf', max_iter=-1, shrinking=True, tol=0.001, verbose=False)"
      ]
     },
     "execution_count": 47,
     "metadata": {},
     "output_type": "execute_result"
    }
   ],
   "source": [
    "# Instiantiate model and fit\n",
    "svr = svm.SVR()\n",
    "svr.fit(X_train_sc, y_train)"
   ]
  },
  {
   "cell_type": "code",
   "execution_count": 48,
   "metadata": {},
   "outputs": [
    {
     "data": {
      "text/plain": [
       "15.754139199960038"
      ]
     },
     "execution_count": 48,
     "metadata": {},
     "output_type": "execute_result"
    }
   ],
   "source": [
    "svr_preds_train = svr.predict(X_train_sc)\n",
    "svr_rms_train = sqrt(mean_squared_error(y_train, svr_preds_train))\n",
    "svr_rms_train"
   ]
  },
  {
   "cell_type": "code",
   "execution_count": 49,
   "metadata": {},
   "outputs": [
    {
     "data": {
      "text/plain": [
       "16.405117199825664"
      ]
     },
     "execution_count": 49,
     "metadata": {},
     "output_type": "execute_result"
    }
   ],
   "source": [
    "svr_preds_test = svr.predict(X_test_sc)\n",
    "svr_rms_test = sqrt(mean_squared_error(y_test, svr_preds_test))\n",
    "svr_rms_test"
   ]
  }
 ],
 "metadata": {
  "kernelspec": {
   "display_name": "Python 3",
   "language": "python",
   "name": "python3"
  },
  "language_info": {
   "codemirror_mode": {
    "name": "ipython",
    "version": 3
   },
   "file_extension": ".py",
   "mimetype": "text/x-python",
   "name": "python",
   "nbconvert_exporter": "python",
   "pygments_lexer": "ipython3",
   "version": "3.7.6"
  }
 },
 "nbformat": 4,
 "nbformat_minor": 4
}
