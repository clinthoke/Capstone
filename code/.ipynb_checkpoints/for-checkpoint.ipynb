{
 "cells": [
  {
   "cell_type": "code",
   "execution_count": 100,
   "metadata": {},
   "outputs": [],
   "source": [
    "import pandas as pd"
   ]
  },
  {
   "cell_type": "code",
   "execution_count": 101,
   "metadata": {},
   "outputs": [
    {
     "name": "stdout",
     "output_type": "stream",
     "text": [
      "7_dwarfs_train.csv is cleaned and is now in the cleaned_data folder\n",
      "pirates_of_caribbean.csv is cleaned and is now in the cleaned_data folder\n",
      "spaceship_earth.csv is cleaned and is now in the cleaned_data folder\n",
      "splash_mountain.csv is cleaned and is now in the cleaned_data folder\n",
      "toy_story_mania.csv is cleaned and is now in the cleaned_data folder\n",
      "soarin.csv is cleaned and is now in the cleaned_data folder\n",
      "kilimanjaro_safaris.csv is cleaned and is now in the cleaned_data folder\n",
      "expedition_everest.csv is cleaned and is now in the cleaned_data folder\n",
      "rock_n_rollercoaster.csv is cleaned and is now in the cleaned_data folder\n",
      "dinosaur.csv is cleaned and is now in the cleaned_data folder\n",
      "flight_of_passage.csv is cleaned and is now in the cleaned_data folder\n",
      "navi_river.csv is cleaned and is now in the cleaned_data folder\n",
      "alien_saucers.csv is cleaned and is now in the cleaned_data folder\n",
      "slinky_dog.csv is cleaned and is now in the cleaned_data folder\n"
     ]
    }
   ],
   "source": [
    "basepath = \"../raw_data/\"\n",
    "futurepath = \"../cleaned_data/\"\n",
    "for filename in os.listdir(basepath):\n",
    "    if filename.endswith(\".csv\"): \n",
    "        ride = os.path.join(\".\" +filename)\n",
    "        ride = pd.read_csv(basepath + filename)\n",
    "        ride.drop('SACTMIN', axis=1, inplace = True)\n",
    "        ride = ride[ride.SPOSTMIN != -999.0]\n",
    "        ride = ride[ride.SPOSTMIN != 0]\n",
    "        ride = ride.dropna()\n",
    "        ride.to_csv('../cleaned_data/' + filename, index = False)\n",
    "        print(f'{filename} is cleaned and is now in the cleaned_data folder')\n",
    "          "
   ]
  },
  {
   "cell_type": "code",
   "execution_count": null,
   "metadata": {},
   "outputs": [],
   "source": []
  }
 ],
 "metadata": {
  "kernelspec": {
   "display_name": "Python 3",
   "language": "python",
   "name": "python3"
  },
  "language_info": {
   "codemirror_mode": {
    "name": "ipython",
    "version": 3
   },
   "file_extension": ".py",
   "mimetype": "text/x-python",
   "name": "python",
   "nbconvert_exporter": "python",
   "pygments_lexer": "ipython3",
   "version": "3.7.6"
  }
 },
 "nbformat": 4,
 "nbformat_minor": 4
}
