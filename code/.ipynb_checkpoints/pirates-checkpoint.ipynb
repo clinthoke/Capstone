{
 "cells": [
  {
   "cell_type": "code",
   "execution_count": 18,
   "metadata": {},
   "outputs": [],
   "source": [
    "import pandas as pd"
   ]
  },
  {
   "cell_type": "code",
   "execution_count": 19,
   "metadata": {},
   "outputs": [
    {
     "name": "stdout",
     "output_type": "stream",
     "text": [
      "<class 'pandas.core.frame.DataFrame'>\n",
      "RangeIndex: 238281 entries, 0 to 238280\n",
      "Data columns (total 4 columns):\n",
      " #   Column    Non-Null Count   Dtype  \n",
      "---  ------    --------------   -----  \n",
      " 0   date      238281 non-null  object \n",
      " 1   datetime  238281 non-null  object \n",
      " 2   SACTMIN   7497 non-null    float64\n",
      " 3   SPOSTMIN  230784 non-null  float64\n",
      "dtypes: float64(2), object(2)\n",
      "memory usage: 7.3+ MB\n"
     ]
    }
   ],
   "source": [
    "pirates = pd.read_csv(\"pirates_of_caribbean.csv\")\n",
    "pirates.info()"
   ]
  },
  {
   "cell_type": "code",
   "execution_count": 20,
   "metadata": {},
   "outputs": [
    {
     "data": {
      "text/html": [
       "<div>\n",
       "<style scoped>\n",
       "    .dataframe tbody tr th:only-of-type {\n",
       "        vertical-align: middle;\n",
       "    }\n",
       "\n",
       "    .dataframe tbody tr th {\n",
       "        vertical-align: top;\n",
       "    }\n",
       "\n",
       "    .dataframe thead th {\n",
       "        text-align: right;\n",
       "    }\n",
       "</style>\n",
       "<table border=\"1\" class=\"dataframe\">\n",
       "  <thead>\n",
       "    <tr style=\"text-align: right;\">\n",
       "      <th></th>\n",
       "      <th>date</th>\n",
       "      <th>datetime</th>\n",
       "      <th>SACTMIN</th>\n",
       "      <th>SPOSTMIN</th>\n",
       "    </tr>\n",
       "  </thead>\n",
       "  <tbody>\n",
       "    <tr>\n",
       "      <th>0</th>\n",
       "      <td>01/01/2015</td>\n",
       "      <td>2015-01-01 08:27:58</td>\n",
       "      <td>NaN</td>\n",
       "      <td>-999.0</td>\n",
       "    </tr>\n",
       "    <tr>\n",
       "      <th>1</th>\n",
       "      <td>01/01/2015</td>\n",
       "      <td>2015-01-01 08:56:55</td>\n",
       "      <td>NaN</td>\n",
       "      <td>-999.0</td>\n",
       "    </tr>\n",
       "    <tr>\n",
       "      <th>2</th>\n",
       "      <td>01/01/2015</td>\n",
       "      <td>2015-01-01 08:57:38</td>\n",
       "      <td>NaN</td>\n",
       "      <td>-999.0</td>\n",
       "    </tr>\n",
       "    <tr>\n",
       "      <th>3</th>\n",
       "      <td>01/01/2015</td>\n",
       "      <td>2015-01-01 08:58:34</td>\n",
       "      <td>NaN</td>\n",
       "      <td>-999.0</td>\n",
       "    </tr>\n",
       "    <tr>\n",
       "      <th>4</th>\n",
       "      <td>01/01/2015</td>\n",
       "      <td>2015-01-01 09:24:55</td>\n",
       "      <td>NaN</td>\n",
       "      <td>-999.0</td>\n",
       "    </tr>\n",
       "  </tbody>\n",
       "</table>\n",
       "</div>"
      ],
      "text/plain": [
       "         date             datetime  SACTMIN  SPOSTMIN\n",
       "0  01/01/2015  2015-01-01 08:27:58      NaN    -999.0\n",
       "1  01/01/2015  2015-01-01 08:56:55      NaN    -999.0\n",
       "2  01/01/2015  2015-01-01 08:57:38      NaN    -999.0\n",
       "3  01/01/2015  2015-01-01 08:58:34      NaN    -999.0\n",
       "4  01/01/2015  2015-01-01 09:24:55      NaN    -999.0"
      ]
     },
     "execution_count": 20,
     "metadata": {},
     "output_type": "execute_result"
    }
   ],
   "source": [
    "pirates.head()"
   ]
  },
  {
   "cell_type": "code",
   "execution_count": 21,
   "metadata": {},
   "outputs": [
    {
     "data": {
      "text/plain": [
       "date             0\n",
       "datetime         0\n",
       "SACTMIN     230784\n",
       "SPOSTMIN      7497\n",
       "dtype: int64"
      ]
     },
     "execution_count": 21,
     "metadata": {},
     "output_type": "execute_result"
    }
   ],
   "source": [
    "pirates.isnull().sum()"
   ]
  },
  {
   "cell_type": "code",
   "execution_count": 22,
   "metadata": {},
   "outputs": [],
   "source": [
    "pirates.drop('SACTMIN', axis=1, inplace = True)  \n"
   ]
  },
  {
   "cell_type": "code",
   "execution_count": 32,
   "metadata": {},
   "outputs": [
    {
     "data": {
      "text/html": [
       "<div>\n",
       "<style scoped>\n",
       "    .dataframe tbody tr th:only-of-type {\n",
       "        vertical-align: middle;\n",
       "    }\n",
       "\n",
       "    .dataframe tbody tr th {\n",
       "        vertical-align: top;\n",
       "    }\n",
       "\n",
       "    .dataframe thead th {\n",
       "        text-align: right;\n",
       "    }\n",
       "</style>\n",
       "<table border=\"1\" class=\"dataframe\">\n",
       "  <thead>\n",
       "    <tr style=\"text-align: right;\">\n",
       "      <th></th>\n",
       "      <th>date</th>\n",
       "      <th>datetime</th>\n",
       "      <th>SPOSTMIN</th>\n",
       "    </tr>\n",
       "  </thead>\n",
       "  <tbody>\n",
       "    <tr>\n",
       "      <th>5</th>\n",
       "      <td>01/01/2015</td>\n",
       "      <td>2015-01-01 10:19:36</td>\n",
       "      <td>10.0</td>\n",
       "    </tr>\n",
       "    <tr>\n",
       "      <th>7</th>\n",
       "      <td>01/01/2015</td>\n",
       "      <td>2015-01-01 10:29:13</td>\n",
       "      <td>15.0</td>\n",
       "    </tr>\n",
       "    <tr>\n",
       "      <th>8</th>\n",
       "      <td>01/01/2015</td>\n",
       "      <td>2015-01-01 10:36:39</td>\n",
       "      <td>25.0</td>\n",
       "    </tr>\n",
       "    <tr>\n",
       "      <th>9</th>\n",
       "      <td>01/01/2015</td>\n",
       "      <td>2015-01-01 10:37:13</td>\n",
       "      <td>25.0</td>\n",
       "    </tr>\n",
       "    <tr>\n",
       "      <th>10</th>\n",
       "      <td>01/01/2015</td>\n",
       "      <td>2015-01-01 10:44:13</td>\n",
       "      <td>35.0</td>\n",
       "    </tr>\n",
       "  </tbody>\n",
       "</table>\n",
       "</div>"
      ],
      "text/plain": [
       "          date             datetime  SPOSTMIN\n",
       "5   01/01/2015  2015-01-01 10:19:36      10.0\n",
       "7   01/01/2015  2015-01-01 10:29:13      15.0\n",
       "8   01/01/2015  2015-01-01 10:36:39      25.0\n",
       "9   01/01/2015  2015-01-01 10:37:13      25.0\n",
       "10  01/01/2015  2015-01-01 10:44:13      35.0"
      ]
     },
     "execution_count": 32,
     "metadata": {},
     "output_type": "execute_result"
    }
   ],
   "source": [
    "pirates.head()"
   ]
  },
  {
   "cell_type": "code",
   "execution_count": 29,
   "metadata": {},
   "outputs": [],
   "source": [
    "pirates = pirates[pirates.SPOSTMIN != -999.0]\n",
    "pirates = pirates[pirates.SPOSTMIN != 0]\n",
    "pirates = pirates.dropna()"
   ]
  },
  {
   "cell_type": "code",
   "execution_count": 30,
   "metadata": {},
   "outputs": [
    {
     "data": {
      "text/plain": [
       "5.0      32587\n",
       "10.0     26746\n",
       "30.0     19188\n",
       "25.0     17958\n",
       "20.0     17604\n",
       "15.0     17131\n",
       "35.0     16959\n",
       "40.0     16788\n",
       "45.0     15350\n",
       "50.0     11120\n",
       "55.0      7022\n",
       "60.0      5623\n",
       "65.0      3136\n",
       "70.0      1751\n",
       "75.0      1204\n",
       "80.0       615\n",
       "85.0       330\n",
       "90.0       266\n",
       "95.0       170\n",
       "105.0       60\n",
       "110.0       22\n",
       "120.0       20\n",
       "115.0       10\n",
       "125.0        6\n",
       "100.0        4\n",
       "130.0        1\n",
       "180.0        1\n",
       "135.0        1\n",
       "185.0        1\n",
       "Name: SPOSTMIN, dtype: int64"
      ]
     },
     "execution_count": 30,
     "metadata": {},
     "output_type": "execute_result"
    }
   ],
   "source": [
    "pirates[\"SPOSTMIN\"].value_counts()"
   ]
  },
  {
   "cell_type": "code",
   "execution_count": 33,
   "metadata": {},
   "outputs": [
    {
     "data": {
      "text/html": [
       "<div>\n",
       "<style scoped>\n",
       "    .dataframe tbody tr th:only-of-type {\n",
       "        vertical-align: middle;\n",
       "    }\n",
       "\n",
       "    .dataframe tbody tr th {\n",
       "        vertical-align: top;\n",
       "    }\n",
       "\n",
       "    .dataframe thead th {\n",
       "        text-align: right;\n",
       "    }\n",
       "</style>\n",
       "<table border=\"1\" class=\"dataframe\">\n",
       "  <thead>\n",
       "    <tr style=\"text-align: right;\">\n",
       "      <th></th>\n",
       "      <th>date</th>\n",
       "      <th>datetime</th>\n",
       "      <th>SPOSTMIN</th>\n",
       "    </tr>\n",
       "  </thead>\n",
       "  <tbody>\n",
       "    <tr>\n",
       "      <th>5</th>\n",
       "      <td>01/01/2015</td>\n",
       "      <td>2015-01-01 10:19:36</td>\n",
       "      <td>10.0</td>\n",
       "    </tr>\n",
       "    <tr>\n",
       "      <th>7</th>\n",
       "      <td>01/01/2015</td>\n",
       "      <td>2015-01-01 10:29:13</td>\n",
       "      <td>15.0</td>\n",
       "    </tr>\n",
       "    <tr>\n",
       "      <th>8</th>\n",
       "      <td>01/01/2015</td>\n",
       "      <td>2015-01-01 10:36:39</td>\n",
       "      <td>25.0</td>\n",
       "    </tr>\n",
       "    <tr>\n",
       "      <th>9</th>\n",
       "      <td>01/01/2015</td>\n",
       "      <td>2015-01-01 10:37:13</td>\n",
       "      <td>25.0</td>\n",
       "    </tr>\n",
       "    <tr>\n",
       "      <th>10</th>\n",
       "      <td>01/01/2015</td>\n",
       "      <td>2015-01-01 10:44:13</td>\n",
       "      <td>35.0</td>\n",
       "    </tr>\n",
       "  </tbody>\n",
       "</table>\n",
       "</div>"
      ],
      "text/plain": [
       "          date             datetime  SPOSTMIN\n",
       "5   01/01/2015  2015-01-01 10:19:36      10.0\n",
       "7   01/01/2015  2015-01-01 10:29:13      15.0\n",
       "8   01/01/2015  2015-01-01 10:36:39      25.0\n",
       "9   01/01/2015  2015-01-01 10:37:13      25.0\n",
       "10  01/01/2015  2015-01-01 10:44:13      35.0"
      ]
     },
     "execution_count": 33,
     "metadata": {},
     "output_type": "execute_result"
    }
   ],
   "source": [
    "pirates.head()"
   ]
  },
  {
   "cell_type": "code",
   "execution_count": 34,
   "metadata": {},
   "outputs": [
    {
     "name": "stdout",
     "output_type": "stream",
     "text": [
      "<class 'pandas.core.frame.DataFrame'>\n",
      "Int64Index: 211674 entries, 5 to 238280\n",
      "Data columns (total 3 columns):\n",
      " #   Column    Non-Null Count   Dtype  \n",
      "---  ------    --------------   -----  \n",
      " 0   date      211674 non-null  object \n",
      " 1   datetime  211674 non-null  object \n",
      " 2   SPOSTMIN  211674 non-null  float64\n",
      "dtypes: float64(1), object(2)\n",
      "memory usage: 6.5+ MB\n"
     ]
    }
   ],
   "source": [
    "pirates.info()"
   ]
  },
  {
   "cell_type": "code",
   "execution_count": null,
   "metadata": {},
   "outputs": [],
   "source": []
  }
 ],
 "metadata": {
  "kernelspec": {
   "display_name": "Python 3",
   "language": "python",
   "name": "python3"
  },
  "language_info": {
   "codemirror_mode": {
    "name": "ipython",
    "version": 3
   },
   "file_extension": ".py",
   "mimetype": "text/x-python",
   "name": "python",
   "nbconvert_exporter": "python",
   "pygments_lexer": "ipython3",
   "version": "3.7.6"
  }
 },
 "nbformat": 4,
 "nbformat_minor": 4
}
