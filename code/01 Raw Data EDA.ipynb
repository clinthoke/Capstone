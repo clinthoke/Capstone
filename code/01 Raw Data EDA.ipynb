{
 "cells": [
  {
   "cell_type": "code",
   "execution_count": 2,
   "metadata": {},
   "outputs": [],
   "source": [
    "import pandas as pd\n",
    "import os"
   ]
  },
  {
   "cell_type": "code",
   "execution_count": 6,
   "metadata": {},
   "outputs": [
    {
     "name": "stdout",
     "output_type": "stream",
     "text": [
      "date        datetime64[ns]\n",
      "datetime    datetime64[ns]\n",
      "SPOSTMIN           float64\n",
      "dtype: object\n",
      "7_dwarfs_train.csv is cleaned and is now in the cleaned_data folder\n",
      "date        datetime64[ns]\n",
      "datetime    datetime64[ns]\n",
      "SPOSTMIN           float64\n",
      "dtype: object\n",
      "pirates_of_caribbean.csv is cleaned and is now in the cleaned_data folder\n",
      "date        datetime64[ns]\n",
      "datetime    datetime64[ns]\n",
      "SPOSTMIN           float64\n",
      "dtype: object\n",
      "spaceship_earth.csv is cleaned and is now in the cleaned_data folder\n",
      "date        datetime64[ns]\n",
      "datetime    datetime64[ns]\n",
      "SPOSTMIN           float64\n",
      "dtype: object\n",
      "splash_mountain.csv is cleaned and is now in the cleaned_data folder\n",
      "date        datetime64[ns]\n",
      "datetime    datetime64[ns]\n",
      "SPOSTMIN           float64\n",
      "dtype: object\n",
      "toy_story_mania.csv is cleaned and is now in the cleaned_data folder\n",
      "date        datetime64[ns]\n",
      "datetime    datetime64[ns]\n",
      "SPOSTMIN           float64\n",
      "dtype: object\n",
      "soarin.csv is cleaned and is now in the cleaned_data folder\n",
      "date        datetime64[ns]\n",
      "datetime    datetime64[ns]\n",
      "SPOSTMIN           float64\n",
      "dtype: object\n",
      "kilimanjaro_safaris.csv is cleaned and is now in the cleaned_data folder\n",
      "date        datetime64[ns]\n",
      "datetime    datetime64[ns]\n",
      "SPOSTMIN           float64\n",
      "dtype: object\n",
      "expedition_everest.csv is cleaned and is now in the cleaned_data folder\n",
      "date        datetime64[ns]\n",
      "datetime    datetime64[ns]\n",
      "SPOSTMIN           float64\n",
      "dtype: object\n",
      "rock_n_rollercoaster.csv is cleaned and is now in the cleaned_data folder\n",
      "date        datetime64[ns]\n",
      "datetime    datetime64[ns]\n",
      "SPOSTMIN           float64\n",
      "dtype: object\n",
      "dinosaur.csv is cleaned and is now in the cleaned_data folder\n",
      "date        datetime64[ns]\n",
      "datetime    datetime64[ns]\n",
      "SPOSTMIN           float64\n",
      "dtype: object\n",
      "flight_of_passage.csv is cleaned and is now in the cleaned_data folder\n",
      "date        datetime64[ns]\n",
      "datetime    datetime64[ns]\n",
      "SPOSTMIN           float64\n",
      "dtype: object\n",
      "navi_river.csv is cleaned and is now in the cleaned_data folder\n",
      "date        datetime64[ns]\n",
      "datetime    datetime64[ns]\n",
      "SPOSTMIN           float64\n",
      "dtype: object\n",
      "alien_saucers.csv is cleaned and is now in the cleaned_data folder\n",
      "date        datetime64[ns]\n",
      "datetime    datetime64[ns]\n",
      "SPOSTMIN           float64\n",
      "dtype: object\n",
      "slinky_dog.csv is cleaned and is now in the cleaned_data folder\n"
     ]
    }
   ],
   "source": [
    "basepath = \"../raw_data/\"\n",
    "futurepath = \"../cleaned_data/\"\n",
    "for filename in os.listdir(basepath):\n",
    "    if filename.endswith(\".csv\"): \n",
    "        ride = os.path.join(\".\" +filename)\n",
    "        ride = pd.read_csv(basepath + filename)\n",
    "        ride.drop('SACTMIN', axis=1, inplace = True)\n",
    "        ride = ride[ride.SPOSTMIN != -999.0]\n",
    "        ride = ride[ride.SPOSTMIN != 0]\n",
    "        ride = ride.dropna()\n",
    "        ride['date'] = pd.to_datetime(ride[\"date\"])\n",
    "        ride['datetime'] = pd.to_datetime(ride[\"datetime\"])\n",
    "        print(ride.dtypes)\n",
    "        ride.to_csv('../cleaned_data/' + filename, index = False)\n",
    "        print(f'{filename} is cleaned and is now in the cleaned_data folder')        "
   ]
  },
  {
   "cell_type": "code",
   "execution_count": null,
   "metadata": {},
   "outputs": [],
   "source": []
  }
 ],
 "metadata": {
  "kernelspec": {
   "display_name": "Python 3",
   "language": "python",
   "name": "python3"
  },
  "language_info": {
   "codemirror_mode": {
    "name": "ipython",
    "version": 3
   },
   "file_extension": ".py",
   "mimetype": "text/x-python",
   "name": "python",
   "nbconvert_exporter": "python",
   "pygments_lexer": "ipython3",
   "version": "3.7.6"
  }
 },
 "nbformat": 4,
 "nbformat_minor": 4
}
