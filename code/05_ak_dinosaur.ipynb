{
 "cells": [
  {
   "cell_type": "code",
   "execution_count": 1,
   "metadata": {},
   "outputs": [],
   "source": [
    "import pandas as pd\n",
    "import seaborn as sns\n",
    "import numpy as np\n",
    "import matplotlib.pyplot as plt\n",
    "from math import sqrt\n",
    "from datetime import date\n",
    "from sklearn.preprocessing import StandardScaler\n",
    "from sklearn.model_selection import train_test_split, cross_val_score\n",
    "from sklearn.ensemble import RandomForestRegressor, AdaBoostRegressor, BaggingRegressor\n",
    "from sklearn.linear_model import LinearRegression, LogisticRegression\n",
    "from sklearn.neighbors import KNeighborsRegressor\n",
    "from sklearn.tree import DecisionTreeRegressor\n",
    "from sklearn.metrics import mean_squared_error\n",
    "from sklearn import svm\n",
    "from xgboost import XGBClassifier\n",
    "from fbprophet import Prophet\n",
    "from fbprophet.diagnostics import cross_validation, performance_metrics\n",
    "from fbprophet.plot import plot_cross_validation_metric\n",
    "from fbprophet.plot import plot_plotly\n",
    "import plotly.offline as py"
   ]
  },
  {
   "cell_type": "code",
   "execution_count": 2,
   "metadata": {},
   "outputs": [
    {
     "name": "stdout",
     "output_type": "stream",
     "text": [
      "<class 'pandas.core.frame.DataFrame'>\n",
      "RangeIndex: 31039 entries, 0 to 31038\n",
      "Data columns (total 6 columns):\n",
      " #   Column               Non-Null Count  Dtype \n",
      "---  ------               --------------  ----- \n",
      " 0   datetime             31039 non-null  object\n",
      " 1   kilimanjaro_safaris  31039 non-null  object\n",
      " 2   expedition_everest   31039 non-null  object\n",
      " 3   dinosaur             31039 non-null  object\n",
      " 4   flight_of_passage    31039 non-null  object\n",
      " 5   navi_river           31039 non-null  object\n",
      "dtypes: object(6)\n",
      "memory usage: 1.4+ MB\n"
     ]
    }
   ],
   "source": [
    "# Import Magic Kingdom attractions\n",
    "mka = pd.read_csv(\"../attractions/attractions_ak.csv\")\n",
    "mka.info()"
   ]
  },
  {
   "cell_type": "code",
   "execution_count": 3,
   "metadata": {},
   "outputs": [
    {
     "data": {
      "text/html": [
       "<div>\n",
       "<style scoped>\n",
       "    .dataframe tbody tr th:only-of-type {\n",
       "        vertical-align: middle;\n",
       "    }\n",
       "\n",
       "    .dataframe tbody tr th {\n",
       "        vertical-align: top;\n",
       "    }\n",
       "\n",
       "    .dataframe thead th {\n",
       "        text-align: right;\n",
       "    }\n",
       "</style>\n",
       "<table border=\"1\" class=\"dataframe\">\n",
       "  <thead>\n",
       "    <tr style=\"text-align: right;\">\n",
       "      <th></th>\n",
       "      <th>datetime</th>\n",
       "      <th>kilimanjaro_safaris</th>\n",
       "      <th>expedition_everest</th>\n",
       "      <th>dinosaur</th>\n",
       "      <th>flight_of_passage</th>\n",
       "      <th>navi_river</th>\n",
       "    </tr>\n",
       "  </thead>\n",
       "  <tbody>\n",
       "    <tr>\n",
       "      <th>0</th>\n",
       "      <td>2015-01-01 07:00:00</td>\n",
       "      <td>5.0</td>\n",
       "      <td>5.0</td>\n",
       "      <td>5.0</td>\n",
       "      <td>na</td>\n",
       "      <td>na</td>\n",
       "    </tr>\n",
       "    <tr>\n",
       "      <th>1</th>\n",
       "      <td>2015-01-01 08:00:00</td>\n",
       "      <td>9.0</td>\n",
       "      <td>5.0</td>\n",
       "      <td>9.0</td>\n",
       "      <td>na</td>\n",
       "      <td>na</td>\n",
       "    </tr>\n",
       "  </tbody>\n",
       "</table>\n",
       "</div>"
      ],
      "text/plain": [
       "              datetime kilimanjaro_safaris expedition_everest dinosaur  \\\n",
       "0  2015-01-01 07:00:00                 5.0                5.0      5.0   \n",
       "1  2015-01-01 08:00:00                 9.0                5.0      9.0   \n",
       "\n",
       "  flight_of_passage navi_river  \n",
       "0                na         na  \n",
       "1                na         na  "
      ]
     },
     "execution_count": 3,
     "metadata": {},
     "output_type": "execute_result"
    }
   ],
   "source": [
    "mka = mka[mka[\"datetime\"] != '2019-12-31 01:00:00']\n",
    "mka = mka[mka[\"datetime\"] != '2019-12-31 00:00:00']\n",
    "mka.head(2)"
   ]
  },
  {
   "cell_type": "code",
   "execution_count": 4,
   "metadata": {},
   "outputs": [
    {
     "name": "stdout",
     "output_type": "stream",
     "text": [
      "<class 'pandas.core.frame.DataFrame'>\n",
      "Int64Index: 31037 entries, 0 to 31038\n",
      "Data columns (total 7 columns):\n",
      " #   Column               Non-Null Count  Dtype         \n",
      "---  ------               --------------  -----         \n",
      " 0   datetime             31037 non-null  object        \n",
      " 1   kilimanjaro_safaris  31037 non-null  object        \n",
      " 2   expedition_everest   31037 non-null  object        \n",
      " 3   dinosaur             31037 non-null  object        \n",
      " 4   flight_of_passage    31037 non-null  object        \n",
      " 5   navi_river           31037 non-null  object        \n",
      " 6   DATE                 31037 non-null  datetime64[ns]\n",
      "dtypes: datetime64[ns](1), object(6)\n",
      "memory usage: 1.9+ MB\n",
      "None\n"
     ]
    },
    {
     "data": {
      "text/html": [
       "<div>\n",
       "<style scoped>\n",
       "    .dataframe tbody tr th:only-of-type {\n",
       "        vertical-align: middle;\n",
       "    }\n",
       "\n",
       "    .dataframe tbody tr th {\n",
       "        vertical-align: top;\n",
       "    }\n",
       "\n",
       "    .dataframe thead th {\n",
       "        text-align: right;\n",
       "    }\n",
       "</style>\n",
       "<table border=\"1\" class=\"dataframe\">\n",
       "  <thead>\n",
       "    <tr style=\"text-align: right;\">\n",
       "      <th></th>\n",
       "      <th>datetime</th>\n",
       "      <th>kilimanjaro_safaris</th>\n",
       "      <th>expedition_everest</th>\n",
       "      <th>dinosaur</th>\n",
       "      <th>flight_of_passage</th>\n",
       "      <th>navi_river</th>\n",
       "      <th>DATE</th>\n",
       "    </tr>\n",
       "  </thead>\n",
       "  <tbody>\n",
       "    <tr>\n",
       "      <th>0</th>\n",
       "      <td>2015-01-01 07:00:00</td>\n",
       "      <td>5.0</td>\n",
       "      <td>5.0</td>\n",
       "      <td>5.0</td>\n",
       "      <td>na</td>\n",
       "      <td>na</td>\n",
       "      <td>2015-01-01</td>\n",
       "    </tr>\n",
       "    <tr>\n",
       "      <th>1</th>\n",
       "      <td>2015-01-01 08:00:00</td>\n",
       "      <td>9.0</td>\n",
       "      <td>5.0</td>\n",
       "      <td>9.0</td>\n",
       "      <td>na</td>\n",
       "      <td>na</td>\n",
       "      <td>2015-01-01</td>\n",
       "    </tr>\n",
       "  </tbody>\n",
       "</table>\n",
       "</div>"
      ],
      "text/plain": [
       "              datetime kilimanjaro_safaris expedition_everest dinosaur  \\\n",
       "0  2015-01-01 07:00:00                 5.0                5.0      5.0   \n",
       "1  2015-01-01 08:00:00                 9.0                5.0      9.0   \n",
       "\n",
       "  flight_of_passage navi_river       DATE  \n",
       "0                na         na 2015-01-01  \n",
       "1                na         na 2015-01-01  "
      ]
     },
     "execution_count": 4,
     "metadata": {},
     "output_type": "execute_result"
    }
   ],
   "source": [
    "# Added DATE column to mk from the datetime column, using it to concat dataframes\n",
    "mka['DATE'] = pd.to_datetime(mka['datetime']).dt.date\n",
    "mka['DATE'] = pd.to_datetime(mka[\"DATE\"])\n",
    "print(mka.info())\n",
    "mka.head(2)"
   ]
  },
  {
   "cell_type": "code",
   "execution_count": 5,
   "metadata": {},
   "outputs": [
    {
     "data": {
      "text/html": [
       "<div>\n",
       "<style scoped>\n",
       "    .dataframe tbody tr th:only-of-type {\n",
       "        vertical-align: middle;\n",
       "    }\n",
       "\n",
       "    .dataframe tbody tr th {\n",
       "        vertical-align: top;\n",
       "    }\n",
       "\n",
       "    .dataframe thead th {\n",
       "        text-align: right;\n",
       "    }\n",
       "</style>\n",
       "<table border=\"1\" class=\"dataframe\">\n",
       "  <thead>\n",
       "    <tr style=\"text-align: right;\">\n",
       "      <th></th>\n",
       "      <th>DATE</th>\n",
       "      <th>DAYOFWEEK</th>\n",
       "      <th>DAYOFYEAR</th>\n",
       "      <th>WEEKOFYEAR</th>\n",
       "      <th>MONTHOFYEAR</th>\n",
       "      <th>YEAR</th>\n",
       "      <th>HOLIDAYPX</th>\n",
       "      <th>HOLIDAYM</th>\n",
       "      <th>HOLIDAY</th>\n",
       "      <th>WDWevent</th>\n",
       "      <th>...</th>\n",
       "      <th>AKOPENTOM</th>\n",
       "      <th>AKCLOSETOM</th>\n",
       "      <th>AKHOURSTOM</th>\n",
       "      <th>MKDAYSBEFORENONEVENT</th>\n",
       "      <th>WDWMINTEMP_mean</th>\n",
       "      <th>WEATHER_WDWHIGH</th>\n",
       "      <th>WEATHER_WDWLOW</th>\n",
       "      <th>WEATHER_WDWPRECIP</th>\n",
       "      <th>CapacityLost_AK</th>\n",
       "      <th>CapacityLostWGT_AK</th>\n",
       "    </tr>\n",
       "  </thead>\n",
       "  <tbody>\n",
       "    <tr>\n",
       "      <th>0</th>\n",
       "      <td>2015-01-01</td>\n",
       "      <td>5</td>\n",
       "      <td>0</td>\n",
       "      <td>0</td>\n",
       "      <td>1</td>\n",
       "      <td>2015</td>\n",
       "      <td>0</td>\n",
       "      <td>5</td>\n",
       "      <td>1</td>\n",
       "      <td>0</td>\n",
       "      <td>...</td>\n",
       "      <td>8:00</td>\n",
       "      <td>20:00</td>\n",
       "      <td>12.0</td>\n",
       "      <td>1.0</td>\n",
       "      <td>53.375714</td>\n",
       "      <td>70.3</td>\n",
       "      <td>50.2</td>\n",
       "      <td>0.12</td>\n",
       "      <td>236654</td>\n",
       "      <td>20971646</td>\n",
       "    </tr>\n",
       "    <tr>\n",
       "      <th>1</th>\n",
       "      <td>2015-01-02</td>\n",
       "      <td>6</td>\n",
       "      <td>1</td>\n",
       "      <td>0</td>\n",
       "      <td>1</td>\n",
       "      <td>2015</td>\n",
       "      <td>2</td>\n",
       "      <td>5</td>\n",
       "      <td>0</td>\n",
       "      <td>0</td>\n",
       "      <td>...</td>\n",
       "      <td>8:00</td>\n",
       "      <td>19:00</td>\n",
       "      <td>11.0</td>\n",
       "      <td>1.0</td>\n",
       "      <td>53.750714</td>\n",
       "      <td>70.3</td>\n",
       "      <td>50.0</td>\n",
       "      <td>0.12</td>\n",
       "      <td>236654</td>\n",
       "      <td>20971646</td>\n",
       "    </tr>\n",
       "  </tbody>\n",
       "</table>\n",
       "<p>2 rows × 65 columns</p>\n",
       "</div>"
      ],
      "text/plain": [
       "         DATE  DAYOFWEEK  DAYOFYEAR  WEEKOFYEAR  MONTHOFYEAR  YEAR  HOLIDAYPX  \\\n",
       "0  2015-01-01          5          0           0            1  2015          0   \n",
       "1  2015-01-02          6          1           0            1  2015          2   \n",
       "\n",
       "   HOLIDAYM  HOLIDAY  WDWevent  ...  AKOPENTOM AKCLOSETOM  AKHOURSTOM  \\\n",
       "0         5        1         0  ...       8:00      20:00        12.0   \n",
       "1         5        0         0  ...       8:00      19:00        11.0   \n",
       "\n",
       "   MKDAYSBEFORENONEVENT  WDWMINTEMP_mean  WEATHER_WDWHIGH WEATHER_WDWLOW  \\\n",
       "0                   1.0        53.375714             70.3           50.2   \n",
       "1                   1.0        53.750714             70.3           50.0   \n",
       "\n",
       "  WEATHER_WDWPRECIP CapacityLost_AK CapacityLostWGT_AK  \n",
       "0              0.12          236654           20971646  \n",
       "1              0.12          236654           20971646  \n",
       "\n",
       "[2 rows x 65 columns]"
      ]
     },
     "execution_count": 5,
     "metadata": {},
     "output_type": "execute_result"
    }
   ],
   "source": [
    "# Import Metadata\n",
    "md = pd.read_csv(\"../metadata/ak_metadata.csv\")\n",
    "md.head(2)"
   ]
  },
  {
   "cell_type": "code",
   "execution_count": 6,
   "metadata": {},
   "outputs": [
    {
     "data": {
      "text/html": [
       "<div>\n",
       "<style scoped>\n",
       "    .dataframe tbody tr th:only-of-type {\n",
       "        vertical-align: middle;\n",
       "    }\n",
       "\n",
       "    .dataframe tbody tr th {\n",
       "        vertical-align: top;\n",
       "    }\n",
       "\n",
       "    .dataframe thead th {\n",
       "        text-align: right;\n",
       "    }\n",
       "</style>\n",
       "<table border=\"1\" class=\"dataframe\">\n",
       "  <thead>\n",
       "    <tr style=\"text-align: right;\">\n",
       "      <th></th>\n",
       "      <th>DATE</th>\n",
       "      <th>DAYOFWEEK</th>\n",
       "      <th>DAYOFYEAR</th>\n",
       "      <th>WEEKOFYEAR</th>\n",
       "      <th>MONTHOFYEAR</th>\n",
       "      <th>YEAR</th>\n",
       "      <th>HOLIDAYPX</th>\n",
       "      <th>HOLIDAYM</th>\n",
       "      <th>HOLIDAY</th>\n",
       "      <th>WDWevent</th>\n",
       "      <th>...</th>\n",
       "      <th>AKOPENTOM</th>\n",
       "      <th>AKCLOSETOM</th>\n",
       "      <th>AKHOURSTOM</th>\n",
       "      <th>MKDAYSBEFORENONEVENT</th>\n",
       "      <th>WDWMINTEMP_mean</th>\n",
       "      <th>WEATHER_WDWHIGH</th>\n",
       "      <th>WEATHER_WDWLOW</th>\n",
       "      <th>WEATHER_WDWPRECIP</th>\n",
       "      <th>CapacityLost_AK</th>\n",
       "      <th>CapacityLostWGT_AK</th>\n",
       "    </tr>\n",
       "  </thead>\n",
       "  <tbody>\n",
       "    <tr>\n",
       "      <th>0</th>\n",
       "      <td>2015-01-01</td>\n",
       "      <td>5</td>\n",
       "      <td>0</td>\n",
       "      <td>0</td>\n",
       "      <td>1</td>\n",
       "      <td>2015</td>\n",
       "      <td>0</td>\n",
       "      <td>5</td>\n",
       "      <td>1</td>\n",
       "      <td>0</td>\n",
       "      <td>...</td>\n",
       "      <td>8:00</td>\n",
       "      <td>20:00</td>\n",
       "      <td>12.0</td>\n",
       "      <td>1.0</td>\n",
       "      <td>53.375714</td>\n",
       "      <td>70.3</td>\n",
       "      <td>50.2</td>\n",
       "      <td>0.12</td>\n",
       "      <td>236654</td>\n",
       "      <td>20971646</td>\n",
       "    </tr>\n",
       "    <tr>\n",
       "      <th>1</th>\n",
       "      <td>2015-01-02</td>\n",
       "      <td>6</td>\n",
       "      <td>1</td>\n",
       "      <td>0</td>\n",
       "      <td>1</td>\n",
       "      <td>2015</td>\n",
       "      <td>2</td>\n",
       "      <td>5</td>\n",
       "      <td>0</td>\n",
       "      <td>0</td>\n",
       "      <td>...</td>\n",
       "      <td>8:00</td>\n",
       "      <td>19:00</td>\n",
       "      <td>11.0</td>\n",
       "      <td>1.0</td>\n",
       "      <td>53.750714</td>\n",
       "      <td>70.3</td>\n",
       "      <td>50.0</td>\n",
       "      <td>0.12</td>\n",
       "      <td>236654</td>\n",
       "      <td>20971646</td>\n",
       "    </tr>\n",
       "  </tbody>\n",
       "</table>\n",
       "<p>2 rows × 65 columns</p>\n",
       "</div>"
      ],
      "text/plain": [
       "        DATE  DAYOFWEEK  DAYOFYEAR  WEEKOFYEAR  MONTHOFYEAR  YEAR  HOLIDAYPX  \\\n",
       "0 2015-01-01          5          0           0            1  2015          0   \n",
       "1 2015-01-02          6          1           0            1  2015          2   \n",
       "\n",
       "   HOLIDAYM  HOLIDAY  WDWevent  ...  AKOPENTOM AKCLOSETOM  AKHOURSTOM  \\\n",
       "0         5        1         0  ...       8:00      20:00        12.0   \n",
       "1         5        0         0  ...       8:00      19:00        11.0   \n",
       "\n",
       "   MKDAYSBEFORENONEVENT  WDWMINTEMP_mean  WEATHER_WDWHIGH WEATHER_WDWLOW  \\\n",
       "0                   1.0        53.375714             70.3           50.2   \n",
       "1                   1.0        53.750714             70.3           50.0   \n",
       "\n",
       "  WEATHER_WDWPRECIP CapacityLost_AK CapacityLostWGT_AK  \n",
       "0              0.12          236654           20971646  \n",
       "1              0.12          236654           20971646  \n",
       "\n",
       "[2 rows x 65 columns]"
      ]
     },
     "execution_count": 6,
     "metadata": {},
     "output_type": "execute_result"
    }
   ],
   "source": [
    "# Convert DATE column to datetime\n",
    "md['DATE'] = pd.to_datetime(md[\"DATE\"])\n",
    "md.head(2)"
   ]
  },
  {
   "cell_type": "code",
   "execution_count": 7,
   "metadata": {},
   "outputs": [
    {
     "data": {
      "text/html": [
       "<div>\n",
       "<style scoped>\n",
       "    .dataframe tbody tr th:only-of-type {\n",
       "        vertical-align: middle;\n",
       "    }\n",
       "\n",
       "    .dataframe tbody tr th {\n",
       "        vertical-align: top;\n",
       "    }\n",
       "\n",
       "    .dataframe thead th {\n",
       "        text-align: right;\n",
       "    }\n",
       "</style>\n",
       "<table border=\"1\" class=\"dataframe\">\n",
       "  <thead>\n",
       "    <tr style=\"text-align: right;\">\n",
       "      <th></th>\n",
       "      <th>datetime</th>\n",
       "      <th>kilimanjaro_safaris</th>\n",
       "      <th>expedition_everest</th>\n",
       "      <th>dinosaur</th>\n",
       "      <th>flight_of_passage</th>\n",
       "      <th>navi_river</th>\n",
       "      <th>DATE</th>\n",
       "      <th>DAYOFWEEK</th>\n",
       "      <th>DAYOFYEAR</th>\n",
       "      <th>WEEKOFYEAR</th>\n",
       "      <th>...</th>\n",
       "      <th>AKOPENTOM</th>\n",
       "      <th>AKCLOSETOM</th>\n",
       "      <th>AKHOURSTOM</th>\n",
       "      <th>MKDAYSBEFORENONEVENT</th>\n",
       "      <th>WDWMINTEMP_mean</th>\n",
       "      <th>WEATHER_WDWHIGH</th>\n",
       "      <th>WEATHER_WDWLOW</th>\n",
       "      <th>WEATHER_WDWPRECIP</th>\n",
       "      <th>CapacityLost_AK</th>\n",
       "      <th>CapacityLostWGT_AK</th>\n",
       "    </tr>\n",
       "  </thead>\n",
       "  <tbody>\n",
       "    <tr>\n",
       "      <th>0</th>\n",
       "      <td>2015-01-01 07:00:00</td>\n",
       "      <td>5.0</td>\n",
       "      <td>5.0</td>\n",
       "      <td>5.0</td>\n",
       "      <td>na</td>\n",
       "      <td>na</td>\n",
       "      <td>2015-01-01</td>\n",
       "      <td>5</td>\n",
       "      <td>0</td>\n",
       "      <td>0</td>\n",
       "      <td>...</td>\n",
       "      <td>8:00</td>\n",
       "      <td>20:00</td>\n",
       "      <td>12.0</td>\n",
       "      <td>1.0</td>\n",
       "      <td>53.375714</td>\n",
       "      <td>70.3</td>\n",
       "      <td>50.2</td>\n",
       "      <td>0.12</td>\n",
       "      <td>236654</td>\n",
       "      <td>20971646</td>\n",
       "    </tr>\n",
       "    <tr>\n",
       "      <th>1</th>\n",
       "      <td>2015-01-01 08:00:00</td>\n",
       "      <td>9.0</td>\n",
       "      <td>5.0</td>\n",
       "      <td>9.0</td>\n",
       "      <td>na</td>\n",
       "      <td>na</td>\n",
       "      <td>2015-01-01</td>\n",
       "      <td>5</td>\n",
       "      <td>0</td>\n",
       "      <td>0</td>\n",
       "      <td>...</td>\n",
       "      <td>8:00</td>\n",
       "      <td>20:00</td>\n",
       "      <td>12.0</td>\n",
       "      <td>1.0</td>\n",
       "      <td>53.375714</td>\n",
       "      <td>70.3</td>\n",
       "      <td>50.2</td>\n",
       "      <td>0.12</td>\n",
       "      <td>236654</td>\n",
       "      <td>20971646</td>\n",
       "    </tr>\n",
       "  </tbody>\n",
       "</table>\n",
       "<p>2 rows × 71 columns</p>\n",
       "</div>"
      ],
      "text/plain": [
       "              datetime kilimanjaro_safaris expedition_everest dinosaur  \\\n",
       "0  2015-01-01 07:00:00                 5.0                5.0      5.0   \n",
       "1  2015-01-01 08:00:00                 9.0                5.0      9.0   \n",
       "\n",
       "  flight_of_passage navi_river       DATE  DAYOFWEEK  DAYOFYEAR  WEEKOFYEAR  \\\n",
       "0                na         na 2015-01-01          5          0           0   \n",
       "1                na         na 2015-01-01          5          0           0   \n",
       "\n",
       "   ...  AKOPENTOM  AKCLOSETOM  AKHOURSTOM  MKDAYSBEFORENONEVENT  \\\n",
       "0  ...       8:00       20:00        12.0                   1.0   \n",
       "1  ...       8:00       20:00        12.0                   1.0   \n",
       "\n",
       "   WDWMINTEMP_mean  WEATHER_WDWHIGH  WEATHER_WDWLOW WEATHER_WDWPRECIP  \\\n",
       "0        53.375714             70.3            50.2              0.12   \n",
       "1        53.375714             70.3            50.2              0.12   \n",
       "\n",
       "   CapacityLost_AK  CapacityLostWGT_AK  \n",
       "0           236654            20971646  \n",
       "1           236654            20971646  \n",
       "\n",
       "[2 rows x 71 columns]"
      ]
     },
     "execution_count": 7,
     "metadata": {},
     "output_type": "execute_result"
    }
   ],
   "source": [
    "# Merge mka and md dataframes\n",
    "mk = pd.merge(mka, md, how='outer', on='DATE')\n",
    "mk.head(2)"
   ]
  },
  {
   "cell_type": "code",
   "execution_count": 8,
   "metadata": {},
   "outputs": [
    {
     "data": {
      "text/html": [
       "<div>\n",
       "<style scoped>\n",
       "    .dataframe tbody tr th:only-of-type {\n",
       "        vertical-align: middle;\n",
       "    }\n",
       "\n",
       "    .dataframe tbody tr th {\n",
       "        vertical-align: top;\n",
       "    }\n",
       "\n",
       "    .dataframe thead th {\n",
       "        text-align: right;\n",
       "    }\n",
       "</style>\n",
       "<table border=\"1\" class=\"dataframe\">\n",
       "  <thead>\n",
       "    <tr style=\"text-align: right;\">\n",
       "      <th></th>\n",
       "      <th>datetime</th>\n",
       "      <th>kilimanjaro_safaris</th>\n",
       "      <th>expedition_everest</th>\n",
       "      <th>dinosaur</th>\n",
       "      <th>flight_of_passage</th>\n",
       "      <th>navi_river</th>\n",
       "      <th>DAYOFWEEK</th>\n",
       "      <th>DAYOFYEAR</th>\n",
       "      <th>WEEKOFYEAR</th>\n",
       "      <th>MONTHOFYEAR</th>\n",
       "      <th>...</th>\n",
       "      <th>AKOPENTOM</th>\n",
       "      <th>AKCLOSETOM</th>\n",
       "      <th>AKHOURSTOM</th>\n",
       "      <th>MKDAYSBEFORENONEVENT</th>\n",
       "      <th>WDWMINTEMP_mean</th>\n",
       "      <th>WEATHER_WDWHIGH</th>\n",
       "      <th>WEATHER_WDWLOW</th>\n",
       "      <th>WEATHER_WDWPRECIP</th>\n",
       "      <th>CapacityLost_AK</th>\n",
       "      <th>CapacityLostWGT_AK</th>\n",
       "    </tr>\n",
       "  </thead>\n",
       "  <tbody>\n",
       "    <tr>\n",
       "      <th>0</th>\n",
       "      <td>2015-01-01 07:00:00</td>\n",
       "      <td>5.0</td>\n",
       "      <td>5.0</td>\n",
       "      <td>5.0</td>\n",
       "      <td>na</td>\n",
       "      <td>na</td>\n",
       "      <td>5</td>\n",
       "      <td>0</td>\n",
       "      <td>0</td>\n",
       "      <td>1</td>\n",
       "      <td>...</td>\n",
       "      <td>8:00</td>\n",
       "      <td>20:00</td>\n",
       "      <td>12.0</td>\n",
       "      <td>1.0</td>\n",
       "      <td>53.375714</td>\n",
       "      <td>70.3</td>\n",
       "      <td>50.2</td>\n",
       "      <td>0.12</td>\n",
       "      <td>236654</td>\n",
       "      <td>20971646</td>\n",
       "    </tr>\n",
       "    <tr>\n",
       "      <th>1</th>\n",
       "      <td>2015-01-01 08:00:00</td>\n",
       "      <td>9.0</td>\n",
       "      <td>5.0</td>\n",
       "      <td>9.0</td>\n",
       "      <td>na</td>\n",
       "      <td>na</td>\n",
       "      <td>5</td>\n",
       "      <td>0</td>\n",
       "      <td>0</td>\n",
       "      <td>1</td>\n",
       "      <td>...</td>\n",
       "      <td>8:00</td>\n",
       "      <td>20:00</td>\n",
       "      <td>12.0</td>\n",
       "      <td>1.0</td>\n",
       "      <td>53.375714</td>\n",
       "      <td>70.3</td>\n",
       "      <td>50.2</td>\n",
       "      <td>0.12</td>\n",
       "      <td>236654</td>\n",
       "      <td>20971646</td>\n",
       "    </tr>\n",
       "  </tbody>\n",
       "</table>\n",
       "<p>2 rows × 70 columns</p>\n",
       "</div>"
      ],
      "text/plain": [
       "             datetime kilimanjaro_safaris expedition_everest dinosaur  \\\n",
       "0 2015-01-01 07:00:00                 5.0                5.0      5.0   \n",
       "1 2015-01-01 08:00:00                 9.0                5.0      9.0   \n",
       "\n",
       "  flight_of_passage navi_river  DAYOFWEEK  DAYOFYEAR  WEEKOFYEAR  MONTHOFYEAR  \\\n",
       "0                na         na          5          0           0            1   \n",
       "1                na         na          5          0           0            1   \n",
       "\n",
       "   ...  AKOPENTOM  AKCLOSETOM  AKHOURSTOM  MKDAYSBEFORENONEVENT  \\\n",
       "0  ...       8:00       20:00        12.0                   1.0   \n",
       "1  ...       8:00       20:00        12.0                   1.0   \n",
       "\n",
       "   WDWMINTEMP_mean  WEATHER_WDWHIGH WEATHER_WDWLOW  WEATHER_WDWPRECIP  \\\n",
       "0        53.375714             70.3           50.2               0.12   \n",
       "1        53.375714             70.3           50.2               0.12   \n",
       "\n",
       "   CapacityLost_AK  CapacityLostWGT_AK  \n",
       "0           236654            20971646  \n",
       "1           236654            20971646  \n",
       "\n",
       "[2 rows x 70 columns]"
      ]
     },
     "execution_count": 8,
     "metadata": {},
     "output_type": "execute_result"
    }
   ],
   "source": [
    "# Dropped hours when park is closed\n",
    "mk['datetime'] = pd.to_datetime(mk[\"datetime\"])\n",
    "mk[mk['datetime'].dt.hour >= 7]\n",
    "# Dropped unneeded Date column\n",
    "mk.drop('DATE', axis = 1,  inplace = True)\n",
    "mk.head(2)"
   ]
  },
  {
   "cell_type": "code",
   "execution_count": 9,
   "metadata": {},
   "outputs": [],
   "source": [
    "# Changing the columns form time to\n",
    "for col in ['AKOPEN', 'AKCLOSE',  'AKEMHOPEN', 'AKEMHCLOSE',\n",
    "       'AKOPENYEST', 'AKCLOSEYEST', 'AKOPENTOM',\n",
    "       'AKCLOSETOM','SUNSET_WDW']:\n",
    "    mk[col] = mk[col].str.replace(\":\",\"\")\n",
    "    mk[col] = mk[col].astype(int)"
   ]
  },
  {
   "cell_type": "code",
   "execution_count": 10,
   "metadata": {},
   "outputs": [],
   "source": [
    "# Converting the percent strings to floats\n",
    "for col in ['inSession', 'inSession_Enrollment', 'inSession_wdw',\n",
    "       'inSession_sqrt_WDW', 'inSession_DC', 'inSession_Central_FL',\n",
    "       'inSession_Drive1_FL', 'inSession_Drive2_FL',\n",
    "       'inSession_Florida', 'inSession_Mardi_Gras', 'inSession_Midwest',\n",
    "       'inSession_NY_NJ', 'inSession_NY_NJ_PA', 'inSession_New_England',\n",
    "       'inSession_New_Jersey', 'inSession_Nothwest', 'INSESSION_PLANES',\n",
    "       'inSession_SoCal', 'inSession_Southwest']:\n",
    "    mk[col] = mk[col].str.replace(r'%', r'').astype('float')/-100"
   ]
  },
  {
   "cell_type": "code",
   "execution_count": 11,
   "metadata": {},
   "outputs": [
    {
     "data": {
      "text/html": [
       "<div>\n",
       "<style scoped>\n",
       "    .dataframe tbody tr th:only-of-type {\n",
       "        vertical-align: middle;\n",
       "    }\n",
       "\n",
       "    .dataframe tbody tr th {\n",
       "        vertical-align: top;\n",
       "    }\n",
       "\n",
       "    .dataframe thead th {\n",
       "        text-align: right;\n",
       "    }\n",
       "</style>\n",
       "<table border=\"1\" class=\"dataframe\">\n",
       "  <thead>\n",
       "    <tr style=\"text-align: right;\">\n",
       "      <th></th>\n",
       "      <th>datetime</th>\n",
       "      <th>kilimanjaro_safaris</th>\n",
       "      <th>expedition_everest</th>\n",
       "      <th>dinosaur</th>\n",
       "      <th>flight_of_passage</th>\n",
       "      <th>navi_river</th>\n",
       "      <th>DAYOFWEEK</th>\n",
       "      <th>DAYOFYEAR</th>\n",
       "      <th>WEEKOFYEAR</th>\n",
       "      <th>MONTHOFYEAR</th>\n",
       "      <th>...</th>\n",
       "      <th>AKOPENTOM</th>\n",
       "      <th>AKCLOSETOM</th>\n",
       "      <th>AKHOURSTOM</th>\n",
       "      <th>MKDAYSBEFORENONEVENT</th>\n",
       "      <th>WDWMINTEMP_mean</th>\n",
       "      <th>WEATHER_WDWHIGH</th>\n",
       "      <th>WEATHER_WDWLOW</th>\n",
       "      <th>WEATHER_WDWPRECIP</th>\n",
       "      <th>CapacityLost_AK</th>\n",
       "      <th>CapacityLostWGT_AK</th>\n",
       "    </tr>\n",
       "  </thead>\n",
       "  <tbody>\n",
       "    <tr>\n",
       "      <th>0</th>\n",
       "      <td>2015-01-01 07:00:00</td>\n",
       "      <td>5.0</td>\n",
       "      <td>5.0</td>\n",
       "      <td>5.0</td>\n",
       "      <td>0.0</td>\n",
       "      <td>0.0</td>\n",
       "      <td>5</td>\n",
       "      <td>0</td>\n",
       "      <td>0</td>\n",
       "      <td>1</td>\n",
       "      <td>...</td>\n",
       "      <td>800</td>\n",
       "      <td>2000</td>\n",
       "      <td>12.0</td>\n",
       "      <td>1.0</td>\n",
       "      <td>53.375714</td>\n",
       "      <td>70.3</td>\n",
       "      <td>50.2</td>\n",
       "      <td>0.12</td>\n",
       "      <td>236654</td>\n",
       "      <td>20971646</td>\n",
       "    </tr>\n",
       "    <tr>\n",
       "      <th>1</th>\n",
       "      <td>2015-01-01 08:00:00</td>\n",
       "      <td>9.0</td>\n",
       "      <td>5.0</td>\n",
       "      <td>9.0</td>\n",
       "      <td>0.0</td>\n",
       "      <td>0.0</td>\n",
       "      <td>5</td>\n",
       "      <td>0</td>\n",
       "      <td>0</td>\n",
       "      <td>1</td>\n",
       "      <td>...</td>\n",
       "      <td>800</td>\n",
       "      <td>2000</td>\n",
       "      <td>12.0</td>\n",
       "      <td>1.0</td>\n",
       "      <td>53.375714</td>\n",
       "      <td>70.3</td>\n",
       "      <td>50.2</td>\n",
       "      <td>0.12</td>\n",
       "      <td>236654</td>\n",
       "      <td>20971646</td>\n",
       "    </tr>\n",
       "    <tr>\n",
       "      <th>2</th>\n",
       "      <td>2015-01-01 09:00:00</td>\n",
       "      <td>5.0</td>\n",
       "      <td>12.0</td>\n",
       "      <td>11.0</td>\n",
       "      <td>0.0</td>\n",
       "      <td>0.0</td>\n",
       "      <td>5</td>\n",
       "      <td>0</td>\n",
       "      <td>0</td>\n",
       "      <td>1</td>\n",
       "      <td>...</td>\n",
       "      <td>800</td>\n",
       "      <td>2000</td>\n",
       "      <td>12.0</td>\n",
       "      <td>1.0</td>\n",
       "      <td>53.375714</td>\n",
       "      <td>70.3</td>\n",
       "      <td>50.2</td>\n",
       "      <td>0.12</td>\n",
       "      <td>236654</td>\n",
       "      <td>20971646</td>\n",
       "    </tr>\n",
       "    <tr>\n",
       "      <th>3</th>\n",
       "      <td>2015-01-01 10:00:00</td>\n",
       "      <td>6.0</td>\n",
       "      <td>31.0</td>\n",
       "      <td>19.0</td>\n",
       "      <td>0.0</td>\n",
       "      <td>0.0</td>\n",
       "      <td>5</td>\n",
       "      <td>0</td>\n",
       "      <td>0</td>\n",
       "      <td>1</td>\n",
       "      <td>...</td>\n",
       "      <td>800</td>\n",
       "      <td>2000</td>\n",
       "      <td>12.0</td>\n",
       "      <td>1.0</td>\n",
       "      <td>53.375714</td>\n",
       "      <td>70.3</td>\n",
       "      <td>50.2</td>\n",
       "      <td>0.12</td>\n",
       "      <td>236654</td>\n",
       "      <td>20971646</td>\n",
       "    </tr>\n",
       "    <tr>\n",
       "      <th>4</th>\n",
       "      <td>2015-01-01 11:00:00</td>\n",
       "      <td>16.0</td>\n",
       "      <td>37.0</td>\n",
       "      <td>20.0</td>\n",
       "      <td>0.0</td>\n",
       "      <td>0.0</td>\n",
       "      <td>5</td>\n",
       "      <td>0</td>\n",
       "      <td>0</td>\n",
       "      <td>1</td>\n",
       "      <td>...</td>\n",
       "      <td>800</td>\n",
       "      <td>2000</td>\n",
       "      <td>12.0</td>\n",
       "      <td>1.0</td>\n",
       "      <td>53.375714</td>\n",
       "      <td>70.3</td>\n",
       "      <td>50.2</td>\n",
       "      <td>0.12</td>\n",
       "      <td>236654</td>\n",
       "      <td>20971646</td>\n",
       "    </tr>\n",
       "  </tbody>\n",
       "</table>\n",
       "<p>5 rows × 70 columns</p>\n",
       "</div>"
      ],
      "text/plain": [
       "             datetime  kilimanjaro_safaris  expedition_everest  dinosaur  \\\n",
       "0 2015-01-01 07:00:00                  5.0                 5.0       5.0   \n",
       "1 2015-01-01 08:00:00                  9.0                 5.0       9.0   \n",
       "2 2015-01-01 09:00:00                  5.0                12.0      11.0   \n",
       "3 2015-01-01 10:00:00                  6.0                31.0      19.0   \n",
       "4 2015-01-01 11:00:00                 16.0                37.0      20.0   \n",
       "\n",
       "   flight_of_passage  navi_river  DAYOFWEEK  DAYOFYEAR  WEEKOFYEAR  \\\n",
       "0                0.0         0.0          5          0           0   \n",
       "1                0.0         0.0          5          0           0   \n",
       "2                0.0         0.0          5          0           0   \n",
       "3                0.0         0.0          5          0           0   \n",
       "4                0.0         0.0          5          0           0   \n",
       "\n",
       "   MONTHOFYEAR  ...  AKOPENTOM  AKCLOSETOM  AKHOURSTOM  MKDAYSBEFORENONEVENT  \\\n",
       "0            1  ...        800        2000        12.0                   1.0   \n",
       "1            1  ...        800        2000        12.0                   1.0   \n",
       "2            1  ...        800        2000        12.0                   1.0   \n",
       "3            1  ...        800        2000        12.0                   1.0   \n",
       "4            1  ...        800        2000        12.0                   1.0   \n",
       "\n",
       "   WDWMINTEMP_mean  WEATHER_WDWHIGH WEATHER_WDWLOW  WEATHER_WDWPRECIP  \\\n",
       "0        53.375714             70.3           50.2               0.12   \n",
       "1        53.375714             70.3           50.2               0.12   \n",
       "2        53.375714             70.3           50.2               0.12   \n",
       "3        53.375714             70.3           50.2               0.12   \n",
       "4        53.375714             70.3           50.2               0.12   \n",
       "\n",
       "   CapacityLost_AK  CapacityLostWGT_AK  \n",
       "0           236654            20971646  \n",
       "1           236654            20971646  \n",
       "2           236654            20971646  \n",
       "3           236654            20971646  \n",
       "4           236654            20971646  \n",
       "\n",
       "[5 rows x 70 columns]"
      ]
     },
     "execution_count": 11,
     "metadata": {},
     "output_type": "execute_result"
    }
   ],
   "source": [
    "# Changed the values to floats\n",
    "for col in ['kilimanjaro_safaris','expedition_everest','flight_of_passage','navi_river', 'dinosaur']:\n",
    "    mk[col] = pd.to_numeric(mk[col],errors='coerce')\n",
    "mk.fillna(0, inplace=True)\n",
    "mk.head()"
   ]
  },
  {
   "cell_type": "code",
   "execution_count": 12,
   "metadata": {},
   "outputs": [],
   "source": [
    "# Dummified the WDWSEASON column\n",
    "mk = pd.get_dummies(mk,columns = ['WDWSEASON'])"
   ]
  },
  {
   "cell_type": "code",
   "execution_count": 13,
   "metadata": {},
   "outputs": [
    {
     "data": {
      "text/html": [
       "<div>\n",
       "<style scoped>\n",
       "    .dataframe tbody tr th:only-of-type {\n",
       "        vertical-align: middle;\n",
       "    }\n",
       "\n",
       "    .dataframe tbody tr th {\n",
       "        vertical-align: top;\n",
       "    }\n",
       "\n",
       "    .dataframe thead th {\n",
       "        text-align: right;\n",
       "    }\n",
       "</style>\n",
       "<table border=\"1\" class=\"dataframe\">\n",
       "  <thead>\n",
       "    <tr style=\"text-align: right;\">\n",
       "      <th></th>\n",
       "      <th>datetime</th>\n",
       "      <th>kilimanjaro_safaris</th>\n",
       "      <th>expedition_everest</th>\n",
       "      <th>dinosaur</th>\n",
       "      <th>flight_of_passage</th>\n",
       "      <th>navi_river</th>\n",
       "      <th>DAYOFWEEK</th>\n",
       "      <th>DAYOFYEAR</th>\n",
       "      <th>WEEKOFYEAR</th>\n",
       "      <th>MONTHOFYEAR</th>\n",
       "      <th>...</th>\n",
       "      <th>WDWSEASON_MARDI GRAS</th>\n",
       "      <th>WDWSEASON_MARTIN LUTHER KING JUNIOR DAY</th>\n",
       "      <th>WDWSEASON_MEMORIAL DAY</th>\n",
       "      <th>WDWSEASON_PRESIDENTS WEEK</th>\n",
       "      <th>WDWSEASON_SEPTEMBER LOW</th>\n",
       "      <th>WDWSEASON_SPRING</th>\n",
       "      <th>WDWSEASON_SUMMER BREAK</th>\n",
       "      <th>WDWSEASON_THANKSGIVING</th>\n",
       "      <th>WDWSEASON_WINTER</th>\n",
       "      <th>hour</th>\n",
       "    </tr>\n",
       "  </thead>\n",
       "  <tbody>\n",
       "    <tr>\n",
       "      <th>0</th>\n",
       "      <td>2015-01-01 07:00:00</td>\n",
       "      <td>5.0</td>\n",
       "      <td>5.0</td>\n",
       "      <td>5.0</td>\n",
       "      <td>0.0</td>\n",
       "      <td>0.0</td>\n",
       "      <td>5</td>\n",
       "      <td>0</td>\n",
       "      <td>0</td>\n",
       "      <td>1</td>\n",
       "      <td>...</td>\n",
       "      <td>0</td>\n",
       "      <td>0</td>\n",
       "      <td>0</td>\n",
       "      <td>0</td>\n",
       "      <td>0</td>\n",
       "      <td>0</td>\n",
       "      <td>0</td>\n",
       "      <td>0</td>\n",
       "      <td>0</td>\n",
       "      <td>7</td>\n",
       "    </tr>\n",
       "    <tr>\n",
       "      <th>1</th>\n",
       "      <td>2015-01-01 08:00:00</td>\n",
       "      <td>9.0</td>\n",
       "      <td>5.0</td>\n",
       "      <td>9.0</td>\n",
       "      <td>0.0</td>\n",
       "      <td>0.0</td>\n",
       "      <td>5</td>\n",
       "      <td>0</td>\n",
       "      <td>0</td>\n",
       "      <td>1</td>\n",
       "      <td>...</td>\n",
       "      <td>0</td>\n",
       "      <td>0</td>\n",
       "      <td>0</td>\n",
       "      <td>0</td>\n",
       "      <td>0</td>\n",
       "      <td>0</td>\n",
       "      <td>0</td>\n",
       "      <td>0</td>\n",
       "      <td>0</td>\n",
       "      <td>8</td>\n",
       "    </tr>\n",
       "  </tbody>\n",
       "</table>\n",
       "<p>2 rows × 87 columns</p>\n",
       "</div>"
      ],
      "text/plain": [
       "             datetime  kilimanjaro_safaris  expedition_everest  dinosaur  \\\n",
       "0 2015-01-01 07:00:00                  5.0                 5.0       5.0   \n",
       "1 2015-01-01 08:00:00                  9.0                 5.0       9.0   \n",
       "\n",
       "   flight_of_passage  navi_river  DAYOFWEEK  DAYOFYEAR  WEEKOFYEAR  \\\n",
       "0                0.0         0.0          5          0           0   \n",
       "1                0.0         0.0          5          0           0   \n",
       "\n",
       "   MONTHOFYEAR  ...  WDWSEASON_MARDI GRAS  \\\n",
       "0            1  ...                     0   \n",
       "1            1  ...                     0   \n",
       "\n",
       "   WDWSEASON_MARTIN LUTHER KING JUNIOR DAY  WDWSEASON_MEMORIAL DAY  \\\n",
       "0                                        0                       0   \n",
       "1                                        0                       0   \n",
       "\n",
       "   WDWSEASON_PRESIDENTS WEEK  WDWSEASON_SEPTEMBER LOW  WDWSEASON_SPRING  \\\n",
       "0                          0                        0                 0   \n",
       "1                          0                        0                 0   \n",
       "\n",
       "   WDWSEASON_SUMMER BREAK  WDWSEASON_THANKSGIVING  WDWSEASON_WINTER  hour  \n",
       "0                       0                       0                 0     7  \n",
       "1                       0                       0                 0     8  \n",
       "\n",
       "[2 rows x 87 columns]"
      ]
     },
     "execution_count": 13,
     "metadata": {},
     "output_type": "execute_result"
    }
   ],
   "source": [
    "# Created new column for hour as a feature\n",
    "mk['hour'] = mk.datetime.dt.hour\n",
    "mk.fillna(0, inplace=True)\n",
    "mk.head(2)"
   ]
  },
  {
   "cell_type": "code",
   "execution_count": 14,
   "metadata": {},
   "outputs": [
    {
     "data": {
      "text/html": [
       "<div>\n",
       "<style scoped>\n",
       "    .dataframe tbody tr th:only-of-type {\n",
       "        vertical-align: middle;\n",
       "    }\n",
       "\n",
       "    .dataframe tbody tr th {\n",
       "        vertical-align: top;\n",
       "    }\n",
       "\n",
       "    .dataframe thead th {\n",
       "        text-align: right;\n",
       "    }\n",
       "</style>\n",
       "<table border=\"1\" class=\"dataframe\">\n",
       "  <thead>\n",
       "    <tr style=\"text-align: right;\">\n",
       "      <th></th>\n",
       "      <th>kilimanjaro_safaris</th>\n",
       "      <th>expedition_everest</th>\n",
       "      <th>dinosaur</th>\n",
       "      <th>flight_of_passage</th>\n",
       "      <th>navi_river</th>\n",
       "      <th>DAYOFWEEK</th>\n",
       "      <th>DAYOFYEAR</th>\n",
       "      <th>WEEKOFYEAR</th>\n",
       "      <th>MONTHOFYEAR</th>\n",
       "      <th>YEAR</th>\n",
       "      <th>...</th>\n",
       "      <th>WDWSEASON_MARDI GRAS</th>\n",
       "      <th>WDWSEASON_MARTIN LUTHER KING JUNIOR DAY</th>\n",
       "      <th>WDWSEASON_MEMORIAL DAY</th>\n",
       "      <th>WDWSEASON_PRESIDENTS WEEK</th>\n",
       "      <th>WDWSEASON_SEPTEMBER LOW</th>\n",
       "      <th>WDWSEASON_SPRING</th>\n",
       "      <th>WDWSEASON_SUMMER BREAK</th>\n",
       "      <th>WDWSEASON_THANKSGIVING</th>\n",
       "      <th>WDWSEASON_WINTER</th>\n",
       "      <th>hour</th>\n",
       "    </tr>\n",
       "    <tr>\n",
       "      <th>datetime</th>\n",
       "      <th></th>\n",
       "      <th></th>\n",
       "      <th></th>\n",
       "      <th></th>\n",
       "      <th></th>\n",
       "      <th></th>\n",
       "      <th></th>\n",
       "      <th></th>\n",
       "      <th></th>\n",
       "      <th></th>\n",
       "      <th></th>\n",
       "      <th></th>\n",
       "      <th></th>\n",
       "      <th></th>\n",
       "      <th></th>\n",
       "      <th></th>\n",
       "      <th></th>\n",
       "      <th></th>\n",
       "      <th></th>\n",
       "      <th></th>\n",
       "      <th></th>\n",
       "    </tr>\n",
       "  </thead>\n",
       "  <tbody>\n",
       "    <tr>\n",
       "      <th>2015-01-01 07:00:00</th>\n",
       "      <td>5.0</td>\n",
       "      <td>5.0</td>\n",
       "      <td>5.0</td>\n",
       "      <td>0.0</td>\n",
       "      <td>0.0</td>\n",
       "      <td>5</td>\n",
       "      <td>0</td>\n",
       "      <td>0</td>\n",
       "      <td>1</td>\n",
       "      <td>2015</td>\n",
       "      <td>...</td>\n",
       "      <td>0</td>\n",
       "      <td>0</td>\n",
       "      <td>0</td>\n",
       "      <td>0</td>\n",
       "      <td>0</td>\n",
       "      <td>0</td>\n",
       "      <td>0</td>\n",
       "      <td>0</td>\n",
       "      <td>0</td>\n",
       "      <td>7</td>\n",
       "    </tr>\n",
       "    <tr>\n",
       "      <th>2015-01-01 08:00:00</th>\n",
       "      <td>9.0</td>\n",
       "      <td>5.0</td>\n",
       "      <td>9.0</td>\n",
       "      <td>0.0</td>\n",
       "      <td>0.0</td>\n",
       "      <td>5</td>\n",
       "      <td>0</td>\n",
       "      <td>0</td>\n",
       "      <td>1</td>\n",
       "      <td>2015</td>\n",
       "      <td>...</td>\n",
       "      <td>0</td>\n",
       "      <td>0</td>\n",
       "      <td>0</td>\n",
       "      <td>0</td>\n",
       "      <td>0</td>\n",
       "      <td>0</td>\n",
       "      <td>0</td>\n",
       "      <td>0</td>\n",
       "      <td>0</td>\n",
       "      <td>8</td>\n",
       "    </tr>\n",
       "  </tbody>\n",
       "</table>\n",
       "<p>2 rows × 86 columns</p>\n",
       "</div>"
      ],
      "text/plain": [
       "                     kilimanjaro_safaris  expedition_everest  dinosaur  \\\n",
       "datetime                                                                 \n",
       "2015-01-01 07:00:00                  5.0                 5.0       5.0   \n",
       "2015-01-01 08:00:00                  9.0                 5.0       9.0   \n",
       "\n",
       "                     flight_of_passage  navi_river  DAYOFWEEK  DAYOFYEAR  \\\n",
       "datetime                                                                   \n",
       "2015-01-01 07:00:00                0.0         0.0          5          0   \n",
       "2015-01-01 08:00:00                0.0         0.0          5          0   \n",
       "\n",
       "                     WEEKOFYEAR  MONTHOFYEAR  YEAR  ...  WDWSEASON_MARDI GRAS  \\\n",
       "datetime                                            ...                         \n",
       "2015-01-01 07:00:00           0            1  2015  ...                     0   \n",
       "2015-01-01 08:00:00           0            1  2015  ...                     0   \n",
       "\n",
       "                     WDWSEASON_MARTIN LUTHER KING JUNIOR DAY  \\\n",
       "datetime                                                       \n",
       "2015-01-01 07:00:00                                        0   \n",
       "2015-01-01 08:00:00                                        0   \n",
       "\n",
       "                     WDWSEASON_MEMORIAL DAY  WDWSEASON_PRESIDENTS WEEK  \\\n",
       "datetime                                                                 \n",
       "2015-01-01 07:00:00                       0                          0   \n",
       "2015-01-01 08:00:00                       0                          0   \n",
       "\n",
       "                     WDWSEASON_SEPTEMBER LOW  WDWSEASON_SPRING  \\\n",
       "datetime                                                         \n",
       "2015-01-01 07:00:00                        0                 0   \n",
       "2015-01-01 08:00:00                        0                 0   \n",
       "\n",
       "                     WDWSEASON_SUMMER BREAK  WDWSEASON_THANKSGIVING  \\\n",
       "datetime                                                              \n",
       "2015-01-01 07:00:00                       0                       0   \n",
       "2015-01-01 08:00:00                       0                       0   \n",
       "\n",
       "                     WDWSEASON_WINTER  hour  \n",
       "datetime                                     \n",
       "2015-01-01 07:00:00                 0     7  \n",
       "2015-01-01 08:00:00                 0     8  \n",
       "\n",
       "[2 rows x 86 columns]"
      ]
     },
     "execution_count": 14,
     "metadata": {},
     "output_type": "execute_result"
    }
   ],
   "source": [
    "# Changed the datetime column to the index\n",
    "mk.set_index('datetime', inplace=True)\n",
    "mk.head(2)"
   ]
  },
  {
   "cell_type": "code",
   "execution_count": 15,
   "metadata": {},
   "outputs": [
    {
     "name": "stdout",
     "output_type": "stream",
     "text": [
      "<class 'pandas.core.frame.DataFrame'>\n",
      "DatetimeIndex: 31037 entries, 2015-01-01 07:00:00 to 2019-12-30 06:00:00\n",
      "Data columns (total 86 columns):\n",
      " #   Column                                   Non-Null Count  Dtype  \n",
      "---  ------                                   --------------  -----  \n",
      " 0   kilimanjaro_safaris                      31037 non-null  float64\n",
      " 1   expedition_everest                       31037 non-null  float64\n",
      " 2   dinosaur                                 31037 non-null  float64\n",
      " 3   flight_of_passage                        31037 non-null  float64\n",
      " 4   navi_river                               31037 non-null  float64\n",
      " 5   DAYOFWEEK                                31037 non-null  int64  \n",
      " 6   DAYOFYEAR                                31037 non-null  int64  \n",
      " 7   WEEKOFYEAR                               31037 non-null  int64  \n",
      " 8   MONTHOFYEAR                              31037 non-null  int64  \n",
      " 9   YEAR                                     31037 non-null  int64  \n",
      " 10  HOLIDAYPX                                31037 non-null  int64  \n",
      " 11  HOLIDAYM                                 31037 non-null  int64  \n",
      " 12  HOLIDAY                                  31037 non-null  int64  \n",
      " 13  WDWevent                                 31037 non-null  int64  \n",
      " 14  WDWrace                                  31037 non-null  int64  \n",
      " 15  WDWMAXTEMP                               31037 non-null  float64\n",
      " 16  WDWMINTEMP                               31037 non-null  float64\n",
      " 17  WDWMEANTEMP                              31037 non-null  float64\n",
      " 18  AKevent                                  31037 non-null  int64  \n",
      " 19  inSession                                31037 non-null  float64\n",
      " 20  inSession_Enrollment                     31037 non-null  float64\n",
      " 21  inSession_wdw                            31037 non-null  float64\n",
      " 22  inSession_sqrt_WDW                       31037 non-null  float64\n",
      " 23  inSession_California                     31037 non-null  object \n",
      " 24  inSession_DC                             31037 non-null  float64\n",
      " 25  inSession_Central_FL                     31037 non-null  float64\n",
      " 26  inSession_Drive1_FL                      31037 non-null  float64\n",
      " 27  inSession_Drive2_FL                      31037 non-null  float64\n",
      " 28  inSession_Drive_CA                       31037 non-null  object \n",
      " 29  inSession_Florida                        31037 non-null  float64\n",
      " 30  inSession_Mardi_Gras                     31037 non-null  float64\n",
      " 31  inSession_Midwest                        31037 non-null  float64\n",
      " 32  inSession_NY_NJ                          31037 non-null  float64\n",
      " 33  inSession_NY_NJ_PA                       31037 non-null  float64\n",
      " 34  inSession_New_England                    31037 non-null  float64\n",
      " 35  inSession_New_Jersey                     31037 non-null  float64\n",
      " 36  inSession_Nothwest                       31037 non-null  float64\n",
      " 37  INSESSION_PLANES                         31037 non-null  float64\n",
      " 38  inSession_SoCal                          31037 non-null  float64\n",
      " 39  inSession_Southwest                      31037 non-null  float64\n",
      " 40  SUNSET_WDW                               31037 non-null  int64  \n",
      " 41  AKEMHMORN                                31037 non-null  int64  \n",
      " 42  AKEMHMYEST                               31037 non-null  int64  \n",
      " 43  AKEMHMTOM                                31037 non-null  int64  \n",
      " 44  AKEMHEVE                                 31037 non-null  int64  \n",
      " 45  AKEMHEYEST                               31037 non-null  int64  \n",
      " 46  AKEMHETOM                                31037 non-null  int64  \n",
      " 47  AKHOURSEMH                               31037 non-null  float64\n",
      " 48  AKHOURSEMHYEST                           31037 non-null  float64\n",
      " 49  AKHOURSEMHTOM                            31037 non-null  float64\n",
      " 50  AKOPEN                                   31037 non-null  int64  \n",
      " 51  AKCLOSE                                  31037 non-null  int64  \n",
      " 52  AKHOURS                                  31037 non-null  float64\n",
      " 53  AKEMHOPEN                                31037 non-null  int64  \n",
      " 54  AKEMHCLOSE                               31037 non-null  int64  \n",
      " 55  AKOPENYEST                               31037 non-null  int64  \n",
      " 56  AKCLOSEYEST                              31037 non-null  int64  \n",
      " 57  AKHOURSYEST                              31037 non-null  float64\n",
      " 58  AKOPENTOM                                31037 non-null  int64  \n",
      " 59  AKCLOSETOM                               31037 non-null  int64  \n",
      " 60  AKHOURSTOM                               31037 non-null  float64\n",
      " 61  MKDAYSBEFORENONEVENT                     31037 non-null  float64\n",
      " 62  WDWMINTEMP_mean                          31037 non-null  float64\n",
      " 63  WEATHER_WDWHIGH                          31037 non-null  float64\n",
      " 64  WEATHER_WDWLOW                           31037 non-null  float64\n",
      " 65  WEATHER_WDWPRECIP                        31037 non-null  float64\n",
      " 66  CapacityLost_AK                          31037 non-null  int64  \n",
      " 67  CapacityLostWGT_AK                       31037 non-null  int64  \n",
      " 68  WDWSEASON_CHRISTMAS                      31037 non-null  uint8  \n",
      " 69  WDWSEASON_CHRISTMAS PEAK                 31037 non-null  uint8  \n",
      " 70  WDWSEASON_COLUMBUS DAY                   31037 non-null  uint8  \n",
      " 71  WDWSEASON_EASTER                         31037 non-null  uint8  \n",
      " 72  WDWSEASON_FALL                           31037 non-null  uint8  \n",
      " 73  WDWSEASON_HALLOWEEN                      31037 non-null  uint8  \n",
      " 74  WDWSEASON_JERSEY WEEK                    31037 non-null  uint8  \n",
      " 75  WDWSEASON_JULY 4TH                       31037 non-null  uint8  \n",
      " 76  WDWSEASON_MARDI GRAS                     31037 non-null  uint8  \n",
      " 77  WDWSEASON_MARTIN LUTHER KING JUNIOR DAY  31037 non-null  uint8  \n",
      " 78  WDWSEASON_MEMORIAL DAY                   31037 non-null  uint8  \n",
      " 79  WDWSEASON_PRESIDENTS WEEK                31037 non-null  uint8  \n",
      " 80  WDWSEASON_SEPTEMBER LOW                  31037 non-null  uint8  \n",
      " 81  WDWSEASON_SPRING                         31037 non-null  uint8  \n",
      " 82  WDWSEASON_SUMMER BREAK                   31037 non-null  uint8  \n",
      " 83  WDWSEASON_THANKSGIVING                   31037 non-null  uint8  \n",
      " 84  WDWSEASON_WINTER                         31037 non-null  uint8  \n",
      " 85  hour                                     31037 non-null  int64  \n",
      "dtypes: float64(38), int64(29), object(2), uint8(17)\n",
      "memory usage: 17.1+ MB\n"
     ]
    }
   ],
   "source": [
    "# Viewing the available columns/features to use in modeling\n",
    "mk.info()"
   ]
  },
  {
   "cell_type": "code",
   "execution_count": 16,
   "metadata": {},
   "outputs": [
    {
     "data": {
      "image/png": "[encoded data removed]",
      "text/plain": [
       "<Figure size 1080x1080 with 2 Axes>"
      ]
     },
     "metadata": {
      "needs_background": "light"
     },
     "output_type": "display_data"
    }
   ],
   "source": [
    "top_corr = mk.corr()\n",
    "top_corr_features = top_corr.index[abs(top_corr[\"dinosaur\"]) > .16]\n",
    "plt.figure(figsize=(15,15))\n",
    "g = sns.heatmap(mk[top_corr_features].corr(),annot=True,cmap=\"magma\")"
   ]
  },
  {
   "cell_type": "code",
   "execution_count": 17,
   "metadata": {
    "scrolled": false
   },
   "outputs": [
    {
     "data": {
      "image/png": "[encoded data removed]",
      "text/plain": [
       "<Figure size 432x720 with 2 Axes>"
      ]
     },
     "metadata": {
      "needs_background": "light"
     },
     "output_type": "display_data"
    }
   ],
   "source": [
    "# One column heatmap for Dinosaur\n",
    "corr = mk.corr()\n",
    "plt.figure(figsize = (6,10))\n",
    "sns.heatmap(corr[['dinosaur']].sort_values(by = 'dinosaur', ascending = False).head(10),vmin = 0, annot = True)\n",
    "plt.show()"
   ]
  },
  {
   "cell_type": "code",
   "execution_count": 18,
   "metadata": {},
   "outputs": [],
   "source": [
    "# Set Features as columns to use for X variable, set y \n",
    "features = ['kilimanjaro_safaris','expedition_everest','flight_of_passage','navi_river', 'inSession', \"AKCLOSE\", 'AKOPEN',\n",
    "            'YEAR', 'AKHOURS', 'DAYOFWEEK','HOLIDAYM',\"MONTHOFYEAR\",'DAYOFYEAR',\n",
    "             'WDWSEASON_CHRISTMAS', 'WDWSEASON_CHRISTMAS PEAK', \n",
    "       'WDWSEASON_COLUMBUS DAY', 'WDWSEASON_EASTER', 'WDWSEASON_FALL',\n",
    "       'WDWSEASON_HALLOWEEN', 'WDWSEASON_JERSEY WEEK', 'WDWSEASON_JULY 4TH',\n",
    "       'WDWSEASON_MARDI GRAS', 'WDWSEASON_MARTIN LUTHER KING JUNIOR DAY',\n",
    "       'WDWSEASON_MEMORIAL DAY', 'WDWSEASON_PRESIDENTS WEEK',\n",
    "       'WDWSEASON_SEPTEMBER LOW', 'WDWSEASON_SPRING', 'WDWSEASON_SUMMER BREAK',\n",
    "       'WDWSEASON_THANKSGIVING', 'WDWSEASON_WINTER',\n",
    "            'hour','CapacityLostWGT_AK']\n",
    "y = mk['dinosaur']\n",
    "X = mk[features]"
   ]
  },
  {
   "cell_type": "code",
   "execution_count": 19,
   "metadata": {},
   "outputs": [],
   "source": [
    "# Test train split, fit and transform the data\n",
    "X_train, X_test, y_train, y_test = train_test_split(X, y, test_size =.02, random_state=2020)\n",
    "sc = StandardScaler()\n",
    "sc.fit(X_train)\n",
    "X_train_sc = sc.transform(X_train)\n",
    "X_test_sc = sc.transform(X_test)"
   ]
  },
  {
   "cell_type": "markdown",
   "metadata": {},
   "source": [
    "# Linear Regression"
   ]
  },
  {
   "cell_type": "code",
   "execution_count": 20,
   "metadata": {},
   "outputs": [
    {
     "data": {
      "text/plain": [
       "LinearRegression(copy_X=True, fit_intercept=True, n_jobs=None, normalize=False)"
      ]
     },
     "execution_count": 20,
     "metadata": {},
     "output_type": "execute_result"
    }
   ],
   "source": [
    "# Created my model and started the train test split\n",
    "linreg = LinearRegression()\n",
    "linreg.fit(X_train_sc, y_train)"
   ]
  },
  {
   "cell_type": "code",
   "execution_count": 21,
   "metadata": {},
   "outputs": [
    {
     "data": {
      "text/plain": [
       "11.55208103932114"
      ]
     },
     "execution_count": 21,
     "metadata": {},
     "output_type": "execute_result"
    }
   ],
   "source": [
    "# Predict on the training data\n",
    "linreg_preds_train = linreg.predict(X_train_sc)\n",
    "linreg_rms_train = sqrt(mean_squared_error(y_train, linreg_preds_train))\n",
    "linreg_rms_train"
   ]
  },
  {
   "cell_type": "code",
   "execution_count": 22,
   "metadata": {},
   "outputs": [
    {
     "data": {
      "text/plain": [
       "12.581672435601828"
      ]
     },
     "execution_count": 22,
     "metadata": {},
     "output_type": "execute_result"
    }
   ],
   "source": [
    "# Score the testing data\n",
    "linreg_preds_test = linreg.predict(X_test_sc)\n",
    "linreg_rms_test = sqrt(mean_squared_error(y_test, linreg_preds_test))\n",
    "linreg_rms_test"
   ]
  },
  {
   "cell_type": "markdown",
   "metadata": {},
   "source": [
    "## KNN"
   ]
  },
  {
   "cell_type": "code",
   "execution_count": 23,
   "metadata": {},
   "outputs": [
    {
     "data": {
      "text/plain": [
       "KNeighborsRegressor(algorithm='auto', leaf_size=30, metric='minkowski',\n",
       "                    metric_params=None, n_jobs=None, n_neighbors=5, p=2,\n",
       "                    weights='uniform')"
      ]
     },
     "execution_count": 23,
     "metadata": {},
     "output_type": "execute_result"
    }
   ],
   "source": [
    "# Instiantiated KNN and fitted the training\n",
    "knn = KNeighborsRegressor()\n",
    "knn.fit(X_train_sc, y_train)"
   ]
  },
  {
   "cell_type": "code",
   "execution_count": 24,
   "metadata": {},
   "outputs": [
    {
     "data": {
      "text/plain": [
       "8.228368497616147"
      ]
     },
     "execution_count": 24,
     "metadata": {},
     "output_type": "execute_result"
    }
   ],
   "source": [
    "# Predict on the training data\n",
    "knn_preds_train = knn.predict(X_train_sc)\n",
    "knn_rms_train = sqrt(mean_squared_error(y_train, knn_preds_train))\n",
    "knn_rms_train"
   ]
  },
  {
   "cell_type": "code",
   "execution_count": 25,
   "metadata": {},
   "outputs": [
    {
     "data": {
      "text/plain": [
       "10.79442511329668"
      ]
     },
     "execution_count": 25,
     "metadata": {},
     "output_type": "execute_result"
    }
   ],
   "source": [
    "# Score the testing data\n",
    "knn_preds_test = knn.predict(X_test_sc)\n",
    "knn_rms_test = sqrt(mean_squared_error(y_test, knn_preds_test))\n",
    "knn_rms_test\n"
   ]
  },
  {
   "cell_type": "markdown",
   "metadata": {},
   "source": [
    "## Decision Tree Model"
   ]
  },
  {
   "cell_type": "code",
   "execution_count": 26,
   "metadata": {},
   "outputs": [
    {
     "data": {
      "text/plain": [
       "DecisionTreeRegressor(ccp_alpha=0.0, criterion='mse', max_depth=None,\n",
       "                      max_features=None, max_leaf_nodes=None,\n",
       "                      min_impurity_decrease=0.0, min_impurity_split=None,\n",
       "                      min_samples_leaf=1, min_samples_split=2,\n",
       "                      min_weight_fraction_leaf=0.0, presort='deprecated',\n",
       "                      random_state=None, splitter='best')"
      ]
     },
     "execution_count": 26,
     "metadata": {},
     "output_type": "execute_result"
    }
   ],
   "source": [
    "# Instiantiate model and fit the Decision Tree\n",
    "dt = DecisionTreeRegressor()\n",
    "dt.fit(X_train_sc, y_train)"
   ]
  },
  {
   "cell_type": "code",
   "execution_count": 27,
   "metadata": {},
   "outputs": [
    {
     "data": {
      "text/plain": [
       "0.0"
      ]
     },
     "execution_count": 27,
     "metadata": {},
     "output_type": "execute_result"
    }
   ],
   "source": [
    "# Predict on the training data\n",
    "dt_preds_train = dt.predict(X_train_sc)\n",
    "dt_rms_train = sqrt(mean_squared_error(y_train, dt_preds_train))\n",
    "dt_rms_train"
   ]
  },
  {
   "cell_type": "code",
   "execution_count": 28,
   "metadata": {},
   "outputs": [
    {
     "data": {
      "text/plain": [
       "13.557772844713718"
      ]
     },
     "execution_count": 28,
     "metadata": {},
     "output_type": "execute_result"
    }
   ],
   "source": [
    "# Score the testing data\n",
    "dt_preds_test = dt.predict(X_test_sc)\n",
    "dt_rms_test = sqrt(mean_squared_error(y_test, dt_preds_test))\n",
    "dt_rms_test"
   ]
  },
  {
   "cell_type": "markdown",
   "metadata": {},
   "source": [
    "## Bagged Decision Tree"
   ]
  },
  {
   "cell_type": "code",
   "execution_count": 29,
   "metadata": {},
   "outputs": [
    {
     "data": {
      "text/plain": [
       "BaggingRegressor(base_estimator=None, bootstrap=True, bootstrap_features=False,\n",
       "                 max_features=1.0, max_samples=1.0, n_estimators=10,\n",
       "                 n_jobs=None, oob_score=False, random_state=None, verbose=0,\n",
       "                 warm_start=False)"
      ]
     },
     "execution_count": 29,
     "metadata": {},
     "output_type": "execute_result"
    }
   ],
   "source": [
    "# Instiantiate model and fit the Bagged Decision Tree\n",
    "bag = BaggingRegressor()\n",
    "bag.fit(X_train_sc, y_train)"
   ]
  },
  {
   "cell_type": "code",
   "execution_count": 30,
   "metadata": {},
   "outputs": [
    {
     "data": {
      "text/plain": [
       "4.190663429767254"
      ]
     },
     "execution_count": 30,
     "metadata": {},
     "output_type": "execute_result"
    }
   ],
   "source": [
    "# Predict on the training data\n",
    "bag_preds_train = bag.predict(X_train_sc)\n",
    "bag_rms_train = sqrt(mean_squared_error(y_train, bag_preds_train))\n",
    "bag_rms_train"
   ]
  },
  {
   "cell_type": "code",
   "execution_count": 31,
   "metadata": {},
   "outputs": [
    {
     "data": {
      "text/plain": [
       "10.53020194388816"
      ]
     },
     "execution_count": 31,
     "metadata": {},
     "output_type": "execute_result"
    }
   ],
   "source": [
    "# Score the testing data\n",
    "bag_preds_test = bag.predict(X_test_sc)\n",
    "bag_rms_test = sqrt(mean_squared_error(y_test, bag_preds_test))\n",
    "bag_rms_test"
   ]
  },
  {
   "cell_type": "markdown",
   "metadata": {},
   "source": [
    "## Random Forests"
   ]
  },
  {
   "cell_type": "code",
   "execution_count": 32,
   "metadata": {},
   "outputs": [
    {
     "data": {
      "text/plain": [
       "RandomForestRegressor(bootstrap=True, ccp_alpha=0.0, criterion='mse',\n",
       "                      max_depth=None, max_features='auto', max_leaf_nodes=None,\n",
       "                      max_samples=None, min_impurity_decrease=0.0,\n",
       "                      min_impurity_split=None, min_samples_leaf=1,\n",
       "                      min_samples_split=2, min_weight_fraction_leaf=0.0,\n",
       "                      n_estimators=100, n_jobs=None, oob_score=False,\n",
       "                      random_state=None, verbose=0, warm_start=False)"
      ]
     },
     "execution_count": 32,
     "metadata": {},
     "output_type": "execute_result"
    }
   ],
   "source": [
    "# Instiantiate model and fit\n",
    "rf = RandomForestRegressor()\n",
    "rf.fit(X_train_sc, y_train)"
   ]
  },
  {
   "cell_type": "code",
   "execution_count": 33,
   "metadata": {},
   "outputs": [
    {
     "data": {
      "text/plain": [
       "3.5474582391586282"
      ]
     },
     "execution_count": 33,
     "metadata": {},
     "output_type": "execute_result"
    }
   ],
   "source": [
    "# Predict on the training data\n",
    "rf_preds_train = rf.predict(X_train_sc)\n",
    "rf_rms_train = sqrt(mean_squared_error(y_train, rf_preds_train))\n",
    "rf_rms_train"
   ]
  },
  {
   "cell_type": "code",
   "execution_count": 34,
   "metadata": {},
   "outputs": [
    {
     "data": {
      "text/plain": [
       "9.607843104169204"
      ]
     },
     "execution_count": 34,
     "metadata": {},
     "output_type": "execute_result"
    }
   ],
   "source": [
    "# Score the testing data\n",
    "rf_preds_test = rf.predict(X_test_sc)\n",
    "rf_rms_test = sqrt(mean_squared_error(y_test, rf_preds_test))\n",
    "rf_rms_test"
   ]
  },
  {
   "cell_type": "markdown",
   "metadata": {},
   "source": [
    "## ADA boost"
   ]
  },
  {
   "cell_type": "code",
   "execution_count": 35,
   "metadata": {},
   "outputs": [
    {
     "data": {
      "text/plain": [
       "AdaBoostRegressor(base_estimator=None, learning_rate=1.0, loss='linear',\n",
       "                  n_estimators=50, random_state=None)"
      ]
     },
     "execution_count": 35,
     "metadata": {},
     "output_type": "execute_result"
    }
   ],
   "source": [
    "# Instiantiate model and fit\n",
    "ada = AdaBoostRegressor()\n",
    "ada.fit(X_train_sc, y_train)"
   ]
  },
  {
   "cell_type": "code",
   "execution_count": 36,
   "metadata": {},
   "outputs": [
    {
     "data": {
      "text/plain": [
       "17.662246923123735"
      ]
     },
     "execution_count": 36,
     "metadata": {},
     "output_type": "execute_result"
    }
   ],
   "source": [
    "# Predict on the training data\n",
    "ada_preds_train = ada.predict(X_train_sc)\n",
    "ada_rms_train = sqrt(mean_squared_error(y_train, ada_preds_train))\n",
    "ada_rms_train"
   ]
  },
  {
   "cell_type": "code",
   "execution_count": 37,
   "metadata": {},
   "outputs": [
    {
     "data": {
      "text/plain": [
       "18.13565063875115"
      ]
     },
     "execution_count": 37,
     "metadata": {},
     "output_type": "execute_result"
    }
   ],
   "source": [
    "# Score the testing data\n",
    "ada_preds_test = ada.predict(X_test_sc)\n",
    "ada_rms_test = sqrt(mean_squared_error(y_test, ada_preds_test))\n",
    "ada_rms_test"
   ]
  },
  {
   "cell_type": "markdown",
   "metadata": {},
   "source": [
    "## SVM"
   ]
  },
  {
   "cell_type": "code",
   "execution_count": 38,
   "metadata": {},
   "outputs": [
    {
     "data": {
      "text/plain": [
       "SVR(C=1.0, cache_size=200, coef0=0.0, degree=3, epsilon=0.1, gamma='scale',\n",
       "    kernel='rbf', max_iter=-1, shrinking=True, tol=0.001, verbose=False)"
      ]
     },
     "execution_count": 38,
     "metadata": {},
     "output_type": "execute_result"
    }
   ],
   "source": [
    "# Instiantiate model and fit\n",
    "svr = svm.SVR()\n",
    "svr.fit(X_train_sc, y_train)"
   ]
  },
  {
   "cell_type": "code",
   "execution_count": 39,
   "metadata": {},
   "outputs": [
    {
     "data": {
      "text/plain": [
       "11.102157301423425"
      ]
     },
     "execution_count": 39,
     "metadata": {},
     "output_type": "execute_result"
    }
   ],
   "source": [
    "# Predict on the training data\n",
    "svr_preds_train = svr.predict(X_train_sc)\n",
    "svr_rms_train = sqrt(mean_squared_error(y_train, svr_preds_train))\n",
    "svr_rms_train"
   ]
  },
  {
   "cell_type": "code",
   "execution_count": 40,
   "metadata": {},
   "outputs": [
    {
     "data": {
      "text/plain": [
       "12.130627627779074"
      ]
     },
     "execution_count": 40,
     "metadata": {},
     "output_type": "execute_result"
    }
   ],
   "source": [
    "# Score the testing data\n",
    "svr_preds_test = svr.predict(X_test_sc)\n",
    "svr_rms_test = sqrt(mean_squared_error(y_test, svr_preds_test))\n",
    "svr_rms_test"
   ]
  },
  {
   "cell_type": "markdown",
   "metadata": {},
   "source": [
    "# XG Boost"
   ]
  },
  {
   "cell_type": "code",
   "execution_count": 41,
   "metadata": {},
   "outputs": [
    {
     "data": {
      "text/plain": [
       "XGBClassifier(base_score=0.5, booster='gbtree', colsample_bylevel=1,\n",
       "              colsample_bynode=1, colsample_bytree=1, gamma=0,\n",
       "              learning_rate=0.1, max_delta_step=0, max_depth=3,\n",
       "              min_child_weight=1, missing=None, n_estimators=100, n_jobs=1,\n",
       "              nthread=None, objective='multi:softprob', random_state=0,\n",
       "              reg_alpha=0, reg_lambda=1, scale_pos_weight=1, seed=None,\n",
       "              silent=None, subsample=1, verbosity=1)"
      ]
     },
     "execution_count": 41,
     "metadata": {},
     "output_type": "execute_result"
    }
   ],
   "source": [
    "# fit model no training data\n",
    "model = XGBClassifier()\n",
    "model.fit(X_train_sc, y_train)"
   ]
  },
  {
   "cell_type": "code",
   "execution_count": 42,
   "metadata": {},
   "outputs": [
    {
     "data": {
      "text/plain": [
       "12.248572096834899"
      ]
     },
     "execution_count": 42,
     "metadata": {},
     "output_type": "execute_result"
    }
   ],
   "source": [
    "# Predict RMSE on the training data\n",
    "model_preds_train = model.predict(X_train_sc)\n",
    "model_rms_train = sqrt(mean_squared_error(y_train, model_preds_train))\n",
    "model_rms_train"
   ]
  },
  {
   "cell_type": "code",
   "execution_count": 43,
   "metadata": {},
   "outputs": [
    {
     "data": {
      "text/plain": [
       "13.526618357401656"
      ]
     },
     "execution_count": 43,
     "metadata": {},
     "output_type": "execute_result"
    }
   ],
   "source": [
    "# Score the testing data with RMSE\n",
    "model_preds_test = model.predict(X_test_sc)\n",
    "model_rms_test = sqrt(mean_squared_error(y_test, model_preds_test))\n",
    "model_rms_test"
   ]
  },
  {
   "cell_type": "markdown",
   "metadata": {},
   "source": [
    "# FBprophet"
   ]
  },
  {
   "cell_type": "code",
   "execution_count": 44,
   "metadata": {},
   "outputs": [],
   "source": [
    "# Imported FBprophet at top of workbook\n",
    "# Copied mk dataframe for use in FBprophet\n",
    "df1 = mk[['dinosaur']].copy()\n",
    "df1 = df1[~(df1.index < '2016-01-01')] "
   ]
  },
  {
   "cell_type": "code",
   "execution_count": 45,
   "metadata": {
    "scrolled": true
   },
   "outputs": [
    {
     "name": "stdout",
     "output_type": "stream",
     "text": [
      "<class 'pandas.core.frame.DataFrame'>\n",
      "RangeIndex: 24865 entries, 0 to 24864\n",
      "Data columns (total 2 columns):\n",
      " #   Column  Non-Null Count  Dtype         \n",
      "---  ------  --------------  -----         \n",
      " 0   ds      24865 non-null  datetime64[ns]\n",
      " 1   y       24865 non-null  float64       \n",
      "dtypes: datetime64[ns](1), float64(1)\n",
      "memory usage: 388.6 KB\n",
      "None\n"
     ]
    },
    {
     "data": {
      "text/html": [
       "<div>\n",
       "<style scoped>\n",
       "    .dataframe tbody tr th:only-of-type {\n",
       "        vertical-align: middle;\n",
       "    }\n",
       "\n",
       "    .dataframe tbody tr th {\n",
       "        vertical-align: top;\n",
       "    }\n",
       "\n",
       "    .dataframe thead th {\n",
       "        text-align: right;\n",
       "    }\n",
       "</style>\n",
       "<table border=\"1\" class=\"dataframe\">\n",
       "  <thead>\n",
       "    <tr style=\"text-align: right;\">\n",
       "      <th></th>\n",
       "      <th>ds</th>\n",
       "      <th>y</th>\n",
       "    </tr>\n",
       "  </thead>\n",
       "  <tbody>\n",
       "    <tr>\n",
       "      <th>0</th>\n",
       "      <td>2016-01-01 00:00:00</td>\n",
       "      <td>0.0</td>\n",
       "    </tr>\n",
       "    <tr>\n",
       "      <th>1</th>\n",
       "      <td>2016-01-01 01:00:00</td>\n",
       "      <td>0.0</td>\n",
       "    </tr>\n",
       "  </tbody>\n",
       "</table>\n",
       "</div>"
      ],
      "text/plain": [
       "                   ds    y\n",
       "0 2016-01-01 00:00:00  0.0\n",
       "1 2016-01-01 01:00:00  0.0"
      ]
     },
     "execution_count": 45,
     "metadata": {},
     "output_type": "execute_result"
    }
   ],
   "source": [
    "# Made a 2 column dataframe in the format FBprophet requires (ds,'y')\n",
    "df = df1\n",
    "df.rename(columns = {'dinosaur':'y'}, inplace = True)\n",
    "df.index.name = 'ds'\n",
    "df = df.reset_index()\n",
    "df['ds'] = pd.to_datetime(df[\"ds\"])\n",
    "print(df.info())\n",
    "df.head(2)"
   ]
  },
  {
   "cell_type": "code",
   "execution_count": 46,
   "metadata": {},
   "outputs": [],
   "source": [
    "# Instiantiate the model ad m\n",
    "m = Prophet()\n",
    "m.add_country_holidays(country_name='US')\n",
    "m.fit(df);"
   ]
  },
  {
   "cell_type": "code",
   "execution_count": 47,
   "metadata": {},
   "outputs": [],
   "source": [
    "# Telling the number of periods in the future to predict, 3 months(18 hours * 90 days)\n",
    "future = m.make_future_dataframe(periods=1620, freq='h')\n",
    "forecast = m.predict(future)"
   ]
  },
  {
   "cell_type": "code",
   "execution_count": 48,
   "metadata": {},
   "outputs": [
    {
     "data": {
      "image/png": "[encoded data removed]",
      "text/plain": [
       "<Figure size 720x432 with 1 Axes>"
      ]
     },
     "metadata": {},
     "output_type": "display_data"
    }
   ],
   "source": [
    "# Plot shows forcast line for 4 years and 3 month future prediction\n",
    "fig1 = m.plot(forecast);"
   ]
  },
  {
   "cell_type": "code",
   "execution_count": 49,
   "metadata": {},
   "outputs": [
    {
     "data": {
      "image/png": "[encoded data removed]",
      "text/plain": [
       "<Figure size 648x1080 with 5 Axes>"
      ]
     },
     "metadata": {},
     "output_type": "display_data"
    }
   ],
   "source": [
    "# Figures show trend and seasonality\n",
    "fig2 = m.plot_components(forecast)"
   ]
  },
  {
   "cell_type": "code",
   "execution_count": 50,
   "metadata": {},
   "outputs": [],
   "source": [
    "# # Interactive plot to view the podel predictions\n",
    "# py.init_notebook_mode()\n",
    "# fig = plot_plotly(m, forecast)  # This returns a plotly Figure\n",
    "# py.iplot(fig)"
   ]
  },
  {
   "cell_type": "code",
   "execution_count": 51,
   "metadata": {},
   "outputs": [
    {
     "name": "stderr",
     "output_type": "stream",
     "text": [
      "INFO:fbprophet:Making 12 forecasts with cutoffs between 2019-01-04 23:00:00 and 2019-11-30 23:00:00\n"
     ]
    },
    {
     "data": {
      "text/html": [
       "<div>\n",
       "<style scoped>\n",
       "    .dataframe tbody tr th:only-of-type {\n",
       "        vertical-align: middle;\n",
       "    }\n",
       "\n",
       "    .dataframe tbody tr th {\n",
       "        vertical-align: top;\n",
       "    }\n",
       "\n",
       "    .dataframe thead th {\n",
       "        text-align: right;\n",
       "    }\n",
       "</style>\n",
       "<table border=\"1\" class=\"dataframe\">\n",
       "  <thead>\n",
       "    <tr style=\"text-align: right;\">\n",
       "      <th></th>\n",
       "      <th>ds</th>\n",
       "      <th>yhat</th>\n",
       "      <th>yhat_lower</th>\n",
       "      <th>yhat_upper</th>\n",
       "      <th>y</th>\n",
       "      <th>cutoff</th>\n",
       "    </tr>\n",
       "  </thead>\n",
       "  <tbody>\n",
       "    <tr>\n",
       "      <th>0</th>\n",
       "      <td>2019-01-05 06:00:00</td>\n",
       "      <td>18.221305</td>\n",
       "      <td>2.579150</td>\n",
       "      <td>35.425709</td>\n",
       "      <td>0.0</td>\n",
       "      <td>2019-01-04 23:00:00</td>\n",
       "    </tr>\n",
       "    <tr>\n",
       "      <th>1</th>\n",
       "      <td>2019-01-05 07:00:00</td>\n",
       "      <td>19.118284</td>\n",
       "      <td>2.766762</td>\n",
       "      <td>36.085437</td>\n",
       "      <td>8.0</td>\n",
       "      <td>2019-01-04 23:00:00</td>\n",
       "    </tr>\n",
       "    <tr>\n",
       "      <th>2</th>\n",
       "      <td>2019-01-05 08:00:00</td>\n",
       "      <td>23.342680</td>\n",
       "      <td>6.716442</td>\n",
       "      <td>40.137675</td>\n",
       "      <td>42.0</td>\n",
       "      <td>2019-01-04 23:00:00</td>\n",
       "    </tr>\n",
       "    <tr>\n",
       "      <th>3</th>\n",
       "      <td>2019-01-05 09:00:00</td>\n",
       "      <td>31.576374</td>\n",
       "      <td>14.954472</td>\n",
       "      <td>47.444310</td>\n",
       "      <td>28.0</td>\n",
       "      <td>2019-01-04 23:00:00</td>\n",
       "    </tr>\n",
       "    <tr>\n",
       "      <th>4</th>\n",
       "      <td>2019-01-05 10:00:00</td>\n",
       "      <td>41.771322</td>\n",
       "      <td>25.295391</td>\n",
       "      <td>58.120257</td>\n",
       "      <td>69.0</td>\n",
       "      <td>2019-01-04 23:00:00</td>\n",
       "    </tr>\n",
       "    <tr>\n",
       "      <th>...</th>\n",
       "      <td>...</td>\n",
       "      <td>...</td>\n",
       "      <td>...</td>\n",
       "      <td>...</td>\n",
       "      <td>...</td>\n",
       "      <td>...</td>\n",
       "    </tr>\n",
       "    <tr>\n",
       "      <th>6250</th>\n",
       "      <td>2019-12-30 19:00:00</td>\n",
       "      <td>35.256362</td>\n",
       "      <td>18.125558</td>\n",
       "      <td>52.248959</td>\n",
       "      <td>68.0</td>\n",
       "      <td>2019-11-30 23:00:00</td>\n",
       "    </tr>\n",
       "    <tr>\n",
       "      <th>6251</th>\n",
       "      <td>2019-12-30 20:00:00</td>\n",
       "      <td>29.375728</td>\n",
       "      <td>12.324626</td>\n",
       "      <td>46.587969</td>\n",
       "      <td>42.0</td>\n",
       "      <td>2019-11-30 23:00:00</td>\n",
       "    </tr>\n",
       "    <tr>\n",
       "      <th>6252</th>\n",
       "      <td>2019-12-30 21:00:00</td>\n",
       "      <td>24.877432</td>\n",
       "      <td>7.790911</td>\n",
       "      <td>42.741269</td>\n",
       "      <td>18.0</td>\n",
       "      <td>2019-11-30 23:00:00</td>\n",
       "    </tr>\n",
       "    <tr>\n",
       "      <th>6253</th>\n",
       "      <td>2019-12-30 22:00:00</td>\n",
       "      <td>21.838808</td>\n",
       "      <td>5.003844</td>\n",
       "      <td>38.610035</td>\n",
       "      <td>14.0</td>\n",
       "      <td>2019-11-30 23:00:00</td>\n",
       "    </tr>\n",
       "    <tr>\n",
       "      <th>6254</th>\n",
       "      <td>2019-12-30 23:00:00</td>\n",
       "      <td>19.720606</td>\n",
       "      <td>2.181131</td>\n",
       "      <td>37.594674</td>\n",
       "      <td>0.0</td>\n",
       "      <td>2019-11-30 23:00:00</td>\n",
       "    </tr>\n",
       "  </tbody>\n",
       "</table>\n",
       "<p>6255 rows × 6 columns</p>\n",
       "</div>"
      ],
      "text/plain": [
       "                      ds       yhat  yhat_lower  yhat_upper     y  \\\n",
       "0    2019-01-05 06:00:00  18.221305    2.579150   35.425709   0.0   \n",
       "1    2019-01-05 07:00:00  19.118284    2.766762   36.085437   8.0   \n",
       "2    2019-01-05 08:00:00  23.342680    6.716442   40.137675  42.0   \n",
       "3    2019-01-05 09:00:00  31.576374   14.954472   47.444310  28.0   \n",
       "4    2019-01-05 10:00:00  41.771322   25.295391   58.120257  69.0   \n",
       "...                  ...        ...         ...         ...   ...   \n",
       "6250 2019-12-30 19:00:00  35.256362   18.125558   52.248959  68.0   \n",
       "6251 2019-12-30 20:00:00  29.375728   12.324626   46.587969  42.0   \n",
       "6252 2019-12-30 21:00:00  24.877432    7.790911   42.741269  18.0   \n",
       "6253 2019-12-30 22:00:00  21.838808    5.003844   38.610035  14.0   \n",
       "6254 2019-12-30 23:00:00  19.720606    2.181131   37.594674   0.0   \n",
       "\n",
       "                  cutoff  \n",
       "0    2019-01-04 23:00:00  \n",
       "1    2019-01-04 23:00:00  \n",
       "2    2019-01-04 23:00:00  \n",
       "3    2019-01-04 23:00:00  \n",
       "4    2019-01-04 23:00:00  \n",
       "...                  ...  \n",
       "6250 2019-11-30 23:00:00  \n",
       "6251 2019-11-30 23:00:00  \n",
       "6252 2019-11-30 23:00:00  \n",
       "6253 2019-11-30 23:00:00  \n",
       "6254 2019-11-30 23:00:00  \n",
       "\n",
       "[6255 rows x 6 columns]"
      ]
     },
     "execution_count": 51,
     "metadata": {},
     "output_type": "execute_result"
    }
   ],
   "source": [
    "# set initial training oc 1095 days and predictions of 30 days every 30 days\n",
    "df_cv = cross_validation(m, initial='1095 days', period='30 days', horizon = '30 days')\n",
    "df_cv"
   ]
  },
  {
   "cell_type": "code",
   "execution_count": 52,
   "metadata": {},
   "outputs": [
    {
     "name": "stderr",
     "output_type": "stream",
     "text": [
      "INFO:fbprophet:Skipping MAPE because y close to 0\n"
     ]
    },
    {
     "data": {
      "text/html": [
       "<div>\n",
       "<style scoped>\n",
       "    .dataframe tbody tr th:only-of-type {\n",
       "        vertical-align: middle;\n",
       "    }\n",
       "\n",
       "    .dataframe tbody tr th {\n",
       "        vertical-align: top;\n",
       "    }\n",
       "\n",
       "    .dataframe thead th {\n",
       "        text-align: right;\n",
       "    }\n",
       "</style>\n",
       "<table border=\"1\" class=\"dataframe\">\n",
       "  <thead>\n",
       "    <tr style=\"text-align: right;\">\n",
       "      <th></th>\n",
       "      <th>horizon</th>\n",
       "      <th>mse</th>\n",
       "      <th>rmse</th>\n",
       "      <th>mae</th>\n",
       "      <th>mdape</th>\n",
       "      <th>coverage</th>\n",
       "    </tr>\n",
       "  </thead>\n",
       "  <tbody>\n",
       "    <tr>\n",
       "      <th>558</th>\n",
       "      <td>29 days 20:00:00</td>\n",
       "      <td>211.314397</td>\n",
       "      <td>14.536657</td>\n",
       "      <td>10.447347</td>\n",
       "      <td>0.439972</td>\n",
       "      <td>0.822400</td>\n",
       "    </tr>\n",
       "    <tr>\n",
       "      <th>559</th>\n",
       "      <td>29 days 21:00:00</td>\n",
       "      <td>210.423777</td>\n",
       "      <td>14.505991</td>\n",
       "      <td>10.406516</td>\n",
       "      <td>0.429205</td>\n",
       "      <td>0.823600</td>\n",
       "    </tr>\n",
       "    <tr>\n",
       "      <th>560</th>\n",
       "      <td>29 days 22:00:00</td>\n",
       "      <td>211.539794</td>\n",
       "      <td>14.544408</td>\n",
       "      <td>10.454645</td>\n",
       "      <td>0.429205</td>\n",
       "      <td>0.823840</td>\n",
       "    </tr>\n",
       "    <tr>\n",
       "      <th>561</th>\n",
       "      <td>29 days 23:00:00</td>\n",
       "      <td>211.457549</td>\n",
       "      <td>14.541580</td>\n",
       "      <td>10.464191</td>\n",
       "      <td>0.429499</td>\n",
       "      <td>0.825920</td>\n",
       "    </tr>\n",
       "    <tr>\n",
       "      <th>562</th>\n",
       "      <td>30 days 00:00:00</td>\n",
       "      <td>211.620953</td>\n",
       "      <td>14.547197</td>\n",
       "      <td>10.469485</td>\n",
       "      <td>0.429205</td>\n",
       "      <td>0.826133</td>\n",
       "    </tr>\n",
       "  </tbody>\n",
       "</table>\n",
       "</div>"
      ],
      "text/plain": [
       "             horizon         mse       rmse        mae     mdape  coverage\n",
       "558 29 days 20:00:00  211.314397  14.536657  10.447347  0.439972  0.822400\n",
       "559 29 days 21:00:00  210.423777  14.505991  10.406516  0.429205  0.823600\n",
       "560 29 days 22:00:00  211.539794  14.544408  10.454645  0.429205  0.823840\n",
       "561 29 days 23:00:00  211.457549  14.541580  10.464191  0.429499  0.825920\n",
       "562 30 days 00:00:00  211.620953  14.547197  10.469485  0.429205  0.826133"
      ]
     },
     "execution_count": 52,
     "metadata": {},
     "output_type": "execute_result"
    }
   ],
   "source": [
    "# Scoring the 30 day predictions on the model on several metrics\n",
    "df_p = performance_metrics(df_cv)\n",
    "df_p.tail()"
   ]
  },
  {
   "cell_type": "code",
   "execution_count": 53,
   "metadata": {},
   "outputs": [
    {
     "data": {
      "text/html": [
       "<div>\n",
       "<style scoped>\n",
       "    .dataframe tbody tr th:only-of-type {\n",
       "        vertical-align: middle;\n",
       "    }\n",
       "\n",
       "    .dataframe tbody tr th {\n",
       "        vertical-align: top;\n",
       "    }\n",
       "\n",
       "    .dataframe thead th {\n",
       "        text-align: right;\n",
       "    }\n",
       "</style>\n",
       "<table border=\"1\" class=\"dataframe\">\n",
       "  <thead>\n",
       "    <tr style=\"text-align: right;\">\n",
       "      <th></th>\n",
       "      <th>horizon</th>\n",
       "      <th>mse</th>\n",
       "      <th>rmse</th>\n",
       "      <th>mae</th>\n",
       "      <th>mdape</th>\n",
       "      <th>coverage</th>\n",
       "    </tr>\n",
       "  </thead>\n",
       "  <tbody>\n",
       "    <tr>\n",
       "      <th>count</th>\n",
       "      <td>563</td>\n",
       "      <td>563.000000</td>\n",
       "      <td>563.000000</td>\n",
       "      <td>563.000000</td>\n",
       "      <td>563.000000</td>\n",
       "      <td>563.000000</td>\n",
       "    </tr>\n",
       "    <tr>\n",
       "      <th>mean</th>\n",
       "      <td>16 days 15:14:36.021314</td>\n",
       "      <td>189.838300</td>\n",
       "      <td>13.764857</td>\n",
       "      <td>10.251183</td>\n",
       "      <td>0.470435</td>\n",
       "      <td>0.813754</td>\n",
       "    </tr>\n",
       "    <tr>\n",
       "      <th>std</th>\n",
       "      <td>7 days 17:39:04.368512</td>\n",
       "      <td>16.638105</td>\n",
       "      <td>0.606352</td>\n",
       "      <td>0.411707</td>\n",
       "      <td>0.026100</td>\n",
       "      <td>0.017412</td>\n",
       "    </tr>\n",
       "    <tr>\n",
       "      <th>min</th>\n",
       "      <td>3 days 06:00:00</td>\n",
       "      <td>157.151689</td>\n",
       "      <td>12.536016</td>\n",
       "      <td>9.278180</td>\n",
       "      <td>0.423678</td>\n",
       "      <td>0.773200</td>\n",
       "    </tr>\n",
       "    <tr>\n",
       "      <th>25%</th>\n",
       "      <td>9 days 22:30:00</td>\n",
       "      <td>177.114447</td>\n",
       "      <td>13.308435</td>\n",
       "      <td>9.915165</td>\n",
       "      <td>0.445762</td>\n",
       "      <td>0.800667</td>\n",
       "    </tr>\n",
       "    <tr>\n",
       "      <th>50%</th>\n",
       "      <td>16 days 16:00:00</td>\n",
       "      <td>192.948530</td>\n",
       "      <td>13.890591</td>\n",
       "      <td>10.227276</td>\n",
       "      <td>0.468759</td>\n",
       "      <td>0.817200</td>\n",
       "    </tr>\n",
       "    <tr>\n",
       "      <th>75%</th>\n",
       "      <td>23 days 08:30:00</td>\n",
       "      <td>201.968467</td>\n",
       "      <td>14.211561</td>\n",
       "      <td>10.604569</td>\n",
       "      <td>0.491588</td>\n",
       "      <td>0.826133</td>\n",
       "    </tr>\n",
       "    <tr>\n",
       "      <th>max</th>\n",
       "      <td>30 days 00:00:00</td>\n",
       "      <td>230.489878</td>\n",
       "      <td>15.181893</td>\n",
       "      <td>11.279796</td>\n",
       "      <td>0.527447</td>\n",
       "      <td>0.846933</td>\n",
       "    </tr>\n",
       "  </tbody>\n",
       "</table>\n",
       "</div>"
      ],
      "text/plain": [
       "                       horizon         mse        rmse         mae  \\\n",
       "count                      563  563.000000  563.000000  563.000000   \n",
       "mean   16 days 15:14:36.021314  189.838300   13.764857   10.251183   \n",
       "std     7 days 17:39:04.368512   16.638105    0.606352    0.411707   \n",
       "min            3 days 06:00:00  157.151689   12.536016    9.278180   \n",
       "25%            9 days 22:30:00  177.114447   13.308435    9.915165   \n",
       "50%           16 days 16:00:00  192.948530   13.890591   10.227276   \n",
       "75%           23 days 08:30:00  201.968467   14.211561   10.604569   \n",
       "max           30 days 00:00:00  230.489878   15.181893   11.279796   \n",
       "\n",
       "            mdape    coverage  \n",
       "count  563.000000  563.000000  \n",
       "mean     0.470435    0.813754  \n",
       "std      0.026100    0.017412  \n",
       "min      0.423678    0.773200  \n",
       "25%      0.445762    0.800667  \n",
       "50%      0.468759    0.817200  \n",
       "75%      0.491588    0.826133  \n",
       "max      0.527447    0.846933  "
      ]
     },
     "execution_count": 53,
     "metadata": {},
     "output_type": "execute_result"
    }
   ],
   "source": [
    "# Viewing statistics on the models\n",
    "df_p.describe()"
   ]
  },
  {
   "cell_type": "code",
   "execution_count": 54,
   "metadata": {},
   "outputs": [
    {
     "data": {
      "image/png": "[encoded data removed]",
      "text/plain": [
       "<Figure size 720x432 with 1 Axes>"
      ]
     },
     "metadata": {},
     "output_type": "display_data"
    }
   ],
   "source": [
    "# plot showing the RMSE for the 30 day predictions\n",
    "fig = plot_cross_validation_metric(df_cv, metric='rmse')"
   ]
  }
 ],
 "metadata": {
  "kernelspec": {
   "display_name": "Python 3",
   "language": "python",
   "name": "python3"
  },
  "language_info": {
   "codemirror_mode": {
    "name": "ipython",
    "version": 3
   },
   "file_extension": ".py",
   "mimetype": "text/x-python",
   "name": "python",
   "nbconvert_exporter": "python",
   "pygments_lexer": "ipython3",
   "version": "3.7.6"
  }
 },
 "nbformat": 4,
 "nbformat_minor": 4
}
