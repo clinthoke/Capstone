{
 "cells": [
  {
   "cell_type": "code",
   "execution_count": 1,
   "metadata": {},
   "outputs": [],
   "source": [
    "import pandas as pd\n",
    "import seaborn as sns\n",
    "import numpy as np\n",
    "import matplotlib.pyplot as plt\n",
    "from math import sqrt\n",
    "from datetime import date\n",
    "from sklearn.preprocessing import StandardScaler\n",
    "from sklearn.model_selection import train_test_split, cross_val_score\n",
    "from sklearn.ensemble import RandomForestRegressor, AdaBoostRegressor, BaggingRegressor\n",
    "from sklearn.linear_model import LinearRegression, LogisticRegression\n",
    "from sklearn.neighbors import KNeighborsRegressor\n",
    "from sklearn.tree import DecisionTreeRegressor\n",
    "from sklearn.metrics import mean_squared_error\n",
    "from sklearn import svm\n",
    "from xgboost import XGBClassifier\n",
    "from fbprophet import Prophet\n",
    "from fbprophet.diagnostics import cross_validation, performance_metrics\n",
    "from fbprophet.plot import plot_cross_validation_metric\n",
    "from fbprophet.plot import plot_plotly\n",
    "import plotly.offline as py"
   ]
  },
  {
   "cell_type": "code",
   "execution_count": 2,
   "metadata": {},
   "outputs": [
    {
     "name": "stdout",
     "output_type": "stream",
     "text": [
      "<class 'pandas.core.frame.DataFrame'>\n",
      "RangeIndex: 31039 entries, 0 to 31038\n",
      "Data columns (total 3 columns):\n",
      " #   Column           Non-Null Count  Dtype \n",
      "---  ------           --------------  ----- \n",
      " 0   datetime         31039 non-null  object\n",
      " 1   spaceship_earth  31039 non-null  object\n",
      " 2   soarin           31039 non-null  object\n",
      "dtypes: object(3)\n",
      "memory usage: 727.6+ KB\n"
     ]
    }
   ],
   "source": [
    "# Import Magic Kingdom attractions\n",
    "mka = pd.read_csv(\"../attractions/attractions_e.csv\")\n",
    "mka.info()"
   ]
  },
  {
   "cell_type": "code",
   "execution_count": 3,
   "metadata": {},
   "outputs": [
    {
     "data": {
      "text/html": [
       "<div>\n",
       "<style scoped>\n",
       "    .dataframe tbody tr th:only-of-type {\n",
       "        vertical-align: middle;\n",
       "    }\n",
       "\n",
       "    .dataframe tbody tr th {\n",
       "        vertical-align: top;\n",
       "    }\n",
       "\n",
       "    .dataframe thead th {\n",
       "        text-align: right;\n",
       "    }\n",
       "</style>\n",
       "<table border=\"1\" class=\"dataframe\">\n",
       "  <thead>\n",
       "    <tr style=\"text-align: right;\">\n",
       "      <th></th>\n",
       "      <th>datetime</th>\n",
       "      <th>spaceship_earth</th>\n",
       "      <th>soarin</th>\n",
       "    </tr>\n",
       "  </thead>\n",
       "  <tbody>\n",
       "    <tr>\n",
       "      <th>0</th>\n",
       "      <td>2015-01-01 07:00:00</td>\n",
       "      <td>5.0</td>\n",
       "      <td>10.0</td>\n",
       "    </tr>\n",
       "    <tr>\n",
       "      <th>1</th>\n",
       "      <td>2015-01-01 08:00:00</td>\n",
       "      <td>5.0</td>\n",
       "      <td>31.0</td>\n",
       "    </tr>\n",
       "  </tbody>\n",
       "</table>\n",
       "</div>"
      ],
      "text/plain": [
       "              datetime spaceship_earth soarin\n",
       "0  2015-01-01 07:00:00             5.0   10.0\n",
       "1  2015-01-01 08:00:00             5.0   31.0"
      ]
     },
     "execution_count": 3,
     "metadata": {},
     "output_type": "execute_result"
    }
   ],
   "source": [
    "mka = mka[mka[\"datetime\"] != '2019-12-31 01:00:00']\n",
    "mka = mka[mka[\"datetime\"] != '2019-12-31 00:00:00']\n",
    "mka.head(2)"
   ]
  },
  {
   "cell_type": "code",
   "execution_count": 4,
   "metadata": {},
   "outputs": [
    {
     "name": "stdout",
     "output_type": "stream",
     "text": [
      "<class 'pandas.core.frame.DataFrame'>\n",
      "Int64Index: 31037 entries, 0 to 31038\n",
      "Data columns (total 4 columns):\n",
      " #   Column           Non-Null Count  Dtype         \n",
      "---  ------           --------------  -----         \n",
      " 0   datetime         31037 non-null  object        \n",
      " 1   spaceship_earth  31037 non-null  object        \n",
      " 2   soarin           31037 non-null  object        \n",
      " 3   DATE             31037 non-null  datetime64[ns]\n",
      "dtypes: datetime64[ns](1), object(3)\n",
      "memory usage: 1.2+ MB\n",
      "None\n"
     ]
    },
    {
     "data": {
      "text/html": [
       "<div>\n",
       "<style scoped>\n",
       "    .dataframe tbody tr th:only-of-type {\n",
       "        vertical-align: middle;\n",
       "    }\n",
       "\n",
       "    .dataframe tbody tr th {\n",
       "        vertical-align: top;\n",
       "    }\n",
       "\n",
       "    .dataframe thead th {\n",
       "        text-align: right;\n",
       "    }\n",
       "</style>\n",
       "<table border=\"1\" class=\"dataframe\">\n",
       "  <thead>\n",
       "    <tr style=\"text-align: right;\">\n",
       "      <th></th>\n",
       "      <th>datetime</th>\n",
       "      <th>spaceship_earth</th>\n",
       "      <th>soarin</th>\n",
       "      <th>DATE</th>\n",
       "    </tr>\n",
       "  </thead>\n",
       "  <tbody>\n",
       "    <tr>\n",
       "      <th>0</th>\n",
       "      <td>2015-01-01 07:00:00</td>\n",
       "      <td>5.0</td>\n",
       "      <td>10.0</td>\n",
       "      <td>2015-01-01</td>\n",
       "    </tr>\n",
       "    <tr>\n",
       "      <th>1</th>\n",
       "      <td>2015-01-01 08:00:00</td>\n",
       "      <td>5.0</td>\n",
       "      <td>31.0</td>\n",
       "      <td>2015-01-01</td>\n",
       "    </tr>\n",
       "  </tbody>\n",
       "</table>\n",
       "</div>"
      ],
      "text/plain": [
       "              datetime spaceship_earth soarin       DATE\n",
       "0  2015-01-01 07:00:00             5.0   10.0 2015-01-01\n",
       "1  2015-01-01 08:00:00             5.0   31.0 2015-01-01"
      ]
     },
     "execution_count": 4,
     "metadata": {},
     "output_type": "execute_result"
    }
   ],
   "source": [
    "# Added DATE column to mk from the datetime column, using it to concat dataframes\n",
    "mka['DATE'] = pd.to_datetime(mka['datetime']).dt.date\n",
    "mka['DATE'] = pd.to_datetime(mka[\"DATE\"])\n",
    "print(mka.info())\n",
    "mka.head(2)"
   ]
  },
  {
   "cell_type": "code",
   "execution_count": 5,
   "metadata": {},
   "outputs": [
    {
     "data": {
      "text/html": [
       "<div>\n",
       "<style scoped>\n",
       "    .dataframe tbody tr th:only-of-type {\n",
       "        vertical-align: middle;\n",
       "    }\n",
       "\n",
       "    .dataframe tbody tr th {\n",
       "        vertical-align: top;\n",
       "    }\n",
       "\n",
       "    .dataframe thead th {\n",
       "        text-align: right;\n",
       "    }\n",
       "</style>\n",
       "<table border=\"1\" class=\"dataframe\">\n",
       "  <thead>\n",
       "    <tr style=\"text-align: right;\">\n",
       "      <th></th>\n",
       "      <th>DATE</th>\n",
       "      <th>DAYOFWEEK</th>\n",
       "      <th>DAYOFYEAR</th>\n",
       "      <th>WEEKOFYEAR</th>\n",
       "      <th>MONTHOFYEAR</th>\n",
       "      <th>YEAR</th>\n",
       "      <th>HOLIDAYPX</th>\n",
       "      <th>HOLIDAYM</th>\n",
       "      <th>HOLIDAY</th>\n",
       "      <th>WDWevent</th>\n",
       "      <th>...</th>\n",
       "      <th>EPOPENTOM</th>\n",
       "      <th>EPCLOSETOM</th>\n",
       "      <th>EPHOURSTOM</th>\n",
       "      <th>WDWMINTEMP_mean</th>\n",
       "      <th>WEATHER_WDWHIGH</th>\n",
       "      <th>WEATHER_WDWLOW</th>\n",
       "      <th>WEATHER_WDWPRECIP</th>\n",
       "      <th>CapacityLost_MK</th>\n",
       "      <th>CapacityLost_EP</th>\n",
       "      <th>CapacityLostWGT_EP</th>\n",
       "    </tr>\n",
       "  </thead>\n",
       "  <tbody>\n",
       "    <tr>\n",
       "      <th>0</th>\n",
       "      <td>2015-01-01</td>\n",
       "      <td>5</td>\n",
       "      <td>0</td>\n",
       "      <td>0</td>\n",
       "      <td>1</td>\n",
       "      <td>2015</td>\n",
       "      <td>0</td>\n",
       "      <td>5</td>\n",
       "      <td>1</td>\n",
       "      <td>0</td>\n",
       "      <td>...</td>\n",
       "      <td>8:00</td>\n",
       "      <td>21:00</td>\n",
       "      <td>13.0</td>\n",
       "      <td>53.375714</td>\n",
       "      <td>70.3</td>\n",
       "      <td>50.2</td>\n",
       "      <td>0.12</td>\n",
       "      <td>616246</td>\n",
       "      <td>367265</td>\n",
       "      <td>34718635</td>\n",
       "    </tr>\n",
       "    <tr>\n",
       "      <th>1</th>\n",
       "      <td>2015-01-02</td>\n",
       "      <td>6</td>\n",
       "      <td>1</td>\n",
       "      <td>0</td>\n",
       "      <td>1</td>\n",
       "      <td>2015</td>\n",
       "      <td>2</td>\n",
       "      <td>5</td>\n",
       "      <td>0</td>\n",
       "      <td>0</td>\n",
       "      <td>...</td>\n",
       "      <td>9:00</td>\n",
       "      <td>21:00</td>\n",
       "      <td>12.0</td>\n",
       "      <td>53.750714</td>\n",
       "      <td>70.3</td>\n",
       "      <td>50.0</td>\n",
       "      <td>0.12</td>\n",
       "      <td>616246</td>\n",
       "      <td>367265</td>\n",
       "      <td>34718635</td>\n",
       "    </tr>\n",
       "  </tbody>\n",
       "</table>\n",
       "<p>2 rows × 64 columns</p>\n",
       "</div>"
      ],
      "text/plain": [
       "         DATE  DAYOFWEEK  DAYOFYEAR  WEEKOFYEAR  MONTHOFYEAR  YEAR  HOLIDAYPX  \\\n",
       "0  2015-01-01          5          0           0            1  2015          0   \n",
       "1  2015-01-02          6          1           0            1  2015          2   \n",
       "\n",
       "   HOLIDAYM  HOLIDAY  WDWevent  ...  EPOPENTOM EPCLOSETOM  EPHOURSTOM  \\\n",
       "0         5        1         0  ...       8:00      21:00        13.0   \n",
       "1         5        0         0  ...       9:00      21:00        12.0   \n",
       "\n",
       "   WDWMINTEMP_mean  WEATHER_WDWHIGH  WEATHER_WDWLOW WEATHER_WDWPRECIP  \\\n",
       "0        53.375714             70.3            50.2              0.12   \n",
       "1        53.750714             70.3            50.0              0.12   \n",
       "\n",
       "  CapacityLost_MK CapacityLost_EP CapacityLostWGT_EP  \n",
       "0          616246          367265           34718635  \n",
       "1          616246          367265           34718635  \n",
       "\n",
       "[2 rows x 64 columns]"
      ]
     },
     "execution_count": 5,
     "metadata": {},
     "output_type": "execute_result"
    }
   ],
   "source": [
    "# Import Metadata\n",
    "md = pd.read_csv(\"../metadata/e_metadata.csv\")\n",
    "md.head(2)"
   ]
  },
  {
   "cell_type": "code",
   "execution_count": 6,
   "metadata": {},
   "outputs": [
    {
     "data": {
      "text/html": [
       "<div>\n",
       "<style scoped>\n",
       "    .dataframe tbody tr th:only-of-type {\n",
       "        vertical-align: middle;\n",
       "    }\n",
       "\n",
       "    .dataframe tbody tr th {\n",
       "        vertical-align: top;\n",
       "    }\n",
       "\n",
       "    .dataframe thead th {\n",
       "        text-align: right;\n",
       "    }\n",
       "</style>\n",
       "<table border=\"1\" class=\"dataframe\">\n",
       "  <thead>\n",
       "    <tr style=\"text-align: right;\">\n",
       "      <th></th>\n",
       "      <th>DATE</th>\n",
       "      <th>DAYOFWEEK</th>\n",
       "      <th>DAYOFYEAR</th>\n",
       "      <th>WEEKOFYEAR</th>\n",
       "      <th>MONTHOFYEAR</th>\n",
       "      <th>YEAR</th>\n",
       "      <th>HOLIDAYPX</th>\n",
       "      <th>HOLIDAYM</th>\n",
       "      <th>HOLIDAY</th>\n",
       "      <th>WDWevent</th>\n",
       "      <th>...</th>\n",
       "      <th>EPOPENTOM</th>\n",
       "      <th>EPCLOSETOM</th>\n",
       "      <th>EPHOURSTOM</th>\n",
       "      <th>WDWMINTEMP_mean</th>\n",
       "      <th>WEATHER_WDWHIGH</th>\n",
       "      <th>WEATHER_WDWLOW</th>\n",
       "      <th>WEATHER_WDWPRECIP</th>\n",
       "      <th>CapacityLost_MK</th>\n",
       "      <th>CapacityLost_EP</th>\n",
       "      <th>CapacityLostWGT_EP</th>\n",
       "    </tr>\n",
       "  </thead>\n",
       "  <tbody>\n",
       "    <tr>\n",
       "      <th>0</th>\n",
       "      <td>2015-01-01</td>\n",
       "      <td>5</td>\n",
       "      <td>0</td>\n",
       "      <td>0</td>\n",
       "      <td>1</td>\n",
       "      <td>2015</td>\n",
       "      <td>0</td>\n",
       "      <td>5</td>\n",
       "      <td>1</td>\n",
       "      <td>0</td>\n",
       "      <td>...</td>\n",
       "      <td>8:00</td>\n",
       "      <td>21:00</td>\n",
       "      <td>13.0</td>\n",
       "      <td>53.375714</td>\n",
       "      <td>70.3</td>\n",
       "      <td>50.2</td>\n",
       "      <td>0.12</td>\n",
       "      <td>616246</td>\n",
       "      <td>367265</td>\n",
       "      <td>34718635</td>\n",
       "    </tr>\n",
       "    <tr>\n",
       "      <th>1</th>\n",
       "      <td>2015-01-02</td>\n",
       "      <td>6</td>\n",
       "      <td>1</td>\n",
       "      <td>0</td>\n",
       "      <td>1</td>\n",
       "      <td>2015</td>\n",
       "      <td>2</td>\n",
       "      <td>5</td>\n",
       "      <td>0</td>\n",
       "      <td>0</td>\n",
       "      <td>...</td>\n",
       "      <td>9:00</td>\n",
       "      <td>21:00</td>\n",
       "      <td>12.0</td>\n",
       "      <td>53.750714</td>\n",
       "      <td>70.3</td>\n",
       "      <td>50.0</td>\n",
       "      <td>0.12</td>\n",
       "      <td>616246</td>\n",
       "      <td>367265</td>\n",
       "      <td>34718635</td>\n",
       "    </tr>\n",
       "  </tbody>\n",
       "</table>\n",
       "<p>2 rows × 64 columns</p>\n",
       "</div>"
      ],
      "text/plain": [
       "        DATE  DAYOFWEEK  DAYOFYEAR  WEEKOFYEAR  MONTHOFYEAR  YEAR  HOLIDAYPX  \\\n",
       "0 2015-01-01          5          0           0            1  2015          0   \n",
       "1 2015-01-02          6          1           0            1  2015          2   \n",
       "\n",
       "   HOLIDAYM  HOLIDAY  WDWevent  ...  EPOPENTOM EPCLOSETOM  EPHOURSTOM  \\\n",
       "0         5        1         0  ...       8:00      21:00        13.0   \n",
       "1         5        0         0  ...       9:00      21:00        12.0   \n",
       "\n",
       "   WDWMINTEMP_mean  WEATHER_WDWHIGH  WEATHER_WDWLOW WEATHER_WDWPRECIP  \\\n",
       "0        53.375714             70.3            50.2              0.12   \n",
       "1        53.750714             70.3            50.0              0.12   \n",
       "\n",
       "  CapacityLost_MK CapacityLost_EP CapacityLostWGT_EP  \n",
       "0          616246          367265           34718635  \n",
       "1          616246          367265           34718635  \n",
       "\n",
       "[2 rows x 64 columns]"
      ]
     },
     "execution_count": 6,
     "metadata": {},
     "output_type": "execute_result"
    }
   ],
   "source": [
    "# Convert DATE column to datetime\n",
    "md['DATE'] = pd.to_datetime(md[\"DATE\"])\n",
    "md.head(2)"
   ]
  },
  {
   "cell_type": "code",
   "execution_count": 7,
   "metadata": {},
   "outputs": [
    {
     "data": {
      "text/html": [
       "<div>\n",
       "<style scoped>\n",
       "    .dataframe tbody tr th:only-of-type {\n",
       "        vertical-align: middle;\n",
       "    }\n",
       "\n",
       "    .dataframe tbody tr th {\n",
       "        vertical-align: top;\n",
       "    }\n",
       "\n",
       "    .dataframe thead th {\n",
       "        text-align: right;\n",
       "    }\n",
       "</style>\n",
       "<table border=\"1\" class=\"dataframe\">\n",
       "  <thead>\n",
       "    <tr style=\"text-align: right;\">\n",
       "      <th></th>\n",
       "      <th>datetime</th>\n",
       "      <th>spaceship_earth</th>\n",
       "      <th>soarin</th>\n",
       "      <th>DATE</th>\n",
       "      <th>DAYOFWEEK</th>\n",
       "      <th>DAYOFYEAR</th>\n",
       "      <th>WEEKOFYEAR</th>\n",
       "      <th>MONTHOFYEAR</th>\n",
       "      <th>YEAR</th>\n",
       "      <th>HOLIDAYPX</th>\n",
       "      <th>...</th>\n",
       "      <th>EPOPENTOM</th>\n",
       "      <th>EPCLOSETOM</th>\n",
       "      <th>EPHOURSTOM</th>\n",
       "      <th>WDWMINTEMP_mean</th>\n",
       "      <th>WEATHER_WDWHIGH</th>\n",
       "      <th>WEATHER_WDWLOW</th>\n",
       "      <th>WEATHER_WDWPRECIP</th>\n",
       "      <th>CapacityLost_MK</th>\n",
       "      <th>CapacityLost_EP</th>\n",
       "      <th>CapacityLostWGT_EP</th>\n",
       "    </tr>\n",
       "  </thead>\n",
       "  <tbody>\n",
       "    <tr>\n",
       "      <th>0</th>\n",
       "      <td>2015-01-01 07:00:00</td>\n",
       "      <td>5.0</td>\n",
       "      <td>10.0</td>\n",
       "      <td>2015-01-01</td>\n",
       "      <td>5</td>\n",
       "      <td>0</td>\n",
       "      <td>0</td>\n",
       "      <td>1</td>\n",
       "      <td>2015</td>\n",
       "      <td>0</td>\n",
       "      <td>...</td>\n",
       "      <td>8:00</td>\n",
       "      <td>21:00</td>\n",
       "      <td>13.0</td>\n",
       "      <td>53.375714</td>\n",
       "      <td>70.3</td>\n",
       "      <td>50.2</td>\n",
       "      <td>0.12</td>\n",
       "      <td>616246</td>\n",
       "      <td>367265</td>\n",
       "      <td>34718635</td>\n",
       "    </tr>\n",
       "    <tr>\n",
       "      <th>1</th>\n",
       "      <td>2015-01-01 08:00:00</td>\n",
       "      <td>5.0</td>\n",
       "      <td>31.0</td>\n",
       "      <td>2015-01-01</td>\n",
       "      <td>5</td>\n",
       "      <td>0</td>\n",
       "      <td>0</td>\n",
       "      <td>1</td>\n",
       "      <td>2015</td>\n",
       "      <td>0</td>\n",
       "      <td>...</td>\n",
       "      <td>8:00</td>\n",
       "      <td>21:00</td>\n",
       "      <td>13.0</td>\n",
       "      <td>53.375714</td>\n",
       "      <td>70.3</td>\n",
       "      <td>50.2</td>\n",
       "      <td>0.12</td>\n",
       "      <td>616246</td>\n",
       "      <td>367265</td>\n",
       "      <td>34718635</td>\n",
       "    </tr>\n",
       "  </tbody>\n",
       "</table>\n",
       "<p>2 rows × 67 columns</p>\n",
       "</div>"
      ],
      "text/plain": [
       "              datetime spaceship_earth soarin       DATE  DAYOFWEEK  \\\n",
       "0  2015-01-01 07:00:00             5.0   10.0 2015-01-01          5   \n",
       "1  2015-01-01 08:00:00             5.0   31.0 2015-01-01          5   \n",
       "\n",
       "   DAYOFYEAR  WEEKOFYEAR  MONTHOFYEAR  YEAR  HOLIDAYPX  ...  EPOPENTOM  \\\n",
       "0          0           0            1  2015          0  ...       8:00   \n",
       "1          0           0            1  2015          0  ...       8:00   \n",
       "\n",
       "   EPCLOSETOM  EPHOURSTOM  WDWMINTEMP_mean WEATHER_WDWHIGH  WEATHER_WDWLOW  \\\n",
       "0       21:00        13.0        53.375714            70.3            50.2   \n",
       "1       21:00        13.0        53.375714            70.3            50.2   \n",
       "\n",
       "   WEATHER_WDWPRECIP  CapacityLost_MK  CapacityLost_EP CapacityLostWGT_EP  \n",
       "0               0.12           616246           367265           34718635  \n",
       "1               0.12           616246           367265           34718635  \n",
       "\n",
       "[2 rows x 67 columns]"
      ]
     },
     "execution_count": 7,
     "metadata": {},
     "output_type": "execute_result"
    }
   ],
   "source": [
    "# Merge mka and md dataframes\n",
    "mk = pd.merge(mka, md, how='outer', on='DATE')\n",
    "mk.head(2)"
   ]
  },
  {
   "cell_type": "code",
   "execution_count": 8,
   "metadata": {},
   "outputs": [
    {
     "data": {
      "text/html": [
       "<div>\n",
       "<style scoped>\n",
       "    .dataframe tbody tr th:only-of-type {\n",
       "        vertical-align: middle;\n",
       "    }\n",
       "\n",
       "    .dataframe tbody tr th {\n",
       "        vertical-align: top;\n",
       "    }\n",
       "\n",
       "    .dataframe thead th {\n",
       "        text-align: right;\n",
       "    }\n",
       "</style>\n",
       "<table border=\"1\" class=\"dataframe\">\n",
       "  <thead>\n",
       "    <tr style=\"text-align: right;\">\n",
       "      <th></th>\n",
       "      <th>datetime</th>\n",
       "      <th>spaceship_earth</th>\n",
       "      <th>soarin</th>\n",
       "      <th>DAYOFWEEK</th>\n",
       "      <th>DAYOFYEAR</th>\n",
       "      <th>WEEKOFYEAR</th>\n",
       "      <th>MONTHOFYEAR</th>\n",
       "      <th>YEAR</th>\n",
       "      <th>HOLIDAYPX</th>\n",
       "      <th>HOLIDAYM</th>\n",
       "      <th>...</th>\n",
       "      <th>EPOPENTOM</th>\n",
       "      <th>EPCLOSETOM</th>\n",
       "      <th>EPHOURSTOM</th>\n",
       "      <th>WDWMINTEMP_mean</th>\n",
       "      <th>WEATHER_WDWHIGH</th>\n",
       "      <th>WEATHER_WDWLOW</th>\n",
       "      <th>WEATHER_WDWPRECIP</th>\n",
       "      <th>CapacityLost_MK</th>\n",
       "      <th>CapacityLost_EP</th>\n",
       "      <th>CapacityLostWGT_EP</th>\n",
       "    </tr>\n",
       "  </thead>\n",
       "  <tbody>\n",
       "    <tr>\n",
       "      <th>0</th>\n",
       "      <td>2015-01-01 07:00:00</td>\n",
       "      <td>5.0</td>\n",
       "      <td>10.0</td>\n",
       "      <td>5</td>\n",
       "      <td>0</td>\n",
       "      <td>0</td>\n",
       "      <td>1</td>\n",
       "      <td>2015</td>\n",
       "      <td>0</td>\n",
       "      <td>5</td>\n",
       "      <td>...</td>\n",
       "      <td>8:00</td>\n",
       "      <td>21:00</td>\n",
       "      <td>13.0</td>\n",
       "      <td>53.375714</td>\n",
       "      <td>70.3</td>\n",
       "      <td>50.2</td>\n",
       "      <td>0.12</td>\n",
       "      <td>616246</td>\n",
       "      <td>367265</td>\n",
       "      <td>34718635</td>\n",
       "    </tr>\n",
       "    <tr>\n",
       "      <th>1</th>\n",
       "      <td>2015-01-01 08:00:00</td>\n",
       "      <td>5.0</td>\n",
       "      <td>31.0</td>\n",
       "      <td>5</td>\n",
       "      <td>0</td>\n",
       "      <td>0</td>\n",
       "      <td>1</td>\n",
       "      <td>2015</td>\n",
       "      <td>0</td>\n",
       "      <td>5</td>\n",
       "      <td>...</td>\n",
       "      <td>8:00</td>\n",
       "      <td>21:00</td>\n",
       "      <td>13.0</td>\n",
       "      <td>53.375714</td>\n",
       "      <td>70.3</td>\n",
       "      <td>50.2</td>\n",
       "      <td>0.12</td>\n",
       "      <td>616246</td>\n",
       "      <td>367265</td>\n",
       "      <td>34718635</td>\n",
       "    </tr>\n",
       "  </tbody>\n",
       "</table>\n",
       "<p>2 rows × 66 columns</p>\n",
       "</div>"
      ],
      "text/plain": [
       "             datetime spaceship_earth soarin  DAYOFWEEK  DAYOFYEAR  \\\n",
       "0 2015-01-01 07:00:00             5.0   10.0          5          0   \n",
       "1 2015-01-01 08:00:00             5.0   31.0          5          0   \n",
       "\n",
       "   WEEKOFYEAR  MONTHOFYEAR  YEAR  HOLIDAYPX  HOLIDAYM  ...  EPOPENTOM  \\\n",
       "0           0            1  2015          0         5  ...       8:00   \n",
       "1           0            1  2015          0         5  ...       8:00   \n",
       "\n",
       "   EPCLOSETOM  EPHOURSTOM WDWMINTEMP_mean  WEATHER_WDWHIGH  WEATHER_WDWLOW  \\\n",
       "0       21:00        13.0       53.375714             70.3            50.2   \n",
       "1       21:00        13.0       53.375714             70.3            50.2   \n",
       "\n",
       "   WEATHER_WDWPRECIP  CapacityLost_MK CapacityLost_EP CapacityLostWGT_EP  \n",
       "0               0.12           616246          367265           34718635  \n",
       "1               0.12           616246          367265           34718635  \n",
       "\n",
       "[2 rows x 66 columns]"
      ]
     },
     "execution_count": 8,
     "metadata": {},
     "output_type": "execute_result"
    }
   ],
   "source": [
    "# Dropped hours when park is closed\n",
    "mk['datetime'] = pd.to_datetime(mk[\"datetime\"])\n",
    "mk[mk['datetime'].dt.hour >= 7]\n",
    "# Dropped unneeded Date column\n",
    "mk.drop('DATE', axis = 1,  inplace = True)\n",
    "mk.head(2)"
   ]
  },
  {
   "cell_type": "code",
   "execution_count": 9,
   "metadata": {},
   "outputs": [],
   "source": [
    "# Changing the columns form time to\n",
    "for col in ['EPOPEN', 'EPCLOSE',  'EPEMHOPEN', 'EPEMHCLOSE',\n",
    "       'EPOPENYEST', 'EPCLOSEYEST', 'EPOPENTOM',\n",
    "       'EPCLOSETOM','SUNSET_WDW']:\n",
    "    mk[col] = mk[col].str.replace(\":\",\"\")\n",
    "    mk[col] = mk[col].astype(int)"
   ]
  },
  {
   "cell_type": "code",
   "execution_count": 10,
   "metadata": {},
   "outputs": [],
   "source": [
    "# Converting the percent strings to floats\n",
    "for col in ['inSession', 'inSession_Enrollment', 'inSession_wdw',\n",
    "       'inSession_sqrt_WDW', 'inSession_DC', 'inSession_Central_FL',\n",
    "       'inSession_Drive1_FL', 'inSession_Drive2_FL',\n",
    "       'inSession_Florida', 'inSession_Mardi_Gras', 'inSession_Midwest',\n",
    "       'inSession_NY_NJ', 'inSession_NY_NJ_PA', 'inSession_New_England',\n",
    "       'inSession_New_Jersey', 'inSession_Nothwest', 'INSESSION_PLANES',\n",
    "       'inSession_SoCal', 'inSession_Southwest']:\n",
    "    mk[col] = mk[col].str.replace(r'%', r'').astype('float')/-100"
   ]
  },
  {
   "cell_type": "code",
   "execution_count": 11,
   "metadata": {},
   "outputs": [
    {
     "data": {
      "text/html": [
       "<div>\n",
       "<style scoped>\n",
       "    .dataframe tbody tr th:only-of-type {\n",
       "        vertical-align: middle;\n",
       "    }\n",
       "\n",
       "    .dataframe tbody tr th {\n",
       "        vertical-align: top;\n",
       "    }\n",
       "\n",
       "    .dataframe thead th {\n",
       "        text-align: right;\n",
       "    }\n",
       "</style>\n",
       "<table border=\"1\" class=\"dataframe\">\n",
       "  <thead>\n",
       "    <tr style=\"text-align: right;\">\n",
       "      <th></th>\n",
       "      <th>datetime</th>\n",
       "      <th>spaceship_earth</th>\n",
       "      <th>soarin</th>\n",
       "      <th>DAYOFWEEK</th>\n",
       "      <th>DAYOFYEAR</th>\n",
       "      <th>WEEKOFYEAR</th>\n",
       "      <th>MONTHOFYEAR</th>\n",
       "      <th>YEAR</th>\n",
       "      <th>HOLIDAYPX</th>\n",
       "      <th>HOLIDAYM</th>\n",
       "      <th>...</th>\n",
       "      <th>EPOPENTOM</th>\n",
       "      <th>EPCLOSETOM</th>\n",
       "      <th>EPHOURSTOM</th>\n",
       "      <th>WDWMINTEMP_mean</th>\n",
       "      <th>WEATHER_WDWHIGH</th>\n",
       "      <th>WEATHER_WDWLOW</th>\n",
       "      <th>WEATHER_WDWPRECIP</th>\n",
       "      <th>CapacityLost_MK</th>\n",
       "      <th>CapacityLost_EP</th>\n",
       "      <th>CapacityLostWGT_EP</th>\n",
       "    </tr>\n",
       "  </thead>\n",
       "  <tbody>\n",
       "    <tr>\n",
       "      <th>0</th>\n",
       "      <td>2015-01-01 07:00:00</td>\n",
       "      <td>5.0</td>\n",
       "      <td>10.0</td>\n",
       "      <td>5</td>\n",
       "      <td>0</td>\n",
       "      <td>0</td>\n",
       "      <td>1</td>\n",
       "      <td>2015</td>\n",
       "      <td>0</td>\n",
       "      <td>5</td>\n",
       "      <td>...</td>\n",
       "      <td>800</td>\n",
       "      <td>2100</td>\n",
       "      <td>13.0</td>\n",
       "      <td>53.375714</td>\n",
       "      <td>70.3</td>\n",
       "      <td>50.2</td>\n",
       "      <td>0.12</td>\n",
       "      <td>616246</td>\n",
       "      <td>367265</td>\n",
       "      <td>34718635</td>\n",
       "    </tr>\n",
       "    <tr>\n",
       "      <th>1</th>\n",
       "      <td>2015-01-01 08:00:00</td>\n",
       "      <td>5.0</td>\n",
       "      <td>31.0</td>\n",
       "      <td>5</td>\n",
       "      <td>0</td>\n",
       "      <td>0</td>\n",
       "      <td>1</td>\n",
       "      <td>2015</td>\n",
       "      <td>0</td>\n",
       "      <td>5</td>\n",
       "      <td>...</td>\n",
       "      <td>800</td>\n",
       "      <td>2100</td>\n",
       "      <td>13.0</td>\n",
       "      <td>53.375714</td>\n",
       "      <td>70.3</td>\n",
       "      <td>50.2</td>\n",
       "      <td>0.12</td>\n",
       "      <td>616246</td>\n",
       "      <td>367265</td>\n",
       "      <td>34718635</td>\n",
       "    </tr>\n",
       "    <tr>\n",
       "      <th>2</th>\n",
       "      <td>2015-01-01 09:00:00</td>\n",
       "      <td>8.0</td>\n",
       "      <td>57.0</td>\n",
       "      <td>5</td>\n",
       "      <td>0</td>\n",
       "      <td>0</td>\n",
       "      <td>1</td>\n",
       "      <td>2015</td>\n",
       "      <td>0</td>\n",
       "      <td>5</td>\n",
       "      <td>...</td>\n",
       "      <td>800</td>\n",
       "      <td>2100</td>\n",
       "      <td>13.0</td>\n",
       "      <td>53.375714</td>\n",
       "      <td>70.3</td>\n",
       "      <td>50.2</td>\n",
       "      <td>0.12</td>\n",
       "      <td>616246</td>\n",
       "      <td>367265</td>\n",
       "      <td>34718635</td>\n",
       "    </tr>\n",
       "    <tr>\n",
       "      <th>3</th>\n",
       "      <td>2015-01-01 10:00:00</td>\n",
       "      <td>32.0</td>\n",
       "      <td>101.0</td>\n",
       "      <td>5</td>\n",
       "      <td>0</td>\n",
       "      <td>0</td>\n",
       "      <td>1</td>\n",
       "      <td>2015</td>\n",
       "      <td>0</td>\n",
       "      <td>5</td>\n",
       "      <td>...</td>\n",
       "      <td>800</td>\n",
       "      <td>2100</td>\n",
       "      <td>13.0</td>\n",
       "      <td>53.375714</td>\n",
       "      <td>70.3</td>\n",
       "      <td>50.2</td>\n",
       "      <td>0.12</td>\n",
       "      <td>616246</td>\n",
       "      <td>367265</td>\n",
       "      <td>34718635</td>\n",
       "    </tr>\n",
       "    <tr>\n",
       "      <th>4</th>\n",
       "      <td>2015-01-01 11:00:00</td>\n",
       "      <td>0.0</td>\n",
       "      <td>111.0</td>\n",
       "      <td>5</td>\n",
       "      <td>0</td>\n",
       "      <td>0</td>\n",
       "      <td>1</td>\n",
       "      <td>2015</td>\n",
       "      <td>0</td>\n",
       "      <td>5</td>\n",
       "      <td>...</td>\n",
       "      <td>800</td>\n",
       "      <td>2100</td>\n",
       "      <td>13.0</td>\n",
       "      <td>53.375714</td>\n",
       "      <td>70.3</td>\n",
       "      <td>50.2</td>\n",
       "      <td>0.12</td>\n",
       "      <td>616246</td>\n",
       "      <td>367265</td>\n",
       "      <td>34718635</td>\n",
       "    </tr>\n",
       "  </tbody>\n",
       "</table>\n",
       "<p>5 rows × 66 columns</p>\n",
       "</div>"
      ],
      "text/plain": [
       "             datetime  spaceship_earth  soarin  DAYOFWEEK  DAYOFYEAR  \\\n",
       "0 2015-01-01 07:00:00              5.0    10.0          5          0   \n",
       "1 2015-01-01 08:00:00              5.0    31.0          5          0   \n",
       "2 2015-01-01 09:00:00              8.0    57.0          5          0   \n",
       "3 2015-01-01 10:00:00             32.0   101.0          5          0   \n",
       "4 2015-01-01 11:00:00              0.0   111.0          5          0   \n",
       "\n",
       "   WEEKOFYEAR  MONTHOFYEAR  YEAR  HOLIDAYPX  HOLIDAYM  ...  EPOPENTOM  \\\n",
       "0           0            1  2015          0         5  ...        800   \n",
       "1           0            1  2015          0         5  ...        800   \n",
       "2           0            1  2015          0         5  ...        800   \n",
       "3           0            1  2015          0         5  ...        800   \n",
       "4           0            1  2015          0         5  ...        800   \n",
       "\n",
       "   EPCLOSETOM  EPHOURSTOM WDWMINTEMP_mean  WEATHER_WDWHIGH  WEATHER_WDWLOW  \\\n",
       "0        2100        13.0       53.375714             70.3            50.2   \n",
       "1        2100        13.0       53.375714             70.3            50.2   \n",
       "2        2100        13.0       53.375714             70.3            50.2   \n",
       "3        2100        13.0       53.375714             70.3            50.2   \n",
       "4        2100        13.0       53.375714             70.3            50.2   \n",
       "\n",
       "   WEATHER_WDWPRECIP  CapacityLost_MK  CapacityLost_EP  CapacityLostWGT_EP  \n",
       "0               0.12           616246           367265            34718635  \n",
       "1               0.12           616246           367265            34718635  \n",
       "2               0.12           616246           367265            34718635  \n",
       "3               0.12           616246           367265            34718635  \n",
       "4               0.12           616246           367265            34718635  \n",
       "\n",
       "[5 rows x 66 columns]"
      ]
     },
     "execution_count": 11,
     "metadata": {},
     "output_type": "execute_result"
    }
   ],
   "source": [
    "# Changed the values to floats\n",
    "for col in ['soarin', \"spaceship_earth\"]:\n",
    "    mk[col] = pd.to_numeric(mk[col],errors='coerce')\n",
    "mk.fillna(0, inplace=True)\n",
    "mk.head()"
   ]
  },
  {
   "cell_type": "code",
   "execution_count": 12,
   "metadata": {},
   "outputs": [],
   "source": [
    "# Dummified the WDWSEASON column\n",
    "mk = pd.get_dummies(mk,columns = ['WDWSEASON'])"
   ]
  },
  {
   "cell_type": "code",
   "execution_count": 13,
   "metadata": {},
   "outputs": [
    {
     "data": {
      "text/html": [
       "<div>\n",
       "<style scoped>\n",
       "    .dataframe tbody tr th:only-of-type {\n",
       "        vertical-align: middle;\n",
       "    }\n",
       "\n",
       "    .dataframe tbody tr th {\n",
       "        vertical-align: top;\n",
       "    }\n",
       "\n",
       "    .dataframe thead th {\n",
       "        text-align: right;\n",
       "    }\n",
       "</style>\n",
       "<table border=\"1\" class=\"dataframe\">\n",
       "  <thead>\n",
       "    <tr style=\"text-align: right;\">\n",
       "      <th></th>\n",
       "      <th>datetime</th>\n",
       "      <th>spaceship_earth</th>\n",
       "      <th>soarin</th>\n",
       "      <th>DAYOFWEEK</th>\n",
       "      <th>DAYOFYEAR</th>\n",
       "      <th>WEEKOFYEAR</th>\n",
       "      <th>MONTHOFYEAR</th>\n",
       "      <th>YEAR</th>\n",
       "      <th>HOLIDAYPX</th>\n",
       "      <th>HOLIDAYM</th>\n",
       "      <th>...</th>\n",
       "      <th>WDWSEASON_MARDI GRAS</th>\n",
       "      <th>WDWSEASON_MARTIN LUTHER KING JUNIOR DAY</th>\n",
       "      <th>WDWSEASON_MEMORIAL DAY</th>\n",
       "      <th>WDWSEASON_PRESIDENTS WEEK</th>\n",
       "      <th>WDWSEASON_SEPTEMBER LOW</th>\n",
       "      <th>WDWSEASON_SPRING</th>\n",
       "      <th>WDWSEASON_SUMMER BREAK</th>\n",
       "      <th>WDWSEASON_THANKSGIVING</th>\n",
       "      <th>WDWSEASON_WINTER</th>\n",
       "      <th>hour</th>\n",
       "    </tr>\n",
       "  </thead>\n",
       "  <tbody>\n",
       "    <tr>\n",
       "      <th>0</th>\n",
       "      <td>2015-01-01 07:00:00</td>\n",
       "      <td>5.0</td>\n",
       "      <td>10.0</td>\n",
       "      <td>5</td>\n",
       "      <td>0</td>\n",
       "      <td>0</td>\n",
       "      <td>1</td>\n",
       "      <td>2015</td>\n",
       "      <td>0</td>\n",
       "      <td>5</td>\n",
       "      <td>...</td>\n",
       "      <td>0</td>\n",
       "      <td>0</td>\n",
       "      <td>0</td>\n",
       "      <td>0</td>\n",
       "      <td>0</td>\n",
       "      <td>0</td>\n",
       "      <td>0</td>\n",
       "      <td>0</td>\n",
       "      <td>0</td>\n",
       "      <td>7</td>\n",
       "    </tr>\n",
       "    <tr>\n",
       "      <th>1</th>\n",
       "      <td>2015-01-01 08:00:00</td>\n",
       "      <td>5.0</td>\n",
       "      <td>31.0</td>\n",
       "      <td>5</td>\n",
       "      <td>0</td>\n",
       "      <td>0</td>\n",
       "      <td>1</td>\n",
       "      <td>2015</td>\n",
       "      <td>0</td>\n",
       "      <td>5</td>\n",
       "      <td>...</td>\n",
       "      <td>0</td>\n",
       "      <td>0</td>\n",
       "      <td>0</td>\n",
       "      <td>0</td>\n",
       "      <td>0</td>\n",
       "      <td>0</td>\n",
       "      <td>0</td>\n",
       "      <td>0</td>\n",
       "      <td>0</td>\n",
       "      <td>8</td>\n",
       "    </tr>\n",
       "  </tbody>\n",
       "</table>\n",
       "<p>2 rows × 83 columns</p>\n",
       "</div>"
      ],
      "text/plain": [
       "             datetime  spaceship_earth  soarin  DAYOFWEEK  DAYOFYEAR  \\\n",
       "0 2015-01-01 07:00:00              5.0    10.0          5          0   \n",
       "1 2015-01-01 08:00:00              5.0    31.0          5          0   \n",
       "\n",
       "   WEEKOFYEAR  MONTHOFYEAR  YEAR  HOLIDAYPX  HOLIDAYM  ...  \\\n",
       "0           0            1  2015          0         5  ...   \n",
       "1           0            1  2015          0         5  ...   \n",
       "\n",
       "   WDWSEASON_MARDI GRAS  WDWSEASON_MARTIN LUTHER KING JUNIOR DAY  \\\n",
       "0                     0                                        0   \n",
       "1                     0                                        0   \n",
       "\n",
       "   WDWSEASON_MEMORIAL DAY  WDWSEASON_PRESIDENTS WEEK  WDWSEASON_SEPTEMBER LOW  \\\n",
       "0                       0                          0                        0   \n",
       "1                       0                          0                        0   \n",
       "\n",
       "   WDWSEASON_SPRING  WDWSEASON_SUMMER BREAK  WDWSEASON_THANKSGIVING  \\\n",
       "0                 0                       0                       0   \n",
       "1                 0                       0                       0   \n",
       "\n",
       "   WDWSEASON_WINTER  hour  \n",
       "0                 0     7  \n",
       "1                 0     8  \n",
       "\n",
       "[2 rows x 83 columns]"
      ]
     },
     "execution_count": 13,
     "metadata": {},
     "output_type": "execute_result"
    }
   ],
   "source": [
    "# Created new column for hour as a feature\n",
    "mk['hour'] = mk.datetime.dt.hour\n",
    "mk.fillna(0, inplace=True)\n",
    "mk.head(2)"
   ]
  },
  {
   "cell_type": "code",
   "execution_count": 14,
   "metadata": {},
   "outputs": [
    {
     "data": {
      "text/html": [
       "<div>\n",
       "<style scoped>\n",
       "    .dataframe tbody tr th:only-of-type {\n",
       "        vertical-align: middle;\n",
       "    }\n",
       "\n",
       "    .dataframe tbody tr th {\n",
       "        vertical-align: top;\n",
       "    }\n",
       "\n",
       "    .dataframe thead th {\n",
       "        text-align: right;\n",
       "    }\n",
       "</style>\n",
       "<table border=\"1\" class=\"dataframe\">\n",
       "  <thead>\n",
       "    <tr style=\"text-align: right;\">\n",
       "      <th></th>\n",
       "      <th>spaceship_earth</th>\n",
       "      <th>soarin</th>\n",
       "      <th>DAYOFWEEK</th>\n",
       "      <th>DAYOFYEAR</th>\n",
       "      <th>WEEKOFYEAR</th>\n",
       "      <th>MONTHOFYEAR</th>\n",
       "      <th>YEAR</th>\n",
       "      <th>HOLIDAYPX</th>\n",
       "      <th>HOLIDAYM</th>\n",
       "      <th>HOLIDAY</th>\n",
       "      <th>...</th>\n",
       "      <th>WDWSEASON_MARDI GRAS</th>\n",
       "      <th>WDWSEASON_MARTIN LUTHER KING JUNIOR DAY</th>\n",
       "      <th>WDWSEASON_MEMORIAL DAY</th>\n",
       "      <th>WDWSEASON_PRESIDENTS WEEK</th>\n",
       "      <th>WDWSEASON_SEPTEMBER LOW</th>\n",
       "      <th>WDWSEASON_SPRING</th>\n",
       "      <th>WDWSEASON_SUMMER BREAK</th>\n",
       "      <th>WDWSEASON_THANKSGIVING</th>\n",
       "      <th>WDWSEASON_WINTER</th>\n",
       "      <th>hour</th>\n",
       "    </tr>\n",
       "    <tr>\n",
       "      <th>datetime</th>\n",
       "      <th></th>\n",
       "      <th></th>\n",
       "      <th></th>\n",
       "      <th></th>\n",
       "      <th></th>\n",
       "      <th></th>\n",
       "      <th></th>\n",
       "      <th></th>\n",
       "      <th></th>\n",
       "      <th></th>\n",
       "      <th></th>\n",
       "      <th></th>\n",
       "      <th></th>\n",
       "      <th></th>\n",
       "      <th></th>\n",
       "      <th></th>\n",
       "      <th></th>\n",
       "      <th></th>\n",
       "      <th></th>\n",
       "      <th></th>\n",
       "      <th></th>\n",
       "    </tr>\n",
       "  </thead>\n",
       "  <tbody>\n",
       "    <tr>\n",
       "      <th>2015-01-01 07:00:00</th>\n",
       "      <td>5.0</td>\n",
       "      <td>10.0</td>\n",
       "      <td>5</td>\n",
       "      <td>0</td>\n",
       "      <td>0</td>\n",
       "      <td>1</td>\n",
       "      <td>2015</td>\n",
       "      <td>0</td>\n",
       "      <td>5</td>\n",
       "      <td>1</td>\n",
       "      <td>...</td>\n",
       "      <td>0</td>\n",
       "      <td>0</td>\n",
       "      <td>0</td>\n",
       "      <td>0</td>\n",
       "      <td>0</td>\n",
       "      <td>0</td>\n",
       "      <td>0</td>\n",
       "      <td>0</td>\n",
       "      <td>0</td>\n",
       "      <td>7</td>\n",
       "    </tr>\n",
       "    <tr>\n",
       "      <th>2015-01-01 08:00:00</th>\n",
       "      <td>5.0</td>\n",
       "      <td>31.0</td>\n",
       "      <td>5</td>\n",
       "      <td>0</td>\n",
       "      <td>0</td>\n",
       "      <td>1</td>\n",
       "      <td>2015</td>\n",
       "      <td>0</td>\n",
       "      <td>5</td>\n",
       "      <td>1</td>\n",
       "      <td>...</td>\n",
       "      <td>0</td>\n",
       "      <td>0</td>\n",
       "      <td>0</td>\n",
       "      <td>0</td>\n",
       "      <td>0</td>\n",
       "      <td>0</td>\n",
       "      <td>0</td>\n",
       "      <td>0</td>\n",
       "      <td>0</td>\n",
       "      <td>8</td>\n",
       "    </tr>\n",
       "  </tbody>\n",
       "</table>\n",
       "<p>2 rows × 82 columns</p>\n",
       "</div>"
      ],
      "text/plain": [
       "                     spaceship_earth  soarin  DAYOFWEEK  DAYOFYEAR  \\\n",
       "datetime                                                             \n",
       "2015-01-01 07:00:00              5.0    10.0          5          0   \n",
       "2015-01-01 08:00:00              5.0    31.0          5          0   \n",
       "\n",
       "                     WEEKOFYEAR  MONTHOFYEAR  YEAR  HOLIDAYPX  HOLIDAYM  \\\n",
       "datetime                                                                  \n",
       "2015-01-01 07:00:00           0            1  2015          0         5   \n",
       "2015-01-01 08:00:00           0            1  2015          0         5   \n",
       "\n",
       "                     HOLIDAY  ...  WDWSEASON_MARDI GRAS  \\\n",
       "datetime                      ...                         \n",
       "2015-01-01 07:00:00        1  ...                     0   \n",
       "2015-01-01 08:00:00        1  ...                     0   \n",
       "\n",
       "                     WDWSEASON_MARTIN LUTHER KING JUNIOR DAY  \\\n",
       "datetime                                                       \n",
       "2015-01-01 07:00:00                                        0   \n",
       "2015-01-01 08:00:00                                        0   \n",
       "\n",
       "                     WDWSEASON_MEMORIAL DAY  WDWSEASON_PRESIDENTS WEEK  \\\n",
       "datetime                                                                 \n",
       "2015-01-01 07:00:00                       0                          0   \n",
       "2015-01-01 08:00:00                       0                          0   \n",
       "\n",
       "                     WDWSEASON_SEPTEMBER LOW  WDWSEASON_SPRING  \\\n",
       "datetime                                                         \n",
       "2015-01-01 07:00:00                        0                 0   \n",
       "2015-01-01 08:00:00                        0                 0   \n",
       "\n",
       "                     WDWSEASON_SUMMER BREAK  WDWSEASON_THANKSGIVING  \\\n",
       "datetime                                                              \n",
       "2015-01-01 07:00:00                       0                       0   \n",
       "2015-01-01 08:00:00                       0                       0   \n",
       "\n",
       "                     WDWSEASON_WINTER  hour  \n",
       "datetime                                     \n",
       "2015-01-01 07:00:00                 0     7  \n",
       "2015-01-01 08:00:00                 0     8  \n",
       "\n",
       "[2 rows x 82 columns]"
      ]
     },
     "execution_count": 14,
     "metadata": {},
     "output_type": "execute_result"
    }
   ],
   "source": [
    "# Changed the datetime column to the index\n",
    "mk.set_index('datetime', inplace=True)\n",
    "mk.head(2)"
   ]
  },
  {
   "cell_type": "code",
   "execution_count": 15,
   "metadata": {},
   "outputs": [
    {
     "name": "stdout",
     "output_type": "stream",
     "text": [
      "<class 'pandas.core.frame.DataFrame'>\n",
      "DatetimeIndex: 31037 entries, 2015-01-01 07:00:00 to 2019-12-30 06:00:00\n",
      "Data columns (total 82 columns):\n",
      " #   Column                                   Non-Null Count  Dtype  \n",
      "---  ------                                   --------------  -----  \n",
      " 0   spaceship_earth                          31037 non-null  float64\n",
      " 1   soarin                                   31037 non-null  float64\n",
      " 2   DAYOFWEEK                                31037 non-null  int64  \n",
      " 3   DAYOFYEAR                                31037 non-null  int64  \n",
      " 4   WEEKOFYEAR                               31037 non-null  int64  \n",
      " 5   MONTHOFYEAR                              31037 non-null  int64  \n",
      " 6   YEAR                                     31037 non-null  int64  \n",
      " 7   HOLIDAYPX                                31037 non-null  int64  \n",
      " 8   HOLIDAYM                                 31037 non-null  int64  \n",
      " 9   HOLIDAY                                  31037 non-null  int64  \n",
      " 10  WDWevent                                 31037 non-null  int64  \n",
      " 11  WDWrace                                  31037 non-null  int64  \n",
      " 12  WDWMAXTEMP                               31037 non-null  float64\n",
      " 13  WDWMINTEMP                               31037 non-null  float64\n",
      " 14  WDWMEANTEMP                              31037 non-null  float64\n",
      " 15  EPevent                                  31037 non-null  int64  \n",
      " 16  inSession                                31037 non-null  float64\n",
      " 17  inSession_Enrollment                     31037 non-null  float64\n",
      " 18  inSession_wdw                            31037 non-null  float64\n",
      " 19  inSession_sqrt_WDW                       31037 non-null  float64\n",
      " 20  inSession_DC                             31037 non-null  float64\n",
      " 21  inSession_Central_FL                     31037 non-null  float64\n",
      " 22  inSession_Drive1_FL                      31037 non-null  float64\n",
      " 23  inSession_Drive2_FL                      31037 non-null  float64\n",
      " 24  inSession_Drive_CA                       31037 non-null  object \n",
      " 25  inSession_Florida                        31037 non-null  float64\n",
      " 26  inSession_Mardi_Gras                     31037 non-null  float64\n",
      " 27  inSession_Midwest                        31037 non-null  float64\n",
      " 28  inSession_NY_NJ                          31037 non-null  float64\n",
      " 29  inSession_NY_NJ_PA                       31037 non-null  float64\n",
      " 30  inSession_New_England                    31037 non-null  float64\n",
      " 31  inSession_New_Jersey                     31037 non-null  float64\n",
      " 32  inSession_Nothwest                       31037 non-null  float64\n",
      " 33  INSESSION_PLANES                         31037 non-null  float64\n",
      " 34  inSession_SoCal                          31037 non-null  float64\n",
      " 35  inSession_Southwest                      31037 non-null  float64\n",
      " 36  SUNSET_WDW                               31037 non-null  int64  \n",
      " 37  EPEMHMORN                                31037 non-null  int64  \n",
      " 38  EPEMHMYEST                               31037 non-null  int64  \n",
      " 39  EPEMHMTOM                                31037 non-null  int64  \n",
      " 40  EPEMHEVE                                 31037 non-null  int64  \n",
      " 41  EPEMHEYEST                               31037 non-null  int64  \n",
      " 42  EPEMHETOM                                31037 non-null  int64  \n",
      " 43  EPHOURSEMH                               31037 non-null  float64\n",
      " 44  EPHOURSEMHYEST                           31037 non-null  float64\n",
      " 45  EPHOURSEMHTOM                            31037 non-null  float64\n",
      " 46  EPOPEN                                   31037 non-null  int64  \n",
      " 47  EPCLOSE                                  31037 non-null  int64  \n",
      " 48  EPHOURS                                  31037 non-null  float64\n",
      " 49  EPEMHOPEN                                31037 non-null  int64  \n",
      " 50  EPEMHCLOSE                               31037 non-null  int64  \n",
      " 51  EPOPENYEST                               31037 non-null  int64  \n",
      " 52  EPCLOSEYEST                              31037 non-null  int64  \n",
      " 53  EPHOURSYEST                              31037 non-null  float64\n",
      " 54  EPOPENTOM                                31037 non-null  int64  \n",
      " 55  EPCLOSETOM                               31037 non-null  int64  \n",
      " 56  EPHOURSTOM                               31037 non-null  float64\n",
      " 57  WDWMINTEMP_mean                          31037 non-null  float64\n",
      " 58  WEATHER_WDWHIGH                          31037 non-null  float64\n",
      " 59  WEATHER_WDWLOW                           31037 non-null  float64\n",
      " 60  WEATHER_WDWPRECIP                        31037 non-null  float64\n",
      " 61  CapacityLost_MK                          31037 non-null  int64  \n",
      " 62  CapacityLost_EP                          31037 non-null  int64  \n",
      " 63  CapacityLostWGT_EP                       31037 non-null  int64  \n",
      " 64  WDWSEASON_CHRISTMAS                      31037 non-null  uint8  \n",
      " 65  WDWSEASON_CHRISTMAS PEAK                 31037 non-null  uint8  \n",
      " 66  WDWSEASON_COLUMBUS DAY                   31037 non-null  uint8  \n",
      " 67  WDWSEASON_EASTER                         31037 non-null  uint8  \n",
      " 68  WDWSEASON_FALL                           31037 non-null  uint8  \n",
      " 69  WDWSEASON_HALLOWEEN                      31037 non-null  uint8  \n",
      " 70  WDWSEASON_JERSEY WEEK                    31037 non-null  uint8  \n",
      " 71  WDWSEASON_JULY 4TH                       31037 non-null  uint8  \n",
      " 72  WDWSEASON_MARDI GRAS                     31037 non-null  uint8  \n",
      " 73  WDWSEASON_MARTIN LUTHER KING JUNIOR DAY  31037 non-null  uint8  \n",
      " 74  WDWSEASON_MEMORIAL DAY                   31037 non-null  uint8  \n",
      " 75  WDWSEASON_PRESIDENTS WEEK                31037 non-null  uint8  \n",
      " 76  WDWSEASON_SEPTEMBER LOW                  31037 non-null  uint8  \n",
      " 77  WDWSEASON_SPRING                         31037 non-null  uint8  \n",
      " 78  WDWSEASON_SUMMER BREAK                   31037 non-null  uint8  \n",
      " 79  WDWSEASON_THANKSGIVING                   31037 non-null  uint8  \n",
      " 80  WDWSEASON_WINTER                         31037 non-null  uint8  \n",
      " 81  hour                                     31037 non-null  int64  \n",
      "dtypes: float64(34), int64(30), object(1), uint8(17)\n",
      "memory usage: 16.1+ MB\n"
     ]
    }
   ],
   "source": [
    "# Viewing the available columns/features to use in modeling\n",
    "mk.info()"
   ]
  },
  {
   "cell_type": "code",
   "execution_count": 16,
   "metadata": {},
   "outputs": [
    {
     "data": {
      "image/png": "[encoded data removed]",
      "text/plain": [
       "<Figure size 1080x1080 with 2 Axes>"
      ]
     },
     "metadata": {
      "needs_background": "light"
     },
     "output_type": "display_data"
    }
   ],
   "source": [
    "top_corr = mk.corr()\n",
    "top_corr_features = top_corr.index[abs(top_corr[\"soarin\"]) > .13]\n",
    "plt.figure(figsize=(15,15))\n",
    "g = sns.heatmap(mk[top_corr_features].corr(),annot=True,cmap=\"magma\")"
   ]
  },
  {
   "cell_type": "code",
   "execution_count": 17,
   "metadata": {
    "scrolled": false
   },
   "outputs": [
    {
     "data": {
      "image/png": "[encoded data removed]",
      "text/plain": [
       "<Figure size 432x720 with 2 Axes>"
      ]
     },
     "metadata": {
      "needs_background": "light"
     },
     "output_type": "display_data"
    }
   ],
   "source": [
    "# One column heatmap for Pirates of the Caribbean\n",
    "corr = mk.corr()\n",
    "plt.figure(figsize = (6,10))\n",
    "sns.heatmap(corr[['soarin']].sort_values(by = 'soarin', ascending = False).head(10),vmin = 0, annot = True)\n",
    "plt.show()"
   ]
  },
  {
   "cell_type": "code",
   "execution_count": 18,
   "metadata": {},
   "outputs": [],
   "source": [
    "# Set Features as columns to use for X variable, set y \n",
    "features = ['spaceship_earth', 'inSession', \"EPCLOSE\", 'EPOPEN',\n",
    "            'YEAR', 'EPHOURS', 'DAYOFWEEK','HOLIDAYM',\"MONTHOFYEAR\",'DAYOFYEAR',\n",
    "             'WDWSEASON_CHRISTMAS', 'WDWSEASON_CHRISTMAS PEAK', \n",
    "       'WDWSEASON_COLUMBUS DAY', 'WDWSEASON_EASTER', 'WDWSEASON_FALL',\n",
    "       'WDWSEASON_HALLOWEEN', 'WDWSEASON_JERSEY WEEK', 'WDWSEASON_JULY 4TH',\n",
    "       'WDWSEASON_MARDI GRAS', 'WDWSEASON_MARTIN LUTHER KING JUNIOR DAY',\n",
    "       'WDWSEASON_MEMORIAL DAY', 'WDWSEASON_PRESIDENTS WEEK',\n",
    "       'WDWSEASON_SEPTEMBER LOW', 'WDWSEASON_SPRING', 'WDWSEASON_SUMMER BREAK',\n",
    "       'WDWSEASON_THANKSGIVING', 'WDWSEASON_WINTER',\n",
    "            'hour','CapacityLostWGT_EP']\n",
    "y = mk['soarin']\n",
    "X = mk[features]"
   ]
  },
  {
   "cell_type": "code",
   "execution_count": 19,
   "metadata": {},
   "outputs": [],
   "source": [
    "# Test train split, fit and transform the data\n",
    "X_train, X_test, y_train, y_test = train_test_split(X, y, test_size =.02, random_state=2020)\n",
    "sc = StandardScaler()\n",
    "sc.fit(X_train)\n",
    "X_train_sc = sc.transform(X_train)\n",
    "X_test_sc = sc.transform(X_test)"
   ]
  },
  {
   "cell_type": "markdown",
   "metadata": {},
   "source": [
    "# Linear Regression"
   ]
  },
  {
   "cell_type": "code",
   "execution_count": 20,
   "metadata": {},
   "outputs": [
    {
     "data": {
      "text/plain": [
       "LinearRegression(copy_X=True, fit_intercept=True, n_jobs=None, normalize=False)"
      ]
     },
     "execution_count": 20,
     "metadata": {},
     "output_type": "execute_result"
    }
   ],
   "source": [
    "# Created my model and started the train test split\n",
    "linreg = LinearRegression()\n",
    "linreg.fit(X_train_sc, y_train)"
   ]
  },
  {
   "cell_type": "code",
   "execution_count": 21,
   "metadata": {},
   "outputs": [
    {
     "data": {
      "text/plain": [
       "21.262811742115254"
      ]
     },
     "execution_count": 21,
     "metadata": {},
     "output_type": "execute_result"
    }
   ],
   "source": [
    "# Predict on the training data\n",
    "linreg_preds_train = linreg.predict(X_train_sc)\n",
    "linreg_rms_train = sqrt(mean_squared_error(y_train, linreg_preds_train))\n",
    "linreg_rms_train"
   ]
  },
  {
   "cell_type": "code",
   "execution_count": 22,
   "metadata": {},
   "outputs": [
    {
     "data": {
      "text/plain": [
       "20.753582139472858"
      ]
     },
     "execution_count": 22,
     "metadata": {},
     "output_type": "execute_result"
    }
   ],
   "source": [
    "# Score the testing data\n",
    "linreg_preds_test = linreg.predict(X_test_sc)\n",
    "linreg_rms_test = sqrt(mean_squared_error(y_test, linreg_preds_test))\n",
    "linreg_rms_test"
   ]
  },
  {
   "cell_type": "markdown",
   "metadata": {},
   "source": [
    "## KNN"
   ]
  },
  {
   "cell_type": "code",
   "execution_count": 23,
   "metadata": {},
   "outputs": [
    {
     "data": {
      "text/plain": [
       "KNeighborsRegressor(algorithm='auto', leaf_size=30, metric='minkowski',\n",
       "                    metric_params=None, n_jobs=None, n_neighbors=5, p=2,\n",
       "                    weights='uniform')"
      ]
     },
     "execution_count": 23,
     "metadata": {},
     "output_type": "execute_result"
    }
   ],
   "source": [
    "# Instiantiated KNN and fitted the training\n",
    "knn = KNeighborsRegressor()\n",
    "knn.fit(X_train_sc, y_train)"
   ]
  },
  {
   "cell_type": "code",
   "execution_count": 24,
   "metadata": {},
   "outputs": [
    {
     "data": {
      "text/plain": [
       "10.289768568386371"
      ]
     },
     "execution_count": 24,
     "metadata": {},
     "output_type": "execute_result"
    }
   ],
   "source": [
    "# Predict on the training data\n",
    "knn_preds_train = knn.predict(X_train_sc)\n",
    "knn_rms_train = sqrt(mean_squared_error(y_train, knn_preds_train))\n",
    "knn_rms_train"
   ]
  },
  {
   "cell_type": "code",
   "execution_count": 25,
   "metadata": {},
   "outputs": [
    {
     "data": {
      "text/plain": [
       "12.071995513765735"
      ]
     },
     "execution_count": 25,
     "metadata": {},
     "output_type": "execute_result"
    }
   ],
   "source": [
    "# Score the testing data\n",
    "knn_preds_test = knn.predict(X_test_sc)\n",
    "knn_rms_test = sqrt(mean_squared_error(y_test, knn_preds_test))\n",
    "knn_rms_test\n"
   ]
  },
  {
   "cell_type": "markdown",
   "metadata": {},
   "source": [
    "## Decision Tree Model"
   ]
  },
  {
   "cell_type": "code",
   "execution_count": 26,
   "metadata": {},
   "outputs": [
    {
     "data": {
      "text/plain": [
       "DecisionTreeRegressor(ccp_alpha=0.0, criterion='mse', max_depth=None,\n",
       "                      max_features=None, max_leaf_nodes=None,\n",
       "                      min_impurity_decrease=0.0, min_impurity_split=None,\n",
       "                      min_samples_leaf=1, min_samples_split=2,\n",
       "                      min_weight_fraction_leaf=0.0, presort='deprecated',\n",
       "                      random_state=None, splitter='best')"
      ]
     },
     "execution_count": 26,
     "metadata": {},
     "output_type": "execute_result"
    }
   ],
   "source": [
    "# Instiantiate model and fit the Decision Tree\n",
    "dt = DecisionTreeRegressor()\n",
    "dt.fit(X_train_sc, y_train)"
   ]
  },
  {
   "cell_type": "code",
   "execution_count": 27,
   "metadata": {},
   "outputs": [
    {
     "data": {
      "text/plain": [
       "0.0"
      ]
     },
     "execution_count": 27,
     "metadata": {},
     "output_type": "execute_result"
    }
   ],
   "source": [
    "# Predict on the training data\n",
    "dt_preds_train = dt.predict(X_train_sc)\n",
    "dt_rms_train = sqrt(mean_squared_error(y_train, dt_preds_train))\n",
    "dt_rms_train"
   ]
  },
  {
   "cell_type": "code",
   "execution_count": 28,
   "metadata": {},
   "outputs": [
    {
     "data": {
      "text/plain": [
       "16.157936285056593"
      ]
     },
     "execution_count": 28,
     "metadata": {},
     "output_type": "execute_result"
    }
   ],
   "source": [
    "# Score the testing data\n",
    "dt_preds_test = dt.predict(X_test_sc)\n",
    "dt_rms_test = sqrt(mean_squared_error(y_test, dt_preds_test))\n",
    "dt_rms_test"
   ]
  },
  {
   "cell_type": "markdown",
   "metadata": {},
   "source": [
    "## Bagged Decision Tree"
   ]
  },
  {
   "cell_type": "code",
   "execution_count": 29,
   "metadata": {},
   "outputs": [
    {
     "data": {
      "text/plain": [
       "BaggingRegressor(base_estimator=None, bootstrap=True, bootstrap_features=False,\n",
       "                 max_features=1.0, max_samples=1.0, n_estimators=10,\n",
       "                 n_jobs=None, oob_score=False, random_state=None, verbose=0,\n",
       "                 warm_start=False)"
      ]
     },
     "execution_count": 29,
     "metadata": {},
     "output_type": "execute_result"
    }
   ],
   "source": [
    "# Instiantiate model and fit the Bagged Decision Tree\n",
    "bag = BaggingRegressor()\n",
    "bag.fit(X_train_sc, y_train)"
   ]
  },
  {
   "cell_type": "code",
   "execution_count": 30,
   "metadata": {},
   "outputs": [
    {
     "data": {
      "text/plain": [
       "4.81041987775658"
      ]
     },
     "execution_count": 30,
     "metadata": {},
     "output_type": "execute_result"
    }
   ],
   "source": [
    "# Predict on the training data\n",
    "bag_preds_train = bag.predict(X_train_sc)\n",
    "bag_rms_train = sqrt(mean_squared_error(y_train, bag_preds_train))\n",
    "bag_rms_train"
   ]
  },
  {
   "cell_type": "code",
   "execution_count": 31,
   "metadata": {},
   "outputs": [
    {
     "data": {
      "text/plain": [
       "11.359310240790936"
      ]
     },
     "execution_count": 31,
     "metadata": {},
     "output_type": "execute_result"
    }
   ],
   "source": [
    "# Score the testing data\n",
    "bag_preds_test = bag.predict(X_test_sc)\n",
    "bag_rms_test = sqrt(mean_squared_error(y_test, bag_preds_test))\n",
    "bag_rms_test"
   ]
  },
  {
   "cell_type": "markdown",
   "metadata": {},
   "source": [
    "## Random Forests"
   ]
  },
  {
   "cell_type": "code",
   "execution_count": 32,
   "metadata": {},
   "outputs": [
    {
     "data": {
      "text/plain": [
       "RandomForestRegressor(bootstrap=True, ccp_alpha=0.0, criterion='mse',\n",
       "                      max_depth=None, max_features='auto', max_leaf_nodes=None,\n",
       "                      max_samples=None, min_impurity_decrease=0.0,\n",
       "                      min_impurity_split=None, min_samples_leaf=1,\n",
       "                      min_samples_split=2, min_weight_fraction_leaf=0.0,\n",
       "                      n_estimators=100, n_jobs=None, oob_score=False,\n",
       "                      random_state=None, verbose=0, warm_start=False)"
      ]
     },
     "execution_count": 32,
     "metadata": {},
     "output_type": "execute_result"
    }
   ],
   "source": [
    "# Instiantiate model and fit\n",
    "rf = RandomForestRegressor()\n",
    "rf.fit(X_train_sc, y_train)"
   ]
  },
  {
   "cell_type": "code",
   "execution_count": 33,
   "metadata": {},
   "outputs": [
    {
     "data": {
      "text/plain": [
       "4.122833403962375"
      ]
     },
     "execution_count": 33,
     "metadata": {},
     "output_type": "execute_result"
    }
   ],
   "source": [
    "# Predict on the training data\n",
    "rf_preds_train = rf.predict(X_train_sc)\n",
    "rf_rms_train = sqrt(mean_squared_error(y_train, rf_preds_train))\n",
    "rf_rms_train"
   ]
  },
  {
   "cell_type": "code",
   "execution_count": 34,
   "metadata": {},
   "outputs": [
    {
     "data": {
      "text/plain": [
       "10.666699811240775"
      ]
     },
     "execution_count": 34,
     "metadata": {},
     "output_type": "execute_result"
    }
   ],
   "source": [
    "# Score the testing data\n",
    "rf_preds_test = rf.predict(X_test_sc)\n",
    "rf_rms_test = sqrt(mean_squared_error(y_test, rf_preds_test))\n",
    "rf_rms_test"
   ]
  },
  {
   "cell_type": "markdown",
   "metadata": {},
   "source": [
    "## ADA boost"
   ]
  },
  {
   "cell_type": "code",
   "execution_count": 35,
   "metadata": {},
   "outputs": [
    {
     "data": {
      "text/plain": [
       "AdaBoostRegressor(base_estimator=None, learning_rate=1.0, loss='linear',\n",
       "                  n_estimators=50, random_state=None)"
      ]
     },
     "execution_count": 35,
     "metadata": {},
     "output_type": "execute_result"
    }
   ],
   "source": [
    "# Instiantiate model and fit\n",
    "ada = AdaBoostRegressor()\n",
    "ada.fit(X_train_sc, y_train)"
   ]
  },
  {
   "cell_type": "code",
   "execution_count": 36,
   "metadata": {},
   "outputs": [
    {
     "data": {
      "text/plain": [
       "20.660565610554627"
      ]
     },
     "execution_count": 36,
     "metadata": {},
     "output_type": "execute_result"
    }
   ],
   "source": [
    "# Predict on the training data\n",
    "ada_preds_train = ada.predict(X_train_sc)\n",
    "ada_rms_train = sqrt(mean_squared_error(y_train, ada_preds_train))\n",
    "ada_rms_train"
   ]
  },
  {
   "cell_type": "code",
   "execution_count": 37,
   "metadata": {},
   "outputs": [
    {
     "data": {
      "text/plain": [
       "19.903735653307837"
      ]
     },
     "execution_count": 37,
     "metadata": {},
     "output_type": "execute_result"
    }
   ],
   "source": [
    "# Score the testing data\n",
    "ada_preds_test = ada.predict(X_test_sc)\n",
    "ada_rms_test = sqrt(mean_squared_error(y_test, ada_preds_test))\n",
    "ada_rms_test"
   ]
  },
  {
   "cell_type": "markdown",
   "metadata": {},
   "source": [
    "## SVM"
   ]
  },
  {
   "cell_type": "code",
   "execution_count": 38,
   "metadata": {},
   "outputs": [
    {
     "data": {
      "text/plain": [
       "SVR(C=1.0, cache_size=200, coef0=0.0, degree=3, epsilon=0.1, gamma='scale',\n",
       "    kernel='rbf', max_iter=-1, shrinking=True, tol=0.001, verbose=False)"
      ]
     },
     "execution_count": 38,
     "metadata": {},
     "output_type": "execute_result"
    }
   ],
   "source": [
    "# Instiantiate model and fit\n",
    "svr = svm.SVR()\n",
    "svr.fit(X_train_sc, y_train)"
   ]
  },
  {
   "cell_type": "code",
   "execution_count": 39,
   "metadata": {},
   "outputs": [
    {
     "data": {
      "text/plain": [
       "20.00402154505251"
      ]
     },
     "execution_count": 39,
     "metadata": {},
     "output_type": "execute_result"
    }
   ],
   "source": [
    "# Predict on the training data\n",
    "svr_preds_train = svr.predict(X_train_sc)\n",
    "svr_rms_train = sqrt(mean_squared_error(y_train, svr_preds_train))\n",
    "svr_rms_train"
   ]
  },
  {
   "cell_type": "code",
   "execution_count": 40,
   "metadata": {},
   "outputs": [
    {
     "data": {
      "text/plain": [
       "19.81263616517528"
      ]
     },
     "execution_count": 40,
     "metadata": {},
     "output_type": "execute_result"
    }
   ],
   "source": [
    "# Score the testing data\n",
    "svr_preds_test = svr.predict(X_test_sc)\n",
    "svr_rms_test = sqrt(mean_squared_error(y_test, svr_preds_test))\n",
    "svr_rms_test"
   ]
  },
  {
   "cell_type": "markdown",
   "metadata": {},
   "source": [
    "# XG Boost"
   ]
  },
  {
   "cell_type": "code",
   "execution_count": 41,
   "metadata": {},
   "outputs": [],
   "source": [
    "# Set Features as columns to use for X variable, set y \n",
    "features = ['spaceship_earth', 'inSession', \"EPCLOSE\", 'EPOPEN',\n",
    "            'YEAR', 'EPHOURS', 'DAYOFWEEK','HOLIDAYM',\"MONTHOFYEAR\",'DAYOFYEAR',\n",
    "             'WDWSEASON_CHRISTMAS', 'WDWSEASON_CHRISTMAS PEAK', \n",
    "       'WDWSEASON_COLUMBUS DAY', 'WDWSEASON_EASTER', 'WDWSEASON_FALL',\n",
    "       'WDWSEASON_HALLOWEEN', 'WDWSEASON_JERSEY WEEK', 'WDWSEASON_JULY 4TH',\n",
    "       'WDWSEASON_MARDI GRAS', 'WDWSEASON_MARTIN LUTHER KING JUNIOR DAY',\n",
    "       'WDWSEASON_MEMORIAL DAY', 'WDWSEASON_PRESIDENTS WEEK',\n",
    "       'WDWSEASON_SEPTEMBER LOW', 'WDWSEASON_SPRING', 'WDWSEASON_SUMMER BREAK',\n",
    "       'WDWSEASON_THANKSGIVING', 'WDWSEASON_WINTER',\n",
    "            'hour','CapacityLostWGT_EP']\n",
    "y = mk['soarin']\n",
    "X = mk[features]"
   ]
  },
  {
   "cell_type": "code",
   "execution_count": 42,
   "metadata": {},
   "outputs": [],
   "source": [
    "# split data into train and test sets\n",
    "X_train, X_test, y_train, y_test = train_test_split(X, y, test_size =.02, random_state=21)\n",
    "sc = StandardScaler()\n",
    "sc.fit(X_train)\n",
    "X_train_sc = sc.transform(X_train)\n",
    "X_test_sc = sc.transform(X_test)"
   ]
  },
  {
   "cell_type": "code",
   "execution_count": null,
   "metadata": {},
   "outputs": [],
   "source": [
    "# fit model no training data\n",
    "model = XGBClassifier()\n",
    "model.fit(X_train_sc, y_train)"
   ]
  },
  {
   "cell_type": "code",
   "execution_count": null,
   "metadata": {},
   "outputs": [],
   "source": [
    "# Predict RMSE on the training data\n",
    "model_preds_train = model.predict(X_train_sc)\n",
    "model_rms_train = sqrt(mean_squared_error(y_train, model_preds_train))\n",
    "model_rms_train"
   ]
  },
  {
   "cell_type": "code",
   "execution_count": null,
   "metadata": {},
   "outputs": [],
   "source": [
    "# Score the testing data with RMSE\n",
    "model_preds_test = model.predict(X_test_sc)\n",
    "model_rms_test = sqrt(mean_squared_error(y_test, model_preds_test))\n",
    "model_rms_test"
   ]
  },
  {
   "cell_type": "markdown",
   "metadata": {},
   "source": [
    "# FBprophet"
   ]
  },
  {
   "cell_type": "code",
   "execution_count": null,
   "metadata": {},
   "outputs": [],
   "source": [
    "# Imported FBprophet at top of workbook\n",
    "# Copied mk dataframe for use in FBprophet\n",
    "df1 = mk[['soarin']].copy()\n",
    "df1 = df1[~(df1.index < '2016-01-01')] "
   ]
  },
  {
   "cell_type": "code",
   "execution_count": null,
   "metadata": {
    "scrolled": true
   },
   "outputs": [],
   "source": [
    "# Made a 2 column dataframe in the format FBprophet requires (ds,'y')\n",
    "df = df1\n",
    "df.rename(columns = {'soarin':'y'}, inplace = True)\n",
    "df.index.name = 'ds'\n",
    "df = df.reset_index()\n",
    "df['ds'] = pd.to_datetime(df[\"ds\"])\n",
    "print(df.info())\n",
    "df.head(2)"
   ]
  },
  {
   "cell_type": "code",
   "execution_count": null,
   "metadata": {},
   "outputs": [],
   "source": [
    "# Instiantiate the model ad m\n",
    "m = Prophet()\n",
    "m.add_country_holidays(country_name='US')\n",
    "m.fit(df);"
   ]
  },
  {
   "cell_type": "code",
   "execution_count": null,
   "metadata": {},
   "outputs": [],
   "source": [
    "# Telling the number of periods in the future to predict, 3 months(18 hours * 90 days)\n",
    "future = m.make_future_dataframe(periods=1620, freq='h')\n",
    "forecast = m.predict(future)"
   ]
  },
  {
   "cell_type": "code",
   "execution_count": null,
   "metadata": {},
   "outputs": [],
   "source": [
    "# Plot shows forcast line for 4 years and 3 month future prediction\n",
    "fig1 = m.plot(forecast);"
   ]
  },
  {
   "cell_type": "code",
   "execution_count": null,
   "metadata": {},
   "outputs": [],
   "source": [
    "# Figures show trend and seasonality\n",
    "fig2 = m.plot_components(forecast)"
   ]
  },
  {
   "cell_type": "code",
   "execution_count": null,
   "metadata": {},
   "outputs": [],
   "source": [
    "# # Interactive plot to view the podel predictions\n",
    "# py.init_notebook_mode()\n",
    "# fig = plot_plotly(m, forecast)  # This returns a plotly Figure\n",
    "# py.iplot(fig)"
   ]
  },
  {
   "cell_type": "code",
   "execution_count": null,
   "metadata": {},
   "outputs": [],
   "source": [
    "# set initial training oc 1095 days and predictions of 30 days every 30 days\n",
    "df_cv = cross_validation(m, initial='1095 days', period='30 days', horizon = '30 days')\n",
    "df_cv"
   ]
  },
  {
   "cell_type": "code",
   "execution_count": null,
   "metadata": {},
   "outputs": [],
   "source": [
    "# Scoring the 30 day predictions on the model on several metrics\n",
    "df_p = performance_metrics(df_cv)\n",
    "df_p.tail()"
   ]
  },
  {
   "cell_type": "code",
   "execution_count": null,
   "metadata": {},
   "outputs": [],
   "source": [
    "# Viewing statistics on the models\n",
    "df_p.describe()"
   ]
  },
  {
   "cell_type": "code",
   "execution_count": null,
   "metadata": {},
   "outputs": [],
   "source": [
    "# plot showing the RMSE for the 30 day predictions\n",
    "fig = plot_cross_validation_metric(df_cv, metric='rmse')"
   ]
  }
 ],
 "metadata": {
  "kernelspec": {
   "display_name": "Python 3",
   "language": "python",
   "name": "python3"
  },
  "language_info": {
   "codemirror_mode": {
    "name": "ipython",
    "version": 3
   },
   "file_extension": ".py",
   "mimetype": "text/x-python",
   "name": "python",
   "nbconvert_exporter": "python",
   "pygments_lexer": "ipython3",
   "version": "3.7.6"
  }
 },
 "nbformat": 4,
 "nbformat_minor": 4
}
